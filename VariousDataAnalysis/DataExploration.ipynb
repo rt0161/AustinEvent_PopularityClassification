{
 "cells": [
  {
   "cell_type": "code",
   "execution_count": 1,
   "metadata": {},
   "outputs": [],
   "source": [
    "from IPython.display import HTML, display\n",
    "\n",
    "import json\n",
    "from bson.json_util import dumps\n",
    "import pandas as pd\n",
    "from fastparquet import ParquetFile,write\n",
    "import time\n",
    "import datetime\n",
    "import copy\n",
    "import numpy as np\n",
    "import math\n",
    "\n",
    "import pandas as pd\n",
    "import re"
   ]
  },
  {
   "cell_type": "code",
   "execution_count": 2,
   "metadata": {},
   "outputs": [
    {
     "data": {
      "text/html": [
       "<div>\n",
       "<style scoped>\n",
       "    .dataframe tbody tr th:only-of-type {\n",
       "        vertical-align: middle;\n",
       "    }\n",
       "\n",
       "    .dataframe tbody tr th {\n",
       "        vertical-align: top;\n",
       "    }\n",
       "\n",
       "    .dataframe thead th {\n",
       "        text-align: right;\n",
       "    }\n",
       "</style>\n",
       "<table border=\"1\" class=\"dataframe\">\n",
       "  <thead>\n",
       "    <tr style=\"text-align: right;\">\n",
       "      <th></th>\n",
       "      <th>id</th>\n",
       "      <th>permalink</th>\n",
       "      <th>presented_by</th>\n",
       "      <th>title</th>\n",
       "      <th>description</th>\n",
       "      <th>excerpt</th>\n",
       "      <th>category</th>\n",
       "      <th>category_param</th>\n",
       "      <th>conference_category_param</th>\n",
       "      <th>begin_time</th>\n",
       "      <th>...</th>\n",
       "      <th>rsvp.require_terms_agreement</th>\n",
       "      <th>rsvp.terms_label</th>\n",
       "      <th>rsvp.terms_text</th>\n",
       "      <th>rsvp.action</th>\n",
       "      <th>imagery.aws.image</th>\n",
       "      <th>imagery.aws.custom_share_image_w_630_h_1200</th>\n",
       "      <th>dow</th>\n",
       "      <th>repeat_until</th>\n",
       "      <th>repeating</th>\n",
       "      <th>time_tba</th>\n",
       "    </tr>\n",
       "  </thead>\n",
       "  <tbody>\n",
       "    <tr>\n",
       "      <th>0</th>\n",
       "      <td>11049447</td>\n",
       "      <td>/events/2019/10/3/gary-clark-jr-tickets</td>\n",
       "      <td>Official 2019 ACL Fest Late Night Show:</td>\n",
       "      <td>Gary Clark Jr</td>\n",
       "      <td>&lt;p&gt;&lt;br&gt;&lt;/p&gt;&lt;p&gt;Stubb's Outdoor&amp;nbsp;&lt;/p&gt;&lt;p&gt;&lt;br&gt;...</td>\n",
       "      <td>Stubb's Outdoor \\n\\nTo sum up Gary Clark Jr. i...</td>\n",
       "      <td>Music</td>\n",
       "      <td>music</td>\n",
       "      <td></td>\n",
       "      <td>2019-10-03T19:00:00-05:00</td>\n",
       "      <td>...</td>\n",
       "      <td>NaN</td>\n",
       "      <td>None</td>\n",
       "      <td>None</td>\n",
       "      <td>None</td>\n",
       "      <td>None</td>\n",
       "      <td>None</td>\n",
       "      <td>NaN</td>\n",
       "      <td>None</td>\n",
       "      <td>NaN</td>\n",
       "      <td>NaN</td>\n",
       "    </tr>\n",
       "    <tr>\n",
       "      <th>1</th>\n",
       "      <td>11049456</td>\n",
       "      <td>/events/2019/10/3/hippie-sabotage-w-sebastian-...</td>\n",
       "      <td>Official 2019 ACL Fest Late Night Show:</td>\n",
       "      <td>Hippie Sabotage w/ Sebastian Paul</td>\n",
       "      <td>&lt;p&gt;&lt;br&gt;&lt;/p&gt;&lt;p&gt;&lt;/p&gt;&lt;p&gt;&lt;a target=\"_blank\" href=\"...</td>\n",
       "      <td>Hippie Sabotage w/ SEBASTIAN PAUL 2019 ACL Fes...</td>\n",
       "      <td>Music</td>\n",
       "      <td>music</td>\n",
       "      <td></td>\n",
       "      <td>2019-10-03T20:00:00-05:00</td>\n",
       "      <td>...</td>\n",
       "      <td>NaN</td>\n",
       "      <td>None</td>\n",
       "      <td>None</td>\n",
       "      <td>None</td>\n",
       "      <td>None</td>\n",
       "      <td>None</td>\n",
       "      <td>NaN</td>\n",
       "      <td>None</td>\n",
       "      <td>NaN</td>\n",
       "      <td>NaN</td>\n",
       "    </tr>\n",
       "    <tr>\n",
       "      <th>2</th>\n",
       "      <td>11049430</td>\n",
       "      <td>/events/2019/10/3/fidlar-w-xetas-tickets</td>\n",
       "      <td>Official 2019 ACL Fest Late Night Show:</td>\n",
       "      <td>FIDLAR w/ XETAS</td>\n",
       "      <td>&lt;p&gt;&lt;br&gt;&lt;/p&gt;&lt;p&gt;FIDLAR are slackers at heart. Th...</td>\n",
       "      <td>FIDLAR are slackers at heart. The only thing t...</td>\n",
       "      <td>Music</td>\n",
       "      <td>music</td>\n",
       "      <td></td>\n",
       "      <td>2019-10-03T18:30:00-05:00</td>\n",
       "      <td>...</td>\n",
       "      <td>NaN</td>\n",
       "      <td>None</td>\n",
       "      <td>None</td>\n",
       "      <td>None</td>\n",
       "      <td>None</td>\n",
       "      <td>None</td>\n",
       "      <td>NaN</td>\n",
       "      <td>None</td>\n",
       "      <td>NaN</td>\n",
       "      <td>NaN</td>\n",
       "    </tr>\n",
       "    <tr>\n",
       "      <th>3</th>\n",
       "      <td>11186444</td>\n",
       "      <td>/events/2019/10/3/that-jokes-new-comedy-open-m...</td>\n",
       "      <td>Misfits Comedy Presents</td>\n",
       "      <td>That Joke's New! Comedy Open-Mic</td>\n",
       "      <td>&lt;p&gt;&lt;br&gt;&lt;/p&gt;&lt;p&gt;&lt;/p&gt;&lt;p&gt;Got jokes? Come make us l...</td>\n",
       "      <td>Got jokes? Come make us laugh at this weekly T...</td>\n",
       "      <td>Comedy</td>\n",
       "      <td>comedy</td>\n",
       "      <td></td>\n",
       "      <td>2019-10-03T20:00:00-05:00</td>\n",
       "      <td>...</td>\n",
       "      <td>NaN</td>\n",
       "      <td>None</td>\n",
       "      <td>None</td>\n",
       "      <td>None</td>\n",
       "      <td>None</td>\n",
       "      <td>None</td>\n",
       "      <td>NaN</td>\n",
       "      <td>None</td>\n",
       "      <td>NaN</td>\n",
       "      <td>NaN</td>\n",
       "    </tr>\n",
       "    <tr>\n",
       "      <th>4</th>\n",
       "      <td>11141496</td>\n",
       "      <td>/events/2019/10/3/hear-me-bitch-90s-birthday-b...</td>\n",
       "      <td></td>\n",
       "      <td>Hear Me Bitch 90’s Birthday Bash Comedy Show</td>\n",
       "      <td>&lt;div&gt;Hear Me Bitch 90’s Birthday Bash Comedy S...</td>\n",
       "      <td>Hear Me Bitch 90’s Birthday Bash Comedy Show \\...</td>\n",
       "      <td>Comedy</td>\n",
       "      <td>comedy</td>\n",
       "      <td></td>\n",
       "      <td>2019-10-03T19:30:00-05:00</td>\n",
       "      <td>...</td>\n",
       "      <td>NaN</td>\n",
       "      <td>None</td>\n",
       "      <td>None</td>\n",
       "      <td>None</td>\n",
       "      <td>None</td>\n",
       "      <td>None</td>\n",
       "      <td>NaN</td>\n",
       "      <td>None</td>\n",
       "      <td>NaN</td>\n",
       "      <td>NaN</td>\n",
       "    </tr>\n",
       "  </tbody>\n",
       "</table>\n",
       "<p>5 rows × 111 columns</p>\n",
       "</div>"
      ],
      "text/plain": [
       "         id                                          permalink  \\\n",
       "0  11049447            /events/2019/10/3/gary-clark-jr-tickets   \n",
       "1  11049456  /events/2019/10/3/hippie-sabotage-w-sebastian-...   \n",
       "2  11049430           /events/2019/10/3/fidlar-w-xetas-tickets   \n",
       "3  11186444  /events/2019/10/3/that-jokes-new-comedy-open-m...   \n",
       "4  11141496  /events/2019/10/3/hear-me-bitch-90s-birthday-b...   \n",
       "\n",
       "                              presented_by  \\\n",
       "0  Official 2019 ACL Fest Late Night Show:   \n",
       "1  Official 2019 ACL Fest Late Night Show:   \n",
       "2  Official 2019 ACL Fest Late Night Show:   \n",
       "3                  Misfits Comedy Presents   \n",
       "4                                            \n",
       "\n",
       "                                           title  \\\n",
       "0                                  Gary Clark Jr   \n",
       "1              Hippie Sabotage w/ Sebastian Paul   \n",
       "2                                FIDLAR w/ XETAS   \n",
       "3               That Joke's New! Comedy Open-Mic   \n",
       "4  Hear Me Bitch 90’s Birthday Bash Comedy Show    \n",
       "\n",
       "                                         description  \\\n",
       "0  <p><br></p><p>Stubb's Outdoor&nbsp;</p><p><br>...   \n",
       "1  <p><br></p><p></p><p><a target=\"_blank\" href=\"...   \n",
       "2  <p><br></p><p>FIDLAR are slackers at heart. Th...   \n",
       "3  <p><br></p><p></p><p>Got jokes? Come make us l...   \n",
       "4  <div>Hear Me Bitch 90’s Birthday Bash Comedy S...   \n",
       "\n",
       "                                             excerpt category category_param  \\\n",
       "0  Stubb's Outdoor \\n\\nTo sum up Gary Clark Jr. i...   Music           music   \n",
       "1  Hippie Sabotage w/ SEBASTIAN PAUL 2019 ACL Fes...   Music           music   \n",
       "2  FIDLAR are slackers at heart. The only thing t...   Music           music   \n",
       "3  Got jokes? Come make us laugh at this weekly T...   Comedy         comedy   \n",
       "4  Hear Me Bitch 90’s Birthday Bash Comedy Show \\...   Comedy         comedy   \n",
       "\n",
       "  conference_category_param                 begin_time  ...  \\\n",
       "0                            2019-10-03T19:00:00-05:00  ...   \n",
       "1                            2019-10-03T20:00:00-05:00  ...   \n",
       "2                            2019-10-03T18:30:00-05:00  ...   \n",
       "3                            2019-10-03T20:00:00-05:00  ...   \n",
       "4                            2019-10-03T19:30:00-05:00  ...   \n",
       "\n",
       "  rsvp.require_terms_agreement rsvp.terms_label rsvp.terms_text  rsvp.action  \\\n",
       "0                          NaN             None            None         None   \n",
       "1                          NaN             None            None         None   \n",
       "2                          NaN             None            None         None   \n",
       "3                          NaN             None            None         None   \n",
       "4                          NaN             None            None         None   \n",
       "\n",
       "  imagery.aws.image imagery.aws.custom_share_image_w_630_h_1200  dow  \\\n",
       "0              None                                        None  NaN   \n",
       "1              None                                        None  NaN   \n",
       "2              None                                        None  NaN   \n",
       "3              None                                        None  NaN   \n",
       "4              None                                        None  NaN   \n",
       "\n",
       "  repeat_until  repeating  time_tba  \n",
       "0         None        NaN       NaN  \n",
       "1         None        NaN       NaN  \n",
       "2         None        NaN       NaN  \n",
       "3         None        NaN       NaN  \n",
       "4         None        NaN       NaN  \n",
       "\n",
       "[5 rows x 111 columns]"
      ]
     },
     "execution_count": 2,
     "metadata": {},
     "output_type": "execute_result"
    }
   ],
   "source": [
    "pf = ParquetFile('do512_10-3-2019-10-3-2018.parquet')\n",
    "df = pf.to_pandas(index=False)\n",
    "df.head()"
   ]
  },
  {
   "cell_type": "code",
   "execution_count": 40,
   "metadata": {},
   "outputs": [],
   "source": [
    "# drop some insufficient columns\n",
    "#df.columns\n",
    "newcols=['id', 'presented_by', 'title',\n",
    "       'category','begin_time','past',\n",
    "       'end_time', 'votes', 'ticket_info','is_eventbrite', 'amazon_affiliate', 'eventbrite_id',\n",
    "       'is_free','rating', 'doors', 'popularity', 'sold_out', 'favorite', 'artists',\n",
    "       'rsvp','eager',\n",
    "       'venue.id', 'venue.title','venue.latitude',\n",
    "       'venue.longitude', 'venue.popularity', 'venue.address', 'venue.city',\n",
    "       'venue.state', 'venue.zip','giveaway.action', 'giveaway.ask21']"
   ]
  },
  {
   "cell_type": "code",
   "execution_count": 8,
   "metadata": {},
   "outputs": [
    {
     "name": "stdout",
     "output_type": "stream",
     "text": [
      "<class 'pandas.core.frame.DataFrame'>\n",
      "RangeIndex: 41865 entries, 0 to 41864\n",
      "Columns: 111 entries, id to time_tba\n",
      "dtypes: bool(17), float16(23), float64(7), int64(4), object(60)\n",
      "memory usage: 25.2+ MB\n"
     ]
    }
   ],
   "source": [
    "df.info()"
   ]
  },
  {
   "cell_type": "code",
   "execution_count": 41,
   "metadata": {},
   "outputs": [],
   "source": [
    "ndf=df[newcols]"
   ]
  },
  {
   "cell_type": "code",
   "execution_count": 42,
   "metadata": {
    "collapsed": true,
    "jupyter": {
     "outputs_hidden": true
    }
   },
   "outputs": [
    {
     "data": {
      "text/html": [
       "<div>\n",
       "<style scoped>\n",
       "    .dataframe tbody tr th:only-of-type {\n",
       "        vertical-align: middle;\n",
       "    }\n",
       "\n",
       "    .dataframe tbody tr th {\n",
       "        vertical-align: top;\n",
       "    }\n",
       "\n",
       "    .dataframe thead th {\n",
       "        text-align: right;\n",
       "    }\n",
       "</style>\n",
       "<table border=\"1\" class=\"dataframe\">\n",
       "  <thead>\n",
       "    <tr style=\"text-align: right;\">\n",
       "      <th></th>\n",
       "      <th>id</th>\n",
       "      <th>presented_by</th>\n",
       "      <th>title</th>\n",
       "      <th>category</th>\n",
       "      <th>begin_time</th>\n",
       "      <th>past</th>\n",
       "      <th>end_time</th>\n",
       "      <th>votes</th>\n",
       "      <th>ticket_info</th>\n",
       "      <th>is_eventbrite</th>\n",
       "      <th>...</th>\n",
       "      <th>venue.title</th>\n",
       "      <th>venue.latitude</th>\n",
       "      <th>venue.longitude</th>\n",
       "      <th>venue.popularity</th>\n",
       "      <th>venue.address</th>\n",
       "      <th>venue.city</th>\n",
       "      <th>venue.state</th>\n",
       "      <th>venue.zip</th>\n",
       "      <th>giveaway.action</th>\n",
       "      <th>giveaway.ask21</th>\n",
       "    </tr>\n",
       "  </thead>\n",
       "  <tbody>\n",
       "    <tr>\n",
       "      <th>0</th>\n",
       "      <td>11049447</td>\n",
       "      <td>Official 2019 ACL Fest Late Night Show:</td>\n",
       "      <td>Gary Clark Jr</td>\n",
       "      <td>Music</td>\n",
       "      <td>2019-10-03T19:00:00-05:00</td>\n",
       "      <td>False</td>\n",
       "      <td>None</td>\n",
       "      <td>784</td>\n",
       "      <td>All Ages</td>\n",
       "      <td>False</td>\n",
       "      <td>...</td>\n",
       "      <td>Stubb's</td>\n",
       "      <td>30.268458</td>\n",
       "      <td>-97.736175</td>\n",
       "      <td>15.0</td>\n",
       "      <td>801 Red River</td>\n",
       "      <td>Austin</td>\n",
       "      <td>TX</td>\n",
       "      <td>78701</td>\n",
       "      <td>None</td>\n",
       "      <td>NaN</td>\n",
       "    </tr>\n",
       "    <tr>\n",
       "      <th>1</th>\n",
       "      <td>11049456</td>\n",
       "      <td>Official 2019 ACL Fest Late Night Show:</td>\n",
       "      <td>Hippie Sabotage w/ Sebastian Paul</td>\n",
       "      <td>Music</td>\n",
       "      <td>2019-10-03T20:00:00-05:00</td>\n",
       "      <td>False</td>\n",
       "      <td>None</td>\n",
       "      <td>223</td>\n",
       "      <td>18+</td>\n",
       "      <td>False</td>\n",
       "      <td>...</td>\n",
       "      <td>Emo's</td>\n",
       "      <td>30.240266</td>\n",
       "      <td>-97.728516</td>\n",
       "      <td>15.0</td>\n",
       "      <td>2015 E. Riverside Dr.</td>\n",
       "      <td>Austin</td>\n",
       "      <td>TX</td>\n",
       "      <td>78741</td>\n",
       "      <td>None</td>\n",
       "      <td>NaN</td>\n",
       "    </tr>\n",
       "    <tr>\n",
       "      <th>2</th>\n",
       "      <td>11049430</td>\n",
       "      <td>Official 2019 ACL Fest Late Night Show:</td>\n",
       "      <td>FIDLAR w/ XETAS</td>\n",
       "      <td>Music</td>\n",
       "      <td>2019-10-03T18:30:00-05:00</td>\n",
       "      <td>False</td>\n",
       "      <td>None</td>\n",
       "      <td>163</td>\n",
       "      <td>All Ages</td>\n",
       "      <td>False</td>\n",
       "      <td>...</td>\n",
       "      <td>Historic Scoot Inn</td>\n",
       "      <td>30.262141</td>\n",
       "      <td>-97.729385</td>\n",
       "      <td>15.0</td>\n",
       "      <td>1308 E. Fourth</td>\n",
       "      <td>Austin</td>\n",
       "      <td>TX</td>\n",
       "      <td>78702</td>\n",
       "      <td>None</td>\n",
       "      <td>NaN</td>\n",
       "    </tr>\n",
       "    <tr>\n",
       "      <th>3</th>\n",
       "      <td>11186444</td>\n",
       "      <td>Misfits Comedy Presents</td>\n",
       "      <td>That Joke's New! Comedy Open-Mic</td>\n",
       "      <td>Comedy</td>\n",
       "      <td>2019-10-03T20:00:00-05:00</td>\n",
       "      <td>False</td>\n",
       "      <td>None</td>\n",
       "      <td>151</td>\n",
       "      <td>Free</td>\n",
       "      <td>False</td>\n",
       "      <td>...</td>\n",
       "      <td>Halcyon (Mueller)</td>\n",
       "      <td>NaN</td>\n",
       "      <td>NaN</td>\n",
       "      <td>1.0</td>\n",
       "      <td>1905 Aldrich St.</td>\n",
       "      <td>Austin</td>\n",
       "      <td>TX</td>\n",
       "      <td></td>\n",
       "      <td>None</td>\n",
       "      <td>NaN</td>\n",
       "    </tr>\n",
       "    <tr>\n",
       "      <th>4</th>\n",
       "      <td>11141496</td>\n",
       "      <td></td>\n",
       "      <td>Hear Me Bitch 90’s Birthday Bash Comedy Show</td>\n",
       "      <td>Comedy</td>\n",
       "      <td>2019-10-03T19:30:00-05:00</td>\n",
       "      <td>False</td>\n",
       "      <td>None</td>\n",
       "      <td>126</td>\n",
       "      <td>$10 adv / $12 Door</td>\n",
       "      <td>True</td>\n",
       "      <td>...</td>\n",
       "      <td>Fallout Theater</td>\n",
       "      <td>30.269536</td>\n",
       "      <td>-97.745230</td>\n",
       "      <td>1.0</td>\n",
       "      <td>616 Lavaca St</td>\n",
       "      <td>Austin</td>\n",
       "      <td>TX</td>\n",
       "      <td>78701</td>\n",
       "      <td>None</td>\n",
       "      <td>NaN</td>\n",
       "    </tr>\n",
       "  </tbody>\n",
       "</table>\n",
       "<p>5 rows × 32 columns</p>\n",
       "</div>"
      ],
      "text/plain": [
       "         id                             presented_by  \\\n",
       "0  11049447  Official 2019 ACL Fest Late Night Show:   \n",
       "1  11049456  Official 2019 ACL Fest Late Night Show:   \n",
       "2  11049430  Official 2019 ACL Fest Late Night Show:   \n",
       "3  11186444                  Misfits Comedy Presents   \n",
       "4  11141496                                            \n",
       "\n",
       "                                           title category  \\\n",
       "0                                  Gary Clark Jr   Music    \n",
       "1              Hippie Sabotage w/ Sebastian Paul   Music    \n",
       "2                                FIDLAR w/ XETAS   Music    \n",
       "3               That Joke's New! Comedy Open-Mic   Comedy   \n",
       "4  Hear Me Bitch 90’s Birthday Bash Comedy Show    Comedy   \n",
       "\n",
       "                  begin_time   past end_time  votes         ticket_info  \\\n",
       "0  2019-10-03T19:00:00-05:00  False     None    784            All Ages   \n",
       "1  2019-10-03T20:00:00-05:00  False     None    223                 18+   \n",
       "2  2019-10-03T18:30:00-05:00  False     None    163            All Ages   \n",
       "3  2019-10-03T20:00:00-05:00  False     None    151                Free   \n",
       "4  2019-10-03T19:30:00-05:00  False     None    126  $10 adv / $12 Door   \n",
       "\n",
       "   is_eventbrite  ...         venue.title venue.latitude  venue.longitude  \\\n",
       "0          False  ...             Stubb's      30.268458       -97.736175   \n",
       "1          False  ...               Emo's      30.240266       -97.728516   \n",
       "2          False  ...  Historic Scoot Inn      30.262141       -97.729385   \n",
       "3          False  ...   Halcyon (Mueller)            NaN              NaN   \n",
       "4           True  ...     Fallout Theater      30.269536       -97.745230   \n",
       "\n",
       "  venue.popularity          venue.address  venue.city  venue.state  venue.zip  \\\n",
       "0             15.0          801 Red River      Austin           TX      78701   \n",
       "1             15.0  2015 E. Riverside Dr.      Austin           TX      78741   \n",
       "2             15.0         1308 E. Fourth      Austin           TX      78702   \n",
       "3              1.0       1905 Aldrich St.      Austin           TX              \n",
       "4              1.0          616 Lavaca St      Austin           TX      78701   \n",
       "\n",
       "  giveaway.action  giveaway.ask21  \n",
       "0            None             NaN  \n",
       "1            None             NaN  \n",
       "2            None             NaN  \n",
       "3            None             NaN  \n",
       "4            None             NaN  \n",
       "\n",
       "[5 rows x 32 columns]"
      ]
     },
     "execution_count": 42,
     "metadata": {},
     "output_type": "execute_result"
    }
   ],
   "source": [
    "ndf.head()"
   ]
  },
  {
   "cell_type": "code",
   "execution_count": 43,
   "metadata": {},
   "outputs": [
    {
     "name": "stdout",
     "output_type": "stream",
     "text": [
      "<class 'pandas.core.frame.DataFrame'>\n",
      "RangeIndex: 41865 entries, 0 to 41864\n",
      "Data columns (total 32 columns):\n",
      "id                  41865 non-null int64\n",
      "presented_by        36110 non-null object\n",
      "title               41865 non-null object\n",
      "category            41865 non-null object\n",
      "begin_time          41865 non-null object\n",
      "past                41865 non-null bool\n",
      "end_time            17708 non-null object\n",
      "votes               41865 non-null int64\n",
      "ticket_info         41865 non-null object\n",
      "is_eventbrite       41865 non-null bool\n",
      "amazon_affiliate    41865 non-null bool\n",
      "eventbrite_id       1872 non-null object\n",
      "is_free             41865 non-null bool\n",
      "rating              0 non-null object\n",
      "doors               41865 non-null bool\n",
      "popularity          41865 non-null float64\n",
      "sold_out            41865 non-null bool\n",
      "favorite            41865 non-null bool\n",
      "artists             41865 non-null object\n",
      "rsvp                41392 non-null float16\n",
      "eager               41865 non-null bool\n",
      "venue.id            41865 non-null int64\n",
      "venue.title         41865 non-null object\n",
      "venue.latitude      34686 non-null float64\n",
      "venue.longitude     34687 non-null float64\n",
      "venue.popularity    41865 non-null float64\n",
      "venue.address       41002 non-null object\n",
      "venue.city          41076 non-null object\n",
      "venue.state         41076 non-null object\n",
      "venue.zip           41002 non-null object\n",
      "giveaway.action     4 non-null object\n",
      "giveaway.ask21      4 non-null float16\n",
      "dtypes: bool(8), float16(2), float64(4), int64(3), object(15)\n",
      "memory usage: 7.5+ MB\n"
     ]
    }
   ],
   "source": [
    "ndf.info()"
   ]
  },
  {
   "cell_type": "code",
   "execution_count": 24,
   "metadata": {},
   "outputs": [
    {
     "name": "stdout",
     "output_type": "stream",
     "text": [
      "[None '/events/11124752/giveaway' '/events/11070390/giveaway'\n",
      " '/events/10942317/giveaway' '/events/11035846/giveaway']\n"
     ]
    }
   ],
   "source": [
    "#print(ndf.amazon_affiliate.describe())\n",
    "#print(ndf.favorite.describe())\n",
    "#print(ndf.rsvp.describe())\n",
    "#print(ndf.eager.describe())\n",
    "#print(ndf['giveaway.action'].unique())\n",
    "#print(ndf['giveaway.ask21'].describe())"
   ]
  },
  {
   "cell_type": "code",
   "execution_count": 44,
   "metadata": {
    "collapsed": true,
    "jupyter": {
     "outputs_hidden": true
    }
   },
   "outputs": [
    {
     "name": "stderr",
     "output_type": "stream",
     "text": [
      "C:\\Users\\z0043H7B\\AppData\\Local\\Continuum\\miniconda3\\lib\\site-packages\\pandas\\core\\frame.py:3940: SettingWithCopyWarning: \n",
      "A value is trying to be set on a copy of a slice from a DataFrame\n",
      "\n",
      "See the caveats in the documentation: http://pandas.pydata.org/pandas-docs/stable/indexing.html#indexing-view-versus-copy\n",
      "  errors=errors)\n",
      "C:\\Users\\z0043H7B\\AppData\\Local\\Continuum\\miniconda3\\lib\\site-packages\\pandas\\core\\generic.py:6130: SettingWithCopyWarning: \n",
      "A value is trying to be set on a copy of a slice from a DataFrame\n",
      "\n",
      "See the caveats in the documentation: http://pandas.pydata.org/pandas-docs/stable/indexing.html#indexing-view-versus-copy\n",
      "  self._update_inplace(new_data)\n"
     ]
    },
    {
     "data": {
      "text/plain": [
       "0        False\n",
       "1        False\n",
       "2        False\n",
       "3         True\n",
       "4        False\n",
       "5         True\n",
       "6        False\n",
       "7        False\n",
       "8        False\n",
       "9        False\n",
       "10       False\n",
       "11        True\n",
       "12        True\n",
       "13        True\n",
       "14        True\n",
       "15       False\n",
       "16        True\n",
       "17       False\n",
       "18        True\n",
       "19       False\n",
       "20       False\n",
       "21        True\n",
       "22        True\n",
       "23       False\n",
       "24       False\n",
       "25       False\n",
       "26       False\n",
       "27        True\n",
       "28       False\n",
       "29        True\n",
       "         ...  \n",
       "41835    False\n",
       "41836    False\n",
       "41837    False\n",
       "41838    False\n",
       "41839    False\n",
       "41840    False\n",
       "41841    False\n",
       "41842    False\n",
       "41843    False\n",
       "41844     True\n",
       "41845     True\n",
       "41846    False\n",
       "41847    False\n",
       "41848    False\n",
       "41849    False\n",
       "41850    False\n",
       "41851    False\n",
       "41852     True\n",
       "41853    False\n",
       "41854    False\n",
       "41855    False\n",
       "41856     True\n",
       "41857    False\n",
       "41858    False\n",
       "41859    False\n",
       "41860    False\n",
       "41861    False\n",
       "41862    False\n",
       "41863     True\n",
       "41864    False\n",
       "Name: is_free, Length: 41865, dtype: bool"
      ]
     },
     "execution_count": 44,
     "metadata": {},
     "output_type": "execute_result"
    }
   ],
   "source": [
    "# leave out the columns with too many nulls\n",
    "ndf.drop('rating', axis=1, inplace=True)\n",
    "ndf.drop('favorite', axis=1, inplace=True)\n",
    "ndf.drop('rsvp', axis=1, inplace=True)\n",
    "ndf.drop('eager', axis=1, inplace=True)\n",
    "ndf.drop('amazon_affiliate', axis=1, inplace=True)\n",
    "ndf.drop('giveaway.ask21', axis=1, inplace=True)\n",
    "ndf.drop('giveaway.action', axis=1, inplace=True)\n",
    "#enforce some cleanup, dtype putting\n",
    "ndf.past.astype(bool)\n",
    "ndf.end_time.fillna(value=pd.np.nan, inplace=True)\n",
    "ndf.is_free.astype(bool)"
   ]
  },
  {
   "cell_type": "code",
   "execution_count": 6,
   "metadata": {},
   "outputs": [],
   "source": [
    "pf=ParquetFile('28508revents_processed_part.parq')\n",
    "ndf=pf.to_pandas()"
   ]
  },
  {
   "cell_type": "code",
   "execution_count": 45,
   "metadata": {},
   "outputs": [
    {
     "data": {
      "text/plain": [
       "Index(['id', 'presented_by', 'title', 'category', 'begin_time', 'past',\n",
       "       'end_time', 'votes', 'ticket_info', 'is_eventbrite', 'amazon_affiliate',\n",
       "       'eventbrite_id', 'is_free', 'rating', 'doors', 'popularity', 'sold_out',\n",
       "       'favorite', 'artists', 'rsvp', 'eager', 'venue.id', 'venue.title',\n",
       "       'venue.latitude', 'venue.longitude', 'venue.popularity',\n",
       "       'venue.address', 'venue.city', 'venue.state', 'venue.zip',\n",
       "       'giveaway.action', 'giveaway.ask21'],\n",
       "      dtype='object')"
      ]
     },
     "execution_count": 45,
     "metadata": {},
     "output_type": "execute_result"
    }
   ],
   "source": [
    "ndf=df[newcols]\n",
    "ndf.columns"
   ]
  },
  {
   "cell_type": "code",
   "execution_count": 46,
   "metadata": {},
   "outputs": [
    {
     "name": "stderr",
     "output_type": "stream",
     "text": [
      "C:\\Users\\z0043H7B\\AppData\\Local\\Continuum\\miniconda3\\lib\\site-packages\\ipykernel_launcher.py:2: SettingWithCopyWarning: \n",
      "A value is trying to be set on a copy of a slice from a DataFrame.\n",
      "Try using .loc[row_indexer,col_indexer] = value instead\n",
      "\n",
      "See the caveats in the documentation: http://pandas.pydata.org/pandas-docs/stable/indexing.html#indexing-view-versus-copy\n",
      "  \n",
      "C:\\Users\\z0043H7B\\AppData\\Local\\Continuum\\miniconda3\\lib\\site-packages\\ipykernel_launcher.py:3: SettingWithCopyWarning: \n",
      "A value is trying to be set on a copy of a slice from a DataFrame.\n",
      "Try using .loc[row_indexer,col_indexer] = value instead\n",
      "\n",
      "See the caveats in the documentation: http://pandas.pydata.org/pandas-docs/stable/indexing.html#indexing-view-versus-copy\n",
      "  This is separate from the ipykernel package so we can avoid doing imports until\n",
      "C:\\Users\\z0043H7B\\AppData\\Local\\Continuum\\miniconda3\\lib\\site-packages\\ipykernel_launcher.py:4: SettingWithCopyWarning: \n",
      "A value is trying to be set on a copy of a slice from a DataFrame.\n",
      "Try using .loc[row_indexer,col_indexer] = value instead\n",
      "\n",
      "See the caveats in the documentation: http://pandas.pydata.org/pandas-docs/stable/indexing.html#indexing-view-versus-copy\n",
      "  after removing the cwd from sys.path.\n",
      "C:\\Users\\z0043H7B\\AppData\\Local\\Continuum\\miniconda3\\lib\\site-packages\\ipykernel_launcher.py:5: SettingWithCopyWarning: \n",
      "A value is trying to be set on a copy of a slice from a DataFrame.\n",
      "Try using .loc[row_indexer,col_indexer] = value instead\n",
      "\n",
      "See the caveats in the documentation: http://pandas.pydata.org/pandas-docs/stable/indexing.html#indexing-view-versus-copy\n",
      "  \"\"\"\n"
     ]
    }
   ],
   "source": [
    "# insert new columns\n",
    "ndf['ticket_allages']=[False for x in range(len(ndf))]\n",
    "ndf['ticket_price_low']=[0 for x in range(len(ndf))]\n",
    "ndf['ticket_price_max']=[0 for x in range(len(ndf))]\n",
    "ndf['min_age']=[None for x in range(len(ndf))]\n",
    "        "
   ]
  },
  {
   "cell_type": "code",
   "execution_count": 47,
   "metadata": {},
   "outputs": [],
   "source": [
    "# parse ticket info string\n",
    "\n",
    "tkt_str=ndf.ticket_info.values"
   ]
  },
  {
   "cell_type": "code",
   "execution_count": 48,
   "metadata": {
    "collapsed": true,
    "jupyter": {
     "outputs_hidden": true
    }
   },
   "outputs": [
    {
     "name": "stderr",
     "output_type": "stream",
     "text": [
      "0it [00:00, ?it/s]"
     ]
    },
    {
     "name": "stdout",
     "output_type": "stream",
     "text": [
      "0\n"
     ]
    },
    {
     "name": "stderr",
     "output_type": "stream",
     "text": [
      "C:\\Users\\z0043H7B\\AppData\\Local\\Continuum\\miniconda3\\lib\\site-packages\\pandas\\core\\indexing.py:543: SettingWithCopyWarning: \n",
      "A value is trying to be set on a copy of a slice from a DataFrame.\n",
      "Try using .loc[row_indexer,col_indexer] = value instead\n",
      "\n",
      "See the caveats in the documentation: http://pandas.pydata.org/pandas-docs/stable/indexing.html#indexing-view-versus-copy\n",
      "  self.obj[item] = s\n",
      "999it [01:59,  8.72it/s]"
     ]
    },
    {
     "name": "stdout",
     "output_type": "stream",
     "text": [
      "1000\n"
     ]
    },
    {
     "name": "stderr",
     "output_type": "stream",
     "text": [
      "1999it [04:00,  9.72it/s]"
     ]
    },
    {
     "name": "stdout",
     "output_type": "stream",
     "text": [
      "2000\n"
     ]
    },
    {
     "name": "stderr",
     "output_type": "stream",
     "text": [
      "2999it [06:05,  8.26it/s]"
     ]
    },
    {
     "name": "stdout",
     "output_type": "stream",
     "text": [
      "3000\n"
     ]
    },
    {
     "name": "stderr",
     "output_type": "stream",
     "text": [
      "3999it [08:10,  7.33it/s]"
     ]
    },
    {
     "name": "stdout",
     "output_type": "stream",
     "text": [
      "4000\n"
     ]
    },
    {
     "name": "stderr",
     "output_type": "stream",
     "text": [
      "5000it [10:08,  8.93it/s]"
     ]
    },
    {
     "name": "stdout",
     "output_type": "stream",
     "text": [
      "5000\n"
     ]
    },
    {
     "name": "stderr",
     "output_type": "stream",
     "text": [
      "5999it [12:15,  9.34it/s]"
     ]
    },
    {
     "name": "stdout",
     "output_type": "stream",
     "text": [
      "6000\n"
     ]
    },
    {
     "name": "stderr",
     "output_type": "stream",
     "text": [
      "7000it [14:24,  8.83it/s]"
     ]
    },
    {
     "name": "stdout",
     "output_type": "stream",
     "text": [
      "7000\n"
     ]
    },
    {
     "name": "stderr",
     "output_type": "stream",
     "text": [
      "7999it [16:35,  9.02it/s]"
     ]
    },
    {
     "name": "stdout",
     "output_type": "stream",
     "text": [
      "8000\n"
     ]
    },
    {
     "name": "stderr",
     "output_type": "stream",
     "text": [
      "9000it [18:35,  4.72it/s]"
     ]
    },
    {
     "name": "stdout",
     "output_type": "stream",
     "text": [
      "9000\n"
     ]
    },
    {
     "name": "stderr",
     "output_type": "stream",
     "text": [
      "9999it [20:45,  5.27it/s]"
     ]
    },
    {
     "name": "stdout",
     "output_type": "stream",
     "text": [
      "10000\n"
     ]
    },
    {
     "name": "stderr",
     "output_type": "stream",
     "text": [
      "11000it [22:47,  5.88it/s]"
     ]
    },
    {
     "name": "stdout",
     "output_type": "stream",
     "text": [
      "11000\n"
     ]
    },
    {
     "name": "stderr",
     "output_type": "stream",
     "text": [
      "11999it [24:57, 11.42it/s]"
     ]
    },
    {
     "name": "stdout",
     "output_type": "stream",
     "text": [
      "12000\n"
     ]
    },
    {
     "name": "stderr",
     "output_type": "stream",
     "text": [
      "13000it [27:06, 12.31it/s]"
     ]
    },
    {
     "name": "stdout",
     "output_type": "stream",
     "text": [
      "13000\n"
     ]
    },
    {
     "name": "stderr",
     "output_type": "stream",
     "text": [
      "13999it [29:16,  5.23it/s]"
     ]
    },
    {
     "name": "stdout",
     "output_type": "stream",
     "text": [
      "14000\n"
     ]
    },
    {
     "name": "stderr",
     "output_type": "stream",
     "text": [
      "14999it [31:21,  6.08it/s]"
     ]
    },
    {
     "name": "stdout",
     "output_type": "stream",
     "text": [
      "15000\n"
     ]
    },
    {
     "name": "stderr",
     "output_type": "stream",
     "text": [
      "16000it [33:27,  6.18it/s]"
     ]
    },
    {
     "name": "stdout",
     "output_type": "stream",
     "text": [
      "16000\n"
     ]
    },
    {
     "name": "stderr",
     "output_type": "stream",
     "text": [
      "17000it [35:29,  6.76it/s]"
     ]
    },
    {
     "name": "stdout",
     "output_type": "stream",
     "text": [
      "17000\n"
     ]
    },
    {
     "name": "stderr",
     "output_type": "stream",
     "text": [
      "18000it [37:33,  5.95it/s]"
     ]
    },
    {
     "name": "stdout",
     "output_type": "stream",
     "text": [
      "18000\n"
     ]
    },
    {
     "name": "stderr",
     "output_type": "stream",
     "text": [
      "19000it [39:43,  7.31it/s]"
     ]
    },
    {
     "name": "stdout",
     "output_type": "stream",
     "text": [
      "19000\n"
     ]
    },
    {
     "name": "stderr",
     "output_type": "stream",
     "text": [
      "20000it [41:32, 10.91it/s]"
     ]
    },
    {
     "name": "stdout",
     "output_type": "stream",
     "text": [
      "20000\n"
     ]
    },
    {
     "name": "stderr",
     "output_type": "stream",
     "text": [
      "20999it [42:59, 11.84it/s]"
     ]
    },
    {
     "name": "stdout",
     "output_type": "stream",
     "text": [
      "21000\n"
     ]
    },
    {
     "name": "stderr",
     "output_type": "stream",
     "text": [
      "22000it [44:25, 15.02it/s]"
     ]
    },
    {
     "name": "stdout",
     "output_type": "stream",
     "text": [
      "22000\n"
     ]
    },
    {
     "name": "stderr",
     "output_type": "stream",
     "text": [
      "22999it [45:48, 15.06it/s]"
     ]
    },
    {
     "name": "stdout",
     "output_type": "stream",
     "text": [
      "23000\n"
     ]
    },
    {
     "name": "stderr",
     "output_type": "stream",
     "text": [
      "23999it [47:07, 14.62it/s]"
     ]
    },
    {
     "name": "stdout",
     "output_type": "stream",
     "text": [
      "24000\n"
     ]
    },
    {
     "name": "stderr",
     "output_type": "stream",
     "text": [
      "24999it [48:23, 15.05it/s]"
     ]
    },
    {
     "name": "stdout",
     "output_type": "stream",
     "text": [
      "25000\n"
     ]
    },
    {
     "name": "stderr",
     "output_type": "stream",
     "text": [
      "25999it [49:48, 13.09it/s]"
     ]
    },
    {
     "name": "stdout",
     "output_type": "stream",
     "text": [
      "26000\n"
     ]
    },
    {
     "name": "stderr",
     "output_type": "stream",
     "text": [
      "27000it [51:12,  5.86it/s]"
     ]
    },
    {
     "name": "stdout",
     "output_type": "stream",
     "text": [
      "27000\n"
     ]
    },
    {
     "name": "stderr",
     "output_type": "stream",
     "text": [
      "28000it [53:23,  9.07it/s]"
     ]
    },
    {
     "name": "stdout",
     "output_type": "stream",
     "text": [
      "28000\n"
     ]
    },
    {
     "name": "stderr",
     "output_type": "stream",
     "text": [
      "29000it [55:28, 10.64it/s]"
     ]
    },
    {
     "name": "stdout",
     "output_type": "stream",
     "text": [
      "29000\n"
     ]
    },
    {
     "name": "stderr",
     "output_type": "stream",
     "text": [
      "30000it [57:31,  8.48it/s]"
     ]
    },
    {
     "name": "stdout",
     "output_type": "stream",
     "text": [
      "30000\n"
     ]
    },
    {
     "name": "stderr",
     "output_type": "stream",
     "text": [
      "31000it [59:33,  5.91it/s]"
     ]
    },
    {
     "name": "stdout",
     "output_type": "stream",
     "text": [
      "31000\n"
     ]
    },
    {
     "name": "stderr",
     "output_type": "stream",
     "text": [
      "31999it [1:01:36,  9.62it/s]"
     ]
    },
    {
     "name": "stdout",
     "output_type": "stream",
     "text": [
      "32000\n"
     ]
    },
    {
     "name": "stderr",
     "output_type": "stream",
     "text": [
      "33000it [1:03:37,  7.68it/s]"
     ]
    },
    {
     "name": "stdout",
     "output_type": "stream",
     "text": [
      "33000\n"
     ]
    },
    {
     "name": "stderr",
     "output_type": "stream",
     "text": [
      "34000it [1:05:32,  5.49it/s]"
     ]
    },
    {
     "name": "stdout",
     "output_type": "stream",
     "text": [
      "34000\n"
     ]
    },
    {
     "name": "stderr",
     "output_type": "stream",
     "text": [
      "35000it [1:07:32,  7.23it/s]"
     ]
    },
    {
     "name": "stdout",
     "output_type": "stream",
     "text": [
      "35000\n"
     ]
    },
    {
     "name": "stderr",
     "output_type": "stream",
     "text": [
      "35999it [1:09:34,  8.24it/s]"
     ]
    },
    {
     "name": "stdout",
     "output_type": "stream",
     "text": [
      "36000\n"
     ]
    },
    {
     "name": "stderr",
     "output_type": "stream",
     "text": [
      "36999it [1:11:42,  5.43it/s]"
     ]
    },
    {
     "name": "stdout",
     "output_type": "stream",
     "text": [
      "37000\n"
     ]
    },
    {
     "name": "stderr",
     "output_type": "stream",
     "text": [
      "37999it [1:13:53,  7.98it/s]"
     ]
    },
    {
     "name": "stdout",
     "output_type": "stream",
     "text": [
      "38000\n"
     ]
    },
    {
     "name": "stderr",
     "output_type": "stream",
     "text": [
      "39000it [1:16:01,  7.66it/s]"
     ]
    },
    {
     "name": "stdout",
     "output_type": "stream",
     "text": [
      "39000\n"
     ]
    },
    {
     "name": "stderr",
     "output_type": "stream",
     "text": [
      "39999it [1:18:11,  7.74it/s]"
     ]
    },
    {
     "name": "stdout",
     "output_type": "stream",
     "text": [
      "40000\n"
     ]
    },
    {
     "name": "stderr",
     "output_type": "stream",
     "text": [
      "41000it [1:20:24,  8.30it/s]"
     ]
    },
    {
     "name": "stdout",
     "output_type": "stream",
     "text": [
      "41000\n"
     ]
    },
    {
     "name": "stderr",
     "output_type": "stream",
     "text": [
      "41865it [1:22:20,  8.47it/s]\n"
     ]
    }
   ],
   "source": [
    "from tqdm import tqdm\n",
    "# dump all info of ticket into other columns\n",
    "for i,item in tqdm(enumerate(tkt_str)):\n",
    "    if i%1000==0:print(i)\n",
    "    #check 'free'\n",
    "    if \"free\" in item.lower() : ndf.loc[i,'is_free']=True\n",
    "    # check child ok        \n",
    "    if (\"all ages\" in item.lower()) or (\"kids\" in item.lower()) or (\"child\" in item.lower()): ndf.loc[i,'ticket_allages']=True\n",
    "    \n",
    "    #replace all whitespace after '$'    \n",
    "    item = re.sub('\\$ ','$',item)\n",
    "    prices=re.findall('(?<=\\$)\\d*\\.?\\d*', item)\n",
    "    # get all lower/upper $number\n",
    "    if prices: # not [] or None\n",
    "        if prices[0].isdigit():\n",
    "            if len(prices)==1: \n",
    "                ndf.loc[i,'ticket_price_low']=prices[0]\n",
    "                ndf.loc[i,'ticket_price_max']=None\n",
    "            else:\n",
    "                #convert all prices to numbers , in case any of them not number\n",
    "                nprices=[float(x) for x in prices if x.isdigit()]\n",
    "                \n",
    "                ndf.loc[i,'ticket_price_low']=min(nprices)\n",
    "                ndf.loc[i,'ticket_price_max']=max(nprices)      \n",
    "    # get minimum age\n",
    "    min_ag=re.findall(r\"(\\d+)\\+\",item)\n",
    "    if min_ag:\n",
    "        ndf.loc[i,'min_age']=int(min_ag[0])\n",
    "    else:ndf.loc[i,'min_age']=None"
   ]
  },
  {
   "cell_type": "code",
   "execution_count": 14,
   "metadata": {},
   "outputs": [
    {
     "data": {
      "text/plain": [
       "Index(['id', 'presented_by', 'title', 'category', 'begin_time', 'past',\n",
       "       'end_time', 'votes', 'ticket_info', 'is_eventbrite', 'amazon_affiliate',\n",
       "       'eventbrite_id', 'is_free', 'rating', 'doors', 'popularity', 'sold_out',\n",
       "       'favorite', 'artists', 'rsvp', 'eager', 'venue.id', 'venue.title',\n",
       "       'venue.latitude', 'venue.longitude', 'venue.popularity',\n",
       "       'venue.address', 'venue.city', 'venue.state', 'venue.zip',\n",
       "       'giveaway.action', 'giveaway.ask21', 'ticket_allages',\n",
       "       'ticket_price_low', 'ticket_price_max', 'min_age'],\n",
       "      dtype='object')"
      ]
     },
     "execution_count": 14,
     "metadata": {},
     "output_type": "execute_result"
    }
   ],
   "source": [
    "ndf.columns"
   ]
  },
  {
   "cell_type": "code",
   "execution_count": 50,
   "metadata": {},
   "outputs": [
    {
     "name": "stdout",
     "output_type": "stream",
     "text": [
      "<class 'pandas.core.frame.DataFrame'>\n",
      "RangeIndex: 41865 entries, 0 to 41864\n",
      "Data columns (total 36 columns):\n",
      "id                  41865 non-null int64\n",
      "presented_by        36110 non-null object\n",
      "title               41865 non-null object\n",
      "category            41865 non-null object\n",
      "begin_time          41865 non-null object\n",
      "past                41865 non-null bool\n",
      "end_time            17708 non-null object\n",
      "votes               41865 non-null int64\n",
      "ticket_info         41865 non-null object\n",
      "is_eventbrite       41865 non-null bool\n",
      "amazon_affiliate    41865 non-null bool\n",
      "eventbrite_id       1872 non-null object\n",
      "is_free             41865 non-null bool\n",
      "rating              0 non-null object\n",
      "doors               41865 non-null bool\n",
      "popularity          41865 non-null float64\n",
      "sold_out            41865 non-null bool\n",
      "favorite            41865 non-null bool\n",
      "artists             41865 non-null object\n",
      "rsvp                41392 non-null float16\n",
      "eager               41865 non-null bool\n",
      "venue.id            41865 non-null int64\n",
      "venue.title         41865 non-null object\n",
      "venue.latitude      34686 non-null float64\n",
      "venue.longitude     34687 non-null float64\n",
      "venue.popularity    41865 non-null float64\n",
      "venue.address       41002 non-null object\n",
      "venue.city          41076 non-null object\n",
      "venue.state         41076 non-null object\n",
      "venue.zip           41002 non-null object\n",
      "giveaway.action     4 non-null object\n",
      "giveaway.ask21      4 non-null float16\n",
      "ticket_allages      41865 non-null bool\n",
      "ticket_price_low    41865 non-null object\n",
      "ticket_price_max    34012 non-null float64\n",
      "min_age             5699 non-null object\n",
      "dtypes: bool(9), float16(2), float64(5), int64(3), object(17)\n",
      "memory usage: 8.5+ MB\n"
     ]
    }
   ],
   "source": [
    "ndf.info()"
   ]
  },
  {
   "cell_type": "code",
   "execution_count": 52,
   "metadata": {},
   "outputs": [],
   "source": [
    "# remove ticket info\n",
    "ndf.drop('giveaway.action', axis=1, inplace=True)\n",
    "ndf.drop('giveaway.ask21', axis=1, inplace=True)\n",
    "ndf.drop('ticket_info', axis=1, inplace=True)"
   ]
  },
  {
   "cell_type": "code",
   "execution_count": 53,
   "metadata": {},
   "outputs": [],
   "source": [
    "ndf.to_csv('fullevents_proc_tickets_art.csv',index=False)"
   ]
  },
  {
   "cell_type": "code",
   "execution_count": 49,
   "metadata": {
    "collapsed": true,
    "jupyter": {
     "outputs_hidden": true
    }
   },
   "outputs": [
    {
     "ename": "ValueError",
     "evalue": "Can't infer object conversion type: 0     0\n1     0\n2     0\n3     0\n4    10\n5     0\n6     0\n7    10\n8    16\n9     8\nName: ticket_price_low, dtype: object",
     "output_type": "error",
     "traceback": [
      "\u001b[1;31m---------------------------------------------------------------------------\u001b[0m",
      "\u001b[1;31mValueError\u001b[0m                                Traceback (most recent call last)",
      "\u001b[1;32m<ipython-input-49-16c5ee0f6e53>\u001b[0m in \u001b[0;36m<module>\u001b[1;34m\u001b[0m\n\u001b[1;32m----> 1\u001b[1;33m \u001b[0mwrite\u001b[0m\u001b[1;33m(\u001b[0m\u001b[1;34m'fullevent_proc_free_tickets.parq'\u001b[0m\u001b[1;33m,\u001b[0m\u001b[0mndf\u001b[0m\u001b[1;33m)\u001b[0m\u001b[1;33m\u001b[0m\u001b[1;33m\u001b[0m\u001b[0m\n\u001b[0m",
      "\u001b[1;32m~\\AppData\\Local\\Continuum\\miniconda3\\lib\\site-packages\\fastparquet\\writer.py\u001b[0m in \u001b[0;36mwrite\u001b[1;34m(filename, data, row_group_offsets, compression, file_scheme, open_with, mkdirs, has_nulls, write_index, partition_on, fixed_text, append, object_encoding, times)\u001b[0m\n\u001b[0;32m    860\u001b[0m     fmd = make_metadata(data, has_nulls=has_nulls, ignore_columns=ignore,\n\u001b[0;32m    861\u001b[0m                         \u001b[0mfixed_text\u001b[0m\u001b[1;33m=\u001b[0m\u001b[0mfixed_text\u001b[0m\u001b[1;33m,\u001b[0m \u001b[0mobject_encoding\u001b[0m\u001b[1;33m=\u001b[0m\u001b[0mobject_encoding\u001b[0m\u001b[1;33m,\u001b[0m\u001b[1;33m\u001b[0m\u001b[1;33m\u001b[0m\u001b[0m\n\u001b[1;32m--> 862\u001b[1;33m                         times=times, index_cols=index_cols)\n\u001b[0m\u001b[0;32m    863\u001b[0m \u001b[1;33m\u001b[0m\u001b[0m\n\u001b[0;32m    864\u001b[0m     \u001b[1;32mif\u001b[0m \u001b[0mfile_scheme\u001b[0m \u001b[1;33m==\u001b[0m \u001b[1;34m'simple'\u001b[0m\u001b[1;33m:\u001b[0m\u001b[1;33m\u001b[0m\u001b[1;33m\u001b[0m\u001b[0m\n",
      "\u001b[1;32m~\\AppData\\Local\\Continuum\\miniconda3\\lib\\site-packages\\fastparquet\\writer.py\u001b[0m in \u001b[0;36mmake_metadata\u001b[1;34m(data, has_nulls, ignore_columns, fixed_text, object_encoding, times, index_cols)\u001b[0m\n\u001b[0;32m    690\u001b[0m         \u001b[1;32melse\u001b[0m\u001b[1;33m:\u001b[0m\u001b[1;33m\u001b[0m\u001b[1;33m\u001b[0m\u001b[0m\n\u001b[0;32m    691\u001b[0m             se, type = find_type(data[column], fixed_text=fixed,\n\u001b[1;32m--> 692\u001b[1;33m                                  object_encoding=oencoding, times=times)\n\u001b[0m\u001b[0;32m    693\u001b[0m         \u001b[0mcol_has_nulls\u001b[0m \u001b[1;33m=\u001b[0m \u001b[0mhas_nulls\u001b[0m\u001b[1;33m\u001b[0m\u001b[1;33m\u001b[0m\u001b[0m\n\u001b[0;32m    694\u001b[0m         \u001b[1;32mif\u001b[0m \u001b[0mhas_nulls\u001b[0m \u001b[1;32mis\u001b[0m \u001b[1;32mNone\u001b[0m\u001b[1;33m:\u001b[0m\u001b[1;33m\u001b[0m\u001b[1;33m\u001b[0m\u001b[0m\n",
      "\u001b[1;32m~\\AppData\\Local\\Continuum\\miniconda3\\lib\\site-packages\\fastparquet\\writer.py\u001b[0m in \u001b[0;36mfind_type\u001b[1;34m(data, fixed_text, object_encoding, times)\u001b[0m\n\u001b[0;32m     93\u001b[0m     \u001b[1;32melif\u001b[0m \u001b[0mdtype\u001b[0m \u001b[1;33m==\u001b[0m \u001b[1;34m\"O\"\u001b[0m\u001b[1;33m:\u001b[0m\u001b[1;33m\u001b[0m\u001b[1;33m\u001b[0m\u001b[0m\n\u001b[0;32m     94\u001b[0m         \u001b[1;32mif\u001b[0m \u001b[0mobject_encoding\u001b[0m \u001b[1;33m==\u001b[0m \u001b[1;34m'infer'\u001b[0m\u001b[1;33m:\u001b[0m\u001b[1;33m\u001b[0m\u001b[1;33m\u001b[0m\u001b[0m\n\u001b[1;32m---> 95\u001b[1;33m             \u001b[0mobject_encoding\u001b[0m \u001b[1;33m=\u001b[0m \u001b[0minfer_object_encoding\u001b[0m\u001b[1;33m(\u001b[0m\u001b[0mdata\u001b[0m\u001b[1;33m)\u001b[0m\u001b[1;33m\u001b[0m\u001b[1;33m\u001b[0m\u001b[0m\n\u001b[0m\u001b[0;32m     96\u001b[0m \u001b[1;33m\u001b[0m\u001b[0m\n\u001b[0;32m     97\u001b[0m         \u001b[1;32mif\u001b[0m \u001b[0mobject_encoding\u001b[0m \u001b[1;33m==\u001b[0m \u001b[1;34m'utf8'\u001b[0m\u001b[1;33m:\u001b[0m\u001b[1;33m\u001b[0m\u001b[1;33m\u001b[0m\u001b[0m\n",
      "\u001b[1;32m~\\AppData\\Local\\Continuum\\miniconda3\\lib\\site-packages\\fastparquet\\writer.py\u001b[0m in \u001b[0;36minfer_object_encoding\u001b[1;34m(data)\u001b[0m\n\u001b[0;32m    236\u001b[0m         \u001b[1;32mreturn\u001b[0m \u001b[1;34m'float'\u001b[0m\u001b[1;33m\u001b[0m\u001b[1;33m\u001b[0m\u001b[0m\n\u001b[0;32m    237\u001b[0m     \u001b[1;32melse\u001b[0m\u001b[1;33m:\u001b[0m\u001b[1;33m\u001b[0m\u001b[1;33m\u001b[0m\u001b[0m\n\u001b[1;32m--> 238\u001b[1;33m         \u001b[1;32mraise\u001b[0m \u001b[0mValueError\u001b[0m\u001b[1;33m(\u001b[0m\u001b[1;34m\"Can't infer object conversion type: %s\"\u001b[0m \u001b[1;33m%\u001b[0m \u001b[0mhead\u001b[0m\u001b[1;33m)\u001b[0m\u001b[1;33m\u001b[0m\u001b[1;33m\u001b[0m\u001b[0m\n\u001b[0m\u001b[0;32m    239\u001b[0m \u001b[1;33m\u001b[0m\u001b[0m\n\u001b[0;32m    240\u001b[0m \u001b[1;33m\u001b[0m\u001b[0m\n",
      "\u001b[1;31mValueError\u001b[0m: Can't infer object conversion type: 0     0\n1     0\n2     0\n3     0\n4    10\n5     0\n6     0\n7    10\n8    16\n9     8\nName: ticket_price_low, dtype: object"
     ]
    }
   ],
   "source": [
    "write('fullevent_proc_free_tickets.parq',ndf)"
   ]
  },
  {
   "cell_type": "code",
   "execution_count": 24,
   "metadata": {},
   "outputs": [],
   "source": [
    "# get artist column andef\n",
    "e_artist=ndf.artists.values"
   ]
  },
  {
   "cell_type": "code",
   "execution_count": 25,
   "metadata": {},
   "outputs": [
    {
     "data": {
      "text/plain": [
       "28508"
      ]
     },
     "execution_count": 25,
     "metadata": {},
     "output_type": "execute_result"
    }
   ],
   "source": [
    "len(e_artist)"
   ]
  },
  {
   "cell_type": "code",
   "execution_count": 26,
   "metadata": {},
   "outputs": [
    {
     "data": {
      "text/plain": [
       "{'id': 55257,\n",
       " 'title': 'Ramsay Midwood',\n",
       " 'permalink': '/artists/ramsay-midwood',\n",
       " 'data_path': '/artists/55257/quickie',\n",
       " 'description': 'From Ramsay Midwood\\'s website: \"Ramsay Midwood is a miracle and a mystery. There is almost no usable information about him.\"\\r \\r It is known that he sings, he plays guitar, he resides in Austin, he has, on occasion, acted and/or played with The Gourds, and he\\'s big in Germany. <a href=\"http://www.last.fm/music/Ramsay+Midwood\" rel=\"nofollow\">Listen at Last.fm</a>',\n",
       " 'hometown': 'Austin, TX',\n",
       " 'popularity': 31.0,\n",
       " 'youtube_id': 'uad9NrjQAxw',\n",
       " 'spotify_id': '5JnyvYVewayggJNe8QRfGQ'}"
      ]
     },
     "execution_count": 26,
     "metadata": {},
     "output_type": "execute_result"
    }
   ],
   "source": [
    "import json\n",
    "json.loads(dumps(e_artist[1177][0]))#['popularity']"
   ]
  },
  {
   "cell_type": "code",
   "execution_count": 27,
   "metadata": {},
   "outputs": [],
   "source": [
    "#get artist_popularity\n",
    "p_art_avg=[]\n",
    "p_art_sum=[]\n",
    "p_art_max=[]\n",
    "for item in e_artist:\n",
    "    if len(item)==0:\n",
    "        p_art_sum+=[0]\n",
    "        p_art_avg+=[0]\n",
    "        p_art_max+=[0]\n",
    "    elif len(item)==1:\n",
    "        p_art_sum+=[json.loads(dumps(item))[0]['popularity']]\n",
    "        p_art_avg+=[json.loads(dumps(item))[0]['popularity']]\n",
    "        p_art_max+=[json.loads(dumps(item))[0]['popularity']]\n",
    "    else:\n",
    "        subsum=0\n",
    "        partmax=0\n",
    "        for sub in item:\n",
    "            part=json.loads(dumps(item))[0]['popularity']\n",
    "            subsum+=part\n",
    "            if part> partmax: partmax=part\n",
    "        p_art_sum+=[subsum]\n",
    "        p_art_avg+=[subsum/len(item)]\n",
    "        p_art_max+=[partmax]"
   ]
  },
  {
   "cell_type": "code",
   "execution_count": 28,
   "metadata": {},
   "outputs": [
    {
     "name": "stderr",
     "output_type": "stream",
     "text": [
      "C:\\Users\\z0043H7B\\AppData\\Local\\Continuum\\miniconda3\\lib\\site-packages\\ipykernel_launcher.py:2: SettingWithCopyWarning: \n",
      "A value is trying to be set on a copy of a slice from a DataFrame.\n",
      "Try using .loc[row_indexer,col_indexer] = value instead\n",
      "\n",
      "See the caveats in the documentation: http://pandas.pydata.org/pandas-docs/stable/indexing.html#indexing-view-versus-copy\n",
      "  \n",
      "C:\\Users\\z0043H7B\\AppData\\Local\\Continuum\\miniconda3\\lib\\site-packages\\ipykernel_launcher.py:3: SettingWithCopyWarning: \n",
      "A value is trying to be set on a copy of a slice from a DataFrame.\n",
      "Try using .loc[row_indexer,col_indexer] = value instead\n",
      "\n",
      "See the caveats in the documentation: http://pandas.pydata.org/pandas-docs/stable/indexing.html#indexing-view-versus-copy\n",
      "  This is separate from the ipykernel package so we can avoid doing imports until\n",
      "C:\\Users\\z0043H7B\\AppData\\Local\\Continuum\\miniconda3\\lib\\site-packages\\ipykernel_launcher.py:4: SettingWithCopyWarning: \n",
      "A value is trying to be set on a copy of a slice from a DataFrame.\n",
      "Try using .loc[row_indexer,col_indexer] = value instead\n",
      "\n",
      "See the caveats in the documentation: http://pandas.pydata.org/pandas-docs/stable/indexing.html#indexing-view-versus-copy\n",
      "  after removing the cwd from sys.path.\n"
     ]
    }
   ],
   "source": [
    "# place the artist popularity back to df\n",
    "ndf['artist.popularity.sum']=p_art_sum\n",
    "ndf['artist.popularity.avg']=p_art_avg\n",
    "ndf['artist.popularity.max']=p_art_max"
   ]
  },
  {
   "cell_type": "code",
   "execution_count": 33,
   "metadata": {},
   "outputs": [
    {
     "data": {
      "text/html": [
       "<div>\n",
       "<style scoped>\n",
       "    .dataframe tbody tr th:only-of-type {\n",
       "        vertical-align: middle;\n",
       "    }\n",
       "\n",
       "    .dataframe tbody tr th {\n",
       "        vertical-align: top;\n",
       "    }\n",
       "\n",
       "    .dataframe thead th {\n",
       "        text-align: right;\n",
       "    }\n",
       "</style>\n",
       "<table border=\"1\" class=\"dataframe\">\n",
       "  <thead>\n",
       "    <tr style=\"text-align: right;\">\n",
       "      <th></th>\n",
       "      <th>id</th>\n",
       "      <th>presented_by</th>\n",
       "      <th>title</th>\n",
       "      <th>category</th>\n",
       "      <th>begin_time</th>\n",
       "      <th>past</th>\n",
       "      <th>end_time</th>\n",
       "      <th>votes</th>\n",
       "      <th>is_eventbrite</th>\n",
       "      <th>amazon_affiliate</th>\n",
       "      <th>...</th>\n",
       "      <th>venue.zip</th>\n",
       "      <th>giveaway.action</th>\n",
       "      <th>giveaway.ask21</th>\n",
       "      <th>ticket_allages</th>\n",
       "      <th>ticket_price_low</th>\n",
       "      <th>ticket_price_max</th>\n",
       "      <th>min_age</th>\n",
       "      <th>artist.popularity.sum</th>\n",
       "      <th>artist.popularity.avg</th>\n",
       "      <th>artist.popularity.max</th>\n",
       "    </tr>\n",
       "  </thead>\n",
       "  <tbody>\n",
       "    <tr>\n",
       "      <th>28503</th>\n",
       "      <td>10193099</td>\n",
       "      <td>ONE-2-ONE BAR PRESENTS</td>\n",
       "      <td>The Texas Kgb (Kelly Green Band)</td>\n",
       "      <td>Music</td>\n",
       "      <td>2019-02-18T20:00:00-06:00</td>\n",
       "      <td>True</td>\n",
       "      <td>None</td>\n",
       "      <td>3</td>\n",
       "      <td>False</td>\n",
       "      <td>True</td>\n",
       "      <td>...</td>\n",
       "      <td>78704</td>\n",
       "      <td>None</td>\n",
       "      <td>NaN</td>\n",
       "      <td>False</td>\n",
       "      <td>10</td>\n",
       "      <td>NaN</td>\n",
       "      <td>21</td>\n",
       "      <td>10.0</td>\n",
       "      <td>10.0</td>\n",
       "      <td>10.0</td>\n",
       "    </tr>\n",
       "    <tr>\n",
       "      <th>28504</th>\n",
       "      <td>10355891</td>\n",
       "      <td></td>\n",
       "      <td>Anna Larson</td>\n",
       "      <td>Music</td>\n",
       "      <td>2019-02-18T21:30:00-06:00</td>\n",
       "      <td>True</td>\n",
       "      <td>None</td>\n",
       "      <td>1</td>\n",
       "      <td>False</td>\n",
       "      <td>True</td>\n",
       "      <td>...</td>\n",
       "      <td>78701</td>\n",
       "      <td>None</td>\n",
       "      <td>NaN</td>\n",
       "      <td>False</td>\n",
       "      <td>0</td>\n",
       "      <td>0.0</td>\n",
       "      <td>None</td>\n",
       "      <td>7.0</td>\n",
       "      <td>7.0</td>\n",
       "      <td>7.0</td>\n",
       "    </tr>\n",
       "    <tr>\n",
       "      <th>28505</th>\n",
       "      <td>10415703</td>\n",
       "      <td></td>\n",
       "      <td>Secret Levels, PoolBoi Blu, Anthony Miguel, an...</td>\n",
       "      <td>Music</td>\n",
       "      <td>2019-02-18T21:50:00-06:00</td>\n",
       "      <td>True</td>\n",
       "      <td>2019-02-19T01:00:00-06:00</td>\n",
       "      <td>2</td>\n",
       "      <td>False</td>\n",
       "      <td>True</td>\n",
       "      <td>...</td>\n",
       "      <td>78701</td>\n",
       "      <td>None</td>\n",
       "      <td>NaN</td>\n",
       "      <td>False</td>\n",
       "      <td>0</td>\n",
       "      <td>0.0</td>\n",
       "      <td>None</td>\n",
       "      <td>9.0</td>\n",
       "      <td>3.0</td>\n",
       "      <td>3.0</td>\n",
       "    </tr>\n",
       "    <tr>\n",
       "      <th>28506</th>\n",
       "      <td>10411421</td>\n",
       "      <td></td>\n",
       "      <td>President's Day Party</td>\n",
       "      <td>Music</td>\n",
       "      <td>2019-02-18T16:00:00-06:00</td>\n",
       "      <td>True</td>\n",
       "      <td>None</td>\n",
       "      <td>5</td>\n",
       "      <td>False</td>\n",
       "      <td>True</td>\n",
       "      <td>...</td>\n",
       "      <td></td>\n",
       "      <td>None</td>\n",
       "      <td>NaN</td>\n",
       "      <td>False</td>\n",
       "      <td>0</td>\n",
       "      <td>0.0</td>\n",
       "      <td>None</td>\n",
       "      <td>6.0</td>\n",
       "      <td>3.0</td>\n",
       "      <td>3.0</td>\n",
       "    </tr>\n",
       "    <tr>\n",
       "      <th>28507</th>\n",
       "      <td>10385427</td>\n",
       "      <td></td>\n",
       "      <td>The Bulb Story Slam</td>\n",
       "      <td>Comedy</td>\n",
       "      <td>2019-02-18T19:00:00-06:00</td>\n",
       "      <td>True</td>\n",
       "      <td>None</td>\n",
       "      <td>7</td>\n",
       "      <td>False</td>\n",
       "      <td>True</td>\n",
       "      <td>...</td>\n",
       "      <td>78702</td>\n",
       "      <td>None</td>\n",
       "      <td>NaN</td>\n",
       "      <td>False</td>\n",
       "      <td>5</td>\n",
       "      <td>20.0</td>\n",
       "      <td>None</td>\n",
       "      <td>0.0</td>\n",
       "      <td>0.0</td>\n",
       "      <td>0.0</td>\n",
       "    </tr>\n",
       "  </tbody>\n",
       "</table>\n",
       "<p>5 rows × 38 columns</p>\n",
       "</div>"
      ],
      "text/plain": [
       "             id            presented_by  \\\n",
       "28503  10193099  ONE-2-ONE BAR PRESENTS   \n",
       "28504  10355891                           \n",
       "28505  10415703                           \n",
       "28506  10411421                           \n",
       "28507  10385427                           \n",
       "\n",
       "                                                   title category  \\\n",
       "28503                   The Texas Kgb (Kelly Green Band)   Music    \n",
       "28504                                       Anna Larson    Music    \n",
       "28505  Secret Levels, PoolBoi Blu, Anthony Miguel, an...   Music    \n",
       "28506                              President's Day Party   Music    \n",
       "28507                               The Bulb Story Slam    Comedy   \n",
       "\n",
       "                      begin_time  past                   end_time  votes  \\\n",
       "28503  2019-02-18T20:00:00-06:00  True                       None      3   \n",
       "28504  2019-02-18T21:30:00-06:00  True                       None      1   \n",
       "28505  2019-02-18T21:50:00-06:00  True  2019-02-19T01:00:00-06:00      2   \n",
       "28506  2019-02-18T16:00:00-06:00  True                       None      5   \n",
       "28507  2019-02-18T19:00:00-06:00  True                       None      7   \n",
       "\n",
       "       is_eventbrite  amazon_affiliate  ... venue.zip  giveaway.action  \\\n",
       "28503          False              True  ...     78704             None   \n",
       "28504          False              True  ...     78701             None   \n",
       "28505          False              True  ...     78701             None   \n",
       "28506          False              True  ...                       None   \n",
       "28507          False              True  ...     78702             None   \n",
       "\n",
       "      giveaway.ask21  ticket_allages  ticket_price_low  ticket_price_max  \\\n",
       "28503            NaN           False                10               NaN   \n",
       "28504            NaN           False                 0               0.0   \n",
       "28505            NaN           False                 0               0.0   \n",
       "28506            NaN           False                 0               0.0   \n",
       "28507            NaN           False                 5              20.0   \n",
       "\n",
       "       min_age artist.popularity.sum  artist.popularity.avg  \\\n",
       "28503       21                  10.0                   10.0   \n",
       "28504     None                   7.0                    7.0   \n",
       "28505     None                   9.0                    3.0   \n",
       "28506     None                   6.0                    3.0   \n",
       "28507     None                   0.0                    0.0   \n",
       "\n",
       "       artist.popularity.max  \n",
       "28503                   10.0  \n",
       "28504                    7.0  \n",
       "28505                    3.0  \n",
       "28506                    3.0  \n",
       "28507                    0.0  \n",
       "\n",
       "[5 rows x 38 columns]"
      ]
     },
     "execution_count": 33,
     "metadata": {},
     "output_type": "execute_result"
    }
   ],
   "source": [
    "ndf.tail()"
   ]
  },
  {
   "cell_type": "code",
   "execution_count": 31,
   "metadata": {
    "collapsed": true,
    "jupyter": {
     "outputs_hidden": true
    }
   },
   "outputs": [
    {
     "name": "stdout",
     "output_type": "stream",
     "text": [
      "<class 'pandas.core.frame.DataFrame'>\n",
      "RangeIndex: 28508 entries, 0 to 28507\n",
      "Data columns (total 38 columns):\n",
      "id                       28508 non-null int64\n",
      "presented_by             23999 non-null object\n",
      "title                    28508 non-null object\n",
      "category                 28508 non-null object\n",
      "begin_time               28508 non-null object\n",
      "past                     28508 non-null bool\n",
      "end_time                 12697 non-null object\n",
      "votes                    28508 non-null int64\n",
      "is_eventbrite            28508 non-null bool\n",
      "amazon_affiliate         28508 non-null bool\n",
      "eventbrite_id            1294 non-null object\n",
      "is_free                  28508 non-null bool\n",
      "rating                   0 non-null object\n",
      "doors                    28508 non-null bool\n",
      "popularity               28508 non-null float64\n",
      "sold_out                 28508 non-null bool\n",
      "favorite                 28508 non-null bool\n",
      "artists                  28508 non-null object\n",
      "rsvp                     28146 non-null float32\n",
      "eager                    28508 non-null bool\n",
      "venue.id                 28508 non-null int64\n",
      "venue.title              28508 non-null object\n",
      "venue.latitude           23460 non-null float64\n",
      "venue.longitude          23460 non-null float64\n",
      "venue.popularity         28508 non-null float64\n",
      "venue.address            27714 non-null object\n",
      "venue.city               27773 non-null object\n",
      "venue.state              27773 non-null object\n",
      "venue.zip                27714 non-null object\n",
      "giveaway.action          4 non-null object\n",
      "giveaway.ask21           4 non-null float32\n",
      "ticket_allages           28508 non-null bool\n",
      "ticket_price_low         28508 non-null object\n",
      "ticket_price_max         23673 non-null float64\n",
      "min_age                  3414 non-null object\n",
      "artist.popularity.sum    28508 non-null float64\n",
      "artist.popularity.avg    28508 non-null float64\n",
      "artist.popularity.max    28508 non-null float64\n",
      "dtypes: bool(9), float32(2), float64(8), int64(3), object(16)\n",
      "memory usage: 6.3+ MB\n"
     ]
    }
   ],
   "source": [
    "ndf.info()"
   ]
  },
  {
   "cell_type": "code",
   "execution_count": 38,
   "metadata": {},
   "outputs": [],
   "source": [
    "ndf.to_csv('28508_proc_ticket_free.csv')"
   ]
  },
  {
   "cell_type": "code",
   "execution_count": 32,
   "metadata": {
    "collapsed": true,
    "jupyter": {
     "outputs_hidden": true
    }
   },
   "outputs": [
    {
     "ename": "ValueError",
     "evalue": "Can't infer object conversion type: 0     0\n1     0\n2     0\n3     0\n4    10\n5     0\n6     0\n7    10\n8    16\n9     8\nName: ticket_price_low, dtype: object",
     "output_type": "error",
     "traceback": [
      "\u001b[1;31m---------------------------------------------------------------------------\u001b[0m",
      "\u001b[1;31mValueError\u001b[0m                                Traceback (most recent call last)",
      "\u001b[1;32m<ipython-input-32-f99c60d36ad7>\u001b[0m in \u001b[0;36m<module>\u001b[1;34m\u001b[0m\n\u001b[0;32m      1\u001b[0m \u001b[1;31m# save out to tables\u001b[0m\u001b[1;33m\u001b[0m\u001b[1;33m\u001b[0m\u001b[1;33m\u001b[0m\u001b[0m\n\u001b[0;32m      2\u001b[0m \u001b[1;32mfrom\u001b[0m \u001b[0mfastparquet\u001b[0m \u001b[1;32mimport\u001b[0m \u001b[0mwrite\u001b[0m\u001b[1;33m\u001b[0m\u001b[1;33m\u001b[0m\u001b[0m\n\u001b[1;32m----> 3\u001b[1;33m \u001b[0mwrite\u001b[0m\u001b[1;33m(\u001b[0m\u001b[1;34m'fullevents_processed_part.parq'\u001b[0m\u001b[1;33m,\u001b[0m\u001b[0mndf\u001b[0m\u001b[1;33m)\u001b[0m\u001b[1;33m\u001b[0m\u001b[1;33m\u001b[0m\u001b[0m\n\u001b[0m",
      "\u001b[1;32m~\\AppData\\Local\\Continuum\\miniconda3\\lib\\site-packages\\fastparquet\\writer.py\u001b[0m in \u001b[0;36mwrite\u001b[1;34m(filename, data, row_group_offsets, compression, file_scheme, open_with, mkdirs, has_nulls, write_index, partition_on, fixed_text, append, object_encoding, times)\u001b[0m\n\u001b[0;32m    860\u001b[0m     fmd = make_metadata(data, has_nulls=has_nulls, ignore_columns=ignore,\n\u001b[0;32m    861\u001b[0m                         \u001b[0mfixed_text\u001b[0m\u001b[1;33m=\u001b[0m\u001b[0mfixed_text\u001b[0m\u001b[1;33m,\u001b[0m \u001b[0mobject_encoding\u001b[0m\u001b[1;33m=\u001b[0m\u001b[0mobject_encoding\u001b[0m\u001b[1;33m,\u001b[0m\u001b[1;33m\u001b[0m\u001b[1;33m\u001b[0m\u001b[0m\n\u001b[1;32m--> 862\u001b[1;33m                         times=times, index_cols=index_cols)\n\u001b[0m\u001b[0;32m    863\u001b[0m \u001b[1;33m\u001b[0m\u001b[0m\n\u001b[0;32m    864\u001b[0m     \u001b[1;32mif\u001b[0m \u001b[0mfile_scheme\u001b[0m \u001b[1;33m==\u001b[0m \u001b[1;34m'simple'\u001b[0m\u001b[1;33m:\u001b[0m\u001b[1;33m\u001b[0m\u001b[1;33m\u001b[0m\u001b[0m\n",
      "\u001b[1;32m~\\AppData\\Local\\Continuum\\miniconda3\\lib\\site-packages\\fastparquet\\writer.py\u001b[0m in \u001b[0;36mmake_metadata\u001b[1;34m(data, has_nulls, ignore_columns, fixed_text, object_encoding, times, index_cols)\u001b[0m\n\u001b[0;32m    690\u001b[0m         \u001b[1;32melse\u001b[0m\u001b[1;33m:\u001b[0m\u001b[1;33m\u001b[0m\u001b[1;33m\u001b[0m\u001b[0m\n\u001b[0;32m    691\u001b[0m             se, type = find_type(data[column], fixed_text=fixed,\n\u001b[1;32m--> 692\u001b[1;33m                                  object_encoding=oencoding, times=times)\n\u001b[0m\u001b[0;32m    693\u001b[0m         \u001b[0mcol_has_nulls\u001b[0m \u001b[1;33m=\u001b[0m \u001b[0mhas_nulls\u001b[0m\u001b[1;33m\u001b[0m\u001b[1;33m\u001b[0m\u001b[0m\n\u001b[0;32m    694\u001b[0m         \u001b[1;32mif\u001b[0m \u001b[0mhas_nulls\u001b[0m \u001b[1;32mis\u001b[0m \u001b[1;32mNone\u001b[0m\u001b[1;33m:\u001b[0m\u001b[1;33m\u001b[0m\u001b[1;33m\u001b[0m\u001b[0m\n",
      "\u001b[1;32m~\\AppData\\Local\\Continuum\\miniconda3\\lib\\site-packages\\fastparquet\\writer.py\u001b[0m in \u001b[0;36mfind_type\u001b[1;34m(data, fixed_text, object_encoding, times)\u001b[0m\n\u001b[0;32m     93\u001b[0m     \u001b[1;32melif\u001b[0m \u001b[0mdtype\u001b[0m \u001b[1;33m==\u001b[0m \u001b[1;34m\"O\"\u001b[0m\u001b[1;33m:\u001b[0m\u001b[1;33m\u001b[0m\u001b[1;33m\u001b[0m\u001b[0m\n\u001b[0;32m     94\u001b[0m         \u001b[1;32mif\u001b[0m \u001b[0mobject_encoding\u001b[0m \u001b[1;33m==\u001b[0m \u001b[1;34m'infer'\u001b[0m\u001b[1;33m:\u001b[0m\u001b[1;33m\u001b[0m\u001b[1;33m\u001b[0m\u001b[0m\n\u001b[1;32m---> 95\u001b[1;33m             \u001b[0mobject_encoding\u001b[0m \u001b[1;33m=\u001b[0m \u001b[0minfer_object_encoding\u001b[0m\u001b[1;33m(\u001b[0m\u001b[0mdata\u001b[0m\u001b[1;33m)\u001b[0m\u001b[1;33m\u001b[0m\u001b[1;33m\u001b[0m\u001b[0m\n\u001b[0m\u001b[0;32m     96\u001b[0m \u001b[1;33m\u001b[0m\u001b[0m\n\u001b[0;32m     97\u001b[0m         \u001b[1;32mif\u001b[0m \u001b[0mobject_encoding\u001b[0m \u001b[1;33m==\u001b[0m \u001b[1;34m'utf8'\u001b[0m\u001b[1;33m:\u001b[0m\u001b[1;33m\u001b[0m\u001b[1;33m\u001b[0m\u001b[0m\n",
      "\u001b[1;32m~\\AppData\\Local\\Continuum\\miniconda3\\lib\\site-packages\\fastparquet\\writer.py\u001b[0m in \u001b[0;36minfer_object_encoding\u001b[1;34m(data)\u001b[0m\n\u001b[0;32m    236\u001b[0m         \u001b[1;32mreturn\u001b[0m \u001b[1;34m'float'\u001b[0m\u001b[1;33m\u001b[0m\u001b[1;33m\u001b[0m\u001b[0m\n\u001b[0;32m    237\u001b[0m     \u001b[1;32melse\u001b[0m\u001b[1;33m:\u001b[0m\u001b[1;33m\u001b[0m\u001b[1;33m\u001b[0m\u001b[0m\n\u001b[1;32m--> 238\u001b[1;33m         \u001b[1;32mraise\u001b[0m \u001b[0mValueError\u001b[0m\u001b[1;33m(\u001b[0m\u001b[1;34m\"Can't infer object conversion type: %s\"\u001b[0m \u001b[1;33m%\u001b[0m \u001b[0mhead\u001b[0m\u001b[1;33m)\u001b[0m\u001b[1;33m\u001b[0m\u001b[1;33m\u001b[0m\u001b[0m\n\u001b[0m\u001b[0;32m    239\u001b[0m \u001b[1;33m\u001b[0m\u001b[0m\n\u001b[0;32m    240\u001b[0m \u001b[1;33m\u001b[0m\u001b[0m\n",
      "\u001b[1;31mValueError\u001b[0m: Can't infer object conversion type: 0     0\n1     0\n2     0\n3     0\n4    10\n5     0\n6     0\n7    10\n8    16\n9     8\nName: ticket_price_low, dtype: object"
     ]
    }
   ],
   "source": [
    "# save out to tables\n",
    "from fastparquet import write\n",
    "write('fullevents_processed_part.parq',ndf)"
   ]
  },
  {
   "cell_type": "code",
   "execution_count": 34,
   "metadata": {},
   "outputs": [
    {
     "data": {
      "text/html": [
       "<div>\n",
       "<style scoped>\n",
       "    .dataframe tbody tr th:only-of-type {\n",
       "        vertical-align: middle;\n",
       "    }\n",
       "\n",
       "    .dataframe tbody tr th {\n",
       "        vertical-align: top;\n",
       "    }\n",
       "\n",
       "    .dataframe thead th {\n",
       "        text-align: right;\n",
       "    }\n",
       "</style>\n",
       "<table border=\"1\" class=\"dataframe\">\n",
       "  <thead>\n",
       "    <tr style=\"text-align: right;\">\n",
       "      <th></th>\n",
       "      <th>id</th>\n",
       "      <th>presented_by</th>\n",
       "      <th>title</th>\n",
       "      <th>category</th>\n",
       "      <th>begin_time</th>\n",
       "      <th>past</th>\n",
       "      <th>end_time</th>\n",
       "      <th>votes</th>\n",
       "      <th>ticket_info</th>\n",
       "      <th>is_eventbrite</th>\n",
       "      <th>...</th>\n",
       "      <th>venue.longitude</th>\n",
       "      <th>venue.popularity</th>\n",
       "      <th>venue.address</th>\n",
       "      <th>venue.city</th>\n",
       "      <th>venue.state</th>\n",
       "      <th>venue.zip</th>\n",
       "      <th>ticket_allages</th>\n",
       "      <th>min_age</th>\n",
       "      <th>ticket_price_low</th>\n",
       "      <th>ticket_price_max</th>\n",
       "    </tr>\n",
       "  </thead>\n",
       "  <tbody>\n",
       "    <tr>\n",
       "      <th>0</th>\n",
       "      <td>11049447</td>\n",
       "      <td>Official 2019 ACL Fest Late Night Show:</td>\n",
       "      <td>Gary Clark Jr</td>\n",
       "      <td>Music</td>\n",
       "      <td>2019-10-03T19:00:00-05:00</td>\n",
       "      <td>False</td>\n",
       "      <td>None</td>\n",
       "      <td>784</td>\n",
       "      <td>All Ages</td>\n",
       "      <td>False</td>\n",
       "      <td>...</td>\n",
       "      <td>-97.736175</td>\n",
       "      <td>15.0</td>\n",
       "      <td>801 Red River</td>\n",
       "      <td>Austin</td>\n",
       "      <td>TX</td>\n",
       "      <td>78701</td>\n",
       "      <td>True</td>\n",
       "      <td>NaN</td>\n",
       "      <td>NaN</td>\n",
       "      <td>NaN</td>\n",
       "    </tr>\n",
       "    <tr>\n",
       "      <th>1</th>\n",
       "      <td>11049456</td>\n",
       "      <td>Official 2019 ACL Fest Late Night Show:</td>\n",
       "      <td>Hippie Sabotage w/ Sebastian Paul</td>\n",
       "      <td>Music</td>\n",
       "      <td>2019-10-03T20:00:00-05:00</td>\n",
       "      <td>False</td>\n",
       "      <td>None</td>\n",
       "      <td>223</td>\n",
       "      <td>18+</td>\n",
       "      <td>False</td>\n",
       "      <td>...</td>\n",
       "      <td>-97.728516</td>\n",
       "      <td>15.0</td>\n",
       "      <td>2015 E. Riverside Dr.</td>\n",
       "      <td>Austin</td>\n",
       "      <td>TX</td>\n",
       "      <td>78741</td>\n",
       "      <td>NaN</td>\n",
       "      <td>18.0</td>\n",
       "      <td>NaN</td>\n",
       "      <td>NaN</td>\n",
       "    </tr>\n",
       "    <tr>\n",
       "      <th>2</th>\n",
       "      <td>11049430</td>\n",
       "      <td>Official 2019 ACL Fest Late Night Show:</td>\n",
       "      <td>FIDLAR w/ XETAS</td>\n",
       "      <td>Music</td>\n",
       "      <td>2019-10-03T18:30:00-05:00</td>\n",
       "      <td>False</td>\n",
       "      <td>None</td>\n",
       "      <td>163</td>\n",
       "      <td>All Ages</td>\n",
       "      <td>False</td>\n",
       "      <td>...</td>\n",
       "      <td>-97.729385</td>\n",
       "      <td>15.0</td>\n",
       "      <td>1308 E. Fourth</td>\n",
       "      <td>Austin</td>\n",
       "      <td>TX</td>\n",
       "      <td>78702</td>\n",
       "      <td>True</td>\n",
       "      <td>NaN</td>\n",
       "      <td>NaN</td>\n",
       "      <td>NaN</td>\n",
       "    </tr>\n",
       "    <tr>\n",
       "      <th>3</th>\n",
       "      <td>11186444</td>\n",
       "      <td>Misfits Comedy Presents</td>\n",
       "      <td>That Joke's New! Comedy Open-Mic</td>\n",
       "      <td>Comedy</td>\n",
       "      <td>2019-10-03T20:00:00-05:00</td>\n",
       "      <td>False</td>\n",
       "      <td>None</td>\n",
       "      <td>151</td>\n",
       "      <td>Free</td>\n",
       "      <td>False</td>\n",
       "      <td>...</td>\n",
       "      <td>NaN</td>\n",
       "      <td>1.0</td>\n",
       "      <td>1905 Aldrich St.</td>\n",
       "      <td>Austin</td>\n",
       "      <td>TX</td>\n",
       "      <td></td>\n",
       "      <td>NaN</td>\n",
       "      <td>NaN</td>\n",
       "      <td>NaN</td>\n",
       "      <td>NaN</td>\n",
       "    </tr>\n",
       "    <tr>\n",
       "      <th>4</th>\n",
       "      <td>11141496</td>\n",
       "      <td></td>\n",
       "      <td>Hear Me Bitch 90’s Birthday Bash Comedy Show</td>\n",
       "      <td>Comedy</td>\n",
       "      <td>2019-10-03T19:30:00-05:00</td>\n",
       "      <td>False</td>\n",
       "      <td>None</td>\n",
       "      <td>126</td>\n",
       "      <td>$10 adv / $12 Door</td>\n",
       "      <td>True</td>\n",
       "      <td>...</td>\n",
       "      <td>-97.745230</td>\n",
       "      <td>1.0</td>\n",
       "      <td>616 Lavaca St</td>\n",
       "      <td>Austin</td>\n",
       "      <td>TX</td>\n",
       "      <td>78701</td>\n",
       "      <td>NaN</td>\n",
       "      <td>NaN</td>\n",
       "      <td>10.0</td>\n",
       "      <td>12.0</td>\n",
       "    </tr>\n",
       "  </tbody>\n",
       "</table>\n",
       "<p>5 rows × 29 columns</p>\n",
       "</div>"
      ],
      "text/plain": [
       "         id                             presented_by  \\\n",
       "0  11049447  Official 2019 ACL Fest Late Night Show:   \n",
       "1  11049456  Official 2019 ACL Fest Late Night Show:   \n",
       "2  11049430  Official 2019 ACL Fest Late Night Show:   \n",
       "3  11186444                  Misfits Comedy Presents   \n",
       "4  11141496                                            \n",
       "\n",
       "                                           title category  \\\n",
       "0                                  Gary Clark Jr   Music    \n",
       "1              Hippie Sabotage w/ Sebastian Paul   Music    \n",
       "2                                FIDLAR w/ XETAS   Music    \n",
       "3               That Joke's New! Comedy Open-Mic   Comedy   \n",
       "4  Hear Me Bitch 90’s Birthday Bash Comedy Show    Comedy   \n",
       "\n",
       "                  begin_time   past end_time  votes         ticket_info  \\\n",
       "0  2019-10-03T19:00:00-05:00  False     None    784            All Ages   \n",
       "1  2019-10-03T20:00:00-05:00  False     None    223                 18+   \n",
       "2  2019-10-03T18:30:00-05:00  False     None    163            All Ages   \n",
       "3  2019-10-03T20:00:00-05:00  False     None    151                Free   \n",
       "4  2019-10-03T19:30:00-05:00  False     None    126  $10 adv / $12 Door   \n",
       "\n",
       "   is_eventbrite  ... venue.longitude  venue.popularity  \\\n",
       "0          False  ...      -97.736175              15.0   \n",
       "1          False  ...      -97.728516              15.0   \n",
       "2          False  ...      -97.729385              15.0   \n",
       "3          False  ...             NaN               1.0   \n",
       "4           True  ...      -97.745230               1.0   \n",
       "\n",
       "           venue.address  venue.city  venue.state venue.zip  ticket_allages  \\\n",
       "0          801 Red River      Austin           TX     78701            True   \n",
       "1  2015 E. Riverside Dr.      Austin           TX     78741             NaN   \n",
       "2         1308 E. Fourth      Austin           TX     78702            True   \n",
       "3       1905 Aldrich St.      Austin           TX                       NaN   \n",
       "4          616 Lavaca St      Austin           TX     78701             NaN   \n",
       "\n",
       "  min_age  ticket_price_low  ticket_price_max  \n",
       "0     NaN               NaN               NaN  \n",
       "1    18.0               NaN               NaN  \n",
       "2     NaN               NaN               NaN  \n",
       "3     NaN               NaN               NaN  \n",
       "4     NaN              10.0              12.0  \n",
       "\n",
       "[5 rows x 29 columns]"
      ]
     },
     "execution_count": 34,
     "metadata": {},
     "output_type": "execute_result"
    }
   ],
   "source": [
    "ndf.head()"
   ]
  },
  {
   "cell_type": "code",
   "execution_count": 227,
   "metadata": {
    "collapsed": true,
    "jupyter": {
     "outputs_hidden": true
    }
   },
   "outputs": [
    {
     "data": {
      "text/plain": [
       "array(['All Ages', 'All Ages ', '', '$5', '$22-$25', '$6 / All Ages',\n",
       "       '$10 / 21+ ', '21+ ', 'Donate ', '21+',\n",
       "       'Free / All-Ages / Fueled by Lagunitas!', 'Free',\n",
       "       '$10.00 - $15.00', '18+', '21+ No Cover', '$12-$15 / 21+ ', '$250',\n",
       "       '$11.25', 'Free, Open to the Public', '$ 9.00',\n",
       "       \"$25 / person (Free for all players participating in COVER 3's 2019 Invitational Golf Classic)\",\n",
       "       '$35 with code YAYAMY', '$10',\n",
       "       'Tasting Glass w/ Four Pours $9-$20', '$20.00 - $23.00', '$150',\n",
       "       'Free and All Ages', '$8/ADV $10/DOOR', '21+ / $5 Cover', '$265 ',\n",
       "       '$25', '$125', '$12, 18+', 'No Cover, 21+', '$35', '$30', '$20',\n",
       "       '$125 21+', '$58', '6 weeks for $150, Adults', '$50', '$3',\n",
       "       'ALL AGES', '$3 / 21+', '$30-$50', '$14.99 / All Ages ',\n",
       "       'No Cover | 21+', '21+ Free / $5 Cover for Minors ', 'Free! RSVP',\n",
       "       '$5 online / $7 door | BYOB ', 'All Ages / $7-$10 ',\n",
       "       'Free | All Ages', 'Free / 21+', '$8 ', '$5-$8', '$15', '$ 11.25',\n",
       "       '$5 / 21+',\n",
       "       '21 + Only, Early Bird $45 Per Person, After Oct. 1st $55 Per Person',\n",
       "       '$10/ 21+', '$7 Cover ', 'FREE', '$5-$10', '$59.54', '$10 – $40',\n",
       "       'Enter To Win Spots', '$16-$18 | All Ages',\n",
       "       '$5 / Free for Service Industry ', '$29.50-$30', '$15 ',\n",
       "       'Free / 21+ ', '$40 (18 years & Older)', '$10 ', 'All AGes',\n",
       "       '21+, $10', '$350', '$5/ 21+', '$45 ',\n",
       "       '$15/GA ADV $10/STUDENT ADV', '$950 ', '$40',\n",
       "       '$255 3-Day GA / $425 3-Day GA+ / $1200 VIP / $3600 Platinum',\n",
       "       '$12 (18+)', '$10 at the door', 'Adult: $15 ; Child: $10',\n",
       "       'Suggested $10 donation',\n",
       "       '$9.95 Kids 10 & Under / $22.95 No Band View / $26.95 View of Band | All Ages',\n",
       "       '$12-$15 / All Ages', '21+ / $30 Per team', '$5 Door',\n",
       "       '$10, 21 and over', 'Free! (Ages 18 & Older)',\n",
       "       'Free entry 21+, $5 entry fee for minors', '$7 | 21+ ', '10',\n",
       "       '$30 with Promo Code: YAYAUSTIN', '$9.00', 'No Cover ', '$12',\n",
       "       'Engaged Brides & Couples: Free / Text to RSVP ', '$105',\n",
       "       '$10 per person  (kids 12 and under free)', '$20, All Ages',\n",
       "       '$10, 21+', 'Free ', '$7.00 - $10.00', '18+ / $8 ',\n",
       "       '$10-$15 / 18+ ', '$22', 'All Ages | Starting at $29.50 ',\n",
       "       '$5, 21+', '18+ ', '$25 Adv / $35 Door', 'No Cover / All Ages',\n",
       "       '$90 (18 years & Older)', '18+ / $12 – $22', '$10-$15/ 21+',\n",
       "       'All Ages / Free', '20', '$12-$15', 'All Ages Welcome',\n",
       "       'FREE, All Ages', 'Free / $5 Donation', '$33-$35', 'Adults Only',\n",
       "       '$50, ages 6-12', '$5 After 9', '$12 ', 'Free, all ages', '$85',\n",
       "       '$12 Adv / $15 Door ', '$25 GA & $32.50 Priority Seating', '$65',\n",
       "       'All Ages!', '$100+', '$15 / $20 Door', '55', '$110 per pair',\n",
       "       '$35 for members, $45 non-members', 'Free w/ RSVP',\n",
       "       'Free, All Ages', '$10 | 18+',\n",
       "       '$17 Advance / $20 Day of Show (All Ages)', 'LOTTERY DRAWING',\n",
       "       '$10 - $15 ', 'All Ages / $10 or $12 Day of Show',\n",
       "       '$10-$12 | All Ages', 'Free / $5 Minor Surcharge ',\n",
       "       '$10 adv / $15 day of online / $20 Door | 18+', '18+ / $10 ',\n",
       "       '18+/ $12-$20', '$7.00 - $10.00 / All Ages', '$10 / 21+',\n",
       "       '$5 cover', 'All Ages / No Cover',\n",
       "       'Free- Donations are appreciated ', '21+ / $10-$15',\n",
       "       '$8 | FREE BEER', '$10, 18+', '$20 ',\n",
       "       '$5 presale/ @ the door $10/ 21 +',\n",
       "       'This is event is free and open to the public!', '$5 after 8',\n",
       "       'free', '$8/$10 || Ages 21+', '$20.00',\n",
       "       '$15 Per Person | $12 Per Person For SUPs ',\n",
       "       'FREE ($5 Donation Encouraged)', '$30 with Promo Code:Y AYAUSTIN',\n",
       "       '$55', '$22 ', '$10 - $20', '$25 | 21+', '21 and Up',\n",
       "       '18+ ($5 Minor Surcharge)', '$7 / 21+', 'FREE with RSVP',\n",
       "       '$10 / 18+ ', '$10-$13 | All Ages', '18+ / $28 GA, $55 VIP',\n",
       "       'General Admission $20 (Option to donate whatever you can!); Students $10',\n",
       "       '$20 - $160, 18+', 'FREE!!!', 'Free Open To All Ages',\n",
       "       'No Cover, Ages 21+', '$5 door charge under 21, 21+ free w/RSVP',\n",
       "       '$20, $17 students, VIP $35 ', '21+ | No Cover', 'FREE, ALL AGES',\n",
       "       '$15-$18', 'Free with Museum Admission', '21+  //  $!2',\n",
       "       '$20/$15 Pre-Sale, All Ages', 'Free - All Ages',\n",
       "       '18+ Preferred, Not Required', '$30 with Promo Code: YAYAustin',\n",
       "       '$10-$40', 'FREE | 21+', '$6 ', '$54',\n",
       "       'General Admission $8, Members $5', 'Free and Open to All',\n",
       "       '$5 after 9', 'No Cover / 21+', '$15-$40 | All Ages', '$35-$49.75',\n",
       "       '21+ / Free', 'No Cover / 21+ ', 'All Ages / $7-$10',\n",
       "       'FREE and All Ages', '$18 ', '21+ / $10 ', '$20-$25 | All Ages',\n",
       "       '21+ Preferred', 'General Admission: $10 / Members: $5',\n",
       "       '$7/ADV $10/DOOR', '$60', '$70',\n",
       "       'Free for AIGA Members / $5 For non-members',\n",
       "       'All Ages / $5 Cash Minor Surcharge / $18 ', 'No Cover', '$7',\n",
       "       '$8', 'RSVP For Free / VIP Guaranteed Entry', 'Free As A Guest',\n",
       "       'Donation Based', '$110', '$7 Cover', '$69', '$19.99', '$39 ',\n",
       "       '$63', '$89-$165', '$20 | 21+', '$5 / Free for service industry',\n",
       "       '$18-$20', '$7/ 21+', '$7 / 21+ ', 'Free / T-Shirts $10',\n",
       "       'Free / First come First Serve', '$72', 'Free, 21+',\n",
       "       'Call For Reservation', '$39.50 - $119',\n",
       "       '$3 Suggested Donation / 21+', '$8-$10 / All Ages ', 'all ages',\n",
       "       '$25.00 - $75.00', 'RSVP',\n",
       "       'General Admission - $20, Student, Senior, Military, First Responder - $15',\n",
       "       'Ages 18+', '$45', '$7.00', 'All Ages! $25 ', '$25 / 21+ ',\n",
       "       '$15 for students, $21 for UT Austin faculty/staff, $26 for adults',\n",
       "       '$16.50-$25 (+18)', '$14-$85 | All Ages ($5 Minor Surcharge)',\n",
       "       'No cover! 21+ only.', 'Donation Based/ 21+', 'All Ages / $6 ',\n",
       "       '$5 ', 'Free Admission', '$30-$125 / All Ages ', '$.99 Cents',\n",
       "       '$12.75 - $17', 'Starting at $29 ', '$10 Cover', '$5 cover, 21+',\n",
       "       '$10-$25', '$15-$50', 'Free, Family Friendly',\n",
       "       'Come enjoy homemade German food and a selection of Fall beers!',\n",
       "       '$49', '$5 ADULT / $3 CHILD', '$10/ADV $12/DOOR',\n",
       "       '$49 for members $109 for nonmembers', '$25 ', '$30/ADV $35/DOOR',\n",
       "       '$8-$40', '$25 for all ', '$75', 'No Cover, All Ages',\n",
       "       '$15 for students, $21 for UT faculty/staff, $26 for adults',\n",
       "       '$10-$40 (All Ages)', '$30-$33', '$10 / All Ages ', '$0-$15/ 18+',\n",
       "       '$6 ADV $8 DOS / 18+ ($5 minor surcharge) ', '$10 Cover / 21+',\n",
       "       '$10-$13, Ages 21+', '$40-$30 | VIP $125',\n",
       "       'This event is free and open to the public!', '$18-$21',\n",
       "       '$5 Cover', '$10 off with Promo Code: YAYKDS10, 13+ Event', '$199',\n",
       "       '21+ Free', 'Gala Ticket - $250 | Table Sponsor - $2500',\n",
       "       '$10 in advance, $15 at door. Kids 12 and under are free'],\n",
       "      dtype=object)"
      ]
     },
     "execution_count": 227,
     "metadata": {},
     "output_type": "execute_result"
    }
   ],
   "source": [
    "ndf.ticket_info.unique()"
   ]
  },
  {
   "cell_type": "code",
   "execution_count": 293,
   "metadata": {},
   "outputs": [],
   "source": [
    "ndf.drop('ticket_info', axis=1, inplace=True)"
   ]
  },
  {
   "cell_type": "code",
   "execution_count": 255,
   "metadata": {},
   "outputs": [
    {
     "name": "stderr",
     "output_type": "stream",
     "text": [
      "C:\\Users\\z0043H7B\\AppData\\Local\\Continuum\\miniconda3\\lib\\site-packages\\pandas\\core\\generic.py:6130: SettingWithCopyWarning: \n",
      "A value is trying to be set on a copy of a slice from a DataFrame\n",
      "\n",
      "See the caveats in the documentation: http://pandas.pydata.org/pandas-docs/stable/indexing.html#indexing-view-versus-copy\n",
      "  self._update_inplace(new_data)\n"
     ]
    }
   ],
   "source": [
    "ndf['venue.latitude'].fillna(0,inplace=True)\n",
    "ndf['venue.longitude'].fillna(0,inplace=True)"
   ]
  },
  {
   "cell_type": "code",
   "execution_count": 257,
   "metadata": {},
   "outputs": [],
   "source": [
    "ndf['venue.address'].fillna(\"unknown\",inplace=True)\n",
    "ndf['venue.zip'].fillna(0,inplace=True)"
   ]
  },
  {
   "cell_type": "code",
   "execution_count": 289,
   "metadata": {},
   "outputs": [],
   "source": [
    "aa=[ x[0:5] if x!=0 else x for x in ndf['venue.zip'].values]\n",
    "p=[ int(x) if x!='' else 0 for x in aa]"
   ]
  },
  {
   "cell_type": "code",
   "execution_count": 291,
   "metadata": {},
   "outputs": [
    {
     "name": "stderr",
     "output_type": "stream",
     "text": [
      "C:\\Users\\z0043H7B\\AppData\\Local\\Continuum\\miniconda3\\lib\\site-packages\\ipykernel_launcher.py:1: SettingWithCopyWarning: \n",
      "A value is trying to be set on a copy of a slice from a DataFrame.\n",
      "Try using .loc[row_indexer,col_indexer] = value instead\n",
      "\n",
      "See the caveats in the documentation: http://pandas.pydata.org/pandas-docs/stable/indexing.html#indexing-view-versus-copy\n",
      "  \"\"\"Entry point for launching an IPython kernel.\n"
     ]
    }
   ],
   "source": [
    "ndf['venue.zip']=p"
   ]
  },
  {
   "cell_type": "code",
   "execution_count": 320,
   "metadata": {},
   "outputs": [],
   "source": [
    "bands=ndf.presented_by.values"
   ]
  },
  {
   "cell_type": "code",
   "execution_count": 321,
   "metadata": {},
   "outputs": [
    {
     "data": {
      "text/plain": [
       "array(['Gay.Do512 & C3 Present', 'C3 Presents', \"Barrel O'Fun Presents \",\n",
       "       ..., 'Mike Webley Presents', '', ''], dtype=object)"
      ]
     },
     "execution_count": 321,
     "metadata": {},
     "output_type": "execute_result"
    }
   ],
   "source": [
    "bands"
   ]
  },
  {
   "cell_type": "code",
   "execution_count": 374,
   "metadata": {},
   "outputs": [],
   "source": [
    "# parse the presented_by column and then use the mininum string\n",
    "nbands=[]\n",
    "for item in bands:\n",
    "    k=item\n",
    "    if (item!='') and (type(item)!=type(None)):nbands+=[item.lower().split('present')[0]]\n",
    "    else: nbands+=[None]"
   ]
  },
  {
   "cell_type": "code",
   "execution_count": 375,
   "metadata": {},
   "outputs": [],
   "source": [
    "ndf.presented_by=nbands"
   ]
  },
  {
   "cell_type": "code",
   "execution_count": 302,
   "metadata": {},
   "outputs": [],
   "source": [
    "# parse artist name\n",
    "art_p=ndf.artists.values"
   ]
  },
  {
   "cell_type": "code",
   "execution_count": 339,
   "metadata": {},
   "outputs": [],
   "source": [
    "nartist=[]\n",
    "lstart=[]\n",
    "for item in art_p:\n",
    "    nartist+=[len(item)]\n",
    "    for sub in item:\n",
    "        s=json.loads(dumps(sub))\n",
    "        lstart+=[s['title']]"
   ]
  },
  {
   "cell_type": "code",
   "execution_count": 136,
   "metadata": {},
   "outputs": [
    {
     "data": {
      "text/plain": [
       "Music                          470\n",
       "Film + TV                      102\n",
       "Community                      100\n",
       "Food + Drink                    72\n",
       "Comedy                          71\n",
       "Art & Culture                   70\n",
       "Sports + Activities             45\n",
       "DJ's + Parties                  44\n",
       "Literary                        34\n",
       "Workshops + Classes             29\n",
       "Karaoke + Trivia                17\n",
       "Variety / Other                 15\n",
       "Theater                         12\n",
       "Happy Hour + Drink Specials      7\n",
       "LGBTQ+                           7\n",
       "Activism                         3\n",
       "Exhibit                          1\n",
       "Name: category, dtype: int64"
      ]
     },
     "execution_count": 136,
     "metadata": {},
     "output_type": "execute_result"
    }
   ],
   "source": [
    "ndf.category.value_counts()"
   ]
  },
  {
   "cell_type": "code",
   "execution_count": null,
   "metadata": {},
   "outputs": [],
   "source": []
  },
  {
   "cell_type": "code",
   "execution_count": null,
   "metadata": {},
   "outputs": [],
   "source": [
    "# plot event types bar chart\n"
   ]
  },
  {
   "cell_type": "code",
   "execution_count": 127,
   "metadata": {},
   "outputs": [
    {
     "name": "stderr",
     "output_type": "stream",
     "text": [
      "C:\\Users\\z0043H7B\\AppData\\Local\\Continuum\\miniconda3\\lib\\site-packages\\pandas\\core\\generic.py:5096: SettingWithCopyWarning: \n",
      "A value is trying to be set on a copy of a slice from a DataFrame.\n",
      "Try using .loc[row_indexer,col_indexer] = value instead\n",
      "\n",
      "See the caveats in the documentation: http://pandas.pydata.org/pandas-docs/stable/indexing.html#indexing-view-versus-copy\n",
      "  self[name] = value\n"
     ]
    }
   ],
   "source": [
    "ndf.popularity=ndf.popularity.astype(int)"
   ]
  },
  {
   "cell_type": "code",
   "execution_count": 377,
   "metadata": {},
   "outputs": [],
   "source": [
    "# temporary dump\n",
    "from fastparquet import write\n",
    "write('past1yrevents_processed.parq',ndf)"
   ]
  },
  {
   "cell_type": "code",
   "execution_count": 1,
   "metadata": {},
   "outputs": [],
   "source": [
    "import pandas as pd"
   ]
  },
  {
   "cell_type": "code",
   "execution_count": 2,
   "metadata": {},
   "outputs": [],
   "source": [
    "from fastparquet import ParquetFile\n",
    "pf= ParquetFile('past3monthevents_processed.parq')\n",
    "nndf = pf.to_pandas()"
   ]
  },
  {
   "cell_type": "code",
   "execution_count": 4,
   "metadata": {},
   "outputs": [
    {
     "data": {
      "text/plain": [
       "Index(['id', 'presented_by', 'title', 'category', 'begin_time', 'past',\n",
       "       'end_time', 'votes', 'is_eventbrite', 'is_free', 'doors', 'popularity',\n",
       "       'sold_out', 'artists', 'venue.id', 'venue.title', 'venue.longitude',\n",
       "       'venue.popularity', 'venue.address', 'venue.city', 'venue.state',\n",
       "       'venue.zip', 'ticket_allages', 'ticket_price_low', 'ticket_price_max',\n",
       "       'min_age', 'free', 'venue.latitude'],\n",
       "      dtype='object')"
      ]
     },
     "execution_count": 4,
     "metadata": {},
     "output_type": "execute_result"
    }
   ],
   "source": [
    "nndf.columns"
   ]
  },
  {
   "cell_type": "code",
   "execution_count": 5,
   "metadata": {},
   "outputs": [
    {
     "data": {
      "text/html": [
       "<div>\n",
       "<style scoped>\n",
       "    .dataframe tbody tr th:only-of-type {\n",
       "        vertical-align: middle;\n",
       "    }\n",
       "\n",
       "    .dataframe tbody tr th {\n",
       "        vertical-align: top;\n",
       "    }\n",
       "\n",
       "    .dataframe thead th {\n",
       "        text-align: right;\n",
       "    }\n",
       "</style>\n",
       "<table border=\"1\" class=\"dataframe\">\n",
       "  <thead>\n",
       "    <tr style=\"text-align: right;\">\n",
       "      <th></th>\n",
       "      <th>id</th>\n",
       "      <th>presented_by</th>\n",
       "      <th>title</th>\n",
       "      <th>category</th>\n",
       "      <th>begin_time</th>\n",
       "      <th>past</th>\n",
       "      <th>end_time</th>\n",
       "      <th>votes</th>\n",
       "      <th>is_eventbrite</th>\n",
       "      <th>is_free</th>\n",
       "      <th>...</th>\n",
       "      <th>venue.address</th>\n",
       "      <th>venue.city</th>\n",
       "      <th>venue.state</th>\n",
       "      <th>venue.zip</th>\n",
       "      <th>ticket_allages</th>\n",
       "      <th>ticket_price_low</th>\n",
       "      <th>ticket_price_max</th>\n",
       "      <th>min_age</th>\n",
       "      <th>free</th>\n",
       "      <th>venue.latitude</th>\n",
       "    </tr>\n",
       "  </thead>\n",
       "  <tbody>\n",
       "    <tr>\n",
       "      <th>0</th>\n",
       "      <td>10840264</td>\n",
       "      <td>gay.do512 &amp; c3</td>\n",
       "      <td>SOFI TUKKER - R.I.P. Shame World Tour w/ Haiku...</td>\n",
       "      <td>Music</td>\n",
       "      <td>2019-10-16T19:00:00-05:00</td>\n",
       "      <td>False</td>\n",
       "      <td>None</td>\n",
       "      <td>414</td>\n",
       "      <td>False</td>\n",
       "      <td>False</td>\n",
       "      <td>...</td>\n",
       "      <td>801 Red River</td>\n",
       "      <td>Austin</td>\n",
       "      <td>TX</td>\n",
       "      <td>78701</td>\n",
       "      <td>True</td>\n",
       "      <td>0.0</td>\n",
       "      <td>0.0</td>\n",
       "      <td>NaN</td>\n",
       "      <td>False</td>\n",
       "      <td>30.268458</td>\n",
       "    </tr>\n",
       "    <tr>\n",
       "      <th>1</th>\n",
       "      <td>10732673</td>\n",
       "      <td>c3</td>\n",
       "      <td>The Distillers w/ Death Valley Girls</td>\n",
       "      <td>Music</td>\n",
       "      <td>2019-10-16T20:00:00-05:00</td>\n",
       "      <td>False</td>\n",
       "      <td>None</td>\n",
       "      <td>157</td>\n",
       "      <td>False</td>\n",
       "      <td>False</td>\n",
       "      <td>...</td>\n",
       "      <td>2015 E. Riverside Dr.</td>\n",
       "      <td>Austin</td>\n",
       "      <td>TX</td>\n",
       "      <td>78741</td>\n",
       "      <td>True</td>\n",
       "      <td>0.0</td>\n",
       "      <td>0.0</td>\n",
       "      <td>NaN</td>\n",
       "      <td>False</td>\n",
       "      <td>30.240266</td>\n",
       "    </tr>\n",
       "    <tr>\n",
       "      <th>2</th>\n",
       "      <td>11211745</td>\n",
       "      <td>barrel o'fun</td>\n",
       "      <td>Over the Rainbow</td>\n",
       "      <td>Comedy</td>\n",
       "      <td>2019-10-16T20:00:00-05:00</td>\n",
       "      <td>False</td>\n",
       "      <td>None</td>\n",
       "      <td>67</td>\n",
       "      <td>False</td>\n",
       "      <td>True</td>\n",
       "      <td>...</td>\n",
       "      <td>1911 Aldrich St. Suite 120</td>\n",
       "      <td>Austin</td>\n",
       "      <td>TX</td>\n",
       "      <td>0</td>\n",
       "      <td>False</td>\n",
       "      <td>0.0</td>\n",
       "      <td>0.0</td>\n",
       "      <td>NaN</td>\n",
       "      <td>False</td>\n",
       "      <td>0.000000</td>\n",
       "    </tr>\n",
       "    <tr>\n",
       "      <th>3</th>\n",
       "      <td>11219464</td>\n",
       "      <td>None</td>\n",
       "      <td>The Chip Show Live - Comedy</td>\n",
       "      <td>Comedy</td>\n",
       "      <td>2019-10-16T20:00:00-05:00</td>\n",
       "      <td>False</td>\n",
       "      <td>None</td>\n",
       "      <td>59</td>\n",
       "      <td>False</td>\n",
       "      <td>False</td>\n",
       "      <td>...</td>\n",
       "      <td>2908 Fruth St</td>\n",
       "      <td>Austin</td>\n",
       "      <td>TX</td>\n",
       "      <td>78705</td>\n",
       "      <td>False</td>\n",
       "      <td>5.0</td>\n",
       "      <td>NaN</td>\n",
       "      <td>NaN</td>\n",
       "      <td>False</td>\n",
       "      <td>30.295495</td>\n",
       "    </tr>\n",
       "    <tr>\n",
       "      <th>4</th>\n",
       "      <td>11218114</td>\n",
       "      <td>None</td>\n",
       "      <td>Carrie Rodriguez</td>\n",
       "      <td>Music</td>\n",
       "      <td>2019-10-16T20:00:00-05:00</td>\n",
       "      <td>False</td>\n",
       "      <td>None</td>\n",
       "      <td>14</td>\n",
       "      <td>False</td>\n",
       "      <td>False</td>\n",
       "      <td>...</td>\n",
       "      <td>2247 Guadalupe St.</td>\n",
       "      <td>Austin</td>\n",
       "      <td>TX</td>\n",
       "      <td>78705</td>\n",
       "      <td>False</td>\n",
       "      <td>22.0</td>\n",
       "      <td>25.0</td>\n",
       "      <td>NaN</td>\n",
       "      <td>False</td>\n",
       "      <td>30.286514</td>\n",
       "    </tr>\n",
       "  </tbody>\n",
       "</table>\n",
       "<p>5 rows × 28 columns</p>\n",
       "</div>"
      ],
      "text/plain": [
       "         id     presented_by  \\\n",
       "0  10840264  gay.do512 & c3    \n",
       "1  10732673              c3    \n",
       "2  11211745    barrel o'fun    \n",
       "3  11219464             None   \n",
       "4  11218114             None   \n",
       "\n",
       "                                               title category  \\\n",
       "0  SOFI TUKKER - R.I.P. Shame World Tour w/ Haiku...   Music    \n",
       "1               The Distillers w/ Death Valley Girls   Music    \n",
       "2                                   Over the Rainbow   Comedy   \n",
       "3                        The Chip Show Live - Comedy   Comedy   \n",
       "4                                   Carrie Rodriguez   Music    \n",
       "\n",
       "                  begin_time   past end_time  votes  is_eventbrite  is_free  \\\n",
       "0  2019-10-16T19:00:00-05:00  False     None    414          False    False   \n",
       "1  2019-10-16T20:00:00-05:00  False     None    157          False    False   \n",
       "2  2019-10-16T20:00:00-05:00  False     None     67          False     True   \n",
       "3  2019-10-16T20:00:00-05:00  False     None     59          False    False   \n",
       "4  2019-10-16T20:00:00-05:00  False     None     14          False    False   \n",
       "\n",
       "   ...               venue.address  venue.city  venue.state venue.zip  \\\n",
       "0  ...               801 Red River      Austin           TX     78701   \n",
       "1  ...       2015 E. Riverside Dr.      Austin           TX     78741   \n",
       "2  ...  1911 Aldrich St. Suite 120      Austin           TX         0   \n",
       "3  ...               2908 Fruth St      Austin           TX     78705   \n",
       "4  ...          2247 Guadalupe St.      Austin           TX     78705   \n",
       "\n",
       "   ticket_allages ticket_price_low  ticket_price_max  min_age   free  \\\n",
       "0            True              0.0               0.0      NaN  False   \n",
       "1            True              0.0               0.0      NaN  False   \n",
       "2           False              0.0               0.0      NaN  False   \n",
       "3           False              5.0               NaN      NaN  False   \n",
       "4           False             22.0              25.0      NaN  False   \n",
       "\n",
       "  venue.latitude  \n",
       "0      30.268458  \n",
       "1      30.240266  \n",
       "2       0.000000  \n",
       "3      30.295495  \n",
       "4      30.286514  \n",
       "\n",
       "[5 rows x 28 columns]"
      ]
     },
     "execution_count": 5,
     "metadata": {},
     "output_type": "execute_result"
    }
   ],
   "source": [
    "nndf.ticket_price"
   ]
  },
  {
   "cell_type": "code",
   "execution_count": 6,
   "metadata": {},
   "outputs": [],
   "source": [
    "nndf.to_csv('testout_3month_processed.csv')"
   ]
  },
  {
   "cell_type": "code",
   "execution_count": null,
   "metadata": {},
   "outputs": [],
   "source": []
  }
 ],
 "metadata": {
  "kernelspec": {
   "display_name": "Python 3",
   "language": "python",
   "name": "python3"
  },
  "language_info": {
   "codemirror_mode": {
    "name": "ipython",
    "version": 3
   },
   "file_extension": ".py",
   "mimetype": "text/x-python",
   "name": "python",
   "nbconvert_exporter": "python",
   "pygments_lexer": "ipython3",
   "version": "3.7.3"
  }
 },
 "nbformat": 4,
 "nbformat_minor": 4
}
