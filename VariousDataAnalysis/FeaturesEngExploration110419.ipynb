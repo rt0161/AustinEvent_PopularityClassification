{
 "cells": [
  {
   "cell_type": "markdown",
   "metadata": {},
   "source": [
    "### Further wrangle with the features "
   ]
  },
  {
   "cell_type": "code",
   "execution_count": 1,
   "metadata": {},
   "outputs": [],
   "source": [
    "import time\n",
    "import datetime\n",
    "import copy\n",
    "import numpy as np\n",
    "import math\n",
    "\n",
    "import pandas as pd\n",
    "import json\n",
    "from bson.json_util import dumps\n",
    "from fastparquet import ParquetFile,write\n",
    "import matplotlib.pyplot as plt\n",
    "from tqdm import tqdm"
   ]
  },
  {
   "cell_type": "code",
   "execution_count": 14,
   "metadata": {},
   "outputs": [],
   "source": [
    "pf=ParquetFile('full_2nd_events4ml_110419.parq')"
   ]
  },
  {
   "cell_type": "code",
   "execution_count": 15,
   "metadata": {},
   "outputs": [],
   "source": [
    "udf=pf.to_pandas()"
   ]
  },
  {
   "cell_type": "code",
   "execution_count": 16,
   "metadata": {},
   "outputs": [
    {
     "name": "stdout",
     "output_type": "stream",
     "text": [
      "<class 'pandas.core.frame.DataFrame'>\n",
      "Int64Index: 38186 entries, 11049447 to 9968570\n",
      "Data columns (total 24 columns):\n",
      "category                 38186 non-null int64\n",
      "past                     38186 non-null int32\n",
      "votes                    38186 non-null int64\n",
      "is_eventbrite            38186 non-null int32\n",
      "is_free                  38186 non-null int32\n",
      "doors                    38186 non-null int32\n",
      "sold_out                 38186 non-null int32\n",
      "venue.id                 38186 non-null int64\n",
      "venue.popularity         38186 non-null float64\n",
      "venue.zip                38186 non-null int64\n",
      "ticket_allages           38186 non-null int32\n",
      "ticket_price_low         38186 non-null float64\n",
      "ticket_price_max         38186 non-null float64\n",
      "min_age                  38186 non-null int32\n",
      "artist.popularity.sum    38186 non-null float64\n",
      "artist.popularity.avg    38186 non-null float64\n",
      "artist.popularity.max    38186 non-null float64\n",
      "dow                      38186 non-null int64\n",
      "doy                      38186 non-null int64\n",
      "month                    38186 non-null int64\n",
      "day                      38186 non-null int64\n",
      "hour                     38186 non-null int64\n",
      "venue.tol_num_events     38186 non-null int64\n",
      "ev_id                    38186 non-null int64\n",
      "dtypes: float64(6), int32(7), int64(11)\n",
      "memory usage: 6.3 MB\n"
     ]
    }
   ],
   "source": [
    "udf.info()"
   ]
  },
  {
   "cell_type": "code",
   "execution_count": 2,
   "metadata": {},
   "outputs": [],
   "source": [
    "pf=ParquetFile('do512_10-3-2019-10-3-2018.parquet')\n",
    "df2=pf.to_pandas()"
   ]
  },
  {
   "cell_type": "code",
   "execution_count": 3,
   "metadata": {},
   "outputs": [],
   "source": [
    "df2=df2[['venue.id', 'venue.title','venue.address',\n",
    "       'venue.city', 'venue.state', 'venue.zip','venue.latitude','venue.longitude','id']]"
   ]
  },
  {
   "cell_type": "code",
   "execution_count": 4,
   "metadata": {},
   "outputs": [],
   "source": [
    "df2=df2.drop_duplicates(subset='id')"
   ]
  },
  {
   "cell_type": "markdown",
   "metadata": {},
   "source": [
    "#### Parse the information of event address"
   ]
  },
  {
   "cell_type": "code",
   "execution_count": 5,
   "metadata": {
    "collapsed": true,
    "jupyter": {
     "outputs_hidden": true
    }
   },
   "outputs": [
    {
     "name": "stdout",
     "output_type": "stream",
     "text": [
      "<class 'pandas.core.frame.DataFrame'>\n",
      "Int64Index: 40703 entries, 0 to 41864\n",
      "Data columns (total 9 columns):\n",
      "venue.id           40703 non-null int64\n",
      "venue.title        40703 non-null object\n",
      "venue.address      39923 non-null object\n",
      "venue.city         39997 non-null object\n",
      "venue.state        39997 non-null object\n",
      "venue.zip          39923 non-null object\n",
      "venue.latitude     34020 non-null float64\n",
      "venue.longitude    34021 non-null float64\n",
      "id                 40703 non-null int64\n",
      "dtypes: float64(2), int64(2), object(5)\n",
      "memory usage: 3.1+ MB\n"
     ]
    }
   ],
   "source": [
    "df2.info()"
   ]
  },
  {
   "cell_type": "code",
   "execution_count": 6,
   "metadata": {},
   "outputs": [],
   "source": [
    "## fix all kinds of the 'austin' back to 'Austin'\n",
    "rep=['AUSTIN','Ausitn','Austin ','AUSTIN ','Austin TX','78701','Austin,','Austin, ','Austin, TX','austin',' Austin','Austi',' AUSTIN']\n",
    "df2.loc[df2['venue.city'].isin(rep),'venue.city']='Austin'"
   ]
  },
  {
   "cell_type": "code",
   "execution_count": 7,
   "metadata": {},
   "outputs": [],
   "source": [
    "# include only specific cities/counties\n",
    "incities=['Austin','Round Rock','Cedar Park','Pflugerville','Leander','Spicewood','West Lake Hills','Westlake Hills',' Round Rock',' Round Rock','Leander ','Bee cave','Bee Cave']"
   ]
  },
  {
   "cell_type": "code",
   "execution_count": 8,
   "metadata": {},
   "outputs": [],
   "source": [
    "# fix some more city names\n",
    "rep2=[' Round Rock']\n",
    "df2.loc[df2['venue.city'].isin(rep2),'venue.city']='Round Rock'\n",
    "rep2=['Leander ']\n",
    "df2.loc[df2['venue.city'].isin(rep2),'venue.city']='Leander'\n",
    "rep2=['Bee cave']\n",
    "df2.loc[df2['venue.city'].isin(rep2),'venue.city']='Bee Cave'\n",
    "rep2=['Westlake Hills']\n",
    "df2.loc[df2['venue.city'].isin(rep2),'venue.city']='West Lake Hills'"
   ]
  },
  {
   "cell_type": "code",
   "execution_count": 9,
   "metadata": {},
   "outputs": [
    {
     "data": {
      "text/plain": [
       "Austin             37370\n",
       "Round Rock           293\n",
       "Cedar Park           230\n",
       "Pflugerville         139\n",
       "Bee Cave              60\n",
       "Leander               42\n",
       "Spicewood             38\n",
       "West Lake Hills       14\n",
       "Name: venue.city, dtype: int64"
      ]
     },
     "execution_count": 9,
     "metadata": {},
     "output_type": "execute_result"
    }
   ],
   "source": [
    "df2.loc[df2['venue.city'].isin(incities)]['venue.city'].value_counts()"
   ]
  },
  {
   "cell_type": "code",
   "execution_count": 10,
   "metadata": {
    "collapsed": true,
    "jupyter": {
     "outputs_hidden": true
    }
   },
   "outputs": [
    {
     "data": {
      "text/plain": [
       "40703"
      ]
     },
     "execution_count": 10,
     "metadata": {},
     "output_type": "execute_result"
    }
   ],
   "source": [
    "len(df2)"
   ]
  },
  {
   "cell_type": "code",
   "execution_count": 11,
   "metadata": {},
   "outputs": [],
   "source": [
    "# build a mask based on cities to exclude non-greater-Austin events\n",
    "mask=df2['venue.city'].isin(incities)\n",
    "# first mask the original df for such events\n",
    "#udf=udf[mask.values]"
   ]
  },
  {
   "cell_type": "code",
   "execution_count": 12,
   "metadata": {},
   "outputs": [],
   "source": [
    "df2=df2[mask]"
   ]
  },
  {
   "cell_type": "code",
   "execution_count": 17,
   "metadata": {
    "collapsed": true,
    "jupyter": {
     "outputs_hidden": true
    }
   },
   "outputs": [
    {
     "name": "stdout",
     "output_type": "stream",
     "text": [
      "after masking: 38186 38186\n"
     ]
    }
   ],
   "source": [
    "print(\"after masking:\",len(udf),sum(mask))"
   ]
  },
  {
   "cell_type": "code",
   "execution_count": 18,
   "metadata": {},
   "outputs": [],
   "source": [
    "#  check the 'secret locations' > to take out all secrete location events\n",
    "dump = df2['venue.address'].values"
   ]
  },
  {
   "cell_type": "code",
   "execution_count": 19,
   "metadata": {},
   "outputs": [],
   "source": [
    "mask3= []\n",
    "secrets = []\n",
    "for i,item in enumerate(dump):\n",
    "    if item:\n",
    "        if 'secret' in item: \n",
    "            print(item)\n",
    "            secrets+=[item]\n",
    "        mask3+=[True]\n",
    "    else:\n",
    "        mask3+=[False]"
   ]
  },
  {
   "cell_type": "code",
   "execution_count": 20,
   "metadata": {},
   "outputs": [
    {
     "name": "stdout",
     "output_type": "stream",
     "text": [
      "total events with address: 37975 out of: 38186 events.\n",
      "total number of events in secret locations: 0\n"
     ]
    }
   ],
   "source": [
    "print(\"total events with address:\",sum(mask3),\"out of:\",len(df2), \"events.\")\n",
    "print(\"total number of events in secret locations:\",len(secrets))"
   ]
  },
  {
   "cell_type": "code",
   "execution_count": 21,
   "metadata": {},
   "outputs": [
    {
     "data": {
      "text/plain": [
       "Austin                                      74\n",
       "The Museum of Human Achievement             36\n",
       "TBA                                         29\n",
       "Lady Bird Lake                              11\n",
       "All Austin Area Pluckers                     8\n",
       "Barton Creek Greenbelt                       6\n",
       "All Austin Area Cover 3                      5\n",
       "Mueller Austin                               4\n",
       "All Austin Area Lick Honest Ice Creams       4\n",
       "Lake Travis                                  4\n",
       "Gender and Sexuality Center                  3\n",
       "All Lavaca Street Bar Locations              2\n",
       "Auditorium Shores & Republic Square Park     2\n",
       "All Austin Area P. Terrys                    2\n",
       "6th Street                                   2\n",
       "Fox 7 - Good Day Austin                      2\n",
       "2511 Diaz Street                             2\n",
       "Austin Sports and Social Club                2\n",
       "Walsh Landing                                1\n",
       "ATX Sports & Adventures                      1\n",
       "Austin Chuy's Locations                      1\n",
       "All Austin Area Lucy's Fried Chicken         1\n",
       "All Austin Area Houndstooth Coffee           1\n",
       "Congress and Riverside                       1\n",
       "All Austin Area Andy's Frozen Custard        1\n",
       "All Austin Area Freebirds                    1\n",
       "It's The Shed                                1\n",
       "West Campus                                  1\n",
       "We Are Blood Donor Centers                   1\n",
       "Bird Barn                                    1\n",
       "Petsmart Austin                              1\n",
       "Name: venue.title, dtype: int64"
      ]
     },
     "execution_count": 21,
     "metadata": {},
     "output_type": "execute_result"
    }
   ],
   "source": [
    "# filter out the no address locations, first display\n",
    "a=pd.Series(mask3)\n",
    "df2[list(~a)]['venue.title'].value_counts()"
   ]
  },
  {
   "cell_type": "code",
   "execution_count": 22,
   "metadata": {},
   "outputs": [],
   "source": [
    "# eliminate the ones without lat/lon \n",
    "check = df2['venue.latitude'].values\n",
    "#mask4= [True for x in list(check) if x!=np.nan else False ]"
   ]
  },
  {
   "cell_type": "code",
   "execution_count": 23,
   "metadata": {},
   "outputs": [],
   "source": [
    "mask4=[]\n",
    "for item in check:\n",
    "    if np.isnan(item):\n",
    "        mask4+= [False]\n",
    "    else: mask4+=[True]"
   ]
  },
  {
   "cell_type": "code",
   "execution_count": 27,
   "metadata": {},
   "outputs": [
    {
     "name": "stdout",
     "output_type": "stream",
     "text": [
      "total number of event locations with lat/lon information: 32880 out of : 38186\n",
      "proportion of events not with lat/lon: 13.89514481747237 %\n"
     ]
    }
   ],
   "source": [
    "print(\"total number of event locations with lat/lon information:\",sum(mask4),\"out of :\",len(df2))\n",
    "print(\"proportion of events not with lat/lon:\",(len(df2)-sum(mask4))/len(df2)*100,\"%\")"
   ]
  },
  {
   "cell_type": "code",
   "execution_count": 111,
   "metadata": {},
   "outputs": [
    {
     "name": "stdout",
     "output_type": "stream",
     "text": [
      "skewness of target votes: 40.05724228208327\n",
      "skew test: SkewtestResult(statistic=277.3458192023687, pvalue=0.0)\n"
     ]
    }
   ],
   "source": [
    "from scipy.stats import skew, skewtest\n",
    "print(\"skewness of target votes:\",skew(udf['votes']))\n",
    "print(\"skew test:\",skewtest(udf['votes']))"
   ]
  },
  {
   "cell_type": "code",
   "execution_count": 28,
   "metadata": {},
   "outputs": [],
   "source": [
    "# filter down to total number of events with good location info\n",
    "udf=udf[mask4]"
   ]
  },
  {
   "cell_type": "code",
   "execution_count": 29,
   "metadata": {},
   "outputs": [
    {
     "name": "stdout",
     "output_type": "stream",
     "text": [
      "after masking: 32880 38186\n"
     ]
    }
   ],
   "source": [
    "print(\"after masking:\",len(udf),len(mask4))"
   ]
  },
  {
   "cell_type": "markdown",
   "metadata": {},
   "source": [
    "### Check the distribution of the votes(target)"
   ]
  },
  {
   "cell_type": "code",
   "execution_count": 119,
   "metadata": {},
   "outputs": [
    {
     "data": {
      "text/plain": [
       "Text(0, 0.5, 'event counts')"
      ]
     },
     "execution_count": 119,
     "metadata": {},
     "output_type": "execute_result"
    },
    {
     "data": {
      "image/png": "[encoded data removed]",
      "text/plain": [
       "<Figure size 432x288 with 1 Axes>"
      ]
     },
     "metadata": {
      "needs_background": "light"
     },
     "output_type": "display_data"
    }
   ],
   "source": [
    "# plot the votes distribution after cleanup of cities\n",
    "# plot votes distribution for all data\n",
    "n_bins = 100\n",
    "x=udf.votes.values\n",
    "# subset votes to those not 1\n",
    "xx = [c for c in x if c>0]\n",
    "fig = plt.hist(xx,bins=n_bins)\n",
    "plt.ylim([0,100])\n",
    "plt.xlabel('votes')\n",
    "plt.ylabel('event counts')\n",
    "#plt.xlim([1000,9000])"
   ]
  },
  {
   "cell_type": "code",
   "execution_count": 123,
   "metadata": {},
   "outputs": [],
   "source": [
    "xx=[x+1 for x in udf.votes.values]"
   ]
  },
  {
   "cell_type": "markdown",
   "metadata": {},
   "source": [
    "#### Taking a clog of the votes"
   ]
  },
  {
   "cell_type": "code",
   "execution_count": 125,
   "metadata": {},
   "outputs": [
    {
     "data": {
      "text/plain": [
       "Text(0, 0.5, 'event counts')"
      ]
     },
     "execution_count": 125,
     "metadata": {},
     "output_type": "execute_result"
    },
    {
     "data": {
      "image/png": "[encoded data removed]",
      "text/plain": [
       "<Figure size 432x288 with 1 Axes>"
      ]
     },
     "metadata": {
      "needs_background": "light"
     },
     "output_type": "display_data"
    }
   ],
   "source": [
    "# perform a log transformation on the votes\n",
    "# observe such transformation changes the distribution\n",
    "fig = plt.hist(np.log(np.log10(xx)+1),bins=n_bins)\n",
    "#plt.ylim([0,80])\n",
    "plt.xlabel('log votes')\n",
    "plt.ylabel('event counts')"
   ]
  },
  {
   "cell_type": "markdown",
   "metadata": {},
   "source": [
    "#### It's a skewed distribution, and popular events are rare events"
   ]
  },
  {
   "cell_type": "code",
   "execution_count": 152,
   "metadata": {},
   "outputs": [
    {
     "name": "stdout",
     "output_type": "stream",
     "text": [
      "votes over 50: 5.31021897810219 %\n",
      "votes over 100: 3.0565693430656937 %\n",
      "votes over 500: 0.3588807785888078 %\n",
      "minimum of votes: 0 ,total number of minimums: 5675 ,accounts for: 17.259732360097324 %\n",
      "votes over 1500: 24 0.072992700729927 %\n"
     ]
    }
   ],
   "source": [
    "# get a sense of the votes\n",
    "print(\"votes over 50:\",sum(x>50)/len(x)*100,\"%\")\n",
    "print(\"votes over 100:\",sum(x>100)/len(x)*100,\"%\")\n",
    "print(\"votes over 500:\",sum(x>500)/len(x)*100,\"%\")\n",
    "print(\"minimum of votes:\",min(x),\",total number of minimums:\",sum(x==0),\",accounts for:\",sum(x==0)/len(x)*100,\"%\")\n",
    "print(\"votes over 1500:\",sum(x>1500),sum(x>1500)/len(x)*100,\"%\")"
   ]
  },
  {
   "cell_type": "code",
   "execution_count": 212,
   "metadata": {},
   "outputs": [
    {
     "data": {
      "text/plain": [
       "15.429957420924573"
      ]
     },
     "execution_count": 212,
     "metadata": {},
     "output_type": "execute_result"
    }
   ],
   "source": [
    "np.mean(udf['votes'])"
   ]
  },
  {
   "cell_type": "code",
   "execution_count": 168,
   "metadata": {},
   "outputs": [],
   "source": [
    "# scaling on the features\n",
    "threshold=200\n",
    "usecols=list(udf.columns.values)\n",
    "usecols.remove('votes')\n",
    "usecols.remove('ev_id')\n",
    "udf_x=udf[usecols]\n",
    "udf_y=udf[['votes']].values\n",
    "udf_y=[0 if x<threshold else 1 for x in list(udf_y)]\n",
    "from sklearn.preprocessing import MinMaxScaler\n",
    "X_scaler = MinMaxScaler()\n",
    "X_scaler.fit(udf_x)\n",
    "udf_scX=X_scaler.transform(udf_x)"
   ]
  },
  {
   "cell_type": "code",
   "execution_count": 169,
   "metadata": {},
   "outputs": [],
   "source": [
    "# gauge the default classification problem (no resample of two classes)\n",
    "from sklearn.model_selection import train_test_split\n",
    "X_train, X_test, y_train, y_test = train_test_split(udf_scX, udf_y, stratify=udf_y,test_size=0.3, random_state=12)"
   ]
  },
  {
   "cell_type": "code",
   "execution_count": 170,
   "metadata": {},
   "outputs": [],
   "source": [
    "from sklearn.ensemble import RandomForestClassifier\n",
    "RFClass=RandomForestClassifier()"
   ]
  },
  {
   "cell_type": "code",
   "execution_count": 171,
   "metadata": {
    "collapsed": true,
    "jupyter": {
     "outputs_hidden": true
    }
   },
   "outputs": [
    {
     "name": "stderr",
     "output_type": "stream",
     "text": [
      "C:\\Users\\z0043H7B\\AppData\\Local\\Continuum\\miniconda3\\lib\\site-packages\\sklearn\\ensemble\\forest.py:245: FutureWarning: The default value of n_estimators will change from 10 in version 0.20 to 100 in 0.22.\n",
      "  \"10 in version 0.20 to 100 in 0.22.\", FutureWarning)\n"
     ]
    },
    {
     "data": {
      "text/plain": [
       "RandomForestClassifier(bootstrap=True, class_weight=None, criterion='gini',\n",
       "                       max_depth=None, max_features='auto', max_leaf_nodes=None,\n",
       "                       min_impurity_decrease=0.0, min_impurity_split=None,\n",
       "                       min_samples_leaf=1, min_samples_split=2,\n",
       "                       min_weight_fraction_leaf=0.0, n_estimators=10,\n",
       "                       n_jobs=None, oob_score=False, random_state=None,\n",
       "                       verbose=0, warm_start=False)"
      ]
     },
     "execution_count": 171,
     "metadata": {},
     "output_type": "execute_result"
    }
   ],
   "source": [
    "RFClass.fit(X_train, y_train)"
   ]
  },
  {
   "cell_type": "code",
   "execution_count": 172,
   "metadata": {},
   "outputs": [],
   "source": [
    "pred_train_y= RFClass.predict(X_train)\n",
    "pred_test_y= RFClass.predict(X_test)"
   ]
  },
  {
   "cell_type": "code",
   "execution_count": 173,
   "metadata": {},
   "outputs": [
    {
     "name": "stdout",
     "output_type": "stream",
     "text": [
      "confusion matrix: [[9740    9]\n",
      " [  97   18]]\n",
      "other metrics:               precision    recall  f1-score   support\n",
      "\n",
      "           0       0.99      1.00      0.99      9749\n",
      "           1       0.67      0.16      0.25       115\n",
      "\n",
      "    accuracy                           0.99      9864\n",
      "   macro avg       0.83      0.58      0.62      9864\n",
      "weighted avg       0.99      0.99      0.99      9864\n",
      "\n"
     ]
    }
   ],
   "source": [
    "# check performance on confusion matrix\n",
    "from sklearn.metrics import confusion_matrix,classification_report,precision_recall_curve\n",
    "print(\"confusion matrix:\",confusion_matrix(y_test, pred_test_y))\n",
    "print(\"other metrics:\",classification_report(y_test, pred_test_y))"
   ]
  },
  {
   "cell_type": "code",
   "execution_count": 175,
   "metadata": {},
   "outputs": [
    {
     "name": "stdout",
     "output_type": "stream",
     "text": [
      "correct percentage for TP: 66.66666666666666 %\n",
      "correct percentage for TN: 99.01392701026735 %\n"
     ]
    }
   ],
   "source": [
    "print(\"correct percentage for TP:\",18/(9+18)*100,\"%\")\n",
    "print(\"correct percentage for TN:\",9740/(9740+97)*100,\"%\")"
   ]
  },
  {
   "cell_type": "code",
   "execution_count": 61,
   "metadata": {},
   "outputs": [
    {
     "data": {
      "text/plain": [
       "(0.0, 1.0)"
      ]
     },
     "execution_count": 61,
     "metadata": {},
     "output_type": "execute_result"
    },
    {
     "data": {
      "image/png": "[encoded data removed]",
      "text/plain": [
       "<Figure size 432x288 with 1 Axes>"
      ]
     },
     "metadata": {
      "needs_background": "light"
     },
     "output_type": "display_data"
    }
   ],
   "source": [
    "# plot precision/recall curve\n",
    "from inspect import signature\n",
    "precision, recall, _ = precision_recall_curve(y_test, pred_test_y)\n",
    "\n",
    "# In matplotlib < 1.5, plt.fill_between does not have a 'step' argument\n",
    "step_kwargs = ({'step': 'post'}\n",
    "               if 'step' in signature(plt.fill_between).parameters\n",
    "               else {})\n",
    "plt.step(recall, precision, color='b', alpha=0.2,\n",
    "         where='post')\n",
    "plt.fill_between(recall, precision, alpha=0.2, color='b')\n",
    "\n",
    "plt.xlabel('Recall')\n",
    "plt.ylabel('Precision')\n",
    "plt.ylim([0.0, 1.05])\n",
    "plt.xlim([0.0, 1.0])\n",
    "#plt.title('2-class Precision-Recall curve: AP={0:0.2f}'.format(average_precision))"
   ]
  },
  {
   "cell_type": "code",
   "execution_count": 176,
   "metadata": {},
   "outputs": [
    {
     "name": "stderr",
     "output_type": "stream",
     "text": [
      "C:\\Users\\z0043H7B\\AppData\\Local\\Continuum\\miniconda3\\lib\\site-packages\\sklearn\\ensemble\\forest.py:245: FutureWarning: The default value of n_estimators will change from 10 in version 0.20 to 100 in 0.22.\n",
      "  \"10 in version 0.20 to 100 in 0.22.\", FutureWarning)\n"
     ]
    },
    {
     "data": {
      "text/plain": [
       "RandomForestClassifier(bootstrap=True, class_weight='balanced',\n",
       "                       criterion='gini', max_depth=None, max_features='auto',\n",
       "                       max_leaf_nodes=None, min_impurity_decrease=0.0,\n",
       "                       min_impurity_split=None, min_samples_leaf=1,\n",
       "                       min_samples_split=2, min_weight_fraction_leaf=0.0,\n",
       "                       n_estimators=10, n_jobs=None, oob_score=False,\n",
       "                       random_state=None, verbose=0, warm_start=False)"
      ]
     },
     "execution_count": 176,
     "metadata": {},
     "output_type": "execute_result"
    }
   ],
   "source": [
    "# try weighted RF classifier\n",
    "RFClass2=RandomForestClassifier(class_weight='balanced')\n",
    "RFClass2.fit(X_train, y_train)"
   ]
  },
  {
   "cell_type": "code",
   "execution_count": 177,
   "metadata": {},
   "outputs": [],
   "source": [
    "pred_train_y= RFClass2.predict(X_train)\n",
    "pred_test_y= RFClass2.predict(X_test)"
   ]
  },
  {
   "cell_type": "code",
   "execution_count": 178,
   "metadata": {},
   "outputs": [
    {
     "name": "stdout",
     "output_type": "stream",
     "text": [
      "confusion matrix: [[9746    3]\n",
      " [ 100   15]]\n",
      "other metrics:               precision    recall  f1-score   support\n",
      "\n",
      "           0       0.99      1.00      0.99      9749\n",
      "           1       0.83      0.13      0.23       115\n",
      "\n",
      "    accuracy                           0.99      9864\n",
      "   macro avg       0.91      0.57      0.61      9864\n",
      "weighted avg       0.99      0.99      0.99      9864\n",
      "\n"
     ]
    }
   ],
   "source": [
    "print(\"confusion matrix:\",confusion_matrix(y_test, pred_test_y))\n",
    "print(\"other metrics:\",classification_report(y_test, pred_test_y))"
   ]
  },
  {
   "cell_type": "code",
   "execution_count": 72,
   "metadata": {},
   "outputs": [
    {
     "name": "stdout",
     "output_type": "stream",
     "text": [
      "correct percentage for TP: 79.38144329896907 %\n",
      "correct percentage for TN: 97.6348930070646 %\n"
     ]
    }
   ],
   "source": [
    "print(\"correct percentage for TP:\",77/(20+77)*100,\"%\")\n",
    "print(\"correct percentage for TN:\",9536/(231+9536)*100,\"%\")"
   ]
  },
  {
   "cell_type": "code",
   "execution_count": 191,
   "metadata": {},
   "outputs": [
    {
     "name": "stdout",
     "output_type": "stream",
     "text": [
      "32670 210\n",
      "210 210\n"
     ]
    }
   ],
   "source": [
    "# test with random subsampling of the low votes and then do classification again\n",
    "print(len(ldf),len(hdf))\n",
    "subldf=ldf.sample(len(hdf))   # random sampling\n",
    "print(len(subldf),len(hdf)) \n",
    "# reconcate and then shuffle\n",
    "subdf = pd.concat([subldf, hdf], axis=0)\n",
    "subdf=subdf.sample(frac=1)"
   ]
  },
  {
   "cell_type": "code",
   "execution_count": 204,
   "metadata": {},
   "outputs": [],
   "source": [
    "usecols=list(subdf.columns.values)\n",
    "usecols.remove('votes')\n",
    "usecols.remove('ev_id')\n",
    "subdf_x=subdf[usecols]\n",
    "subdf_y=subdf[['votes']].values\n",
    "subdf_y=[0 if x<threshold else 1 for x in list(subdf_y)]\n",
    "X_scaler = MinMaxScaler()\n",
    "X_scaler.fit(subdf_x)\n",
    "subdf_scX=X_scaler.transform(subdf_x)\n",
    "X_train, X_test, y_train, y_test = train_test_split(subdf_scX, subdf_y,test_size=0.3, random_state=12)"
   ]
  },
  {
   "cell_type": "code",
   "execution_count": 209,
   "metadata": {},
   "outputs": [
    {
     "name": "stderr",
     "output_type": "stream",
     "text": [
      "C:\\Users\\z0043H7B\\AppData\\Local\\Continuum\\miniconda3\\lib\\site-packages\\sklearn\\ensemble\\forest.py:245: FutureWarning: The default value of n_estimators will change from 10 in version 0.20 to 100 in 0.22.\n",
      "  \"10 in version 0.20 to 100 in 0.22.\", FutureWarning)\n"
     ]
    },
    {
     "data": {
      "text/plain": [
       "RandomForestClassifier(bootstrap=True, class_weight=None, criterion='gini',\n",
       "                       max_depth=None, max_features='auto', max_leaf_nodes=None,\n",
       "                       min_impurity_decrease=0.0, min_impurity_split=None,\n",
       "                       min_samples_leaf=1, min_samples_split=2,\n",
       "                       min_weight_fraction_leaf=0.0, n_estimators=10,\n",
       "                       n_jobs=None, oob_score=False, random_state=12, verbose=0,\n",
       "                       warm_start=False)"
      ]
     },
     "execution_count": 209,
     "metadata": {},
     "output_type": "execute_result"
    }
   ],
   "source": [
    "RFClass3=RandomForestClassifier(random_state=12)\n",
    "RFClass3.fit(X_train, y_train)"
   ]
  },
  {
   "cell_type": "code",
   "execution_count": 210,
   "metadata": {},
   "outputs": [],
   "source": [
    "pred_train_y= RFClass3.predict(X_train)\n",
    "pred_test_y= RFClass3.predict(X_test)"
   ]
  },
  {
   "cell_type": "code",
   "execution_count": 211,
   "metadata": {},
   "outputs": [
    {
     "name": "stdout",
     "output_type": "stream",
     "text": [
      "confusion matrix: [[58  8]\n",
      " [10 50]]\n",
      "other metrics:               precision    recall  f1-score   support\n",
      "\n",
      "           0       0.85      0.88      0.87        66\n",
      "           1       0.86      0.83      0.85        60\n",
      "\n",
      "    accuracy                           0.86       126\n",
      "   macro avg       0.86      0.86      0.86       126\n",
      "weighted avg       0.86      0.86      0.86       126\n",
      "\n"
     ]
    }
   ],
   "source": [
    "print(\"confusion matrix:\",confusion_matrix(y_test, pred_test_y))\n",
    "print(\"other metrics:\",classification_report(y_test, pred_test_y))"
   ]
  },
  {
   "cell_type": "code",
   "execution_count": 73,
   "metadata": {},
   "outputs": [
    {
     "data": {
      "text/plain": [
       "(0.0, 1.0)"
      ]
     },
     "execution_count": 73,
     "metadata": {},
     "output_type": "execute_result"
    },
    {
     "data": {
      "image/png": "[encoded data removed]",
      "text/plain": [
       "<Figure size 432x288 with 1 Axes>"
      ]
     },
     "metadata": {
      "needs_background": "light"
     },
     "output_type": "display_data"
    }
   ],
   "source": [
    "# plot precision/recall curve\n",
    "precision, recall, _ = precision_recall_curve(y_test, pred_test_y)\n",
    "\n",
    "# In matplotlib < 1.5, plt.fill_between does not have a 'step' argument\n",
    "step_kwargs = ({'step': 'post'}\n",
    "               if 'step' in signature(plt.fill_between).parameters\n",
    "               else {})\n",
    "plt.step(recall, precision, color='b', alpha=0.2,\n",
    "         where='post')\n",
    "plt.fill_between(recall, precision, alpha=0.2, color='b')\n",
    "\n",
    "plt.xlabel('Recall')\n",
    "plt.ylabel('Precision')\n",
    "plt.ylim([0.0, 1.05])\n",
    "plt.xlim([0.0, 1.0])\n",
    "#plt.title('2-class Precision-Recall curve: AP={0:0.2f}'.format(average_precision))"
   ]
  },
  {
   "cell_type": "code",
   "execution_count": 202,
   "metadata": {},
   "outputs": [],
   "source": [
    "#from pyod.models.pca import PCA\n",
    "from sklearn.decomposition import PCA"
   ]
  },
  {
   "cell_type": "code",
   "execution_count": 143,
   "metadata": {},
   "outputs": [],
   "source": [
    "# subsetting data into two groups of events\n",
    "hdf = udf.loc[udf['votes']>= 300]\n",
    "ldf = udf.loc[udf['votes']< 300]"
   ]
  },
  {
   "cell_type": "code",
   "execution_count": 179,
   "metadata": {},
   "outputs": [
    {
     "name": "stdout",
     "output_type": "stream",
     "text": [
      "proportions of high votes and low votes: 0.6386861313868614 %, 99.36131386861314 %\n",
      "total number on low votes: 32670\n",
      "total number on high votes: 210\n"
     ]
    }
   ],
   "source": [
    "print(\"proportions of high votes and low votes:\",len(hdf)/len(udf)*100,\"%,\",len(ldf)/len(udf)*100,\"%\")\n",
    "print(\"total number on low votes:\",len(ldf))\n",
    "print(\"total number on high votes:\",len(hdf))"
   ]
  },
  {
   "cell_type": "code",
   "execution_count": 145,
   "metadata": {},
   "outputs": [
    {
     "data": {
      "text/plain": [
       "Text(0, 0.5, 'event counts')"
      ]
     },
     "execution_count": 145,
     "metadata": {},
     "output_type": "execute_result"
    },
    {
     "data": {
      "image/png": "[encoded data removed]",
      "text/plain": [
       "<Figure size 432x288 with 1 Axes>"
      ]
     },
     "metadata": {
      "needs_background": "light"
     },
     "output_type": "display_data"
    }
   ],
   "source": [
    "# preliminary test on predicting the votes for high-vote class:\n",
    "# seperation of columns:\n",
    "usecolns = list(hdf.columns.values)\n",
    "usecolns.remove('votes')\n",
    "usecolns.remove('ev_id')\n",
    "hdf_X = hdf[usecolns]\n",
    "hdf_y = hdf['votes']\n",
    "# plot the high-vote distributions\n",
    "n_bins = 50\n",
    "# subset votes to those not 1\n",
    "fig = plt.hist(hdf_y,bins=n_bins)\n",
    "#plt.ylim([0,100])\n",
    "plt.xlabel('votes')\n",
    "plt.ylabel('event counts')"
   ]
  },
  {
   "cell_type": "code",
   "execution_count": 89,
   "metadata": {},
   "outputs": [
    {
     "data": {
      "text/plain": [
       "Text(0, 0.5, 'event counts')"
      ]
     },
     "execution_count": 89,
     "metadata": {},
     "output_type": "execute_result"
    },
    {
     "data": {
      "image/png": "[encoded data removed]",
      "text/plain": [
       "<Figure size 432x288 with 1 Axes>"
      ]
     },
     "metadata": {
      "needs_background": "light"
     },
     "output_type": "display_data"
    }
   ],
   "source": [
    "fig = plt.hist(hdf_y,bins=n_bins)\n",
    "plt.ylim([0,80])\n",
    "plt.xlabel('votes')\n",
    "plt.ylabel('event counts')"
   ]
  },
  {
   "cell_type": "code",
   "execution_count": 167,
   "metadata": {},
   "outputs": [
    {
     "data": {
      "text/plain": [
       "Text(0, 0.5, 'event counts')"
      ]
     },
     "execution_count": 167,
     "metadata": {},
     "output_type": "execute_result"
    },
    {
     "data": {
      "image/png": "[encoded data removed]",
      "text/plain": [
       "<Figure size 432x288 with 1 Axes>"
      ]
     },
     "metadata": {
      "needs_background": "light"
     },
     "output_type": "display_data"
    }
   ],
   "source": [
    "# perform a log transformation on the votes\n",
    "# observe such transformation changes the distribution\n",
    "a=np.log(np.log(hdf_y+1))\n",
    "fig = plt.hist(a,bins=n_bins)\n",
    "#plt.ylim([0,80])\n",
    "plt.xlabel('log votes')\n",
    "plt.ylabel('event counts')"
   ]
  },
  {
   "cell_type": "code",
   "execution_count": 163,
   "metadata": {},
   "outputs": [
    {
     "name": "stdout",
     "output_type": "stream",
     "text": [
      "skewness of target votes(clogged): 1.2311531462518404\n",
      "skew test: SkewtestResult(statistic=6.076270377282248, pvalue=1.2300993648150564e-09)\n"
     ]
    }
   ],
   "source": [
    "print(\"skewness of target votes(clogged):\",skew(a))\n",
    "print(\"skew test:\",skewtest(a))"
   ]
  },
  {
   "cell_type": "code",
   "execution_count": 165,
   "metadata": {},
   "outputs": [
    {
     "data": {
      "text/plain": [
       "Text(0, 0.5, 'event counts')"
      ]
     },
     "execution_count": 165,
     "metadata": {},
     "output_type": "execute_result"
    },
    {
     "data": {
      "image/png": "[encoded data removed]",
      "text/plain": [
       "<Figure size 432x288 with 1 Axes>"
      ]
     },
     "metadata": {
      "needs_background": "light"
     },
     "output_type": "display_data"
    }
   ],
   "source": [
    "# try square-root transform\n",
    "a=np.cbrt(hdf_y)\n",
    "fig = plt.hist(a,bins=n_bins)\n",
    "#plt.ylim([0,80])\n",
    "plt.xlabel('cbrt votes')\n",
    "plt.ylabel('event counts')"
   ]
  },
  {
   "cell_type": "code",
   "execution_count": 147,
   "metadata": {},
   "outputs": [],
   "source": [
    "# start on regression method for the high-votes\n",
    "# scaling the features\n",
    "X_scaler = MinMaxScaler()\n",
    "X_scaler.fit(hdf_X)\n",
    "hdf_scX=X_scaler.transform(hdf_X)\n",
    "X_train, X_test, y_train, y_test = train_test_split(hdf_scX, hdf_y, test_size=0.3, random_state=12)"
   ]
  },
  {
   "cell_type": "code",
   "execution_count": 148,
   "metadata": {},
   "outputs": [
    {
     "name": "stdout",
     "output_type": "stream",
     "text": [
      "number of total samples: 210 , training samples: 147 ,test samples: 63\n"
     ]
    }
   ],
   "source": [
    "print(\"number of total samples:\",len(hdf_X), \", training samples:\",len(X_train),\",test samples:\",len(X_test))"
   ]
  },
  {
   "cell_type": "code",
   "execution_count": 149,
   "metadata": {},
   "outputs": [],
   "source": [
    "# set up regressor\n",
    "from sklearn.ensemble import RandomForestRegressor\n",
    "RFReg0=RandomForestRegressor(random_state=12,verbose=10)"
   ]
  },
  {
   "cell_type": "code",
   "execution_count": 150,
   "metadata": {
    "collapsed": true,
    "jupyter": {
     "outputs_hidden": true
    }
   },
   "outputs": [
    {
     "name": "stderr",
     "output_type": "stream",
     "text": [
      "C:\\Users\\z0043H7B\\AppData\\Local\\Continuum\\miniconda3\\lib\\site-packages\\sklearn\\ensemble\\forest.py:245: FutureWarning: The default value of n_estimators will change from 10 in version 0.20 to 100 in 0.22.\n",
      "  \"10 in version 0.20 to 100 in 0.22.\", FutureWarning)\n",
      "[Parallel(n_jobs=1)]: Using backend SequentialBackend with 1 concurrent workers.\n"
     ]
    },
    {
     "name": "stdout",
     "output_type": "stream",
     "text": [
      "building tree 1 of 10\n"
     ]
    },
    {
     "name": "stderr",
     "output_type": "stream",
     "text": [
      "[Parallel(n_jobs=1)]: Done   1 out of   1 | elapsed:    0.0s remaining:    0.0s\n"
     ]
    },
    {
     "name": "stdout",
     "output_type": "stream",
     "text": [
      "building tree 2 of 10\n"
     ]
    },
    {
     "name": "stderr",
     "output_type": "stream",
     "text": [
      "[Parallel(n_jobs=1)]: Done   2 out of   2 | elapsed:    0.0s remaining:    0.0s\n"
     ]
    },
    {
     "name": "stdout",
     "output_type": "stream",
     "text": [
      "building tree 3 of 10\n"
     ]
    },
    {
     "name": "stderr",
     "output_type": "stream",
     "text": [
      "[Parallel(n_jobs=1)]: Done   3 out of   3 | elapsed:    0.0s remaining:    0.0s\n"
     ]
    },
    {
     "name": "stdout",
     "output_type": "stream",
     "text": [
      "building tree 4 of 10\n"
     ]
    },
    {
     "name": "stderr",
     "output_type": "stream",
     "text": [
      "[Parallel(n_jobs=1)]: Done   4 out of   4 | elapsed:    0.0s remaining:    0.0s\n"
     ]
    },
    {
     "name": "stdout",
     "output_type": "stream",
     "text": [
      "building tree 5 of 10\n"
     ]
    },
    {
     "name": "stderr",
     "output_type": "stream",
     "text": [
      "[Parallel(n_jobs=1)]: Done   5 out of   5 | elapsed:    0.0s remaining:    0.0s\n"
     ]
    },
    {
     "name": "stdout",
     "output_type": "stream",
     "text": [
      "building tree 6 of 10\n"
     ]
    },
    {
     "name": "stderr",
     "output_type": "stream",
     "text": [
      "[Parallel(n_jobs=1)]: Done   6 out of   6 | elapsed:    0.0s remaining:    0.0s\n"
     ]
    },
    {
     "name": "stdout",
     "output_type": "stream",
     "text": [
      "building tree 7 of 10\n"
     ]
    },
    {
     "name": "stderr",
     "output_type": "stream",
     "text": [
      "[Parallel(n_jobs=1)]: Done   7 out of   7 | elapsed:    0.0s remaining:    0.0s\n"
     ]
    },
    {
     "name": "stdout",
     "output_type": "stream",
     "text": [
      "building tree 8 of 10\n"
     ]
    },
    {
     "name": "stderr",
     "output_type": "stream",
     "text": [
      "[Parallel(n_jobs=1)]: Done   8 out of   8 | elapsed:    0.0s remaining:    0.0s\n"
     ]
    },
    {
     "name": "stdout",
     "output_type": "stream",
     "text": [
      "building tree 9 of 10\n"
     ]
    },
    {
     "name": "stderr",
     "output_type": "stream",
     "text": [
      "[Parallel(n_jobs=1)]: Done   9 out of   9 | elapsed:    0.0s remaining:    0.0s\n"
     ]
    },
    {
     "name": "stdout",
     "output_type": "stream",
     "text": [
      "building tree 10 of 10\n"
     ]
    },
    {
     "name": "stderr",
     "output_type": "stream",
     "text": [
      "[Parallel(n_jobs=1)]: Done  10 out of  10 | elapsed:    0.0s finished\n"
     ]
    },
    {
     "data": {
      "text/plain": [
       "RandomForestRegressor(bootstrap=True, criterion='mse', max_depth=None,\n",
       "                      max_features='auto', max_leaf_nodes=None,\n",
       "                      min_impurity_decrease=0.0, min_impurity_split=None,\n",
       "                      min_samples_leaf=1, min_samples_split=2,\n",
       "                      min_weight_fraction_leaf=0.0, n_estimators=10,\n",
       "                      n_jobs=None, oob_score=False, random_state=12, verbose=10,\n",
       "                      warm_start=False)"
      ]
     },
     "execution_count": 150,
     "metadata": {},
     "output_type": "execute_result"
    }
   ],
   "source": [
    "RFReg0.fit(X_train,y_train)"
   ]
  },
  {
   "cell_type": "code",
   "execution_count": 151,
   "metadata": {
    "collapsed": true,
    "jupyter": {
     "outputs_hidden": true
    }
   },
   "outputs": [
    {
     "name": "stderr",
     "output_type": "stream",
     "text": [
      "[Parallel(n_jobs=1)]: Using backend SequentialBackend with 1 concurrent workers.\n",
      "[Parallel(n_jobs=1)]: Done   1 out of   1 | elapsed:    0.0s remaining:    0.0s\n",
      "[Parallel(n_jobs=1)]: Done   2 out of   2 | elapsed:    0.0s remaining:    0.0s\n",
      "[Parallel(n_jobs=1)]: Done   3 out of   3 | elapsed:    0.0s remaining:    0.0s\n",
      "[Parallel(n_jobs=1)]: Done   4 out of   4 | elapsed:    0.0s remaining:    0.0s\n",
      "[Parallel(n_jobs=1)]: Done   5 out of   5 | elapsed:    0.0s remaining:    0.0s\n",
      "[Parallel(n_jobs=1)]: Done   6 out of   6 | elapsed:    0.0s remaining:    0.0s\n",
      "[Parallel(n_jobs=1)]: Done   7 out of   7 | elapsed:    0.0s remaining:    0.0s\n",
      "[Parallel(n_jobs=1)]: Done   8 out of   8 | elapsed:    0.0s remaining:    0.0s\n",
      "[Parallel(n_jobs=1)]: Done   9 out of   9 | elapsed:    0.0s remaining:    0.0s\n",
      "[Parallel(n_jobs=1)]: Done  10 out of  10 | elapsed:    0.0s finished\n",
      "[Parallel(n_jobs=1)]: Using backend SequentialBackend with 1 concurrent workers.\n",
      "[Parallel(n_jobs=1)]: Done   1 out of   1 | elapsed:    0.0s remaining:    0.0s\n",
      "[Parallel(n_jobs=1)]: Done   2 out of   2 | elapsed:    0.0s remaining:    0.0s\n",
      "[Parallel(n_jobs=1)]: Done   3 out of   3 | elapsed:    0.0s remaining:    0.0s\n",
      "[Parallel(n_jobs=1)]: Done   4 out of   4 | elapsed:    0.0s remaining:    0.0s\n",
      "[Parallel(n_jobs=1)]: Done   5 out of   5 | elapsed:    0.0s remaining:    0.0s\n",
      "[Parallel(n_jobs=1)]: Done   6 out of   6 | elapsed:    0.0s remaining:    0.0s\n",
      "[Parallel(n_jobs=1)]: Done   7 out of   7 | elapsed:    0.0s remaining:    0.0s\n",
      "[Parallel(n_jobs=1)]: Done   8 out of   8 | elapsed:    0.0s remaining:    0.0s\n",
      "[Parallel(n_jobs=1)]: Done   9 out of   9 | elapsed:    0.0s remaining:    0.0s\n",
      "[Parallel(n_jobs=1)]: Done  10 out of  10 | elapsed:    0.0s finished\n"
     ]
    }
   ],
   "source": [
    "pred_train_y=RFReg0.predict(X_train)\n",
    "pred_test_y=RFReg0.predict(X_test)"
   ]
  },
  {
   "cell_type": "code",
   "execution_count": 152,
   "metadata": {},
   "outputs": [
    {
     "name": "stdout",
     "output_type": "stream",
     "text": [
      "MSE score(training): 88157.47197278912\n",
      "MAE score(training): 179.28571428571428\n",
      "MSE score: 1228986.771904762\n",
      "MAE score: 612.2714285714287\n",
      "accuracy score: 4555.2\n"
     ]
    }
   ],
   "source": [
    "from sklearn import metrics\n",
    "print('MSE score(training):',metrics.mean_squared_error(y_train, pred_train_y))\n",
    "print('MAE score(training):',metrics.mean_absolute_error(y_train, pred_train_y))\n",
    "print('MSE score:',metrics.mean_squared_error(y_test, pred_test_y))\n",
    "print('MAE score:',metrics.mean_absolute_error(y_test, pred_test_y))\n",
    "print('accuracy score:',metrics.max_error(y_test, pred_test_y))"
   ]
  },
  {
   "cell_type": "code",
   "execution_count": 153,
   "metadata": {},
   "outputs": [
    {
     "data": {
      "image/png": "[encoded data removed]",
      "text/plain": [
       "<Figure size 432x288 with 1 Axes>"
      ]
     },
     "metadata": {
      "needs_background": "light"
     },
     "output_type": "display_data"
    }
   ],
   "source": [
    "# take a look at the precition results (plotting)\n",
    "plt.scatter(pred_test_y,y_test, s=5)\n",
    "plt.title('test data prediction')\n",
    "plt.xlabel('predicted')\n",
    "plt.ylabel('true')\n",
    "plt.show()"
   ]
  },
  {
   "cell_type": "code",
   "execution_count": 154,
   "metadata": {},
   "outputs": [],
   "source": [
    "# test on transforming the target to clogs\n",
    "hdflogy= np.log(np.log(hdf_y+1))\n",
    "X_train, X_test, y_train, y_test = train_test_split(hdf_scX, hdflogy, test_size=0.3,random_state=12)"
   ]
  },
  {
   "cell_type": "code",
   "execution_count": 155,
   "metadata": {},
   "outputs": [],
   "source": [
    "RFReg1=RandomForestRegressor(random_state=12,verbose=10)"
   ]
  },
  {
   "cell_type": "code",
   "execution_count": 156,
   "metadata": {
    "collapsed": true,
    "jupyter": {
     "outputs_hidden": true
    }
   },
   "outputs": [
    {
     "name": "stderr",
     "output_type": "stream",
     "text": [
      "C:\\Users\\z0043H7B\\AppData\\Local\\Continuum\\miniconda3\\lib\\site-packages\\sklearn\\ensemble\\forest.py:245: FutureWarning: The default value of n_estimators will change from 10 in version 0.20 to 100 in 0.22.\n",
      "  \"10 in version 0.20 to 100 in 0.22.\", FutureWarning)\n",
      "[Parallel(n_jobs=1)]: Using backend SequentialBackend with 1 concurrent workers.\n"
     ]
    },
    {
     "name": "stdout",
     "output_type": "stream",
     "text": [
      "building tree 1 of 10\n"
     ]
    },
    {
     "name": "stderr",
     "output_type": "stream",
     "text": [
      "[Parallel(n_jobs=1)]: Done   1 out of   1 | elapsed:    0.0s remaining:    0.0s\n"
     ]
    },
    {
     "name": "stdout",
     "output_type": "stream",
     "text": [
      "building tree 2 of 10\n"
     ]
    },
    {
     "name": "stderr",
     "output_type": "stream",
     "text": [
      "[Parallel(n_jobs=1)]: Done   2 out of   2 | elapsed:    0.0s remaining:    0.0s\n"
     ]
    },
    {
     "name": "stdout",
     "output_type": "stream",
     "text": [
      "building tree 3 of 10\n"
     ]
    },
    {
     "name": "stderr",
     "output_type": "stream",
     "text": [
      "[Parallel(n_jobs=1)]: Done   3 out of   3 | elapsed:    0.0s remaining:    0.0s\n"
     ]
    },
    {
     "name": "stdout",
     "output_type": "stream",
     "text": [
      "building tree 4 of 10\n"
     ]
    },
    {
     "name": "stderr",
     "output_type": "stream",
     "text": [
      "[Parallel(n_jobs=1)]: Done   4 out of   4 | elapsed:    0.0s remaining:    0.0s\n"
     ]
    },
    {
     "name": "stdout",
     "output_type": "stream",
     "text": [
      "building tree 5 of 10\n"
     ]
    },
    {
     "name": "stderr",
     "output_type": "stream",
     "text": [
      "[Parallel(n_jobs=1)]: Done   5 out of   5 | elapsed:    0.0s remaining:    0.0s\n"
     ]
    },
    {
     "name": "stdout",
     "output_type": "stream",
     "text": [
      "building tree 6 of 10\n"
     ]
    },
    {
     "name": "stderr",
     "output_type": "stream",
     "text": [
      "[Parallel(n_jobs=1)]: Done   6 out of   6 | elapsed:    0.0s remaining:    0.0s\n"
     ]
    },
    {
     "name": "stdout",
     "output_type": "stream",
     "text": [
      "building tree 7 of 10\n"
     ]
    },
    {
     "name": "stderr",
     "output_type": "stream",
     "text": [
      "[Parallel(n_jobs=1)]: Done   7 out of   7 | elapsed:    0.0s remaining:    0.0s\n"
     ]
    },
    {
     "name": "stdout",
     "output_type": "stream",
     "text": [
      "building tree 8 of 10\n"
     ]
    },
    {
     "name": "stderr",
     "output_type": "stream",
     "text": [
      "[Parallel(n_jobs=1)]: Done   8 out of   8 | elapsed:    0.0s remaining:    0.0s\n"
     ]
    },
    {
     "name": "stdout",
     "output_type": "stream",
     "text": [
      "building tree 9 of 10\n"
     ]
    },
    {
     "name": "stderr",
     "output_type": "stream",
     "text": [
      "[Parallel(n_jobs=1)]: Done   9 out of   9 | elapsed:    0.0s remaining:    0.0s\n"
     ]
    },
    {
     "name": "stdout",
     "output_type": "stream",
     "text": [
      "building tree 10 of 10\n"
     ]
    },
    {
     "name": "stderr",
     "output_type": "stream",
     "text": [
      "[Parallel(n_jobs=1)]: Done  10 out of  10 | elapsed:    0.0s finished\n",
      "[Parallel(n_jobs=1)]: Using backend SequentialBackend with 1 concurrent workers.\n",
      "[Parallel(n_jobs=1)]: Done   1 out of   1 | elapsed:    0.0s remaining:    0.0s\n",
      "[Parallel(n_jobs=1)]: Done   2 out of   2 | elapsed:    0.0s remaining:    0.0s\n",
      "[Parallel(n_jobs=1)]: Done   3 out of   3 | elapsed:    0.0s remaining:    0.0s\n",
      "[Parallel(n_jobs=1)]: Done   4 out of   4 | elapsed:    0.0s remaining:    0.0s\n",
      "[Parallel(n_jobs=1)]: Done   5 out of   5 | elapsed:    0.0s remaining:    0.0s\n",
      "[Parallel(n_jobs=1)]: Done   6 out of   6 | elapsed:    0.0s remaining:    0.0s\n",
      "[Parallel(n_jobs=1)]: Done   7 out of   7 | elapsed:    0.0s remaining:    0.0s\n",
      "[Parallel(n_jobs=1)]: Done   8 out of   8 | elapsed:    0.0s remaining:    0.0s\n",
      "[Parallel(n_jobs=1)]: Done   9 out of   9 | elapsed:    0.0s remaining:    0.0s\n",
      "[Parallel(n_jobs=1)]: Done  10 out of  10 | elapsed:    0.0s finished\n",
      "[Parallel(n_jobs=1)]: Using backend SequentialBackend with 1 concurrent workers.\n",
      "[Parallel(n_jobs=1)]: Done   1 out of   1 | elapsed:    0.0s remaining:    0.0s\n",
      "[Parallel(n_jobs=1)]: Done   2 out of   2 | elapsed:    0.0s remaining:    0.0s\n",
      "[Parallel(n_jobs=1)]: Done   3 out of   3 | elapsed:    0.0s remaining:    0.0s\n",
      "[Parallel(n_jobs=1)]: Done   4 out of   4 | elapsed:    0.0s remaining:    0.0s\n",
      "[Parallel(n_jobs=1)]: Done   5 out of   5 | elapsed:    0.0s remaining:    0.0s\n",
      "[Parallel(n_jobs=1)]: Done   6 out of   6 | elapsed:    0.0s remaining:    0.0s\n",
      "[Parallel(n_jobs=1)]: Done   7 out of   7 | elapsed:    0.0s remaining:    0.0s\n",
      "[Parallel(n_jobs=1)]: Done   8 out of   8 | elapsed:    0.0s remaining:    0.0s\n",
      "[Parallel(n_jobs=1)]: Done   9 out of   9 | elapsed:    0.0s remaining:    0.0s\n",
      "[Parallel(n_jobs=1)]: Done  10 out of  10 | elapsed:    0.0s finished\n"
     ]
    }
   ],
   "source": [
    "RFReg1.fit(X_train,y_train)\n",
    "pred_train_y=RFReg1.predict(X_train)\n",
    "pred_test_y=RFReg1.predict(X_test)"
   ]
  },
  {
   "cell_type": "code",
   "execution_count": 157,
   "metadata": {},
   "outputs": [
    {
     "name": "stdout",
     "output_type": "stream",
     "text": [
      "MSE score(training): 0.0013978203323581676\n",
      "MAE score(training): 0.026453583525565573\n",
      "MSE score: 0.009533226836839787\n",
      "MAE score: 0.07163318419121681\n",
      "max error: 0.3367764950154559\n"
     ]
    }
   ],
   "source": [
    "# becareful this is the metrics for log transformed target \n",
    "print('MSE score(training):',metrics.mean_squared_error(y_train, pred_train_y))\n",
    "print('MAE score(training):',metrics.mean_absolute_error(y_train, pred_train_y))\n",
    "print('MSE score:',metrics.mean_squared_error(y_test, pred_test_y))\n",
    "print('MAE score:',metrics.mean_absolute_error(y_test, pred_test_y))\n",
    "print('max error:',metrics.max_error(y_test, pred_test_y))"
   ]
  },
  {
   "cell_type": "code",
   "execution_count": 158,
   "metadata": {},
   "outputs": [
    {
     "name": "stdout",
     "output_type": "stream",
     "text": [
      "MSE score(training): 195541.26782605727\n",
      "MAE score(training): 186.75206882974362\n",
      "MSE score: 1276414.6718210224\n",
      "MAE score: 553.4146782603685\n",
      "accuracy score: 4781.66149854675\n"
     ]
    }
   ],
   "source": [
    "invt_train_y=np.exp(np.exp(y_train))-1\n",
    "invt_test_y=np.exp(np.exp(y_test))-1\n",
    "invt_pred_train_y=np.exp(np.exp(pred_train_y))-1\n",
    "invt_pred_test_y=np.exp(np.exp(pred_test_y))-1\n",
    "print('MSE score(training):',metrics.mean_squared_error(invt_train_y, invt_pred_train_y))\n",
    "print('MAE score(training):',metrics.mean_absolute_error(invt_train_y, invt_pred_train_y))\n",
    "print('MSE score:',metrics.mean_squared_error(invt_test_y, invt_pred_test_y))\n",
    "print('MAE score:',metrics.mean_absolute_error(invt_test_y, invt_pred_test_y))\n",
    "print('accuracy score:',metrics.max_error(invt_test_y, invt_pred_test_y))"
   ]
  },
  {
   "cell_type": "code",
   "execution_count": 159,
   "metadata": {},
   "outputs": [
    {
     "data": {
      "image/png": "[encoded data removed]",
      "text/plain": [
       "<Figure size 432x288 with 1 Axes>"
      ]
     },
     "metadata": {
      "needs_background": "light"
     },
     "output_type": "display_data"
    }
   ],
   "source": [
    "plt.scatter(invt_pred_test_y,invt_test_y, s=5)\n",
    "plt.title('test data prediction')\n",
    "plt.xlabel('predicted')\n",
    "plt.ylabel('true')\n",
    "plt.xlim([0,1000])\n",
    "plt.ylim([0,1000])\n",
    "plt.show()"
   ]
  },
  {
   "cell_type": "code",
   "execution_count": 90,
   "metadata": {},
   "outputs": [],
   "source": [
    "# narrow down input features\n",
    "usecolns = list(ldf.columns.values)\n",
    "usecolns.remove('votes')\n",
    "usecolns.remove('ev_id')\n",
    "ldf_X = ldf[usecolns]\n",
    "ldf_y = ldf['votes']"
   ]
  },
  {
   "cell_type": "code",
   "execution_count": 91,
   "metadata": {},
   "outputs": [
    {
     "data": {
      "text/plain": [
       "Text(0, 0.5, 'event counts')"
      ]
     },
     "execution_count": 91,
     "metadata": {},
     "output_type": "execute_result"
    },
    {
     "data": {
      "image/png": "[encoded data removed]",
      "text/plain": [
       "<Figure size 432x288 with 1 Axes>"
      ]
     },
     "metadata": {
      "needs_background": "light"
     },
     "output_type": "display_data"
    }
   ],
   "source": [
    "n_bins = 50\n",
    "# subset votes to those not 1\n",
    "xx = [c for c in ldf_y if c>0]\n",
    "fig = plt.hist(xx,bins=n_bins)\n",
    "#plt.ylim([0,100])\n",
    "plt.xlabel('votes')\n",
    "plt.ylabel('event counts')"
   ]
  },
  {
   "cell_type": "code",
   "execution_count": 213,
   "metadata": {},
   "outputs": [],
   "source": [
    "# do PCA on the low votes\n",
    "n_keep =3\n",
    "solver = 'auto'\n",
    "tolerance = 0.01\n",
    "rand=12\n",
    "PCAmod = PCA(n_components=n_keep)#,svd_solver=solver, tol=tolerance, random_state=rand)\n",
    "#PCAmod = PCA()"
   ]
  },
  {
   "cell_type": "code",
   "execution_count": 214,
   "metadata": {},
   "outputs": [
    {
     "data": {
      "text/plain": [
       "PCA(copy=True, iterated_power='auto', n_components=3, random_state=None,\n",
       "    svd_solver='auto', tol=0.0, whiten=False)"
      ]
     },
     "execution_count": 214,
     "metadata": {},
     "output_type": "execute_result"
    }
   ],
   "source": [
    "PCAmod.fit(ldf_scX)"
   ]
  },
  {
   "cell_type": "code",
   "execution_count": 215,
   "metadata": {},
   "outputs": [],
   "source": [
    "lw_gp=PCAmod.fit_transform(ldf_scX)"
   ]
  },
  {
   "cell_type": "code",
   "execution_count": 216,
   "metadata": {},
   "outputs": [
    {
     "data": {
      "text/plain": [
       "(31854, 3)"
      ]
     },
     "execution_count": 216,
     "metadata": {},
     "output_type": "execute_result"
    }
   ],
   "source": [
    "lw_gp.shape"
   ]
  },
  {
   "cell_type": "code",
   "execution_count": 230,
   "metadata": {},
   "outputs": [
    {
     "data": {
      "text/plain": [
       "<matplotlib.colorbar.Colorbar at 0x204f06d44e0>"
      ]
     },
     "execution_count": 230,
     "metadata": {},
     "output_type": "execute_result"
    },
    {
     "data": {
      "image/png": "[encoded data removed]",
      "text/plain": [
       "<Figure size 432x288 with 2 Axes>"
      ]
     },
     "metadata": {
      "needs_background": "light"
     },
     "output_type": "display_data"
    }
   ],
   "source": [
    "# plot the clustering based on different PComponents\n",
    "x=lw_gp[:,0]\n",
    "y=lw_gp[:,1]\n",
    "# create a color scheme for different vote numbers\n",
    "plt.scatter(x,y,s=3,c=ldf_y, cmap='jet')\n",
    "plt.xlabel('PC0')\n",
    "plt.ylabel('PC1')\n",
    "plt.colorbar(orientation='horizontal')"
   ]
  },
  {
   "cell_type": "code",
   "execution_count": 231,
   "metadata": {},
   "outputs": [
    {
     "data": {
      "text/plain": [
       "<matplotlib.colorbar.Colorbar at 0x204f06b34a8>"
      ]
     },
     "execution_count": 231,
     "metadata": {},
     "output_type": "execute_result"
    },
    {
     "data": {
      "image/png": "[encoded data removed]",
      "text/plain": [
       "<Figure size 432x288 with 2 Axes>"
      ]
     },
     "metadata": {
      "needs_background": "light"
     },
     "output_type": "display_data"
    }
   ],
   "source": [
    "# plot the clustering based on different PComponents\n",
    "x=lw_gp[:,1]\n",
    "y=lw_gp[:,2]\n",
    "# create a color scheme for different vote numbers\n",
    "plt.scatter(x,y,s=3,c=ldf_y, cmap='jet')\n",
    "plt.xlabel('PC1')\n",
    "plt.ylabel('PC2')\n",
    "plt.colorbar(orientation='horizontal')"
   ]
  },
  {
   "cell_type": "code",
   "execution_count": 249,
   "metadata": {},
   "outputs": [
    {
     "ename": "NameError",
     "evalue": "name 'plotly' is not defined",
     "output_type": "error",
     "traceback": [
      "\u001b[1;31m---------------------------------------------------------------------------\u001b[0m",
      "\u001b[1;31mNameError\u001b[0m                                 Traceback (most recent call last)",
      "\u001b[1;32m<ipython-input-249-8ccbb0634ce6>\u001b[0m in \u001b[0;36m<module>\u001b[1;34m\u001b[0m\n\u001b[0;32m      1\u001b[0m \u001b[1;31m# try a 3D figure\u001b[0m\u001b[1;33m\u001b[0m\u001b[1;33m\u001b[0m\u001b[1;33m\u001b[0m\u001b[0m\n\u001b[1;32m----> 2\u001b[1;33m \u001b[0mplotly\u001b[0m\u001b[1;33m.\u001b[0m\u001b[0moffline\u001b[0m\u001b[1;33m.\u001b[0m\u001b[0minit_notebook_mode\u001b[0m\u001b[1;33m(\u001b[0m\u001b[0mconnected\u001b[0m\u001b[1;33m=\u001b[0m\u001b[1;32mTrue\u001b[0m\u001b[1;33m)\u001b[0m\u001b[1;33m\u001b[0m\u001b[1;33m\u001b[0m\u001b[0m\n\u001b[0m\u001b[0;32m      3\u001b[0m \u001b[1;32mimport\u001b[0m \u001b[0mplotly\u001b[0m\u001b[1;33m.\u001b[0m\u001b[0mgraph_objects\u001b[0m \u001b[1;32mas\u001b[0m \u001b[0mgo\u001b[0m\u001b[1;33m\u001b[0m\u001b[1;33m\u001b[0m\u001b[0m\n\u001b[0;32m      4\u001b[0m \u001b[1;31m# Helix equation\u001b[0m\u001b[1;33m\u001b[0m\u001b[1;33m\u001b[0m\u001b[1;33m\u001b[0m\u001b[0m\n\u001b[0;32m      5\u001b[0m \u001b[0mx\u001b[0m\u001b[1;33m,\u001b[0m \u001b[0my\u001b[0m\u001b[1;33m,\u001b[0m \u001b[0mz\u001b[0m \u001b[1;33m=\u001b[0m \u001b[0mlw_gp\u001b[0m\u001b[1;33m[\u001b[0m\u001b[1;33m:\u001b[0m\u001b[1;33m,\u001b[0m\u001b[1;36m0\u001b[0m\u001b[1;33m]\u001b[0m\u001b[1;33m,\u001b[0m \u001b[0mlw_gp\u001b[0m\u001b[1;33m[\u001b[0m\u001b[1;33m:\u001b[0m\u001b[1;33m,\u001b[0m\u001b[1;36m1\u001b[0m\u001b[1;33m]\u001b[0m\u001b[1;33m,\u001b[0m \u001b[0mlw_gp\u001b[0m\u001b[1;33m[\u001b[0m\u001b[1;33m:\u001b[0m\u001b[1;33m,\u001b[0m\u001b[1;36m2\u001b[0m\u001b[1;33m]\u001b[0m\u001b[1;33m\u001b[0m\u001b[1;33m\u001b[0m\u001b[0m\n",
      "\u001b[1;31mNameError\u001b[0m: name 'plotly' is not defined"
     ]
    }
   ],
   "source": [
    "# try a 3D figure\n",
    "plotly.offline.init_notebook_mode(connected=True)\n",
    "import plotly.graph_objects as go\n",
    "# Helix equation\n",
    "x, y, z = lw_gp[:,0], lw_gp[:,1], lw_gp[:,2]\n",
    "\n",
    "fig = go.Figure(data=[go.Scatter3d(\n",
    "    x=x,\n",
    "    y=y,\n",
    "    z=z,\n",
    "    mode='markers',\n",
    "    marker=dict(\n",
    "        size=12,\n",
    "        color=z,                # set color to an array/list of desired values\n",
    "        colorscale='Viridis',   # choose a colorscale\n",
    "        opacity=0.8\n",
    "    )\n",
    ")])\n",
    "\n",
    "# tight layout\n",
    "#fig.update_layout(margin=dict(l=0, r=0, b=0, t=0))\n",
    "fig.show()"
   ]
  },
  {
   "cell_type": "code",
   "execution_count": 192,
   "metadata": {},
   "outputs": [],
   "source": [
    "var=np.cumsum(PCAmod.explained_variance_ratio_)"
   ]
  },
  {
   "cell_type": "code",
   "execution_count": 196,
   "metadata": {},
   "outputs": [
    {
     "data": {
      "text/plain": [
       "Text(0, 0.5, 'cumulated ratio explained')"
      ]
     },
     "execution_count": 196,
     "metadata": {},
     "output_type": "execute_result"
    },
    {
     "data": {
      "image/png": "[encoded data removed]",
      "text/plain": [
       "<Figure size 432x288 with 1 Axes>"
      ]
     },
     "metadata": {
      "needs_background": "light"
     },
     "output_type": "display_data"
    }
   ],
   "source": [
    "\n",
    "plt.plot(var)\n",
    "plt.xlabel('number of components')\n",
    "plt.ylabel('cumulated ratio explained')"
   ]
  },
  {
   "cell_type": "code",
   "execution_count": 217,
   "metadata": {},
   "outputs": [
    {
     "data": {
      "text/plain": [
       "<bound method BaseEstimator.get_params of PCA(copy=True, iterated_power='auto', n_components=3, random_state=None,\n",
       "    svd_solver='auto', tol=0.0, whiten=False)>"
      ]
     },
     "execution_count": 217,
     "metadata": {},
     "output_type": "execute_result"
    }
   ],
   "source": [
    "PCAmod.get_params"
   ]
  },
  {
   "cell_type": "code",
   "execution_count": null,
   "metadata": {},
   "outputs": [],
   "source": []
  }
 ],
 "metadata": {
  "kernelspec": {
   "display_name": "Python 3",
   "language": "python",
   "name": "python3"
  },
  "language_info": {
   "codemirror_mode": {
    "name": "ipython",
    "version": 3
   },
   "file_extension": ".py",
   "mimetype": "text/x-python",
   "name": "python",
   "nbconvert_exporter": "python",
   "pygments_lexer": "ipython3",
   "version": "3.7.3"
  }
 },
 "nbformat": 4,
 "nbformat_minor": 4
}
