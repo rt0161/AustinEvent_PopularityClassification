{
 "cells": [
  {
   "cell_type": "code",
   "execution_count": 1,
   "metadata": {},
   "outputs": [],
   "source": [
    "import time\n",
    "import datetime\n",
    "import copy\n",
    "import numpy as np\n",
    "import math\n",
    "\n",
    "import pandas as pd\n",
    "import json\n",
    "from bson.json_util import dumps"
   ]
  },
  {
   "cell_type": "code",
   "execution_count": 2,
   "metadata": {},
   "outputs": [],
   "source": [
    "from fastparquet import ParquetFile,write"
   ]
  },
  {
   "cell_type": "code",
   "execution_count": 91,
   "metadata": {
    "collapsed": true,
    "jupyter": {
     "outputs_hidden": true
    }
   },
   "outputs": [
    {
     "name": "stdout",
     "output_type": "stream",
     "text": [
      "<class 'pandas.core.frame.DataFrame'>\n",
      "Int64Index: 40703 entries, 11049447 to 9968570\n",
      "Data columns (total 24 columns):\n",
      "category                 40703 non-null int64\n",
      "past                     40703 non-null int32\n",
      "votes                    40703 non-null int64\n",
      "is_eventbrite            40703 non-null int32\n",
      "is_free                  40703 non-null int32\n",
      "doors                    40703 non-null int32\n",
      "sold_out                 40703 non-null int32\n",
      "venue.id                 40703 non-null int64\n",
      "venue.popularity         40703 non-null float64\n",
      "venue.zip                40703 non-null int64\n",
      "ticket_allages           40703 non-null int32\n",
      "ticket_price_low         40703 non-null float64\n",
      "ticket_price_max         40703 non-null float64\n",
      "min_age                  40703 non-null int32\n",
      "artist.popularity.sum    40703 non-null float64\n",
      "artist.popularity.avg    40703 non-null float64\n",
      "artist.popularity.max    40703 non-null float64\n",
      "dow                      40703 non-null int64\n",
      "doy                      40703 non-null int64\n",
      "month                    40703 non-null int64\n",
      "day                      40703 non-null int64\n",
      "hour                     40703 non-null int64\n",
      "venue.tol_num_events     40703 non-null int64\n",
      "ev_id                    40703 non-null int64\n",
      "dtypes: float64(6), int32(7), int64(11)\n",
      "memory usage: 6.7 MB\n"
     ]
    }
   ],
   "source": [
    "udf.info()"
   ]
  },
  {
   "cell_type": "code",
   "execution_count": 122,
   "metadata": {},
   "outputs": [
    {
     "data": {
      "text/html": [
       "<div>\n",
       "<style scoped>\n",
       "    .dataframe tbody tr th:only-of-type {\n",
       "        vertical-align: middle;\n",
       "    }\n",
       "\n",
       "    .dataframe tbody tr th {\n",
       "        vertical-align: top;\n",
       "    }\n",
       "\n",
       "    .dataframe thead th {\n",
       "        text-align: right;\n",
       "    }\n",
       "</style>\n",
       "<table border=\"1\" class=\"dataframe\">\n",
       "  <thead>\n",
       "    <tr style=\"text-align: right;\">\n",
       "      <th></th>\n",
       "      <th>category</th>\n",
       "      <th>past</th>\n",
       "      <th>votes</th>\n",
       "      <th>is_eventbrite</th>\n",
       "      <th>is_free</th>\n",
       "      <th>doors</th>\n",
       "      <th>sold_out</th>\n",
       "      <th>venue.id</th>\n",
       "      <th>venue.popularity</th>\n",
       "      <th>venue.zip</th>\n",
       "      <th>...</th>\n",
       "      <th>artist.popularity.sum</th>\n",
       "      <th>artist.popularity.avg</th>\n",
       "      <th>artist.popularity.max</th>\n",
       "      <th>dow</th>\n",
       "      <th>doy</th>\n",
       "      <th>month</th>\n",
       "      <th>day</th>\n",
       "      <th>hour</th>\n",
       "      <th>venue.tol_num_events</th>\n",
       "      <th>ev_id</th>\n",
       "    </tr>\n",
       "    <tr>\n",
       "      <th>id</th>\n",
       "      <th></th>\n",
       "      <th></th>\n",
       "      <th></th>\n",
       "      <th></th>\n",
       "      <th></th>\n",
       "      <th></th>\n",
       "      <th></th>\n",
       "      <th></th>\n",
       "      <th></th>\n",
       "      <th></th>\n",
       "      <th></th>\n",
       "      <th></th>\n",
       "      <th></th>\n",
       "      <th></th>\n",
       "      <th></th>\n",
       "      <th></th>\n",
       "      <th></th>\n",
       "      <th></th>\n",
       "      <th></th>\n",
       "      <th></th>\n",
       "      <th></th>\n",
       "    </tr>\n",
       "  </thead>\n",
       "  <tbody>\n",
       "    <tr>\n",
       "      <th>11049447</th>\n",
       "      <td>0</td>\n",
       "      <td>0</td>\n",
       "      <td>784</td>\n",
       "      <td>0</td>\n",
       "      <td>0</td>\n",
       "      <td>1</td>\n",
       "      <td>0</td>\n",
       "      <td>113</td>\n",
       "      <td>15.0</td>\n",
       "      <td>78701</td>\n",
       "      <td>...</td>\n",
       "      <td>73238.0</td>\n",
       "      <td>73238.0</td>\n",
       "      <td>73238.0</td>\n",
       "      <td>3</td>\n",
       "      <td>276</td>\n",
       "      <td>10</td>\n",
       "      <td>3</td>\n",
       "      <td>19</td>\n",
       "      <td>377</td>\n",
       "      <td>11049447</td>\n",
       "    </tr>\n",
       "    <tr>\n",
       "      <th>11049456</th>\n",
       "      <td>0</td>\n",
       "      <td>0</td>\n",
       "      <td>223</td>\n",
       "      <td>0</td>\n",
       "      <td>0</td>\n",
       "      <td>1</td>\n",
       "      <td>0</td>\n",
       "      <td>175439</td>\n",
       "      <td>15.0</td>\n",
       "      <td>78741</td>\n",
       "      <td>...</td>\n",
       "      <td>101.0</td>\n",
       "      <td>101.0</td>\n",
       "      <td>101.0</td>\n",
       "      <td>3</td>\n",
       "      <td>276</td>\n",
       "      <td>10</td>\n",
       "      <td>3</td>\n",
       "      <td>20</td>\n",
       "      <td>116</td>\n",
       "      <td>11049456</td>\n",
       "    </tr>\n",
       "    <tr>\n",
       "      <th>11049430</th>\n",
       "      <td>0</td>\n",
       "      <td>0</td>\n",
       "      <td>163</td>\n",
       "      <td>0</td>\n",
       "      <td>0</td>\n",
       "      <td>1</td>\n",
       "      <td>0</td>\n",
       "      <td>654</td>\n",
       "      <td>15.0</td>\n",
       "      <td>78702</td>\n",
       "      <td>...</td>\n",
       "      <td>3770.0</td>\n",
       "      <td>1885.0</td>\n",
       "      <td>1885.0</td>\n",
       "      <td>3</td>\n",
       "      <td>276</td>\n",
       "      <td>10</td>\n",
       "      <td>3</td>\n",
       "      <td>18</td>\n",
       "      <td>237</td>\n",
       "      <td>11049430</td>\n",
       "    </tr>\n",
       "    <tr>\n",
       "      <th>11186444</th>\n",
       "      <td>1</td>\n",
       "      <td>0</td>\n",
       "      <td>151</td>\n",
       "      <td>0</td>\n",
       "      <td>1</td>\n",
       "      <td>0</td>\n",
       "      <td>0</td>\n",
       "      <td>407459</td>\n",
       "      <td>1.0</td>\n",
       "      <td>0</td>\n",
       "      <td>...</td>\n",
       "      <td>28.0</td>\n",
       "      <td>28.0</td>\n",
       "      <td>28.0</td>\n",
       "      <td>3</td>\n",
       "      <td>276</td>\n",
       "      <td>10</td>\n",
       "      <td>3</td>\n",
       "      <td>20</td>\n",
       "      <td>31</td>\n",
       "      <td>11186444</td>\n",
       "    </tr>\n",
       "    <tr>\n",
       "      <th>11141496</th>\n",
       "      <td>1</td>\n",
       "      <td>0</td>\n",
       "      <td>126</td>\n",
       "      <td>1</td>\n",
       "      <td>0</td>\n",
       "      <td>1</td>\n",
       "      <td>0</td>\n",
       "      <td>302617</td>\n",
       "      <td>1.0</td>\n",
       "      <td>78701</td>\n",
       "      <td>...</td>\n",
       "      <td>0.0</td>\n",
       "      <td>0.0</td>\n",
       "      <td>0.0</td>\n",
       "      <td>3</td>\n",
       "      <td>276</td>\n",
       "      <td>10</td>\n",
       "      <td>3</td>\n",
       "      <td>19</td>\n",
       "      <td>244</td>\n",
       "      <td>11141496</td>\n",
       "    </tr>\n",
       "  </tbody>\n",
       "</table>\n",
       "<p>5 rows × 24 columns</p>\n",
       "</div>"
      ],
      "text/plain": [
       "          category  past  votes  is_eventbrite  is_free  doors  sold_out  \\\n",
       "id                                                                         \n",
       "11049447         0     0    784              0        0      1         0   \n",
       "11049456         0     0    223              0        0      1         0   \n",
       "11049430         0     0    163              0        0      1         0   \n",
       "11186444         1     0    151              0        1      0         0   \n",
       "11141496         1     0    126              1        0      1         0   \n",
       "\n",
       "          venue.id  venue.popularity  venue.zip  ...  artist.popularity.sum  \\\n",
       "id                                               ...                          \n",
       "11049447       113              15.0      78701  ...                73238.0   \n",
       "11049456    175439              15.0      78741  ...                  101.0   \n",
       "11049430       654              15.0      78702  ...                 3770.0   \n",
       "11186444    407459               1.0          0  ...                   28.0   \n",
       "11141496    302617               1.0      78701  ...                    0.0   \n",
       "\n",
       "          artist.popularity.avg  artist.popularity.max  dow  doy  month  day  \\\n",
       "id                                                                             \n",
       "11049447                73238.0                73238.0    3  276     10    3   \n",
       "11049456                  101.0                  101.0    3  276     10    3   \n",
       "11049430                 1885.0                 1885.0    3  276     10    3   \n",
       "11186444                   28.0                   28.0    3  276     10    3   \n",
       "11141496                    0.0                    0.0    3  276     10    3   \n",
       "\n",
       "          hour  venue.tol_num_events     ev_id  \n",
       "id                                              \n",
       "11049447    19                   377  11049447  \n",
       "11049456    20                   116  11049456  \n",
       "11049430    18                   237  11049430  \n",
       "11186444    20                    31  11186444  \n",
       "11141496    19                   244  11141496  \n",
       "\n",
       "[5 rows x 24 columns]"
      ]
     },
     "execution_count": 122,
     "metadata": {},
     "output_type": "execute_result"
    }
   ],
   "source": [
    "udf.head()"
   ]
  },
  {
   "cell_type": "code",
   "execution_count": 60,
   "metadata": {},
   "outputs": [],
   "source": [
    "pf=ParquetFile('full_1st_setoffeat_events4ml.parq')\n",
    "udf=pf.to_pandas()"
   ]
  },
  {
   "cell_type": "code",
   "execution_count": 61,
   "metadata": {},
   "outputs": [],
   "source": [
    "# put back event id , used for drop duplicates\n",
    "evvts=pd.read_csv('event_votes.csv')"
   ]
  },
  {
   "cell_type": "code",
   "execution_count": 62,
   "metadata": {},
   "outputs": [],
   "source": [
    "udf['ev_id']=evvts['id'].values"
   ]
  },
  {
   "cell_type": "code",
   "execution_count": 63,
   "metadata": {},
   "outputs": [],
   "source": [
    "udf.drop_duplicates(subset='ev_id',inplace=True)"
   ]
  },
  {
   "cell_type": "code",
   "execution_count": 123,
   "metadata": {},
   "outputs": [],
   "source": [
    "write('full_1st_setoffeat_events4ml2.parq',udf)"
   ]
  },
  {
   "cell_type": "code",
   "execution_count": 68,
   "metadata": {},
   "outputs": [],
   "source": [
    "udf_y=udf['votes'] # data y--target\n",
    "##*****transform the votes to log(x-np.mean(x)+1) ******###\n",
    "udf_y=[np.log(x+1) for x in udf_y]\n",
    "a=list(udf.columns.values)\n",
    "a.remove('votes')\n",
    "a.remove('ev_id') \n",
    "udf_x=udf[a]       # data X"
   ]
  },
  {
   "cell_type": "code",
   "execution_count": 117,
   "metadata": {},
   "outputs": [],
   "source": [
    "org=udf['votes'][0:10]\n",
    "converted=udf_y[0:10]"
   ]
  },
  {
   "cell_type": "code",
   "execution_count": 118,
   "metadata": {},
   "outputs": [],
   "source": [
    "back=[np.exp(x)-1 for x in converted]"
   ]
  },
  {
   "cell_type": "code",
   "execution_count": 121,
   "metadata": {},
   "outputs": [],
   "source": [
    "## start Modeling trail\n",
    "## bechmark model metric setup\n",
    "from sklearn.model_selection import train_test_split\n",
    "X_train, X_test, y_train, y_test = train_test_split(udf_x, udf_y, test_size=0.3, random_state=12)"
   ]
  },
  {
   "cell_type": "code",
   "execution_count": 73,
   "metadata": {},
   "outputs": [
    {
     "data": {
      "text/html": [
       "<div>\n",
       "<style scoped>\n",
       "    .dataframe tbody tr th:only-of-type {\n",
       "        vertical-align: middle;\n",
       "    }\n",
       "\n",
       "    .dataframe tbody tr th {\n",
       "        vertical-align: top;\n",
       "    }\n",
       "\n",
       "    .dataframe thead th {\n",
       "        text-align: right;\n",
       "    }\n",
       "</style>\n",
       "<table border=\"1\" class=\"dataframe\">\n",
       "  <thead>\n",
       "    <tr style=\"text-align: right;\">\n",
       "      <th></th>\n",
       "      <th>category</th>\n",
       "      <th>past</th>\n",
       "      <th>is_eventbrite</th>\n",
       "      <th>is_free</th>\n",
       "      <th>doors</th>\n",
       "      <th>sold_out</th>\n",
       "      <th>venue.id</th>\n",
       "      <th>venue.popularity</th>\n",
       "      <th>venue.zip</th>\n",
       "      <th>ticket_allages</th>\n",
       "      <th>...</th>\n",
       "      <th>min_age</th>\n",
       "      <th>artist.popularity.sum</th>\n",
       "      <th>artist.popularity.avg</th>\n",
       "      <th>artist.popularity.max</th>\n",
       "      <th>dow</th>\n",
       "      <th>doy</th>\n",
       "      <th>month</th>\n",
       "      <th>day</th>\n",
       "      <th>hour</th>\n",
       "      <th>venue.tol_num_events</th>\n",
       "    </tr>\n",
       "    <tr>\n",
       "      <th>id</th>\n",
       "      <th></th>\n",
       "      <th></th>\n",
       "      <th></th>\n",
       "      <th></th>\n",
       "      <th></th>\n",
       "      <th></th>\n",
       "      <th></th>\n",
       "      <th></th>\n",
       "      <th></th>\n",
       "      <th></th>\n",
       "      <th></th>\n",
       "      <th></th>\n",
       "      <th></th>\n",
       "      <th></th>\n",
       "      <th></th>\n",
       "      <th></th>\n",
       "      <th></th>\n",
       "      <th></th>\n",
       "      <th></th>\n",
       "      <th></th>\n",
       "      <th></th>\n",
       "    </tr>\n",
       "  </thead>\n",
       "  <tbody>\n",
       "    <tr>\n",
       "      <th>9958261</th>\n",
       "      <td>4</td>\n",
       "      <td>1</td>\n",
       "      <td>0</td>\n",
       "      <td>1</td>\n",
       "      <td>0</td>\n",
       "      <td>0</td>\n",
       "      <td>400317</td>\n",
       "      <td>1.0</td>\n",
       "      <td>78724</td>\n",
       "      <td>0</td>\n",
       "      <td>...</td>\n",
       "      <td>0</td>\n",
       "      <td>0.0</td>\n",
       "      <td>0.0</td>\n",
       "      <td>0.0</td>\n",
       "      <td>4</td>\n",
       "      <td>278</td>\n",
       "      <td>10</td>\n",
       "      <td>5</td>\n",
       "      <td>18</td>\n",
       "      <td>63</td>\n",
       "    </tr>\n",
       "    <tr>\n",
       "      <th>10153657</th>\n",
       "      <td>4</td>\n",
       "      <td>1</td>\n",
       "      <td>0</td>\n",
       "      <td>0</td>\n",
       "      <td>0</td>\n",
       "      <td>0</td>\n",
       "      <td>268172</td>\n",
       "      <td>1.0</td>\n",
       "      <td>0</td>\n",
       "      <td>0</td>\n",
       "      <td>...</td>\n",
       "      <td>0</td>\n",
       "      <td>0.0</td>\n",
       "      <td>0.0</td>\n",
       "      <td>0.0</td>\n",
       "      <td>5</td>\n",
       "      <td>342</td>\n",
       "      <td>12</td>\n",
       "      <td>8</td>\n",
       "      <td>22</td>\n",
       "      <td>561</td>\n",
       "    </tr>\n",
       "    <tr>\n",
       "      <th>10008973</th>\n",
       "      <td>0</td>\n",
       "      <td>1</td>\n",
       "      <td>0</td>\n",
       "      <td>1</td>\n",
       "      <td>1</td>\n",
       "      <td>0</td>\n",
       "      <td>119</td>\n",
       "      <td>7.0</td>\n",
       "      <td>78701</td>\n",
       "      <td>0</td>\n",
       "      <td>...</td>\n",
       "      <td>21</td>\n",
       "      <td>1.0</td>\n",
       "      <td>1.0</td>\n",
       "      <td>1.0</td>\n",
       "      <td>1</td>\n",
       "      <td>331</td>\n",
       "      <td>11</td>\n",
       "      <td>27</td>\n",
       "      <td>21</td>\n",
       "      <td>460</td>\n",
       "    </tr>\n",
       "    <tr>\n",
       "      <th>10683150</th>\n",
       "      <td>7</td>\n",
       "      <td>1</td>\n",
       "      <td>0</td>\n",
       "      <td>0</td>\n",
       "      <td>0</td>\n",
       "      <td>0</td>\n",
       "      <td>397700</td>\n",
       "      <td>1.0</td>\n",
       "      <td>0</td>\n",
       "      <td>0</td>\n",
       "      <td>...</td>\n",
       "      <td>0</td>\n",
       "      <td>0.0</td>\n",
       "      <td>0.0</td>\n",
       "      <td>0.0</td>\n",
       "      <td>5</td>\n",
       "      <td>131</td>\n",
       "      <td>5</td>\n",
       "      <td>11</td>\n",
       "      <td>14</td>\n",
       "      <td>1</td>\n",
       "    </tr>\n",
       "    <tr>\n",
       "      <th>9930547</th>\n",
       "      <td>1</td>\n",
       "      <td>1</td>\n",
       "      <td>0</td>\n",
       "      <td>1</td>\n",
       "      <td>0</td>\n",
       "      <td>0</td>\n",
       "      <td>19704</td>\n",
       "      <td>15.0</td>\n",
       "      <td>78701</td>\n",
       "      <td>0</td>\n",
       "      <td>...</td>\n",
       "      <td>0</td>\n",
       "      <td>220.0</td>\n",
       "      <td>55.0</td>\n",
       "      <td>55.0</td>\n",
       "      <td>4</td>\n",
       "      <td>285</td>\n",
       "      <td>10</td>\n",
       "      <td>12</td>\n",
       "      <td>20</td>\n",
       "      <td>481</td>\n",
       "    </tr>\n",
       "  </tbody>\n",
       "</table>\n",
       "<p>5 rows × 22 columns</p>\n",
       "</div>"
      ],
      "text/plain": [
       "          category  past  is_eventbrite  is_free  doors  sold_out  venue.id  \\\n",
       "id                                                                            \n",
       "9958261          4     1              0        1      0         0    400317   \n",
       "10153657         4     1              0        0      0         0    268172   \n",
       "10008973         0     1              0        1      1         0       119   \n",
       "10683150         7     1              0        0      0         0    397700   \n",
       "9930547          1     1              0        1      0         0     19704   \n",
       "\n",
       "          venue.popularity  venue.zip  ticket_allages  ...  min_age  \\\n",
       "id                                                     ...            \n",
       "9958261                1.0      78724               0  ...        0   \n",
       "10153657               1.0          0               0  ...        0   \n",
       "10008973               7.0      78701               0  ...       21   \n",
       "10683150               1.0          0               0  ...        0   \n",
       "9930547               15.0      78701               0  ...        0   \n",
       "\n",
       "          artist.popularity.sum  artist.popularity.avg  artist.popularity.max  \\\n",
       "id                                                                              \n",
       "9958261                     0.0                    0.0                    0.0   \n",
       "10153657                    0.0                    0.0                    0.0   \n",
       "10008973                    1.0                    1.0                    1.0   \n",
       "10683150                    0.0                    0.0                    0.0   \n",
       "9930547                   220.0                   55.0                   55.0   \n",
       "\n",
       "          dow  doy  month  day  hour  venue.tol_num_events  \n",
       "id                                                          \n",
       "9958261     4  278     10    5    18                    63  \n",
       "10153657    5  342     12    8    22                   561  \n",
       "10008973    1  331     11   27    21                   460  \n",
       "10683150    5  131      5   11    14                     1  \n",
       "9930547     4  285     10   12    20                   481  \n",
       "\n",
       "[5 rows x 22 columns]"
      ]
     },
     "execution_count": 73,
     "metadata": {},
     "output_type": "execute_result"
    }
   ],
   "source": [
    "X_train.head()"
   ]
  },
  {
   "cell_type": "code",
   "execution_count": 104,
   "metadata": {},
   "outputs": [],
   "source": [
    "# convert votes back to original values for comparison\n",
    "b_y=np.log(np.mean(udf['votes'])+1)"
   ]
  },
  {
   "cell_type": "code",
   "execution_count": 105,
   "metadata": {},
   "outputs": [
    {
     "data": {
      "text/plain": [
       "2.7186223279297987"
      ]
     },
     "execution_count": 105,
     "metadata": {},
     "output_type": "execute_result"
    }
   ],
   "source": [
    "b_y"
   ]
  },
  {
   "cell_type": "code",
   "execution_count": 142,
   "metadata": {},
   "outputs": [
    {
     "name": "stdout",
     "output_type": "stream",
     "text": [
      "predicted benchmark value is: 14.15942313834361\n"
     ]
    }
   ],
   "source": [
    "print(\"predicted benchmark value is:\",np.exp(b_y)-1)"
   ]
  },
  {
   "cell_type": "code",
   "execution_count": 106,
   "metadata": {},
   "outputs": [],
   "source": [
    "# convert y_train back to original\n",
    "y_org_train=[np.exp(x)-1 for x in y_train]"
   ]
  },
  {
   "cell_type": "code",
   "execution_count": 108,
   "metadata": {},
   "outputs": [],
   "source": [
    "b_pred_y = [b_y for x in range(len(y_train)) ]"
   ]
  },
  {
   "cell_type": "code",
   "execution_count": 109,
   "metadata": {},
   "outputs": [
    {
     "name": "stdout",
     "output_type": "stream",
     "text": [
      "MSE score(training): 10744.594427259293\n",
      "MAE score(training): 13.245873549386873\n"
     ]
    }
   ],
   "source": [
    "# access the benchmark y_pred\n",
    "from sklearn import metrics\n",
    "print('MSE score(training):',metrics.mean_squared_error(y_org_train, b_pred_y))\n",
    "print('MAE score(training):',metrics.mean_absolute_error(y_org_train, b_pred_y))\n",
    "#print('MSE score:',metrics.mean_squared_error(y_test, pred_test))\n",
    "#print('MAE score:',metrics.mean_absolute_error(y_test, pred_test))"
   ]
  },
  {
   "cell_type": "code",
   "execution_count": 110,
   "metadata": {},
   "outputs": [],
   "source": [
    "## linear regression model\n",
    "from sklearn import linear_model\n",
    "LR_model0 = linear_model.LinearRegression()"
   ]
  },
  {
   "cell_type": "code",
   "execution_count": 111,
   "metadata": {},
   "outputs": [
    {
     "data": {
      "text/plain": [
       "LinearRegression(copy_X=True, fit_intercept=True, n_jobs=None, normalize=False)"
      ]
     },
     "execution_count": 111,
     "metadata": {},
     "output_type": "execute_result"
    }
   ],
   "source": [
    "LR_model0.fit(X_train,y_train)"
   ]
  },
  {
   "cell_type": "code",
   "execution_count": 112,
   "metadata": {},
   "outputs": [
    {
     "name": "stdout",
     "output_type": "stream",
     "text": [
      "training score of Linear Regression: 1.0\n",
      "testing score of Linear Regression: 1.0\n"
     ]
    }
   ],
   "source": [
    "pred_train = LR_model0.predict(X_train)\n",
    "print('training score of Linear Regression:',LR_model0.score(X_train,pred_train))\n",
    "pred_test=LR_model0.predict(X_test)\n",
    "print('testing score of Linear Regression:',LR_model0.score(X_test,pred_test))"
   ]
  },
  {
   "cell_type": "code",
   "execution_count": 113,
   "metadata": {},
   "outputs": [
    {
     "name": "stdout",
     "output_type": "stream",
     "text": [
      "MSE score(training): 0.9396493791019523\n",
      "MAE score(training): 0.6935414216923182\n",
      "MSE score: 0.9489215433161305\n",
      "MAE score: 0.6961246517962636\n"
     ]
    }
   ],
   "source": [
    "print('MSE score(training):',metrics.mean_squared_error(y_train, pred_train))\n",
    "print('MAE score(training):',metrics.mean_absolute_error(y_train, pred_train))\n",
    "print('MSE score:',metrics.mean_squared_error(y_test, pred_test))\n",
    "print('MAE score:',metrics.mean_absolute_error(y_test, pred_test))"
   ]
  },
  {
   "cell_type": "code",
   "execution_count": 164,
   "metadata": {},
   "outputs": [],
   "source": [
    "from scipy import stats\n",
    "import statsmodels.api as sm"
   ]
  },
  {
   "cell_type": "code",
   "execution_count": 165,
   "metadata": {
    "collapsed": true,
    "jupyter": {
     "outputs_hidden": true
    }
   },
   "outputs": [
    {
     "name": "stdout",
     "output_type": "stream",
     "text": [
      "                            OLS Regression Results                            \n",
      "==============================================================================\n",
      "Dep. Variable:                      y   R-squared:                       0.345\n",
      "Model:                            OLS   Adj. R-squared:                  0.344\n",
      "Method:                 Least Squares   F-statistic:                     713.8\n",
      "Date:                Tue, 29 Oct 2019   Prob (F-statistic):               0.00\n",
      "Time:                        17:06:56   Log-Likelihood:                -39542.\n",
      "No. Observations:               28492   AIC:                         7.913e+04\n",
      "Df Residuals:                   28470   BIC:                         7.931e+04\n",
      "Df Model:                          21                                         \n",
      "Covariance Type:            nonrobust                                         \n",
      "=========================================================================================\n",
      "                            coef    std err          t      P>|t|      [0.025      0.975]\n",
      "-----------------------------------------------------------------------------------------\n",
      "const                     1.4761      0.292      5.057      0.000       0.904       2.048\n",
      "category                 -0.0482      0.001    -36.395      0.000      -0.051      -0.046\n",
      "past                     -0.1961      0.117     -1.683      0.092      -0.425       0.032\n",
      "is_eventbrite             0.5268      0.029     18.383      0.000       0.471       0.583\n",
      "is_free                   0.2041      0.014     14.337      0.000       0.176       0.232\n",
      "doors                     0.6736      0.021     32.702      0.000       0.633       0.714\n",
      "sold_out                  0.5598      0.080      7.035      0.000       0.404       0.716\n",
      "venue.id              -6.158e-07   3.75e-08    -16.438      0.000   -6.89e-07   -5.42e-07\n",
      "venue.popularity          0.0731      0.001     49.071      0.000       0.070       0.076\n",
      "venue.zip              8.378e-07   2.18e-07      3.851      0.000    4.11e-07    1.26e-06\n",
      "ticket_allages            0.3140      0.023     13.671      0.000       0.269       0.359\n",
      "ticket_price_low         -0.0004      0.000     -2.356      0.018      -0.001   -6.29e-05\n",
      "ticket_price_max          0.0011      0.000      6.766      0.000       0.001       0.001\n",
      "min_age                   0.0066      0.001      7.401      0.000       0.005       0.008\n",
      "artist.popularity.sum  1.695e-06   2.14e-07      7.913      0.000    1.27e-06    2.11e-06\n",
      "artist.popularity.avg   2.26e-05   9.75e-07     23.172      0.000    2.07e-05    2.45e-05\n",
      "artist.popularity.max   2.26e-05   9.75e-07     23.172      0.000    2.07e-05    2.45e-05\n",
      "dow                       0.0050      0.003      1.525      0.127      -0.001       0.011\n",
      "doy                       0.0039      0.008      0.470      0.638      -0.012       0.020\n",
      "month                    -0.1224      0.251     -0.489      0.625      -0.614       0.369\n",
      "day                      -0.0044      0.008     -0.533      0.594      -0.021       0.012\n",
      "hour                      0.0016      0.002      1.060      0.289      -0.001       0.005\n",
      "venue.tol_num_events  -8.283e-05   3.43e-05     -2.417      0.016      -0.000   -1.57e-05\n",
      "==============================================================================\n",
      "Omnibus:                     8463.768   Durbin-Watson:                   2.009\n",
      "Prob(Omnibus):                  0.000   Jarque-Bera (JB):            33871.089\n",
      "Skew:                           1.432   Prob(JB):                         0.00\n",
      "Kurtosis:                       7.509   Cond. No.                     4.19e+17\n",
      "==============================================================================\n",
      "\n",
      "Warnings:\n",
      "[1] Standard Errors assume that the covariance matrix of the errors is correctly specified.\n",
      "[2] The smallest eigenvalue is 1.03e-20. This might indicate that there are\n",
      "strong multicollinearity problems or that the design matrix is singular.\n"
     ]
    },
    {
     "name": "stderr",
     "output_type": "stream",
     "text": [
      "C:\\Users\\z0043H7B\\AppData\\Local\\Continuum\\miniconda3\\lib\\site-packages\\numpy\\core\\fromnumeric.py:2389: FutureWarning: Method .ptp is deprecated and will be removed in a future version. Use numpy.ptp instead.\n",
      "  return ptp(axis=axis, out=out, **kwargs)\n"
     ]
    }
   ],
   "source": [
    "X2 = sm.add_constant(X_train)\n",
    "est = sm.OLS(y_train, X2)\n",
    "est2 = est.fit()\n",
    "print(est2.summary())"
   ]
  },
  {
   "cell_type": "code",
   "execution_count": 116,
   "metadata": {},
   "outputs": [
    {
     "name": "stdout",
     "output_type": "stream",
     "text": [
      "MSE score(training): 586743.5130441936\n",
      "MAE score(training): 18.078332659346724\n",
      "MSE score: 858435.9916427701\n",
      "MAE score: 21.36375288430101\n"
     ]
    }
   ],
   "source": [
    "## find the true prediction error on non-log data\n",
    "pred_org_train=[np.exp(x)-1 for x in pred_train]\n",
    "pred_org_test=[np.exp(x)-1 for x in pred_test]\n",
    "y_org_test=[np.exp(x)-1 for x in y_test]\n",
    "print('MSE score(training):',metrics.mean_squared_error(y_org_train, pred_org_train))\n",
    "print('MAE score(training):',metrics.mean_absolute_error(y_org_train, pred_org_train))\n",
    "print('MSE score:',metrics.mean_squared_error(y_org_test, pred_org_test))\n",
    "print('MAE score:',metrics.mean_absolute_error(y_org_test, pred_org_test))"
   ]
  },
  {
   "cell_type": "code",
   "execution_count": null,
   "metadata": {},
   "outputs": [],
   "source": []
  },
  {
   "cell_type": "code",
   "execution_count": 125,
   "metadata": {},
   "outputs": [
    {
     "data": {
      "image/png": "[encoded data removed]",
      "text/plain": [
       "<Figure size 432x288 with 1 Axes>"
      ]
     },
     "metadata": {
      "needs_background": "light"
     },
     "output_type": "display_data"
    }
   ],
   "source": [
    "# plot prediction result:\n",
    "import matplotlib.pyplot as plt\n",
    "plt.scatter(pred_org_test,y_org_test, s=5)\n",
    "plt.title('test data prediction')\n",
    "plt.xlabel('predicted')\n",
    "plt.ylabel('true')\n",
    "plt.show()"
   ]
  },
  {
   "cell_type": "code",
   "execution_count": 128,
   "metadata": {},
   "outputs": [
    {
     "data": {
      "image/png": "[encoded data removed]",
      "text/plain": [
       "<Figure size 432x288 with 1 Axes>"
      ]
     },
     "metadata": {
      "needs_background": "light"
     },
     "output_type": "display_data"
    }
   ],
   "source": [
    "# plot prediction result:\n",
    "import matplotlib.pyplot as plt\n",
    "plt.scatter(pred_org_test,y_org_test, s=5)\n",
    "plt.title('test data prediction')\n",
    "plt.xlabel('predicted')\n",
    "plt.ylabel('true')\n",
    "plt.xlim([-200,4000])\n",
    "plt.show()"
   ]
  },
  {
   "cell_type": "code",
   "execution_count": 132,
   "metadata": {},
   "outputs": [],
   "source": [
    "## save a defaultdict for the coef of each attribute:\n",
    "weights=zip(list(udf_x.columns),LR_model0.coef_) # use a iterable to print the coefficient and their corresponding column name\n",
    "m0_coef=dict(zip(udf_x.columns, LR_model0.coef_))"
   ]
  },
  {
   "cell_type": "code",
   "execution_count": 133,
   "metadata": {},
   "outputs": [
    {
     "data": {
      "image/png": "[encoded data removed]",
      "text/plain": [
       "<Figure size 1800x432 with 1 Axes>"
      ]
     },
     "metadata": {
      "needs_background": "light"
     },
     "output_type": "display_data"
    }
   ],
   "source": [
    "# plot a histogram chart to illustrate :\n",
    "\n",
    "x_tick_label=list(udf_x.columns)\n",
    "hist_val=LR_model0.coef_\n",
    "fig, ax = plt.subplots(figsize=(25,6))\n",
    "index=np.arange(len(LR_model0.coef_))\n",
    "ax.bar(index,hist_val, .3, color='r')\n",
    "ax.set_xticks(range(0, 22, 1))\n",
    "ax.set_xticklabels(x_tick_label, rotation='vertical')\n",
    "plt.show()\n"
   ]
  },
  {
   "cell_type": "code",
   "execution_count": 134,
   "metadata": {},
   "outputs": [],
   "source": [
    "# try random forest model to access better interpretation to features\n",
    "from sklearn.ensemble import RandomForestRegressor\n",
    "RF_model0 = RandomForestRegressor(random_state=12,verbose=10)"
   ]
  },
  {
   "cell_type": "code",
   "execution_count": 135,
   "metadata": {
    "collapsed": true,
    "jupyter": {
     "outputs_hidden": true
    }
   },
   "outputs": [
    {
     "name": "stderr",
     "output_type": "stream",
     "text": [
      "C:\\Users\\z0043H7B\\AppData\\Local\\Continuum\\miniconda3\\lib\\site-packages\\sklearn\\ensemble\\forest.py:245: FutureWarning: The default value of n_estimators will change from 10 in version 0.20 to 100 in 0.22.\n",
      "  \"10 in version 0.20 to 100 in 0.22.\", FutureWarning)\n",
      "[Parallel(n_jobs=1)]: Using backend SequentialBackend with 1 concurrent workers.\n",
      "[Parallel(n_jobs=1)]: Done   1 out of   1 | elapsed:    0.1s remaining:    0.0s\n"
     ]
    },
    {
     "name": "stdout",
     "output_type": "stream",
     "text": [
      "building tree 1 of 10\n",
      "building tree 2 of 10\n"
     ]
    },
    {
     "name": "stderr",
     "output_type": "stream",
     "text": [
      "[Parallel(n_jobs=1)]: Done   2 out of   2 | elapsed:    0.3s remaining:    0.0s\n",
      "[Parallel(n_jobs=1)]: Done   3 out of   3 | elapsed:    0.4s remaining:    0.0s\n"
     ]
    },
    {
     "name": "stdout",
     "output_type": "stream",
     "text": [
      "building tree 3 of 10\n",
      "building tree 4 of 10\n"
     ]
    },
    {
     "name": "stderr",
     "output_type": "stream",
     "text": [
      "[Parallel(n_jobs=1)]: Done   4 out of   4 | elapsed:    0.6s remaining:    0.0s\n",
      "[Parallel(n_jobs=1)]: Done   5 out of   5 | elapsed:    0.7s remaining:    0.0s\n"
     ]
    },
    {
     "name": "stdout",
     "output_type": "stream",
     "text": [
      "building tree 5 of 10\n",
      "building tree 6 of 10\n"
     ]
    },
    {
     "name": "stderr",
     "output_type": "stream",
     "text": [
      "[Parallel(n_jobs=1)]: Done   6 out of   6 | elapsed:    0.9s remaining:    0.0s\n",
      "[Parallel(n_jobs=1)]: Done   7 out of   7 | elapsed:    1.0s remaining:    0.0s\n"
     ]
    },
    {
     "name": "stdout",
     "output_type": "stream",
     "text": [
      "building tree 7 of 10\n",
      "building tree 8 of 10\n"
     ]
    },
    {
     "name": "stderr",
     "output_type": "stream",
     "text": [
      "[Parallel(n_jobs=1)]: Done   8 out of   8 | elapsed:    1.2s remaining:    0.0s\n",
      "[Parallel(n_jobs=1)]: Done   9 out of   9 | elapsed:    1.3s remaining:    0.0s\n"
     ]
    },
    {
     "name": "stdout",
     "output_type": "stream",
     "text": [
      "building tree 9 of 10\n",
      "building tree 10 of 10\n"
     ]
    },
    {
     "name": "stderr",
     "output_type": "stream",
     "text": [
      "[Parallel(n_jobs=1)]: Done  10 out of  10 | elapsed:    1.4s finished\n"
     ]
    },
    {
     "data": {
      "text/plain": [
       "RandomForestRegressor(bootstrap=True, criterion='mse', max_depth=None,\n",
       "                      max_features='auto', max_leaf_nodes=None,\n",
       "                      min_impurity_decrease=0.0, min_impurity_split=None,\n",
       "                      min_samples_leaf=1, min_samples_split=2,\n",
       "                      min_weight_fraction_leaf=0.0, n_estimators=10,\n",
       "                      n_jobs=None, oob_score=False, random_state=12, verbose=10,\n",
       "                      warm_start=False)"
      ]
     },
     "execution_count": 135,
     "metadata": {},
     "output_type": "execute_result"
    }
   ],
   "source": [
    "RF_model0.fit(X_train,y_train)"
   ]
  },
  {
   "cell_type": "code",
   "execution_count": 139,
   "metadata": {
    "collapsed": true,
    "jupyter": {
     "outputs_hidden": true
    }
   },
   "outputs": [
    {
     "name": "stderr",
     "output_type": "stream",
     "text": [
      "[Parallel(n_jobs=1)]: Using backend SequentialBackend with 1 concurrent workers.\n",
      "[Parallel(n_jobs=1)]: Done   1 out of   1 | elapsed:    0.0s remaining:    0.0s\n",
      "[Parallel(n_jobs=1)]: Done   2 out of   2 | elapsed:    0.0s remaining:    0.0s\n",
      "[Parallel(n_jobs=1)]: Done   3 out of   3 | elapsed:    0.0s remaining:    0.0s\n",
      "[Parallel(n_jobs=1)]: Done   4 out of   4 | elapsed:    0.0s remaining:    0.0s\n",
      "[Parallel(n_jobs=1)]: Done   5 out of   5 | elapsed:    0.0s remaining:    0.0s\n",
      "[Parallel(n_jobs=1)]: Done   6 out of   6 | elapsed:    0.0s remaining:    0.0s\n",
      "[Parallel(n_jobs=1)]: Done   7 out of   7 | elapsed:    0.0s remaining:    0.0s\n",
      "[Parallel(n_jobs=1)]: Done   8 out of   8 | elapsed:    0.0s remaining:    0.0s\n",
      "[Parallel(n_jobs=1)]: Done   9 out of   9 | elapsed:    0.0s remaining:    0.0s\n",
      "[Parallel(n_jobs=1)]: Done  10 out of  10 | elapsed:    0.0s finished\n",
      "[Parallel(n_jobs=1)]: Using backend SequentialBackend with 1 concurrent workers.\n",
      "[Parallel(n_jobs=1)]: Done   1 out of   1 | elapsed:    0.0s remaining:    0.0s\n",
      "[Parallel(n_jobs=1)]: Done   2 out of   2 | elapsed:    0.0s remaining:    0.0s\n",
      "[Parallel(n_jobs=1)]: Done   3 out of   3 | elapsed:    0.0s remaining:    0.0s\n",
      "[Parallel(n_jobs=1)]: Done   4 out of   4 | elapsed:    0.0s remaining:    0.0s\n",
      "[Parallel(n_jobs=1)]: Done   5 out of   5 | elapsed:    0.0s remaining:    0.0s\n",
      "[Parallel(n_jobs=1)]: Done   6 out of   6 | elapsed:    0.0s remaining:    0.0s\n",
      "[Parallel(n_jobs=1)]: Done   7 out of   7 | elapsed:    0.0s remaining:    0.0s\n",
      "[Parallel(n_jobs=1)]: Done   8 out of   8 | elapsed:    0.0s remaining:    0.0s\n",
      "[Parallel(n_jobs=1)]: Done   9 out of   9 | elapsed:    0.0s remaining:    0.0s\n",
      "[Parallel(n_jobs=1)]: Done  10 out of  10 | elapsed:    0.0s finished\n"
     ]
    },
    {
     "name": "stdout",
     "output_type": "stream",
     "text": [
      "training score of RandomForest: 1.0\n",
      "test score of RandomForest: 1.0\n"
     ]
    },
    {
     "name": "stderr",
     "output_type": "stream",
     "text": [
      "[Parallel(n_jobs=1)]: Using backend SequentialBackend with 1 concurrent workers.\n",
      "[Parallel(n_jobs=1)]: Done   1 out of   1 | elapsed:    0.0s remaining:    0.0s\n",
      "[Parallel(n_jobs=1)]: Done   2 out of   2 | elapsed:    0.0s remaining:    0.0s\n",
      "[Parallel(n_jobs=1)]: Done   3 out of   3 | elapsed:    0.0s remaining:    0.0s\n",
      "[Parallel(n_jobs=1)]: Done   4 out of   4 | elapsed:    0.0s remaining:    0.0s\n",
      "[Parallel(n_jobs=1)]: Done   5 out of   5 | elapsed:    0.0s remaining:    0.0s\n",
      "[Parallel(n_jobs=1)]: Done   6 out of   6 | elapsed:    0.0s remaining:    0.0s\n",
      "[Parallel(n_jobs=1)]: Done   7 out of   7 | elapsed:    0.0s remaining:    0.0s\n",
      "[Parallel(n_jobs=1)]: Done   8 out of   8 | elapsed:    0.0s remaining:    0.0s\n",
      "[Parallel(n_jobs=1)]: Done   9 out of   9 | elapsed:    0.0s remaining:    0.0s\n",
      "[Parallel(n_jobs=1)]: Done  10 out of  10 | elapsed:    0.0s finished\n",
      "[Parallel(n_jobs=1)]: Using backend SequentialBackend with 1 concurrent workers.\n",
      "[Parallel(n_jobs=1)]: Done   1 out of   1 | elapsed:    0.0s remaining:    0.0s\n",
      "[Parallel(n_jobs=1)]: Done   2 out of   2 | elapsed:    0.0s remaining:    0.0s\n",
      "[Parallel(n_jobs=1)]: Done   3 out of   3 | elapsed:    0.0s remaining:    0.0s\n",
      "[Parallel(n_jobs=1)]: Done   4 out of   4 | elapsed:    0.0s remaining:    0.0s\n",
      "[Parallel(n_jobs=1)]: Done   5 out of   5 | elapsed:    0.0s remaining:    0.0s\n",
      "[Parallel(n_jobs=1)]: Done   6 out of   6 | elapsed:    0.0s remaining:    0.0s\n",
      "[Parallel(n_jobs=1)]: Done   7 out of   7 | elapsed:    0.0s remaining:    0.0s\n",
      "[Parallel(n_jobs=1)]: Done   8 out of   8 | elapsed:    0.0s remaining:    0.0s\n",
      "[Parallel(n_jobs=1)]: Done   9 out of   9 | elapsed:    0.0s remaining:    0.0s\n",
      "[Parallel(n_jobs=1)]: Done  10 out of  10 | elapsed:    0.0s finished\n"
     ]
    }
   ],
   "source": [
    "pred_train_RF = RF_model0.predict(X_train)\n",
    "print('training score of RandomForest:',RF_model0.score(X_train,pred_train_RF))\n",
    "pred_test_RF = RF_model0.predict(X_test)\n",
    "print('test score of RandomForest:',RF_model0.score(X_test,pred_test_RF))"
   ]
  },
  {
   "cell_type": "code",
   "execution_count": 140,
   "metadata": {},
   "outputs": [
    {
     "name": "stdout",
     "output_type": "stream",
     "text": [
      "MSE score(training): 0.09193189807270227\n",
      "MAE score(training): 0.17974207525944336\n",
      "MSE score: 0.5138327700675699\n",
      "MAE score: 0.45074805630719006\n"
     ]
    }
   ],
   "source": [
    "# access several benchmark RMSE for reference:\n",
    "print('MSE score(training):',metrics.mean_squared_error(y_train, pred_train_RF))\n",
    "print('MAE score(training):',metrics.mean_absolute_error(y_train, pred_train_RF))\n",
    "print('MSE score:',metrics.mean_squared_error(y_test, pred_test_RF))\n",
    "print('MAE score:',metrics.mean_absolute_error(y_test, pred_test_RF))"
   ]
  },
  {
   "cell_type": "code",
   "execution_count": 141,
   "metadata": {},
   "outputs": [
    {
     "name": "stdout",
     "output_type": "stream",
     "text": [
      "MSE score(training): 5953.98394927712\n",
      "MAE score(training): 5.71081423584717\n",
      "MSE score: 13271.975068824599\n",
      "MAE score: 11.035839828750735\n"
     ]
    }
   ],
   "source": [
    "# access original error metrics\n",
    "pred_org_train_RF=[np.exp(x)-1 for x in pred_train_RF]\n",
    "pred_org_test_RF=[np.exp(x)-1 for x in pred_test_RF]\n",
    "print('MSE score(training):',metrics.mean_squared_error(y_org_train, pred_org_train_RF))\n",
    "print('MAE score(training):',metrics.mean_absolute_error(y_org_train, pred_org_train_RF))\n",
    "print('MSE score:',metrics.mean_squared_error(y_org_test, pred_org_test_RF))\n",
    "print('MAE score:',metrics.mean_absolute_error(y_org_test, pred_org_test_RF))"
   ]
  },
  {
   "cell_type": "code",
   "execution_count": 143,
   "metadata": {},
   "outputs": [
    {
     "data": {
      "image/png": "[encoded data removed]",
      "text/plain": [
       "<Figure size 432x288 with 1 Axes>"
      ]
     },
     "metadata": {
      "needs_background": "light"
     },
     "output_type": "display_data"
    }
   ],
   "source": [
    "# plot prediction result:\n",
    "plt.scatter(pred_org_test_RF,y_org_test, s=5)\n",
    "plt.title('test data prediction(RF model)')\n",
    "plt.xlabel('predicted')\n",
    "plt.ylabel('true')\n",
    "plt.show()"
   ]
  },
  {
   "cell_type": "code",
   "execution_count": 144,
   "metadata": {},
   "outputs": [
    {
     "data": {
      "image/png": "[encoded data removed]",
      "text/plain": [
       "<Figure size 432x288 with 1 Axes>"
      ]
     },
     "metadata": {
      "needs_background": "light"
     },
     "output_type": "display_data"
    }
   ],
   "source": [
    "# plot prediction result:\n",
    "plt.scatter(pred_org_test_RF,y_org_test, s=5)\n",
    "plt.title('test data prediction(RF model)')\n",
    "plt.xlabel('predicted')\n",
    "plt.ylabel('true')\n",
    "plt.ylim([-100,1800])\n",
    "plt.show()"
   ]
  },
  {
   "cell_type": "code",
   "execution_count": 156,
   "metadata": {},
   "outputs": [
    {
     "name": "stdout",
     "output_type": "stream",
     "text": [
      "category 0.059192348991623046\n",
      "past 0.0005190593415728053\n",
      "is_eventbrite 0.006696026715254525\n",
      "is_free 0.01223116513683886\n",
      "doors 0.022365059073688343\n",
      "sold_out 0.0008528636488333005\n",
      "venue.id 0.0764968934904855\n",
      "venue.popularity 0.10494456615217765\n",
      "venue.zip 0.03550129191073269\n",
      "ticket_allages 0.006036478581863938\n",
      "ticket_price_low 0.023611185369994746\n",
      "ticket_price_max 0.015801859588629338\n",
      "min_age 0.014796865542280171\n",
      "artist.popularity.sum 0.33398971669001914\n",
      "artist.popularity.avg 0.012951794089482053\n",
      "artist.popularity.max 0.012363755566113199\n",
      "dow 0.024795435149779402\n",
      "doy 0.05847992618480576\n",
      "month 0.012979530405528789\n",
      "day 0.041680737491322374\n",
      "hour 0.04221765897589759\n",
      "venue.tol_num_events 0.0814957819030768\n"
     ]
    },
    {
     "data": {
      "image/png": "[encoded data removed]",
      "text/plain": [
       "<Figure size 1440x360 with 1 Axes>"
      ]
     },
     "metadata": {
      "needs_background": "light"
     },
     "output_type": "display_data"
    }
   ],
   "source": [
    "# Take a look at feature importance\n",
    "f_importance = pd.DataFrame({'feature':udf_x.columns, 'importance':RF_model0.feature_importances_})\n",
    "#plot histogram\n",
    "lenc = len(udf.columns)-2\n",
    "x_tick_label=[None]*lenc\n",
    "hist_val=np.zeros(lenc)\n",
    "for i in range(0,lenc):\n",
    "    hist_val[i] = f_importance.values[i][1]\n",
    "    x_tick_label[i] = f_importance.values[i][0]\n",
    "    print(x_tick_label[i],hist_val[i])\n",
    "    \n",
    "index = np.arange(lenc)+1\n",
    "fig, ax = plt.subplots(figsize=(20,5))\n",
    "ax.bar(index,hist_val, .3, color='r')\n",
    "ax.set_xticks(range(1, lenc+1, 1))\n",
    "ax.set_xticklabels(x_tick_label, rotation='vertical')\n",
    "plt.show()"
   ]
  },
  {
   "cell_type": "code",
   "execution_count": 167,
   "metadata": {},
   "outputs": [
    {
     "data": {
      "text/html": [
       "<div>\n",
       "<style scoped>\n",
       "    .dataframe tbody tr th:only-of-type {\n",
       "        vertical-align: middle;\n",
       "    }\n",
       "\n",
       "    .dataframe tbody tr th {\n",
       "        vertical-align: top;\n",
       "    }\n",
       "\n",
       "    .dataframe thead th {\n",
       "        text-align: right;\n",
       "    }\n",
       "</style>\n",
       "<table border=\"1\" class=\"dataframe\">\n",
       "  <thead>\n",
       "    <tr style=\"text-align: right;\">\n",
       "      <th></th>\n",
       "      <th>category</th>\n",
       "      <th>past</th>\n",
       "      <th>is_eventbrite</th>\n",
       "      <th>is_free</th>\n",
       "      <th>doors</th>\n",
       "      <th>sold_out</th>\n",
       "      <th>venue.id</th>\n",
       "      <th>venue.popularity</th>\n",
       "      <th>venue.zip</th>\n",
       "      <th>ticket_allages</th>\n",
       "      <th>...</th>\n",
       "      <th>min_age</th>\n",
       "      <th>artist.popularity.sum</th>\n",
       "      <th>artist.popularity.avg</th>\n",
       "      <th>artist.popularity.max</th>\n",
       "      <th>dow</th>\n",
       "      <th>doy</th>\n",
       "      <th>month</th>\n",
       "      <th>day</th>\n",
       "      <th>hour</th>\n",
       "      <th>venue.tol_num_events</th>\n",
       "    </tr>\n",
       "  </thead>\n",
       "  <tbody>\n",
       "    <tr>\n",
       "      <th>count</th>\n",
       "      <td>40703.000000</td>\n",
       "      <td>40703.000000</td>\n",
       "      <td>40703.000000</td>\n",
       "      <td>40703.000000</td>\n",
       "      <td>40703.000000</td>\n",
       "      <td>40703.000000</td>\n",
       "      <td>40703.000000</td>\n",
       "      <td>40703.000000</td>\n",
       "      <td>40703.000000</td>\n",
       "      <td>40703.000000</td>\n",
       "      <td>...</td>\n",
       "      <td>40703.000000</td>\n",
       "      <td>4.070300e+04</td>\n",
       "      <td>40703.000000</td>\n",
       "      <td>40703.000000</td>\n",
       "      <td>40703.000000</td>\n",
       "      <td>40703.000000</td>\n",
       "      <td>40703.000000</td>\n",
       "      <td>40703.000000</td>\n",
       "      <td>40703.000000</td>\n",
       "      <td>40703.000000</td>\n",
       "    </tr>\n",
       "    <tr>\n",
       "      <th>mean</th>\n",
       "      <td>4.399602</td>\n",
       "      <td>0.997789</td>\n",
       "      <td>0.044026</td>\n",
       "      <td>0.240572</td>\n",
       "      <td>0.106528</td>\n",
       "      <td>0.005675</td>\n",
       "      <td>171072.715328</td>\n",
       "      <td>3.214087</td>\n",
       "      <td>67319.659042</td>\n",
       "      <td>0.077021</td>\n",
       "      <td>...</td>\n",
       "      <td>2.806550</td>\n",
       "      <td>8.170296e+02</td>\n",
       "      <td>214.390463</td>\n",
       "      <td>214.390463</td>\n",
       "      <td>3.571137</td>\n",
       "      <td>167.768150</td>\n",
       "      <td>6.039948</td>\n",
       "      <td>15.442326</td>\n",
       "      <td>17.053927</td>\n",
       "      <td>189.294376</td>\n",
       "    </tr>\n",
       "    <tr>\n",
       "      <th>std</th>\n",
       "      <td>4.959572</td>\n",
       "      <td>0.046971</td>\n",
       "      <td>0.205156</td>\n",
       "      <td>0.427436</td>\n",
       "      <td>0.308516</td>\n",
       "      <td>0.075121</td>\n",
       "      <td>177810.695881</td>\n",
       "      <td>4.489557</td>\n",
       "      <td>27674.487779</td>\n",
       "      <td>0.266629</td>\n",
       "      <td>...</td>\n",
       "      <td>7.042276</td>\n",
       "      <td>3.408583e+04</td>\n",
       "      <td>3008.976730</td>\n",
       "      <td>3008.976730</td>\n",
       "      <td>1.809267</td>\n",
       "      <td>102.994374</td>\n",
       "      <td>3.356400</td>\n",
       "      <td>8.126201</td>\n",
       "      <td>4.285017</td>\n",
       "      <td>189.623127</td>\n",
       "    </tr>\n",
       "    <tr>\n",
       "      <th>min</th>\n",
       "      <td>0.000000</td>\n",
       "      <td>0.000000</td>\n",
       "      <td>0.000000</td>\n",
       "      <td>0.000000</td>\n",
       "      <td>0.000000</td>\n",
       "      <td>0.000000</td>\n",
       "      <td>26.000000</td>\n",
       "      <td>1.000000</td>\n",
       "      <td>0.000000</td>\n",
       "      <td>0.000000</td>\n",
       "      <td>...</td>\n",
       "      <td>0.000000</td>\n",
       "      <td>0.000000e+00</td>\n",
       "      <td>0.000000</td>\n",
       "      <td>0.000000</td>\n",
       "      <td>0.000000</td>\n",
       "      <td>1.000000</td>\n",
       "      <td>1.000000</td>\n",
       "      <td>1.000000</td>\n",
       "      <td>0.000000</td>\n",
       "      <td>1.000000</td>\n",
       "    </tr>\n",
       "    <tr>\n",
       "      <th>25%</th>\n",
       "      <td>0.000000</td>\n",
       "      <td>1.000000</td>\n",
       "      <td>0.000000</td>\n",
       "      <td>0.000000</td>\n",
       "      <td>0.000000</td>\n",
       "      <td>0.000000</td>\n",
       "      <td>697.000000</td>\n",
       "      <td>1.000000</td>\n",
       "      <td>78701.000000</td>\n",
       "      <td>0.000000</td>\n",
       "      <td>...</td>\n",
       "      <td>0.000000</td>\n",
       "      <td>0.000000e+00</td>\n",
       "      <td>0.000000</td>\n",
       "      <td>0.000000</td>\n",
       "      <td>2.000000</td>\n",
       "      <td>73.000000</td>\n",
       "      <td>3.000000</td>\n",
       "      <td>9.000000</td>\n",
       "      <td>15.000000</td>\n",
       "      <td>27.000000</td>\n",
       "    </tr>\n",
       "    <tr>\n",
       "      <th>50%</th>\n",
       "      <td>2.000000</td>\n",
       "      <td>1.000000</td>\n",
       "      <td>0.000000</td>\n",
       "      <td>0.000000</td>\n",
       "      <td>0.000000</td>\n",
       "      <td>0.000000</td>\n",
       "      <td>35117.000000</td>\n",
       "      <td>1.000000</td>\n",
       "      <td>78701.000000</td>\n",
       "      <td>0.000000</td>\n",
       "      <td>...</td>\n",
       "      <td>0.000000</td>\n",
       "      <td>0.000000e+00</td>\n",
       "      <td>0.000000</td>\n",
       "      <td>0.000000</td>\n",
       "      <td>4.000000</td>\n",
       "      <td>151.000000</td>\n",
       "      <td>5.000000</td>\n",
       "      <td>15.000000</td>\n",
       "      <td>18.000000</td>\n",
       "      <td>117.000000</td>\n",
       "    </tr>\n",
       "    <tr>\n",
       "      <th>75%</th>\n",
       "      <td>8.000000</td>\n",
       "      <td>1.000000</td>\n",
       "      <td>0.000000</td>\n",
       "      <td>0.000000</td>\n",
       "      <td>0.000000</td>\n",
       "      <td>0.000000</td>\n",
       "      <td>372921.000000</td>\n",
       "      <td>2.000000</td>\n",
       "      <td>78705.000000</td>\n",
       "      <td>0.000000</td>\n",
       "      <td>...</td>\n",
       "      <td>0.000000</td>\n",
       "      <td>6.000000e+00</td>\n",
       "      <td>4.000000</td>\n",
       "      <td>4.000000</td>\n",
       "      <td>5.000000</td>\n",
       "      <td>262.000000</td>\n",
       "      <td>9.000000</td>\n",
       "      <td>22.000000</td>\n",
       "      <td>20.000000</td>\n",
       "      <td>311.000000</td>\n",
       "    </tr>\n",
       "    <tr>\n",
       "      <th>max</th>\n",
       "      <td>19.000000</td>\n",
       "      <td>1.000000</td>\n",
       "      <td>1.000000</td>\n",
       "      <td>1.000000</td>\n",
       "      <td>1.000000</td>\n",
       "      <td>1.000000</td>\n",
       "      <td>450640.000000</td>\n",
       "      <td>35.000000</td>\n",
       "      <td>90010.000000</td>\n",
       "      <td>1.000000</td>\n",
       "      <td>...</td>\n",
       "      <td>25.000000</td>\n",
       "      <td>4.478328e+06</td>\n",
       "      <td>137744.000000</td>\n",
       "      <td>137744.000000</td>\n",
       "      <td>6.000000</td>\n",
       "      <td>365.000000</td>\n",
       "      <td>12.000000</td>\n",
       "      <td>31.000000</td>\n",
       "      <td>23.000000</td>\n",
       "      <td>668.000000</td>\n",
       "    </tr>\n",
       "  </tbody>\n",
       "</table>\n",
       "<p>8 rows × 22 columns</p>\n",
       "</div>"
      ],
      "text/plain": [
       "           category          past  is_eventbrite       is_free         doors  \\\n",
       "count  40703.000000  40703.000000   40703.000000  40703.000000  40703.000000   \n",
       "mean       4.399602      0.997789       0.044026      0.240572      0.106528   \n",
       "std        4.959572      0.046971       0.205156      0.427436      0.308516   \n",
       "min        0.000000      0.000000       0.000000      0.000000      0.000000   \n",
       "25%        0.000000      1.000000       0.000000      0.000000      0.000000   \n",
       "50%        2.000000      1.000000       0.000000      0.000000      0.000000   \n",
       "75%        8.000000      1.000000       0.000000      0.000000      0.000000   \n",
       "max       19.000000      1.000000       1.000000      1.000000      1.000000   \n",
       "\n",
       "           sold_out       venue.id  venue.popularity     venue.zip  \\\n",
       "count  40703.000000   40703.000000      40703.000000  40703.000000   \n",
       "mean       0.005675  171072.715328          3.214087  67319.659042   \n",
       "std        0.075121  177810.695881          4.489557  27674.487779   \n",
       "min        0.000000      26.000000          1.000000      0.000000   \n",
       "25%        0.000000     697.000000          1.000000  78701.000000   \n",
       "50%        0.000000   35117.000000          1.000000  78701.000000   \n",
       "75%        0.000000  372921.000000          2.000000  78705.000000   \n",
       "max        1.000000  450640.000000         35.000000  90010.000000   \n",
       "\n",
       "       ticket_allages  ...       min_age  artist.popularity.sum  \\\n",
       "count    40703.000000  ...  40703.000000           4.070300e+04   \n",
       "mean         0.077021  ...      2.806550           8.170296e+02   \n",
       "std          0.266629  ...      7.042276           3.408583e+04   \n",
       "min          0.000000  ...      0.000000           0.000000e+00   \n",
       "25%          0.000000  ...      0.000000           0.000000e+00   \n",
       "50%          0.000000  ...      0.000000           0.000000e+00   \n",
       "75%          0.000000  ...      0.000000           6.000000e+00   \n",
       "max          1.000000  ...     25.000000           4.478328e+06   \n",
       "\n",
       "       artist.popularity.avg  artist.popularity.max           dow  \\\n",
       "count           40703.000000           40703.000000  40703.000000   \n",
       "mean              214.390463             214.390463      3.571137   \n",
       "std              3008.976730            3008.976730      1.809267   \n",
       "min                 0.000000               0.000000      0.000000   \n",
       "25%                 0.000000               0.000000      2.000000   \n",
       "50%                 0.000000               0.000000      4.000000   \n",
       "75%                 4.000000               4.000000      5.000000   \n",
       "max            137744.000000          137744.000000      6.000000   \n",
       "\n",
       "                doy         month           day          hour  \\\n",
       "count  40703.000000  40703.000000  40703.000000  40703.000000   \n",
       "mean     167.768150      6.039948     15.442326     17.053927   \n",
       "std      102.994374      3.356400      8.126201      4.285017   \n",
       "min        1.000000      1.000000      1.000000      0.000000   \n",
       "25%       73.000000      3.000000      9.000000     15.000000   \n",
       "50%      151.000000      5.000000     15.000000     18.000000   \n",
       "75%      262.000000      9.000000     22.000000     20.000000   \n",
       "max      365.000000     12.000000     31.000000     23.000000   \n",
       "\n",
       "       venue.tol_num_events  \n",
       "count          40703.000000  \n",
       "mean             189.294376  \n",
       "std              189.623127  \n",
       "min                1.000000  \n",
       "25%               27.000000  \n",
       "50%              117.000000  \n",
       "75%              311.000000  \n",
       "max              668.000000  \n",
       "\n",
       "[8 rows x 22 columns]"
      ]
     },
     "execution_count": 167,
     "metadata": {},
     "output_type": "execute_result"
    }
   ],
   "source": [
    "# test the normalizing of features and redo model\n",
    "udf_x.describe()"
   ]
  },
  {
   "cell_type": "code",
   "execution_count": null,
   "metadata": {},
   "outputs": [],
   "source": [
    "from sklearn import preprocessing\n",
    "# make the scaler\n"
   ]
  },
  {
   "cell_type": "code",
   "execution_count": 157,
   "metadata": {},
   "outputs": [
    {
     "name": "stdout",
     "output_type": "stream",
     "text": [
      "category 0.059192348991623046\n",
      "venue.id 0.0764968934904855\n",
      "venue.popularity 0.10494456615217765\n",
      "venue.zip 0.03550129191073269\n",
      "artist.popularity.sum 0.33398971669001914\n",
      "doy 0.05847992618480576\n",
      "day 0.041680737491322374\n",
      "hour 0.04221765897589759\n"
     ]
    }
   ],
   "source": [
    "# pickout the top few features and redo linear\n",
    "for i in range(0,lenc-1):\n",
    "    hist_val[i] = f_importance.values[i][1]\n",
    "    x_tick_label[i] = f_importance.values[i][0]\n",
    "    if hist_val[i]>0.03:\n",
    "        print(x_tick_label[i],hist_val[i])"
   ]
  },
  {
   "cell_type": "code",
   "execution_count": 159,
   "metadata": {},
   "outputs": [],
   "source": [
    "## try SGD\n",
    "from sklearn.linear_model import SGDRegressor\n",
    "SGD_model0 = SGDRegressor(random_state=12,verbose=10)"
   ]
  },
  {
   "cell_type": "code",
   "execution_count": 160,
   "metadata": {
    "collapsed": true,
    "jupyter": {
     "outputs_hidden": true
    }
   },
   "outputs": [
    {
     "name": "stdout",
     "output_type": "stream",
     "text": [
      "-- Epoch 1\n",
      "Norm: 418550719575624.81, NNZs: 22, Bias: 48755743890.982903, T: 28492, Avg. loss: 1789943311871947697540846156463854321664.000000\n",
      "Total training time: 0.01 seconds.\n",
      "-- Epoch 2\n",
      "Norm: 367475307963820.44, NNZs: 22, Bias: 102801976790.957382, T: 56984, Avg. loss: 751297881082485078469340588226178449408.000000\n",
      "Total training time: 0.01 seconds.\n",
      "-- Epoch 3\n",
      "Norm: 935021798469819.62, NNZs: 22, Bias: 176099321448.933838, T: 85476, Avg. loss: 559147065819205664939876725846670573568.000000\n",
      "Total training time: 0.02 seconds.\n",
      "-- Epoch 4\n",
      "Norm: 1493745139979527.50, NNZs: 22, Bias: 261266478633.435974, T: 113968, Avg. loss: 468477234139591465634585263446333325312.000000\n",
      "Total training time: 0.02 seconds.\n",
      "-- Epoch 5\n",
      "Norm: 384551793582291.44, NNZs: 22, Bias: 223003527204.569519, T: 142460, Avg. loss: 455591919461459234600661926766027210752.000000\n",
      "Total training time: 0.02 seconds.\n",
      "-- Epoch 6\n",
      "Norm: 784629507368612.00, NNZs: 22, Bias: 188376170595.445557, T: 170952, Avg. loss: 379603845956505950720263155776585990144.000000\n",
      "Total training time: 0.03 seconds.\n",
      "-- Epoch 7\n",
      "Norm: 2069973188511808.75, NNZs: 22, Bias: 161571008820.296906, T: 199444, Avg. loss: 328757415827741545552631060283011366912.000000\n",
      "Total training time: 0.03 seconds.\n",
      "-- Epoch 8\n",
      "Norm: 854532035762418.62, NNZs: 22, Bias: 166660084541.415771, T: 227936, Avg. loss: 373383071423552527213110772412843032576.000000\n",
      "Total training time: 0.04 seconds.\n",
      "-- Epoch 9\n",
      "Norm: 136295095908865.58, NNZs: 22, Bias: 170254142412.107269, T: 256428, Avg. loss: 370821393316323363683598472214753574912.000000\n",
      "Total training time: 0.05 seconds.\n",
      "-- Epoch 10\n",
      "Norm: 709398554128005.25, NNZs: 22, Bias: 205539592157.719849, T: 284920, Avg. loss: 280513769460251388914302553769818193920.000000\n",
      "Total training time: 0.05 seconds.\n",
      "-- Epoch 11\n",
      "Norm: 521531621046713.06, NNZs: 22, Bias: 174654788290.179138, T: 313412, Avg. loss: 280452186587928889451141072787479724032.000000\n",
      "Total training time: 0.06 seconds.\n",
      "-- Epoch 12\n",
      "Norm: 591067424794181.50, NNZs: 22, Bias: 188053126070.035156, T: 341904, Avg. loss: 260052427713369769850227137062646054912.000000\n",
      "Total training time: 0.06 seconds.\n",
      "-- Epoch 13\n",
      "Norm: 687541050946014.62, NNZs: 22, Bias: 167681997880.471283, T: 370396, Avg. loss: 248092103238269807262095458191986917376.000000\n",
      "Total training time: 0.07 seconds.\n",
      "-- Epoch 14\n",
      "Norm: 255696971720294.94, NNZs: 22, Bias: 153992431359.220428, T: 398888, Avg. loss: 246438906456035635799894719875841523712.000000\n",
      "Total training time: 0.07 seconds.\n",
      "-- Epoch 15\n",
      "Norm: 782432082670720.62, NNZs: 22, Bias: 147657830391.028656, T: 427380, Avg. loss: 231871152484136406683506967155736313856.000000\n",
      "Total training time: 0.07 seconds.\n",
      "-- Epoch 16\n",
      "Norm: 286692852948834.62, NNZs: 22, Bias: 169215918467.309479, T: 455872, Avg. loss: 223710708241810578639620497385757605888.000000\n",
      "Total training time: 0.08 seconds.\n",
      "-- Epoch 17\n",
      "Norm: 442536676478349.62, NNZs: 22, Bias: 161627726399.501801, T: 484364, Avg. loss: 216309942486889190960519673257444507648.000000\n",
      "Total training time: 0.08 seconds.\n",
      "-- Epoch 18\n",
      "Norm: 109555978677886.78, NNZs: 22, Bias: 151690357833.172607, T: 512856, Avg. loss: 207111429887324131625222803423710150656.000000\n",
      "Total training time: 0.08 seconds.\n",
      "-- Epoch 19\n",
      "Norm: 184999588053632.16, NNZs: 22, Bias: 142097602989.945892, T: 541348, Avg. loss: 204260064650917910872189603503220457472.000000\n",
      "Total training time: 0.09 seconds.\n",
      "-- Epoch 20\n",
      "Norm: 522500354070083.31, NNZs: 22, Bias: 128950696568.610443, T: 569840, Avg. loss: 202645011241900238540167132857411567616.000000\n",
      "Total training time: 0.09 seconds.\n",
      "-- Epoch 21\n",
      "Norm: 794282457560120.12, NNZs: 22, Bias: 152047224366.938446, T: 598332, Avg. loss: 192177455625280077651104373087399837696.000000\n",
      "Total training time: 0.09 seconds.\n",
      "-- Epoch 22\n",
      "Norm: 100233354515006.83, NNZs: 22, Bias: 174922806076.729492, T: 626824, Avg. loss: 194771775510330867267650295646637785088.000000\n",
      "Total training time: 0.10 seconds.\n",
      "-- Epoch 23\n",
      "Norm: 225625347657965.00, NNZs: 22, Bias: 184924917496.862244, T: 655316, Avg. loss: 226708379246730441865476338545334419456.000000\n",
      "Total training time: 0.10 seconds.\n",
      "-- Epoch 24\n",
      "Norm: 157958537706957.34, NNZs: 22, Bias: 176669942341.216278, T: 683808, Avg. loss: 230085720808479676745825841308877455360.000000\n",
      "Total training time: 0.10 seconds.\n",
      "-- Epoch 25\n",
      "Norm: 299811757992364.00, NNZs: 22, Bias: 195342037403.696747, T: 712300, Avg. loss: 176899293120882394411055933869898334208.000000\n",
      "Total training time: 0.11 seconds.\n",
      "-- Epoch 26\n",
      "Norm: 1321912800105121.50, NNZs: 22, Bias: 199431571222.599030, T: 740792, Avg. loss: 166795349075739617215881690273474936832.000000\n",
      "Total training time: 0.11 seconds.\n",
      "-- Epoch 27\n",
      "Norm: 96240825368810.80, NNZs: 22, Bias: 189240481078.303223, T: 769284, Avg. loss: 359601060325379971825260746525064036352.000000\n",
      "Total training time: 0.11 seconds.\n",
      "-- Epoch 28\n",
      "Norm: 672727130382383.88, NNZs: 22, Bias: 202043478310.568085, T: 797776, Avg. loss: 166266482581515631532834859017855565824.000000\n",
      "Total training time: 0.12 seconds.\n",
      "-- Epoch 29\n",
      "Norm: 309535241719484.62, NNZs: 22, Bias: 186075250214.730499, T: 826268, Avg. loss: 188194234835237574614314943398071500800.000000\n",
      "Total training time: 0.12 seconds.\n",
      "-- Epoch 30\n",
      "Norm: 403401790589866.62, NNZs: 22, Bias: 208514004688.415466, T: 854760, Avg. loss: 165664332757098856992090951714785460224.000000\n",
      "Total training time: 0.13 seconds.\n",
      "-- Epoch 31\n",
      "Norm: 770916109046371.88, NNZs: 22, Bias: 222857498195.691742, T: 883252, Avg. loss: 158979960081691488496677660345069731840.000000\n",
      "Total training time: 0.13 seconds.\n",
      "-- Epoch 32\n",
      "Norm: 126676964854573.95, NNZs: 22, Bias: 212442866938.984039, T: 911744, Avg. loss: 169495671835208980580177167474996805632.000000\n",
      "Total training time: 0.13 seconds.\n",
      "-- Epoch 33\n",
      "Norm: 417766656551897.19, NNZs: 22, Bias: 210404628469.510101, T: 940236, Avg. loss: 153918324422850019209986144663809032192.000000\n",
      "Total training time: 0.14 seconds.\n",
      "-- Epoch 34\n",
      "Norm: 341549001220200.75, NNZs: 22, Bias: 187431602299.940186, T: 968728, Avg. loss: 152145349061119449165994533200798416896.000000\n",
      "Total training time: 0.14 seconds.\n",
      "-- Epoch 35\n",
      "Norm: 323553237415881.75, NNZs: 22, Bias: 181672289495.437103, T: 997220, Avg. loss: 150619452156217463222701442949227479040.000000\n",
      "Total training time: 0.14 seconds.\n",
      "-- Epoch 36\n",
      "Norm: 244044192742659.38, NNZs: 22, Bias: 177873737704.504089, T: 1025712, Avg. loss: 146639014852988476258456863936398491648.000000\n",
      "Total training time: 0.15 seconds.\n",
      "-- Epoch 37\n",
      "Norm: 220269717933556.44, NNZs: 22, Bias: 154059709763.972351, T: 1054204, Avg. loss: 145825983739678606492302178116805066752.000000\n",
      "Total training time: 0.15 seconds.\n",
      "-- Epoch 38\n",
      "Norm: 359295403220071.94, NNZs: 22, Bias: 177064319387.743042, T: 1082696, Avg. loss: 143261451286333763310467021680238657536.000000\n",
      "Total training time: 0.15 seconds.\n",
      "-- Epoch 39\n",
      "Norm: 203859193739472.50, NNZs: 22, Bias: 167795417391.224640, T: 1111188, Avg. loss: 149310648012128665856966632622224572416.000000\n",
      "Total training time: 0.16 seconds.\n",
      "-- Epoch 40\n",
      "Norm: 520058221177948.12, NNZs: 22, Bias: 165327908953.111908, T: 1139680, Avg. loss: 139726274735372768159915651149982597120.000000\n",
      "Total training time: 0.16 seconds.\n",
      "-- Epoch 41\n",
      "Norm: 411663830722461.50, NNZs: 22, Bias: 173268868642.034332, T: 1168172, Avg. loss: 153622042034763012143129391348236419072.000000\n",
      "Total training time: 0.16 seconds.\n",
      "-- Epoch 42\n",
      "Norm: 131213407122003.05, NNZs: 22, Bias: 184229850600.058228, T: 1196664, Avg. loss: 140051522638096884212577291611859320832.000000\n",
      "Total training time: 0.17 seconds.\n",
      "-- Epoch 43\n",
      "Norm: 181259832660270.00, NNZs: 22, Bias: 134168211429.324356, T: 1225156, Avg. loss: 133523700891038059691616394956645597184.000000\n",
      "Total training time: 0.17 seconds.\n",
      "-- Epoch 44\n",
      "Norm: 496693664204381.31, NNZs: 22, Bias: 136574148668.314133, T: 1253648, Avg. loss: 131817090763444398962507236761487278080.000000\n",
      "Total training time: 0.17 seconds.\n",
      "-- Epoch 45\n",
      "Norm: 242221506514534.41, NNZs: 22, Bias: 131204962300.258972, T: 1282140, Avg. loss: 134710129667976091548061104581375950848.000000\n",
      "Total training time: 0.18 seconds.\n",
      "-- Epoch 46\n",
      "Norm: 449538502935715.31, NNZs: 22, Bias: 97428550689.319794, T: 1310632, Avg. loss: 130111272359616305836966122194433212416.000000\n",
      "Total training time: 0.18 seconds.\n",
      "-- Epoch 47\n",
      "Norm: 446605783820939.06, NNZs: 22, Bias: 93299229700.506058, T: 1339124, Avg. loss: 130875209956100550280632393540619468800.000000\n",
      "Total training time: 0.19 seconds.\n",
      "-- Epoch 48\n",
      "Norm: 83020629385639.14, NNZs: 22, Bias: 99143697283.830521, T: 1367616, Avg. loss: 134558227131191624375038174144181043200.000000\n",
      "Total training time: 0.19 seconds.\n",
      "-- Epoch 49\n",
      "Norm: 545729227713646.81, NNZs: 22, Bias: 119513714120.228516, T: 1396108, Avg. loss: 125737291062716959756252221342279008256.000000\n",
      "Total training time: 0.19 seconds.\n",
      "-- Epoch 50\n",
      "Norm: 255389111059593.00, NNZs: 22, Bias: 105049412252.840378, T: 1424600, Avg. loss: 142204525161089429304672796572502720512.000000\n",
      "Total training time: 0.20 seconds.\n",
      "-- Epoch 51\n",
      "Norm: 216042334573341.06, NNZs: 22, Bias: 139084233733.399750, T: 1453092, Avg. loss: 131542381627128324384253958724064903168.000000\n",
      "Total training time: 0.20 seconds.\n",
      "-- Epoch 52\n",
      "Norm: 64183905736661.49, NNZs: 22, Bias: 132169102039.460464, T: 1481584, Avg. loss: 134758225683397179019609696171391451136.000000\n",
      "Total training time: 0.20 seconds.\n",
      "-- Epoch 53\n",
      "Norm: 122742417046963.05, NNZs: 22, Bias: 128711727122.040497, T: 1510076, Avg. loss: 126370383109110943151021577183380373504.000000\n",
      "Total training time: 0.21 seconds.\n",
      "-- Epoch 54\n",
      "Norm: 1192161139207174.00, NNZs: 22, Bias: 153778123214.569397, T: 1538568, Avg. loss: 114450310139036534224882212074057367552.000000\n",
      "Total training time: 0.21 seconds.\n",
      "-- Epoch 55\n",
      "Norm: 67500715789255.88, NNZs: 22, Bias: 137686571631.070221, T: 1567060, Avg. loss: 371160405806161727679238547121587093504.000000\n",
      "Total training time: 0.21 seconds.\n",
      "-- Epoch 56\n",
      "Norm: 102136149789624.83, NNZs: 22, Bias: 129182991088.848343, T: 1595552, Avg. loss: 119576086569832869371052241831700987904.000000\n",
      "Total training time: 0.22 seconds.\n",
      "-- Epoch 57\n",
      "Norm: 891624026274555.62, NNZs: 22, Bias: 141539545582.503571, T: 1624044, Avg. loss: 113028498126117229536934569954781429760.000000\n",
      "Total training time: 0.22 seconds.\n",
      "-- Epoch 58\n",
      "Norm: 289969930110581.00, NNZs: 22, Bias: 129774455732.367279, T: 1652536, Avg. loss: 119075926099888768102338967656938340352.000000\n",
      "Total training time: 0.22 seconds.\n",
      "-- Epoch 59\n",
      "Norm: 102079336618367.30, NNZs: 22, Bias: 148719977670.122253, T: 1681028, Avg. loss: 118592375078393580842194599060279656448.000000\n",
      "Total training time: 0.23 seconds.\n",
      "-- Epoch 60\n",
      "Norm: 97381149138118.86, NNZs: 22, Bias: 145940687908.810699, T: 1709520, Avg. loss: 114664576683791648626610172851369541632.000000\n",
      "Total training time: 0.23 seconds.\n",
      "-- Epoch 61\n",
      "Norm: 428803393033324.88, NNZs: 22, Bias: 154204795215.975281, T: 1738012, Avg. loss: 113856898479079548851955694109808656384.000000\n",
      "Total training time: 0.23 seconds.\n",
      "-- Epoch 62\n",
      "Norm: 202736310322335.91, NNZs: 22, Bias: 197094342472.020599, T: 1766504, Avg. loss: 114245841847526409950884810187629133824.000000\n",
      "Total training time: 0.24 seconds.\n",
      "Convergence after 62 epochs took 0.24 seconds\n"
     ]
    },
    {
     "data": {
      "text/plain": [
       "SGDRegressor(alpha=0.0001, average=False, early_stopping=False, epsilon=0.1,\n",
       "             eta0=0.01, fit_intercept=True, l1_ratio=0.15,\n",
       "             learning_rate='invscaling', loss='squared_loss', max_iter=1000,\n",
       "             n_iter_no_change=5, penalty='l2', power_t=0.25, random_state=12,\n",
       "             shuffle=True, tol=0.001, validation_fraction=0.1, verbose=10,\n",
       "             warm_start=False)"
      ]
     },
     "execution_count": 160,
     "metadata": {},
     "output_type": "execute_result"
    }
   ],
   "source": [
    "SGD_model0.fit(X_train,y_train)"
   ]
  },
  {
   "cell_type": "code",
   "execution_count": 161,
   "metadata": {},
   "outputs": [
    {
     "name": "stdout",
     "output_type": "stream",
     "text": [
      "training score of RandomForest: 1.0\n",
      "test score of RandomForest: 1.0\n"
     ]
    }
   ],
   "source": [
    "pred_train_SGD = SGD_model0.predict(X_train)\n",
    "print('training score of RandomForest:',SGD_model0.score(X_train,pred_train_SGD))\n",
    "pred_test_SGD = SGD_model0.predict(X_test)\n",
    "print('test score of RandomForest:',SGD_model0.score(X_test,pred_test_SGD))"
   ]
  },
  {
   "cell_type": "code",
   "execution_count": 162,
   "metadata": {},
   "outputs": [
    {
     "name": "stdout",
     "output_type": "stream",
     "text": [
      "MSE score(training): 4.247626797072859e+38\n",
      "MAE score(training): 1.566203539777999e+19\n",
      "MSE score: 4.152630584396318e+38\n",
      "MAE score: 1.5420814513887412e+19\n"
     ]
    }
   ],
   "source": [
    "# access several benchmark RMSE for reference:\n",
    "print('MSE score(training):',metrics.mean_squared_error(y_train, pred_train_SGD))\n",
    "print('MAE score(training):',metrics.mean_absolute_error(y_train, pred_train_SGD))\n",
    "print('MSE score:',metrics.mean_squared_error(y_test, pred_test_SGD))\n",
    "print('MAE score:',metrics.mean_absolute_error(y_test, pred_test_SGD))"
   ]
  },
  {
   "cell_type": "code",
   "execution_count": null,
   "metadata": {},
   "outputs": [],
   "source": []
  },
  {
   "cell_type": "markdown",
   "metadata": {},
   "source": [
    "#### plug in another unseen event to test prediction\n",
    "{\n",
    "    \"_id\" : ObjectId(\"5d8c9a30552e8c8c9c358d75\"),\n",
    "    \"event_id\" : \"11129071\",\n",
    "    \"title\" : \"cozymason\",\n",
    "    \"venue\" : {\n",
    "        \"address\" : \"801 Red River\",\n",
    "        \"city\" : \"Austin\",\n",
    "        \"state\" : \"TX\",\n",
    "        \"zip\" : \"78701\",\n",
    "        \"title\" : \"Stubb's\",\n",
    "        \"location\" : {\n",
    "            \"type\" : \"Point\",\n",
    "            \"coordinates\" : {\n",
    "                \"latitude\" : 30.2684579,\n",
    "                \"longitude\" : -97.7361748\n",
    "            }\n",
    "        }\n",
    "    },\n",
    "    \"begin_time\" : ISODate(\"2019-09-27T03:00:00.000Z\"),\n",
    "    \"end_time\" : ISODate(\"2019-09-27T07:00:00.000Z\"),\n",
    "    \"category\" : \"Music \",\n",
    "    \"vote_count\" : 5,\n",
    "    \"is_sold_out\" : false,\n",
    "    \"source\" : \"Do512\"\n",
    "}"
   ]
  },
  {
   "cell_type": "code",
   "execution_count": 338,
   "metadata": {},
   "outputs": [
    {
     "data": {
      "text/plain": [
       "Index(['category', 'past', 'is_eventbrite', 'is_free', 'doors', 'sold_out',\n",
       "       'venue.id', 'venue.popularity', 'venue.zip', 'ticket_allages',\n",
       "       'ticket_price_low', 'ticket_price_max', 'min_age',\n",
       "       'artist.popularity.sum', 'artist.popularity.avg',\n",
       "       'artist.popularity.max', 'dow', 'doy', 'month', 'day', 'hour',\n",
       "       'venue.tol_num_events'],\n",
       "      dtype='object')"
      ]
     },
     "execution_count": 338,
     "metadata": {},
     "output_type": "execute_result"
    }
   ],
   "source": [
    "udf_x.columns"
   ]
  },
  {
   "cell_type": "code",
   "execution_count": 346,
   "metadata": {},
   "outputs": [],
   "source": [
    "a=[0,1,0,1,1,0,113,15,78701,1,0,0,21,5,5,5,4,269,9,26,22,247]\n",
    "test1in=pd.DataFrame(columns=udf_x.columns)\n",
    "test1in.loc[len(test1in), :] = a\n"
   ]
  },
  {
   "cell_type": "code",
   "execution_count": 347,
   "metadata": {},
   "outputs": [
    {
     "name": "stderr",
     "output_type": "stream",
     "text": [
      "[Parallel(n_jobs=1)]: Using backend SequentialBackend with 1 concurrent workers.\n",
      "[Parallel(n_jobs=1)]: Done   1 out of   1 | elapsed:    0.0s remaining:    0.0s\n",
      "[Parallel(n_jobs=1)]: Done   2 out of   2 | elapsed:    0.0s remaining:    0.0s\n",
      "[Parallel(n_jobs=1)]: Done   3 out of   3 | elapsed:    0.0s remaining:    0.0s\n",
      "[Parallel(n_jobs=1)]: Done   4 out of   4 | elapsed:    0.0s remaining:    0.0s\n",
      "[Parallel(n_jobs=1)]: Done   5 out of   5 | elapsed:    0.0s remaining:    0.0s\n",
      "[Parallel(n_jobs=1)]: Done   6 out of   6 | elapsed:    0.0s remaining:    0.0s\n",
      "[Parallel(n_jobs=1)]: Done   7 out of   7 | elapsed:    0.0s remaining:    0.0s\n",
      "[Parallel(n_jobs=1)]: Done   8 out of   8 | elapsed:    0.0s remaining:    0.0s\n",
      "[Parallel(n_jobs=1)]: Done   9 out of   9 | elapsed:    0.0s remaining:    0.0s\n",
      "[Parallel(n_jobs=1)]: Done  10 out of  10 | elapsed:    0.0s finished\n"
     ]
    }
   ],
   "source": [
    "test1out=RF_model0.predict(test1in)"
   ]
  },
  {
   "cell_type": "code",
   "execution_count": 348,
   "metadata": {},
   "outputs": [
    {
     "data": {
      "text/plain": [
       "array([28.])"
      ]
     },
     "execution_count": 348,
     "metadata": {},
     "output_type": "execute_result"
    }
   ],
   "source": [
    "test1out"
   ]
  },
  {
   "cell_type": "code",
   "execution_count": 190,
   "metadata": {},
   "outputs": [
    {
     "data": {
      "text/plain": [
       "0    38708\n",
       "1     3157\n",
       "Name: ticket_allages, dtype: int64"
      ]
     },
     "execution_count": 190,
     "metadata": {},
     "output_type": "execute_result"
    }
   ],
   "source": [
    "udf['ticket_allages'].value_counts()"
   ]
  },
  {
   "cell_type": "code",
   "execution_count": null,
   "metadata": {},
   "outputs": [],
   "source": []
  }
 ],
 "metadata": {
  "kernelspec": {
   "display_name": "Python 3",
   "language": "python",
   "name": "python3"
  },
  "language_info": {
   "codemirror_mode": {
    "name": "ipython",
    "version": 3
   },
   "file_extension": ".py",
   "mimetype": "text/x-python",
   "name": "python",
   "nbconvert_exporter": "python",
   "pygments_lexer": "ipython3",
   "version": "3.7.3"
  }
 },
 "nbformat": 4,
 "nbformat_minor": 4
}
