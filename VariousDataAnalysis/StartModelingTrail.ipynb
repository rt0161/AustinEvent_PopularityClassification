{
 "cells": [
  {
   "cell_type": "code",
   "execution_count": 2,
   "metadata": {},
   "outputs": [],
   "source": [
    "import time\n",
    "import datetime\n",
    "import copy\n",
    "import numpy as np\n",
    "import math\n",
    "\n",
    "import pandas as pd\n",
    "import json\n",
    "from bson.json_util import dumps\n",
    "import matplotlib.pyplot as plt"
   ]
  },
  {
   "cell_type": "code",
   "execution_count": 3,
   "metadata": {},
   "outputs": [],
   "source": [
    "from fastparquet import ParquetFile,write"
   ]
  },
  {
   "cell_type": "code",
   "execution_count": 240,
   "metadata": {},
   "outputs": [],
   "source": [
    "pf = ParquetFile('do512_10-3-2019-10-3-2018.parquet')\n",
    "gdf = pf.to_pandas(index=False)\n",
    "df['artists']=gdf.artists.values"
   ]
  },
  {
   "cell_type": "code",
   "execution_count": 99,
   "metadata": {},
   "outputs": [],
   "source": [
    "df=pd.read_csv('fullevents_proc_tickets_art.csv',index_col=0)"
   ]
  },
  {
   "cell_type": "code",
   "execution_count": 103,
   "metadata": {},
   "outputs": [],
   "source": [
    "df=pd.read_csv('event_votes.csv')"
   ]
  },
  {
   "cell_type": "code",
   "execution_count": 104,
   "metadata": {},
   "outputs": [
    {
     "data": {
      "text/plain": [
       "Index(['id', 'votes'], dtype='object')"
      ]
     },
     "execution_count": 104,
     "metadata": {},
     "output_type": "execute_result"
    }
   ],
   "source": [
    "df.columns"
   ]
  },
  {
   "cell_type": "code",
   "execution_count": 105,
   "metadata": {},
   "outputs": [
    {
     "data": {
      "text/plain": [
       "41865"
      ]
     },
     "execution_count": 105,
     "metadata": {},
     "output_type": "execute_result"
    }
   ],
   "source": [
    "len(df)"
   ]
  },
  {
   "cell_type": "code",
   "execution_count": 17,
   "metadata": {},
   "outputs": [
    {
     "data": {
      "text/html": [
       "<div>\n",
       "<style scoped>\n",
       "    .dataframe tbody tr th:only-of-type {\n",
       "        vertical-align: middle;\n",
       "    }\n",
       "\n",
       "    .dataframe tbody tr th {\n",
       "        vertical-align: top;\n",
       "    }\n",
       "\n",
       "    .dataframe thead th {\n",
       "        text-align: right;\n",
       "    }\n",
       "</style>\n",
       "<table border=\"1\" class=\"dataframe\">\n",
       "  <thead>\n",
       "    <tr style=\"text-align: right;\">\n",
       "      <th></th>\n",
       "      <th>presented_by</th>\n",
       "      <th>title</th>\n",
       "      <th>category</th>\n",
       "      <th>begin_time</th>\n",
       "      <th>past</th>\n",
       "      <th>end_time</th>\n",
       "      <th>votes</th>\n",
       "      <th>is_eventbrite</th>\n",
       "      <th>amazon_affiliate</th>\n",
       "      <th>eventbrite_id</th>\n",
       "      <th>...</th>\n",
       "      <th>venue.longitude</th>\n",
       "      <th>venue.popularity</th>\n",
       "      <th>venue.address</th>\n",
       "      <th>venue.city</th>\n",
       "      <th>venue.state</th>\n",
       "      <th>venue.zip</th>\n",
       "      <th>ticket_allages</th>\n",
       "      <th>ticket_price_low</th>\n",
       "      <th>ticket_price_max</th>\n",
       "      <th>min_age</th>\n",
       "    </tr>\n",
       "    <tr>\n",
       "      <th>id</th>\n",
       "      <th></th>\n",
       "      <th></th>\n",
       "      <th></th>\n",
       "      <th></th>\n",
       "      <th></th>\n",
       "      <th></th>\n",
       "      <th></th>\n",
       "      <th></th>\n",
       "      <th></th>\n",
       "      <th></th>\n",
       "      <th></th>\n",
       "      <th></th>\n",
       "      <th></th>\n",
       "      <th></th>\n",
       "      <th></th>\n",
       "      <th></th>\n",
       "      <th></th>\n",
       "      <th></th>\n",
       "      <th></th>\n",
       "      <th></th>\n",
       "      <th></th>\n",
       "    </tr>\n",
       "  </thead>\n",
       "  <tbody>\n",
       "    <tr>\n",
       "      <th>11049447</th>\n",
       "      <td>Official 2019 ACL Fest Late Night Show:</td>\n",
       "      <td>Gary Clark Jr</td>\n",
       "      <td>Music</td>\n",
       "      <td>2019-10-03T19:00:00-05:00</td>\n",
       "      <td>False</td>\n",
       "      <td>NaN</td>\n",
       "      <td>784</td>\n",
       "      <td>False</td>\n",
       "      <td>True</td>\n",
       "      <td>NaN</td>\n",
       "      <td>...</td>\n",
       "      <td>-97.736175</td>\n",
       "      <td>15.0</td>\n",
       "      <td>801 Red River</td>\n",
       "      <td>Austin</td>\n",
       "      <td>TX</td>\n",
       "      <td>78701</td>\n",
       "      <td>True</td>\n",
       "      <td>0.0</td>\n",
       "      <td>0.0</td>\n",
       "      <td>NaN</td>\n",
       "    </tr>\n",
       "    <tr>\n",
       "      <th>11049456</th>\n",
       "      <td>Official 2019 ACL Fest Late Night Show:</td>\n",
       "      <td>Hippie Sabotage w/ Sebastian Paul</td>\n",
       "      <td>Music</td>\n",
       "      <td>2019-10-03T20:00:00-05:00</td>\n",
       "      <td>False</td>\n",
       "      <td>NaN</td>\n",
       "      <td>223</td>\n",
       "      <td>False</td>\n",
       "      <td>True</td>\n",
       "      <td>NaN</td>\n",
       "      <td>...</td>\n",
       "      <td>-97.728516</td>\n",
       "      <td>15.0</td>\n",
       "      <td>2015 E. Riverside Dr.</td>\n",
       "      <td>Austin</td>\n",
       "      <td>TX</td>\n",
       "      <td>78741</td>\n",
       "      <td>False</td>\n",
       "      <td>0.0</td>\n",
       "      <td>0.0</td>\n",
       "      <td>18.0</td>\n",
       "    </tr>\n",
       "    <tr>\n",
       "      <th>11049430</th>\n",
       "      <td>Official 2019 ACL Fest Late Night Show:</td>\n",
       "      <td>FIDLAR w/ XETAS</td>\n",
       "      <td>Music</td>\n",
       "      <td>2019-10-03T18:30:00-05:00</td>\n",
       "      <td>False</td>\n",
       "      <td>NaN</td>\n",
       "      <td>163</td>\n",
       "      <td>False</td>\n",
       "      <td>True</td>\n",
       "      <td>NaN</td>\n",
       "      <td>...</td>\n",
       "      <td>-97.729386</td>\n",
       "      <td>15.0</td>\n",
       "      <td>1308 E. Fourth</td>\n",
       "      <td>Austin</td>\n",
       "      <td>TX</td>\n",
       "      <td>78702</td>\n",
       "      <td>True</td>\n",
       "      <td>0.0</td>\n",
       "      <td>0.0</td>\n",
       "      <td>NaN</td>\n",
       "    </tr>\n",
       "    <tr>\n",
       "      <th>11186444</th>\n",
       "      <td>Misfits Comedy Presents</td>\n",
       "      <td>That Joke's New! Comedy Open-Mic</td>\n",
       "      <td>Comedy</td>\n",
       "      <td>2019-10-03T20:00:00-05:00</td>\n",
       "      <td>False</td>\n",
       "      <td>NaN</td>\n",
       "      <td>151</td>\n",
       "      <td>False</td>\n",
       "      <td>True</td>\n",
       "      <td>NaN</td>\n",
       "      <td>...</td>\n",
       "      <td>NaN</td>\n",
       "      <td>1.0</td>\n",
       "      <td>1905 Aldrich St.</td>\n",
       "      <td>Austin</td>\n",
       "      <td>TX</td>\n",
       "      <td>NaN</td>\n",
       "      <td>False</td>\n",
       "      <td>0.0</td>\n",
       "      <td>0.0</td>\n",
       "      <td>NaN</td>\n",
       "    </tr>\n",
       "    <tr>\n",
       "      <th>11141496</th>\n",
       "      <td>NaN</td>\n",
       "      <td>Hear Me Bitch 90’s Birthday Bash Comedy Show</td>\n",
       "      <td>Comedy</td>\n",
       "      <td>2019-10-03T19:30:00-05:00</td>\n",
       "      <td>False</td>\n",
       "      <td>NaN</td>\n",
       "      <td>126</td>\n",
       "      <td>True</td>\n",
       "      <td>True</td>\n",
       "      <td>7.302293e+10</td>\n",
       "      <td>...</td>\n",
       "      <td>-97.745230</td>\n",
       "      <td>1.0</td>\n",
       "      <td>616 Lavaca St</td>\n",
       "      <td>Austin</td>\n",
       "      <td>TX</td>\n",
       "      <td>78701</td>\n",
       "      <td>False</td>\n",
       "      <td>10.0</td>\n",
       "      <td>12.0</td>\n",
       "      <td>NaN</td>\n",
       "    </tr>\n",
       "  </tbody>\n",
       "</table>\n",
       "<p>5 rows × 32 columns</p>\n",
       "</div>"
      ],
      "text/plain": [
       "                                     presented_by  \\\n",
       "id                                                  \n",
       "11049447  Official 2019 ACL Fest Late Night Show:   \n",
       "11049456  Official 2019 ACL Fest Late Night Show:   \n",
       "11049430  Official 2019 ACL Fest Late Night Show:   \n",
       "11186444                  Misfits Comedy Presents   \n",
       "11141496                                      NaN   \n",
       "\n",
       "                                                  title category  \\\n",
       "id                                                                 \n",
       "11049447                                  Gary Clark Jr   Music    \n",
       "11049456              Hippie Sabotage w/ Sebastian Paul   Music    \n",
       "11049430                                FIDLAR w/ XETAS   Music    \n",
       "11186444               That Joke's New! Comedy Open-Mic   Comedy   \n",
       "11141496  Hear Me Bitch 90’s Birthday Bash Comedy Show    Comedy   \n",
       "\n",
       "                         begin_time   past end_time  votes  is_eventbrite  \\\n",
       "id                                                                          \n",
       "11049447  2019-10-03T19:00:00-05:00  False      NaN    784          False   \n",
       "11049456  2019-10-03T20:00:00-05:00  False      NaN    223          False   \n",
       "11049430  2019-10-03T18:30:00-05:00  False      NaN    163          False   \n",
       "11186444  2019-10-03T20:00:00-05:00  False      NaN    151          False   \n",
       "11141496  2019-10-03T19:30:00-05:00  False      NaN    126           True   \n",
       "\n",
       "          amazon_affiliate  eventbrite_id  ...  venue.longitude  \\\n",
       "id                                         ...                    \n",
       "11049447              True            NaN  ...       -97.736175   \n",
       "11049456              True            NaN  ...       -97.728516   \n",
       "11049430              True            NaN  ...       -97.729386   \n",
       "11186444              True            NaN  ...              NaN   \n",
       "11141496              True   7.302293e+10  ...       -97.745230   \n",
       "\n",
       "          venue.popularity          venue.address  venue.city  venue.state  \\\n",
       "id                                                                           \n",
       "11049447              15.0          801 Red River      Austin           TX   \n",
       "11049456              15.0  2015 E. Riverside Dr.      Austin           TX   \n",
       "11049430              15.0         1308 E. Fourth      Austin           TX   \n",
       "11186444               1.0       1905 Aldrich St.      Austin           TX   \n",
       "11141496               1.0          616 Lavaca St      Austin           TX   \n",
       "\n",
       "          venue.zip ticket_allages  ticket_price_low  ticket_price_max  \\\n",
       "id                                                                       \n",
       "11049447      78701           True               0.0               0.0   \n",
       "11049456      78741          False               0.0               0.0   \n",
       "11049430      78702           True               0.0               0.0   \n",
       "11186444        NaN          False               0.0               0.0   \n",
       "11141496      78701          False              10.0              12.0   \n",
       "\n",
       "          min_age  \n",
       "id                 \n",
       "11049447      NaN  \n",
       "11049456     18.0  \n",
       "11049430      NaN  \n",
       "11186444      NaN  \n",
       "11141496      NaN  \n",
       "\n",
       "[5 rows x 32 columns]"
      ]
     },
     "execution_count": 17,
     "metadata": {},
     "output_type": "execute_result"
    }
   ],
   "source": [
    "df.head()"
   ]
  },
  {
   "cell_type": "code",
   "execution_count": 241,
   "metadata": {},
   "outputs": [],
   "source": [
    "# get artist column andef\n",
    "e_artist=df.artists.values"
   ]
  },
  {
   "cell_type": "code",
   "execution_count": 242,
   "metadata": {},
   "outputs": [],
   "source": [
    "#get artist_popularity\n",
    "p_art_avg=[]\n",
    "p_art_sum=[]\n",
    "p_art_max=[]\n",
    "for i,item in enumerate(e_artist):\n",
    "    #print(i)\n",
    "    if len(item)==0:\n",
    "        p_art_sum+=[0]\n",
    "        p_art_avg+=[0]\n",
    "        p_art_max+=[0]\n",
    "    elif len(item)==1:\n",
    "        p_art_sum+=[json.loads(dumps(item))[0]['popularity']]\n",
    "        p_art_avg+=[json.loads(dumps(item))[0]['popularity']]\n",
    "        p_art_max+=[json.loads(dumps(item))[0]['popularity']]\n",
    "    else:\n",
    "        subsum=0\n",
    "        partmax=0\n",
    "        for sub in item:\n",
    "            part=json.loads(dumps(item))[0]['popularity']\n",
    "            subsum+=part\n",
    "            if part> partmax: partmax=part\n",
    "        p_art_sum+=[subsum]\n",
    "        p_art_avg+=[subsum/len(item)]\n",
    "        p_art_max+=[partmax]"
   ]
  },
  {
   "cell_type": "code",
   "execution_count": 243,
   "metadata": {},
   "outputs": [],
   "source": [
    "# place the artist popularity back to df\n",
    "df['artist.popularity.sum']=p_art_sum\n",
    "df['artist.popularity.avg']=p_art_avg\n",
    "df['artist.popularity.max']=p_art_max"
   ]
  },
  {
   "cell_type": "code",
   "execution_count": 102,
   "metadata": {},
   "outputs": [
    {
     "data": {
      "text/plain": [
       "Index(['presented_by', 'title', 'category', 'begin_time', 'past', 'end_time',\n",
       "       'votes', 'is_eventbrite', 'amazon_affiliate', 'eventbrite_id',\n",
       "       'is_free', 'rating', 'doors', 'popularity', 'sold_out', 'favorite',\n",
       "       'artists', 'rsvp', 'eager', 'venue.id', 'venue.title', 'venue.latitude',\n",
       "       'venue.longitude', 'venue.popularity', 'venue.address', 'venue.city',\n",
       "       'venue.state', 'venue.zip', 'ticket_allages', 'ticket_price_low',\n",
       "       'ticket_price_max', 'min_age'],\n",
       "      dtype='object')"
      ]
     },
     "execution_count": 102,
     "metadata": {},
     "output_type": "execute_result"
    }
   ],
   "source": [
    "df.columns"
   ]
  },
  {
   "cell_type": "code",
   "execution_count": 244,
   "metadata": {},
   "outputs": [],
   "source": [
    "usecols=['category', 'begin_time', 'past',\n",
    "       'votes', 'is_eventbrite','is_free', 'rating', 'doors',\n",
    "       'sold_out','favorite', 'artists','venue.id','venue.popularity','venue.zip',\n",
    "       'ticket_allages','ticket_price_low', 'ticket_price_max', 'min_age',\n",
    "       'artist.popularity.sum', 'artist.popularity.avg',\n",
    "       'artist.popularity.max']"
   ]
  },
  {
   "cell_type": "code",
   "execution_count": 245,
   "metadata": {},
   "outputs": [],
   "source": [
    "udf = df[usecols]"
   ]
  },
  {
   "cell_type": "code",
   "execution_count": 95,
   "metadata": {
    "collapsed": true,
    "jupyter": {
     "outputs_hidden": true
    }
   },
   "outputs": [
    {
     "name": "stdout",
     "output_type": "stream",
     "text": [
      "<class 'pandas.core.frame.DataFrame'>\n",
      "Int64Index: 41865 entries, 11049447 to 9968570\n",
      "Data columns (total 23 columns):\n",
      "category                 41865 non-null int64\n",
      "past                     41865 non-null int32\n",
      "votes                    41865 non-null int64\n",
      "is_eventbrite            41865 non-null int32\n",
      "is_free                  41865 non-null int32\n",
      "doors                    41865 non-null int32\n",
      "sold_out                 41865 non-null int32\n",
      "venue.id                 41865 non-null int64\n",
      "venue.popularity         41865 non-null float64\n",
      "venue.zip                41865 non-null int64\n",
      "ticket_allages           41865 non-null int32\n",
      "ticket_price_low         41865 non-null float64\n",
      "ticket_price_max         41865 non-null float64\n",
      "min_age                  41865 non-null int32\n",
      "artist.popularity.sum    41865 non-null float64\n",
      "artist.popularity.avg    41865 non-null float64\n",
      "artist.popularity.max    41865 non-null float64\n",
      "dow                      41865 non-null int64\n",
      "doy                      41865 non-null int64\n",
      "month                    41865 non-null int64\n",
      "day                      41865 non-null int64\n",
      "hour                     41865 non-null int64\n",
      "venue.tol_num_events     41865 non-null int64\n",
      "dtypes: float64(6), int32(7), int64(10)\n",
      "memory usage: 6.5 MB\n"
     ]
    }
   ],
   "source": [
    "udf.info()"
   ]
  },
  {
   "cell_type": "code",
   "execution_count": 246,
   "metadata": {
    "collapsed": true,
    "jupyter": {
     "outputs_hidden": true
    }
   },
   "outputs": [
    {
     "name": "stderr",
     "output_type": "stream",
     "text": [
      "C:\\Users\\z0043H7B\\AppData\\Local\\Continuum\\miniconda3\\lib\\site-packages\\pandas\\core\\indexing.py:543: SettingWithCopyWarning: \n",
      "A value is trying to be set on a copy of a slice from a DataFrame.\n",
      "Try using .loc[row_indexer,col_indexer] = value instead\n",
      "\n",
      "See the caveats in the documentation: http://pandas.pydata.org/pandas-docs/stable/indexing.html#indexing-view-versus-copy\n",
      "  self.obj[item] = s\n"
     ]
    }
   ],
   "source": [
    "udf.loc[:,'begin_time']=pd.to_datetime(udf.begin_time,utc=True).dt.tz_convert('America/North_Dakota/Center')"
   ]
  },
  {
   "cell_type": "code",
   "execution_count": 247,
   "metadata": {
    "collapsed": true,
    "jupyter": {
     "outputs_hidden": true
    }
   },
   "outputs": [
    {
     "name": "stderr",
     "output_type": "stream",
     "text": [
      "C:\\Users\\z0043H7B\\AppData\\Local\\Continuum\\miniconda3\\lib\\site-packages\\ipykernel_launcher.py:3: SettingWithCopyWarning: \n",
      "A value is trying to be set on a copy of a slice from a DataFrame.\n",
      "Try using .loc[row_indexer,col_indexer] = value instead\n",
      "\n",
      "See the caveats in the documentation: http://pandas.pydata.org/pandas-docs/stable/indexing.html#indexing-view-versus-copy\n",
      "  This is separate from the ipykernel package so we can avoid doing imports until\n",
      "C:\\Users\\z0043H7B\\AppData\\Local\\Continuum\\miniconda3\\lib\\site-packages\\ipykernel_launcher.py:4: SettingWithCopyWarning: \n",
      "A value is trying to be set on a copy of a slice from a DataFrame.\n",
      "Try using .loc[row_indexer,col_indexer] = value instead\n",
      "\n",
      "See the caveats in the documentation: http://pandas.pydata.org/pandas-docs/stable/indexing.html#indexing-view-versus-copy\n",
      "  after removing the cwd from sys.path.\n",
      "C:\\Users\\z0043H7B\\AppData\\Local\\Continuum\\miniconda3\\lib\\site-packages\\ipykernel_launcher.py:5: SettingWithCopyWarning: \n",
      "A value is trying to be set on a copy of a slice from a DataFrame.\n",
      "Try using .loc[row_indexer,col_indexer] = value instead\n",
      "\n",
      "See the caveats in the documentation: http://pandas.pydata.org/pandas-docs/stable/indexing.html#indexing-view-versus-copy\n",
      "  \"\"\"\n",
      "C:\\Users\\z0043H7B\\AppData\\Local\\Continuum\\miniconda3\\lib\\site-packages\\ipykernel_launcher.py:6: SettingWithCopyWarning: \n",
      "A value is trying to be set on a copy of a slice from a DataFrame.\n",
      "Try using .loc[row_indexer,col_indexer] = value instead\n",
      "\n",
      "See the caveats in the documentation: http://pandas.pydata.org/pandas-docs/stable/indexing.html#indexing-view-versus-copy\n",
      "  \n",
      "C:\\Users\\z0043H7B\\AppData\\Local\\Continuum\\miniconda3\\lib\\site-packages\\ipykernel_launcher.py:7: SettingWithCopyWarning: \n",
      "A value is trying to be set on a copy of a slice from a DataFrame.\n",
      "Try using .loc[row_indexer,col_indexer] = value instead\n",
      "\n",
      "See the caveats in the documentation: http://pandas.pydata.org/pandas-docs/stable/indexing.html#indexing-view-versus-copy\n",
      "  import sys\n"
     ]
    }
   ],
   "source": [
    "# tweek the start time into day of w/...ect\n",
    "udf['dow']=udf.begin_time.dt.dayofweek\n",
    "udf['doy']=udf.begin_time.dt.dayofyear\n",
    "udf['month']=udf.begin_time.dt.month\n",
    "udf['day']=udf.begin_time.dt.day\n",
    "udf['hour']=udf.begin_time.dt.hour"
   ]
  },
  {
   "cell_type": "code",
   "execution_count": 265,
   "metadata": {},
   "outputs": [
    {
     "name": "stdout",
     "output_type": "stream",
     "text": [
      "<class 'pandas.core.frame.DataFrame'>\n",
      "Int64Index: 41865 entries, 11049447 to 9968570\n",
      "Data columns (total 23 columns):\n",
      "category                 41865 non-null object\n",
      "past                     41865 non-null int32\n",
      "votes                    41865 non-null int64\n",
      "is_eventbrite            41865 non-null int32\n",
      "is_free                  41865 non-null int32\n",
      "doors                    41865 non-null int32\n",
      "sold_out                 41865 non-null int32\n",
      "venue.id                 41865 non-null int64\n",
      "venue.popularity         41865 non-null float64\n",
      "venue.zip                41865 non-null int64\n",
      "ticket_allages           41865 non-null int32\n",
      "ticket_price_low         41865 non-null float64\n",
      "ticket_price_max         41865 non-null float64\n",
      "min_age                  41865 non-null int32\n",
      "artist.popularity.sum    41865 non-null float64\n",
      "artist.popularity.avg    41865 non-null float64\n",
      "artist.popularity.max    41865 non-null float64\n",
      "dow                      41865 non-null int64\n",
      "doy                      41865 non-null int64\n",
      "month                    41865 non-null int64\n",
      "day                      41865 non-null int64\n",
      "hour                     41865 non-null int64\n",
      "venue.tol_num_events     41865 non-null int64\n",
      "dtypes: float64(6), int32(7), int64(9), object(1)\n",
      "memory usage: 6.5+ MB\n"
     ]
    }
   ],
   "source": [
    "udf.info()"
   ]
  },
  {
   "cell_type": "code",
   "execution_count": 249,
   "metadata": {
    "collapsed": true,
    "jupyter": {
     "outputs_hidden": true
    }
   },
   "outputs": [
    {
     "name": "stderr",
     "output_type": "stream",
     "text": [
      "C:\\Users\\z0043H7B\\AppData\\Local\\Continuum\\miniconda3\\lib\\site-packages\\pandas\\core\\frame.py:3940: SettingWithCopyWarning: \n",
      "A value is trying to be set on a copy of a slice from a DataFrame\n",
      "\n",
      "See the caveats in the documentation: http://pandas.pydata.org/pandas-docs/stable/indexing.html#indexing-view-versus-copy\n",
      "  errors=errors)\n"
     ]
    }
   ],
   "source": [
    "# clean up some\n",
    "udf.drop('begin_time', axis=1, inplace=True)\n",
    "udf.drop('rating', axis=1, inplace=True)\n",
    "udf.drop('favorite', axis=1, inplace=True)\n",
    "udf.drop('artists', axis=1, inplace=True)"
   ]
  },
  {
   "cell_type": "code",
   "execution_count": 189,
   "metadata": {
    "collapsed": true,
    "jupyter": {
     "outputs_hidden": true
    }
   },
   "outputs": [
    {
     "name": "stdout",
     "output_type": "stream",
     "text": [
      "count      41865\n",
      "unique        20\n",
      "top       Music \n",
      "freq       17882\n",
      "Name: category, dtype: object\n",
      "count    41865.000000\n",
      "mean         0.997850\n",
      "std          0.046316\n",
      "min          0.000000\n",
      "25%          1.000000\n",
      "50%          1.000000\n",
      "75%          1.000000\n",
      "max          1.000000\n",
      "Name: past, dtype: float64\n",
      "count    41865.000000\n",
      "mean        18.207142\n",
      "std        154.928580\n",
      "min          0.000000\n",
      "25%          1.000000\n",
      "50%          2.000000\n",
      "75%          5.000000\n",
      "max       9120.000000\n",
      "Name: votes, dtype: float64\n",
      "count    41865.000000\n",
      "mean         0.044715\n",
      "std          0.206680\n",
      "min          0.000000\n",
      "25%          0.000000\n",
      "50%          0.000000\n",
      "75%          0.000000\n",
      "max          1.000000\n",
      "Name: is_eventbrite, dtype: float64\n",
      "count    41865.000000\n",
      "mean         0.239197\n",
      "std          0.426599\n",
      "min          0.000000\n",
      "25%          0.000000\n",
      "50%          0.000000\n",
      "75%          0.000000\n",
      "max          1.000000\n",
      "Name: is_free, dtype: float64\n",
      "count    41865.000000\n",
      "mean         0.103810\n",
      "std          0.305017\n",
      "min          0.000000\n",
      "25%          0.000000\n",
      "50%          0.000000\n",
      "75%          0.000000\n",
      "max          1.000000\n",
      "Name: doors, dtype: float64\n",
      "count    41865.000000\n",
      "mean         0.005518\n",
      "std          0.074077\n",
      "min          0.000000\n",
      "25%          0.000000\n",
      "50%          0.000000\n",
      "75%          0.000000\n",
      "max          1.000000\n",
      "Name: sold_out, dtype: float64\n",
      "count     41865.000000\n",
      "mean     170314.522226\n",
      "std      178037.522282\n",
      "min          26.000000\n",
      "25%         697.000000\n",
      "50%       26022.000000\n",
      "75%      372921.000000\n",
      "max      450640.000000\n",
      "Name: venue.id, dtype: float64\n",
      "count    41865.000000\n",
      "mean         3.168996\n",
      "std          4.450321\n",
      "min          1.000000\n",
      "25%          1.000000\n",
      "50%          1.000000\n",
      "75%          2.000000\n",
      "max         35.000000\n",
      "Name: venue.popularity, dtype: float64\n",
      "count    41865.000000\n",
      "mean     66809.684701\n",
      "std      28179.899126\n",
      "min          0.000000\n",
      "25%      78701.000000\n",
      "50%      78701.000000\n",
      "75%      78705.000000\n",
      "max      90010.000000\n",
      "Name: venue.zip, dtype: float64\n",
      "count    41865.000000\n",
      "mean         0.075409\n",
      "std          0.264053\n",
      "min          0.000000\n",
      "25%          0.000000\n",
      "50%          0.000000\n",
      "75%          0.000000\n",
      "max          1.000000\n",
      "Name: ticket_allages, dtype: float64\n",
      "count    41865.000000\n",
      "mean         7.860743\n",
      "std         37.131528\n",
      "min          0.000000\n",
      "25%          0.000000\n",
      "50%          0.000000\n",
      "75%          5.000000\n",
      "max       2150.000000\n",
      "Name: ticket_price_low, dtype: float64\n",
      "count    41865.000000\n",
      "mean         4.636952\n",
      "std         41.528574\n",
      "min          0.000000\n",
      "25%          0.000000\n",
      "50%          0.000000\n",
      "75%          0.000000\n",
      "max       3000.000000\n",
      "Name: ticket_price_max, dtype: float64\n",
      "count    41865.000000\n",
      "mean         2.752944\n",
      "std          6.979557\n",
      "min          0.000000\n",
      "25%          0.000000\n",
      "50%          0.000000\n",
      "75%          0.000000\n",
      "max         25.000000\n",
      "Name: min_age, dtype: float64\n",
      "count    4.186500e+04\n",
      "mean     1.437376e+03\n",
      "std      5.722075e+04\n",
      "min      0.000000e+00\n",
      "25%      0.000000e+00\n",
      "50%      0.000000e+00\n",
      "75%      6.000000e+00\n",
      "max      4.478328e+06\n",
      "Name: artist.popularity.sum, dtype: float64\n",
      "count     41865.000000\n",
      "mean        221.922704\n",
      "std        3047.695333\n",
      "min           0.000000\n",
      "25%           0.000000\n",
      "50%           0.000000\n",
      "75%           4.000000\n",
      "max      137744.000000\n",
      "Name: artist.popularity.avg, dtype: float64\n",
      "count     41865.000000\n",
      "mean        221.922704\n",
      "std        3047.695333\n",
      "min           0.000000\n",
      "25%           0.000000\n",
      "50%           0.000000\n",
      "75%           4.000000\n",
      "max      137744.000000\n",
      "Name: artist.popularity.max, dtype: float64\n",
      "count    41865.000000\n",
      "mean         3.559393\n",
      "std          1.798654\n",
      "min          0.000000\n",
      "25%          2.000000\n",
      "50%          4.000000\n",
      "75%          5.000000\n",
      "max          6.000000\n",
      "Name: dow, dtype: float64\n",
      "count    41865.000000\n",
      "mean       168.817986\n",
      "std        103.529704\n",
      "min          1.000000\n",
      "25%         73.000000\n",
      "50%        152.000000\n",
      "75%        264.000000\n",
      "max        365.000000\n",
      "Name: doy, dtype: float64\n",
      "count    41865.000000\n",
      "mean         6.074812\n",
      "std          3.374223\n",
      "min          1.000000\n",
      "25%          3.000000\n",
      "50%          6.000000\n",
      "75%          9.000000\n",
      "max         12.000000\n",
      "Name: month, dtype: float64\n",
      "count    41865.000000\n",
      "mean        15.423647\n",
      "std          8.137576\n",
      "min          1.000000\n",
      "25%          9.000000\n",
      "50%         15.000000\n",
      "75%         22.000000\n",
      "max         31.000000\n",
      "Name: day, dtype: float64\n",
      "count    41865.000000\n",
      "mean       186.456682\n",
      "std        188.532414\n",
      "min          1.000000\n",
      "25%         27.000000\n",
      "50%        115.000000\n",
      "75%        309.000000\n",
      "max        668.000000\n",
      "Name: venue.tol_num_events, dtype: float64\n"
     ]
    }
   ],
   "source": [
    "for item in udf.columns:\n",
    "    print(udf[item].describe())"
   ]
  },
  {
   "cell_type": "code",
   "execution_count": 266,
   "metadata": {
    "collapsed": true,
    "jupyter": {
     "outputs_hidden": true
    }
   },
   "outputs": [
    {
     "data": {
      "text/plain": [
       "category                 0\n",
       "past                     0\n",
       "votes                    0\n",
       "is_eventbrite            0\n",
       "is_free                  0\n",
       "doors                    0\n",
       "sold_out                 0\n",
       "venue.id                 0\n",
       "venue.popularity         0\n",
       "venue.zip                0\n",
       "ticket_allages           0\n",
       "ticket_price_low         0\n",
       "ticket_price_max         0\n",
       "min_age                  0\n",
       "artist.popularity.sum    0\n",
       "artist.popularity.avg    0\n",
       "artist.popularity.max    0\n",
       "dow                      0\n",
       "doy                      0\n",
       "month                    0\n",
       "day                      0\n",
       "hour                     0\n",
       "venue.tol_num_events     0\n",
       "dtype: int64"
      ]
     },
     "execution_count": 266,
     "metadata": {},
     "output_type": "execute_result"
    }
   ],
   "source": [
    "udf.isnull().sum()"
   ]
  },
  {
   "cell_type": "code",
   "execution_count": 251,
   "metadata": {
    "collapsed": true,
    "jupyter": {
     "outputs_hidden": true
    }
   },
   "outputs": [
    {
     "name": "stderr",
     "output_type": "stream",
     "text": [
      "C:\\Users\\z0043H7B\\AppData\\Local\\Continuum\\miniconda3\\lib\\site-packages\\pandas\\core\\generic.py:5096: SettingWithCopyWarning: \n",
      "A value is trying to be set on a copy of a slice from a DataFrame.\n",
      "Try using .loc[row_indexer,col_indexer] = value instead\n",
      "\n",
      "See the caveats in the documentation: http://pandas.pydata.org/pandas-docs/stable/indexing.html#indexing-view-versus-copy\n",
      "  self[name] = value\n"
     ]
    }
   ],
   "source": [
    "udf.is_eventbrite=udf.is_eventbrite.fillna(False)"
   ]
  },
  {
   "cell_type": "code",
   "execution_count": 168,
   "metadata": {
    "collapsed": true,
    "jupyter": {
     "outputs_hidden": true
    }
   },
   "outputs": [
    {
     "data": {
      "text/plain": [
       "False    41634\n",
       "True       231\n",
       "Name: sold_out, dtype: int64"
      ]
     },
     "execution_count": 168,
     "metadata": {},
     "output_type": "execute_result"
    }
   ],
   "source": [
    "udf.sold_out.value_counts()"
   ]
  },
  {
   "cell_type": "code",
   "execution_count": 91,
   "metadata": {
    "collapsed": true,
    "jupyter": {
     "outputs_hidden": true
    }
   },
   "outputs": [
    {
     "data": {
      "text/plain": [
       "False    28508\n",
       "Name: favorite, dtype: int64"
      ]
     },
     "execution_count": 91,
     "metadata": {},
     "output_type": "execute_result"
    }
   ],
   "source": [
    "udf.favorite.value_counts()"
   ]
  },
  {
   "cell_type": "code",
   "execution_count": 113,
   "metadata": {
    "collapsed": true,
    "jupyter": {
     "outputs_hidden": true
    }
   },
   "outputs": [
    {
     "data": {
      "text/plain": [
       "284358    613\n",
       "611       518\n",
       "607       415\n",
       "9491      409\n",
       "1350      399\n",
       "1607      370\n",
       "119       337\n",
       "19704     332\n",
       "317       324\n",
       "87        322\n",
       "268172    320\n",
       "2625      314\n",
       "496       310\n",
       "251731    310\n",
       "151       275\n",
       "697       264\n",
       "401587    261\n",
       "113       247\n",
       "1245      230\n",
       "355136    229\n",
       "286434    221\n",
       "9128      220\n",
       "393210    208\n",
       "419621    199\n",
       "372921    196\n",
       "620       188\n",
       "24861     180\n",
       "379106    176\n",
       "198       173\n",
       "382314    165\n",
       "         ... \n",
       "394932      1\n",
       "4085        1\n",
       "442211      1\n",
       "23875       1\n",
       "284654      1\n",
       "432102      1\n",
       "417759      1\n",
       "425947      1\n",
       "419800      1\n",
       "405425      1\n",
       "311203      1\n",
       "448414      1\n",
       "419736      1\n",
       "433550      1\n",
       "442243      1\n",
       "396377      1\n",
       "450176      1\n",
       "450399      1\n",
       "124004      1\n",
       "1812        1\n",
       "449731      1\n",
       "437453      1\n",
       "441770      1\n",
       "292102      1\n",
       "24303       1\n",
       "413421      1\n",
       "438843      1\n",
       "439771      1\n",
       "401064      1\n",
       "8825        1\n",
       "Name: venue.id, Length: 2267, dtype: int64"
      ]
     },
     "execution_count": 113,
     "metadata": {},
     "output_type": "execute_result"
    }
   ],
   "source": [
    "udf['venue.id'].value_counts()"
   ]
  },
  {
   "cell_type": "code",
   "execution_count": 252,
   "metadata": {},
   "outputs": [],
   "source": [
    "# feed the total number of events happend on the venue\n",
    "vids=list(udf['venue.id'].value_counts().index.values)\n",
    "vects=udf['venue.id'].value_counts().values"
   ]
  },
  {
   "cell_type": "code",
   "execution_count": 253,
   "metadata": {},
   "outputs": [],
   "source": [
    "maxvects=[]\n",
    "for venues in udf['venue.id'].values:\n",
    "    # do lookup\n",
    "    maxvects+=[vects[vids.index(venues)]]"
   ]
  },
  {
   "cell_type": "code",
   "execution_count": 254,
   "metadata": {
    "collapsed": true,
    "jupyter": {
     "outputs_hidden": true
    }
   },
   "outputs": [
    {
     "name": "stderr",
     "output_type": "stream",
     "text": [
      "C:\\Users\\z0043H7B\\AppData\\Local\\Continuum\\miniconda3\\lib\\site-packages\\ipykernel_launcher.py:1: SettingWithCopyWarning: \n",
      "A value is trying to be set on a copy of a slice from a DataFrame.\n",
      "Try using .loc[row_indexer,col_indexer] = value instead\n",
      "\n",
      "See the caveats in the documentation: http://pandas.pydata.org/pandas-docs/stable/indexing.html#indexing-view-versus-copy\n",
      "  \"\"\"Entry point for launching an IPython kernel.\n"
     ]
    }
   ],
   "source": [
    "udf['venue.tol_num_events']=maxvects"
   ]
  },
  {
   "cell_type": "code",
   "execution_count": 257,
   "metadata": {
    "collapsed": true,
    "jupyter": {
     "outputs_hidden": true
    }
   },
   "outputs": [
    {
     "name": "stderr",
     "output_type": "stream",
     "text": [
      "C:\\Users\\z0043H7B\\AppData\\Local\\Continuum\\miniconda3\\lib\\site-packages\\ipykernel_launcher.py:5: SettingWithCopyWarning: \n",
      "A value is trying to be set on a copy of a slice from a DataFrame.\n",
      "Try using .loc[row_indexer,col_indexer] = value instead\n",
      "\n",
      "See the caveats in the documentation: http://pandas.pydata.org/pandas-docs/stable/indexing.html#indexing-view-versus-copy\n",
      "  \"\"\"\n"
     ]
    }
   ],
   "source": [
    "#parse zipcode to be correctly formatted\n",
    "udf['venue.zip'].fillna(0,inplace=True)\n",
    "aa=[ x[0:5] if x!=0 else x for x in udf['venue.zip'].values]\n",
    "p=[ int(x) if x!='' else 0 for x in aa]\n",
    "udf['venue.zip']=p"
   ]
  },
  {
   "cell_type": "code",
   "execution_count": 256,
   "metadata": {},
   "outputs": [],
   "source": [
    "aa[30004]=''"
   ]
  },
  {
   "cell_type": "code",
   "execution_count": 258,
   "metadata": {
    "collapsed": true,
    "jupyter": {
     "outputs_hidden": true
    }
   },
   "outputs": [
    {
     "data": {
      "text/plain": [
       "21.0     4530\n",
       "18.0     1063\n",
       "13.0       23\n",
       "65.0       15\n",
       "15.0       11\n",
       "16.0       10\n",
       "10.0        6\n",
       "6.0         5\n",
       "75.0        4\n",
       "250.0       4\n",
       "17.0        4\n",
       "12.0        4\n",
       "25.0        2\n",
       "60.0        2\n",
       "33.0        2\n",
       "19.0        2\n",
       "20.0        2\n",
       "50.0        1\n",
       "40.0        1\n",
       "14.0        1\n",
       "100.0       1\n",
       "9.0         1\n",
       "500.0       1\n",
       "5.0         1\n",
       "2.0         1\n",
       "59.0        1\n",
       "29.0        1\n",
       "Name: min_age, dtype: int64"
      ]
     },
     "execution_count": 258,
     "metadata": {},
     "output_type": "execute_result"
    }
   ],
   "source": [
    "udf['min_age'].value_counts()"
   ]
  },
  {
   "cell_type": "code",
   "execution_count": 259,
   "metadata": {
    "collapsed": true,
    "jupyter": {
     "outputs_hidden": true
    }
   },
   "outputs": [
    {
     "name": "stderr",
     "output_type": "stream",
     "text": [
      "C:\\Users\\z0043H7B\\AppData\\Local\\Continuum\\miniconda3\\lib\\site-packages\\ipykernel_launcher.py:1: SettingWithCopyWarning: \n",
      "A value is trying to be set on a copy of a slice from a DataFrame.\n",
      "Try using .loc[row_indexer,col_indexer] = value instead\n",
      "\n",
      "See the caveats in the documentation: http://pandas.pydata.org/pandas-docs/stable/indexing.html#indexing-view-versus-copy\n",
      "  \"\"\"Entry point for launching an IPython kernel.\n"
     ]
    }
   ],
   "source": [
    "udf['min_age'] = udf.min_age.apply(lambda x: 0.0 if x >25 else x)"
   ]
  },
  {
   "cell_type": "code",
   "execution_count": 260,
   "metadata": {
    "collapsed": true,
    "jupyter": {
     "outputs_hidden": true
    }
   },
   "outputs": [
    {
     "name": "stderr",
     "output_type": "stream",
     "text": [
      "C:\\Users\\z0043H7B\\AppData\\Local\\Continuum\\miniconda3\\lib\\site-packages\\ipykernel_launcher.py:1: SettingWithCopyWarning: \n",
      "A value is trying to be set on a copy of a slice from a DataFrame.\n",
      "Try using .loc[row_indexer,col_indexer] = value instead\n",
      "\n",
      "See the caveats in the documentation: http://pandas.pydata.org/pandas-docs/stable/indexing.html#indexing-view-versus-copy\n",
      "  \"\"\"Entry point for launching an IPython kernel.\n"
     ]
    }
   ],
   "source": [
    "udf['min_age'] = udf.min_age.fillna(0)"
   ]
  },
  {
   "cell_type": "code",
   "execution_count": 261,
   "metadata": {
    "collapsed": true,
    "jupyter": {
     "outputs_hidden": true
    }
   },
   "outputs": [
    {
     "name": "stderr",
     "output_type": "stream",
     "text": [
      "C:\\Users\\z0043H7B\\AppData\\Local\\Continuum\\miniconda3\\lib\\site-packages\\ipykernel_launcher.py:1: SettingWithCopyWarning: \n",
      "A value is trying to be set on a copy of a slice from a DataFrame.\n",
      "Try using .loc[row_indexer,col_indexer] = value instead\n",
      "\n",
      "See the caveats in the documentation: http://pandas.pydata.org/pandas-docs/stable/indexing.html#indexing-view-versus-copy\n",
      "  \"\"\"Entry point for launching an IPython kernel.\n"
     ]
    }
   ],
   "source": [
    "udf['min_age'] = udf.min_age.astype(int)"
   ]
  },
  {
   "cell_type": "code",
   "execution_count": 262,
   "metadata": {
    "collapsed": true,
    "jupyter": {
     "outputs_hidden": true
    }
   },
   "outputs": [
    {
     "name": "stderr",
     "output_type": "stream",
     "text": [
      "C:\\Users\\z0043H7B\\AppData\\Local\\Continuum\\miniconda3\\lib\\site-packages\\ipykernel_launcher.py:1: SettingWithCopyWarning: \n",
      "A value is trying to be set on a copy of a slice from a DataFrame.\n",
      "Try using .loc[row_indexer,col_indexer] = value instead\n",
      "\n",
      "See the caveats in the documentation: http://pandas.pydata.org/pandas-docs/stable/indexing.html#indexing-view-versus-copy\n",
      "  \"\"\"Entry point for launching an IPython kernel.\n"
     ]
    }
   ],
   "source": [
    "udf['ticket_price_max'] = udf['ticket_price_max'].fillna(0)"
   ]
  },
  {
   "cell_type": "code",
   "execution_count": 263,
   "metadata": {},
   "outputs": [],
   "source": [
    "# encode some boolean features to 0/1\n",
    "boolcol = udf.columns[(udf.dtypes.values == np.dtype('bool'))]"
   ]
  },
  {
   "cell_type": "code",
   "execution_count": 264,
   "metadata": {
    "collapsed": true,
    "jupyter": {
     "outputs_hidden": true
    }
   },
   "outputs": [
    {
     "name": "stderr",
     "output_type": "stream",
     "text": [
      "C:\\Users\\z0043H7B\\AppData\\Local\\Continuum\\miniconda3\\lib\\site-packages\\ipykernel_launcher.py:3: SettingWithCopyWarning: \n",
      "A value is trying to be set on a copy of a slice from a DataFrame.\n",
      "Try using .loc[row_indexer,col_indexer] = value instead\n",
      "\n",
      "See the caveats in the documentation: http://pandas.pydata.org/pandas-docs/stable/indexing.html#indexing-view-versus-copy\n",
      "  This is separate from the ipykernel package so we can avoid doing imports until\n"
     ]
    }
   ],
   "source": [
    "## convert all boolean columns into 0/1\n",
    "for cols in boolcol:\n",
    "    udf[cols]=udf[cols].astype(int)"
   ]
  },
  {
   "cell_type": "code",
   "execution_count": 201,
   "metadata": {},
   "outputs": [],
   "source": [
    "# convert category to encoded\n",
    "cat=udf.category.unique()"
   ]
  },
  {
   "cell_type": "code",
   "execution_count": 202,
   "metadata": {},
   "outputs": [],
   "source": [
    "catmaping=dict(zip(cat,[x for x in range(len(cat))]))"
   ]
  },
  {
   "cell_type": "code",
   "execution_count": 203,
   "metadata": {},
   "outputs": [
    {
     "name": "stdout",
     "output_type": "stream",
     "text": [
      "the mapping of category is: {'Music ': 0, 'Comedy': 1, 'Happy Hour + Drink Specials': 2, \"DJ's + Parties\": 3, 'Film + TV': 4, 'Karaoke + Trivia': 5, 'Workshops + Classes': 6, 'Community': 7, 'Literary': 8, 'Art & Culture': 9, 'Sports + Activities': 10, 'Food + Drink': 11, 'LGBTQ+': 12, 'Theater': 13, 'Variety / Other': 14, 'Activism': 15, 'Exhibit': 16, 'Opening': 17, 'Fashion': 18, 'Free Week': 19}\n"
     ]
    }
   ],
   "source": [
    "print(\"the mapping of category is:\",catmaping)"
   ]
  },
  {
   "cell_type": "code",
   "execution_count": 267,
   "metadata": {
    "collapsed": true,
    "jupyter": {
     "outputs_hidden": true
    }
   },
   "outputs": [
    {
     "name": "stderr",
     "output_type": "stream",
     "text": [
      "C:\\Users\\z0043H7B\\AppData\\Local\\Continuum\\miniconda3\\lib\\site-packages\\pandas\\core\\generic.py:6586: SettingWithCopyWarning: \n",
      "A value is trying to be set on a copy of a slice from a DataFrame\n",
      "\n",
      "See the caveats in the documentation: http://pandas.pydata.org/pandas-docs/stable/indexing.html#indexing-view-versus-copy\n",
      "  self._update_inplace(new_data)\n"
     ]
    }
   ],
   "source": [
    "for i,line in enumerate(cat):\n",
    "    udf.category.replace(line,i,inplace=True)"
   ]
  },
  {
   "cell_type": "code",
   "execution_count": 268,
   "metadata": {
    "collapsed": true,
    "jupyter": {
     "outputs_hidden": true
    }
   },
   "outputs": [
    {
     "data": {
      "text/plain": [
       "0     17882\n",
       "7      5196\n",
       "14     4041\n",
       "4      3718\n",
       "9      1953\n",
       "11     1925\n",
       "1      1592\n",
       "10     1471\n",
       "2      1129\n",
       "8       744\n",
       "3       716\n",
       "13      637\n",
       "5       438\n",
       "6       157\n",
       "12       95\n",
       "16       69\n",
       "17       64\n",
       "15       34\n",
       "18        2\n",
       "19        2\n",
       "Name: category, dtype: int64"
      ]
     },
     "execution_count": 268,
     "metadata": {},
     "output_type": "execute_result"
    }
   ],
   "source": [
    "udf.category.value_counts()"
   ]
  },
  {
   "cell_type": "code",
   "execution_count": 108,
   "metadata": {},
   "outputs": [
    {
     "name": "stdout",
     "output_type": "stream",
     "text": [
      "<class 'pandas.core.frame.DataFrame'>\n",
      "Int64Index: 41865 entries, 11049447 to 9968570\n",
      "Data columns (total 24 columns):\n",
      "category                 41865 non-null int64\n",
      "past                     41865 non-null int32\n",
      "votes                    41865 non-null int64\n",
      "is_eventbrite            41865 non-null int32\n",
      "is_free                  41865 non-null int32\n",
      "doors                    41865 non-null int32\n",
      "sold_out                 41865 non-null int32\n",
      "venue.id                 41865 non-null int64\n",
      "venue.popularity         41865 non-null float64\n",
      "venue.zip                41865 non-null int64\n",
      "ticket_allages           41865 non-null int32\n",
      "ticket_price_low         41865 non-null float64\n",
      "ticket_price_max         41865 non-null float64\n",
      "min_age                  41865 non-null int32\n",
      "artist.popularity.sum    41865 non-null float64\n",
      "artist.popularity.avg    41865 non-null float64\n",
      "artist.popularity.max    41865 non-null float64\n",
      "dow                      41865 non-null int64\n",
      "doy                      41865 non-null int64\n",
      "month                    41865 non-null int64\n",
      "day                      41865 non-null int64\n",
      "hour                     41865 non-null int64\n",
      "venue.tol_num_events     41865 non-null int64\n",
      "event_id                 0 non-null float64\n",
      "dtypes: float64(7), int32(7), int64(10)\n",
      "memory usage: 6.9 MB\n"
     ]
    }
   ],
   "source": [
    "udf.info()"
   ]
  },
  {
   "cell_type": "code",
   "execution_count": 125,
   "metadata": {},
   "outputs": [],
   "source": [
    "udf['event_id']=df['id'].values"
   ]
  },
  {
   "cell_type": "code",
   "execution_count": 127,
   "metadata": {},
   "outputs": [],
   "source": [
    "## save out this dataframe\n",
    "write('full_1st_setoffeat_events4mlwithid.parq',udf)"
   ]
  },
  {
   "cell_type": "code",
   "execution_count": 271,
   "metadata": {},
   "outputs": [],
   "source": [
    "udf.to_csv('full_1st_setoffeat_events4ml.csv',index=False)"
   ]
  },
  {
   "cell_type": "code",
   "execution_count": 128,
   "metadata": {},
   "outputs": [],
   "source": [
    "pf=ParquetFile('full_1st_setoffeat_events4mlwithid.parq')\n",
    "udf=pf.to_pandas()"
   ]
  },
  {
   "cell_type": "code",
   "execution_count": 129,
   "metadata": {},
   "outputs": [],
   "source": [
    "udf.drop_duplicates(subset='event_id',inplace=True)"
   ]
  },
  {
   "cell_type": "code",
   "execution_count": 135,
   "metadata": {},
   "outputs": [
    {
     "name": "stdout",
     "output_type": "stream",
     "text": [
      "<class 'pandas.core.frame.DataFrame'>\n",
      "Int64Index: 40703 entries, 11049447 to 9968570\n",
      "Data columns (total 23 columns):\n",
      "category                 40703 non-null int64\n",
      "past                     40703 non-null int32\n",
      "votes                    40703 non-null int64\n",
      "is_eventbrite            40703 non-null int32\n",
      "is_free                  40703 non-null int32\n",
      "doors                    40703 non-null int32\n",
      "sold_out                 40703 non-null int32\n",
      "venue.id                 40703 non-null int64\n",
      "venue.popularity         40703 non-null float64\n",
      "venue.zip                40703 non-null int64\n",
      "ticket_allages           40703 non-null int32\n",
      "ticket_price_low         40703 non-null float64\n",
      "ticket_price_max         40703 non-null float64\n",
      "min_age                  40703 non-null int32\n",
      "artist.popularity.sum    40703 non-null float64\n",
      "artist.popularity.avg    40703 non-null float64\n",
      "artist.popularity.max    40703 non-null float64\n",
      "dow                      40703 non-null int64\n",
      "doy                      40703 non-null int64\n",
      "month                    40703 non-null int64\n",
      "day                      40703 non-null int64\n",
      "hour                     40703 non-null int64\n",
      "venue.tol_num_events     40703 non-null int64\n",
      "dtypes: float64(6), int32(7), int64(10)\n",
      "memory usage: 7.6 MB\n"
     ]
    }
   ],
   "source": [
    "udf.info()"
   ]
  },
  {
   "cell_type": "code",
   "execution_count": 134,
   "metadata": {},
   "outputs": [],
   "source": [
    "udf=udf.drop(['event_id'], axis=1)"
   ]
  },
  {
   "cell_type": "code",
   "execution_count": 136,
   "metadata": {},
   "outputs": [],
   "source": [
    "udf_y=udf['votes'] # data y--target\n",
    "a=list(udf.columns.values)\n",
    "a.remove('votes')    \n",
    "udf_x=udf[a]       # data X"
   ]
  },
  {
   "cell_type": "code",
   "execution_count": 137,
   "metadata": {},
   "outputs": [],
   "source": [
    "## start Modeling trail\n",
    "## bechmark model metric setup\n",
    "from sklearn.model_selection import train_test_split\n",
    "X_train, X_test, y_train, y_test = train_test_split(udf_x, udf_y, test_size=0.3, random_state=12)"
   ]
  },
  {
   "cell_type": "code",
   "execution_count": 42,
   "metadata": {},
   "outputs": [
    {
     "data": {
      "text/html": [
       "<div>\n",
       "<style scoped>\n",
       "    .dataframe tbody tr th:only-of-type {\n",
       "        vertical-align: middle;\n",
       "    }\n",
       "\n",
       "    .dataframe tbody tr th {\n",
       "        vertical-align: top;\n",
       "    }\n",
       "\n",
       "    .dataframe thead th {\n",
       "        text-align: right;\n",
       "    }\n",
       "</style>\n",
       "<table border=\"1\" class=\"dataframe\">\n",
       "  <thead>\n",
       "    <tr style=\"text-align: right;\">\n",
       "      <th></th>\n",
       "      <th>category</th>\n",
       "      <th>past</th>\n",
       "      <th>is_eventbrite</th>\n",
       "      <th>is_free</th>\n",
       "      <th>doors</th>\n",
       "      <th>sold_out</th>\n",
       "      <th>venue.id</th>\n",
       "      <th>venue.popularity</th>\n",
       "      <th>venue.zip</th>\n",
       "      <th>ticket_allages</th>\n",
       "      <th>...</th>\n",
       "      <th>min_age</th>\n",
       "      <th>artist.popularity.sum</th>\n",
       "      <th>artist.popularity.avg</th>\n",
       "      <th>artist.popularity.max</th>\n",
       "      <th>dow</th>\n",
       "      <th>doy</th>\n",
       "      <th>month</th>\n",
       "      <th>day</th>\n",
       "      <th>hour</th>\n",
       "      <th>venue.tol_num_events</th>\n",
       "    </tr>\n",
       "    <tr>\n",
       "      <th>id</th>\n",
       "      <th></th>\n",
       "      <th></th>\n",
       "      <th></th>\n",
       "      <th></th>\n",
       "      <th></th>\n",
       "      <th></th>\n",
       "      <th></th>\n",
       "      <th></th>\n",
       "      <th></th>\n",
       "      <th></th>\n",
       "      <th></th>\n",
       "      <th></th>\n",
       "      <th></th>\n",
       "      <th></th>\n",
       "      <th></th>\n",
       "      <th></th>\n",
       "      <th></th>\n",
       "      <th></th>\n",
       "      <th></th>\n",
       "      <th></th>\n",
       "      <th></th>\n",
       "    </tr>\n",
       "  </thead>\n",
       "  <tbody>\n",
       "    <tr>\n",
       "      <th>10499171</th>\n",
       "      <td>0</td>\n",
       "      <td>1</td>\n",
       "      <td>0</td>\n",
       "      <td>0</td>\n",
       "      <td>1</td>\n",
       "      <td>0</td>\n",
       "      <td>251731</td>\n",
       "      <td>15.0</td>\n",
       "      <td>78701</td>\n",
       "      <td>0</td>\n",
       "      <td>...</td>\n",
       "      <td>0</td>\n",
       "      <td>6.0</td>\n",
       "      <td>1.0</td>\n",
       "      <td>1.0</td>\n",
       "      <td>3</td>\n",
       "      <td>73</td>\n",
       "      <td>3</td>\n",
       "      <td>14</td>\n",
       "      <td>19</td>\n",
       "      <td>405</td>\n",
       "    </tr>\n",
       "    <tr>\n",
       "      <th>10108239</th>\n",
       "      <td>2</td>\n",
       "      <td>1</td>\n",
       "      <td>0</td>\n",
       "      <td>0</td>\n",
       "      <td>0</td>\n",
       "      <td>0</td>\n",
       "      <td>268909</td>\n",
       "      <td>1.0</td>\n",
       "      <td>78704</td>\n",
       "      <td>0</td>\n",
       "      <td>...</td>\n",
       "      <td>21</td>\n",
       "      <td>0.0</td>\n",
       "      <td>0.0</td>\n",
       "      <td>0.0</td>\n",
       "      <td>5</td>\n",
       "      <td>321</td>\n",
       "      <td>11</td>\n",
       "      <td>17</td>\n",
       "      <td>14</td>\n",
       "      <td>213</td>\n",
       "    </tr>\n",
       "    <tr>\n",
       "      <th>10630753</th>\n",
       "      <td>11</td>\n",
       "      <td>1</td>\n",
       "      <td>0</td>\n",
       "      <td>0</td>\n",
       "      <td>0</td>\n",
       "      <td>0</td>\n",
       "      <td>377356</td>\n",
       "      <td>1.0</td>\n",
       "      <td>78745</td>\n",
       "      <td>0</td>\n",
       "      <td>...</td>\n",
       "      <td>0</td>\n",
       "      <td>0.0</td>\n",
       "      <td>0.0</td>\n",
       "      <td>0.0</td>\n",
       "      <td>5</td>\n",
       "      <td>131</td>\n",
       "      <td>5</td>\n",
       "      <td>11</td>\n",
       "      <td>18</td>\n",
       "      <td>40</td>\n",
       "    </tr>\n",
       "    <tr>\n",
       "      <th>10191244</th>\n",
       "      <td>4</td>\n",
       "      <td>1</td>\n",
       "      <td>0</td>\n",
       "      <td>0</td>\n",
       "      <td>0</td>\n",
       "      <td>0</td>\n",
       "      <td>1607</td>\n",
       "      <td>5.0</td>\n",
       "      <td>78701</td>\n",
       "      <td>0</td>\n",
       "      <td>...</td>\n",
       "      <td>0</td>\n",
       "      <td>0.0</td>\n",
       "      <td>0.0</td>\n",
       "      <td>0.0</td>\n",
       "      <td>3</td>\n",
       "      <td>24</td>\n",
       "      <td>1</td>\n",
       "      <td>24</td>\n",
       "      <td>19</td>\n",
       "      <td>608</td>\n",
       "    </tr>\n",
       "    <tr>\n",
       "      <th>10758130</th>\n",
       "      <td>0</td>\n",
       "      <td>1</td>\n",
       "      <td>0</td>\n",
       "      <td>0</td>\n",
       "      <td>1</td>\n",
       "      <td>0</td>\n",
       "      <td>13466</td>\n",
       "      <td>10.0</td>\n",
       "      <td>0</td>\n",
       "      <td>0</td>\n",
       "      <td>...</td>\n",
       "      <td>21</td>\n",
       "      <td>12.0</td>\n",
       "      <td>3.0</td>\n",
       "      <td>3.0</td>\n",
       "      <td>4</td>\n",
       "      <td>158</td>\n",
       "      <td>6</td>\n",
       "      <td>7</td>\n",
       "      <td>21</td>\n",
       "      <td>197</td>\n",
       "    </tr>\n",
       "  </tbody>\n",
       "</table>\n",
       "<p>5 rows × 22 columns</p>\n",
       "</div>"
      ],
      "text/plain": [
       "          category  past  is_eventbrite  is_free  doors  sold_out  venue.id  \\\n",
       "id                                                                            \n",
       "10499171         0     1              0        0      1         0    251731   \n",
       "10108239         2     1              0        0      0         0    268909   \n",
       "10630753        11     1              0        0      0         0    377356   \n",
       "10191244         4     1              0        0      0         0      1607   \n",
       "10758130         0     1              0        0      1         0     13466   \n",
       "\n",
       "          venue.popularity  venue.zip  ticket_allages  ...  min_age  \\\n",
       "id                                                     ...            \n",
       "10499171              15.0      78701               0  ...        0   \n",
       "10108239               1.0      78704               0  ...       21   \n",
       "10630753               1.0      78745               0  ...        0   \n",
       "10191244               5.0      78701               0  ...        0   \n",
       "10758130              10.0          0               0  ...       21   \n",
       "\n",
       "          artist.popularity.sum  artist.popularity.avg  artist.popularity.max  \\\n",
       "id                                                                              \n",
       "10499171                    6.0                    1.0                    1.0   \n",
       "10108239                    0.0                    0.0                    0.0   \n",
       "10630753                    0.0                    0.0                    0.0   \n",
       "10191244                    0.0                    0.0                    0.0   \n",
       "10758130                   12.0                    3.0                    3.0   \n",
       "\n",
       "          dow  doy  month  day  hour  venue.tol_num_events  \n",
       "id                                                          \n",
       "10499171    3   73      3   14    19                   405  \n",
       "10108239    5  321     11   17    14                   213  \n",
       "10630753    5  131      5   11    18                    40  \n",
       "10191244    3   24      1   24    19                   608  \n",
       "10758130    4  158      6    7    21                   197  \n",
       "\n",
       "[5 rows x 22 columns]"
      ]
     },
     "execution_count": 42,
     "metadata": {},
     "output_type": "execute_result"
    }
   ],
   "source": [
    "X_train.head()"
   ]
  },
  {
   "cell_type": "code",
   "execution_count": null,
   "metadata": {},
   "outputs": [],
   "source": []
  },
  {
   "cell_type": "code",
   "execution_count": 13,
   "metadata": {},
   "outputs": [],
   "source": [
    "# get average value as benchmark guess\n",
    "b_y=np.mean(y_train)"
   ]
  },
  {
   "cell_type": "code",
   "execution_count": 14,
   "metadata": {},
   "outputs": [
    {
     "data": {
      "text/plain": [
       "17.70810441904112"
      ]
     },
     "execution_count": 14,
     "metadata": {},
     "output_type": "execute_result"
    }
   ],
   "source": [
    "b_y"
   ]
  },
  {
   "cell_type": "code",
   "execution_count": 15,
   "metadata": {},
   "outputs": [],
   "source": [
    "b_pred_y = [b_y for x in range(len(y_train)) ]"
   ]
  },
  {
   "cell_type": "code",
   "execution_count": 24,
   "metadata": {
    "collapsed": true,
    "jupyter": {
     "outputs_hidden": true
    }
   },
   "outputs": [
    {
     "ename": "NameError",
     "evalue": "name 'b_pred_y' is not defined",
     "output_type": "error",
     "traceback": [
      "\u001b[1;31m---------------------------------------------------------------------------\u001b[0m",
      "\u001b[1;31mNameError\u001b[0m                                 Traceback (most recent call last)",
      "\u001b[1;32m<ipython-input-24-322e2a473173>\u001b[0m in \u001b[0;36m<module>\u001b[1;34m\u001b[0m\n\u001b[0;32m      1\u001b[0m \u001b[1;31m# access the benchmark y_pred\u001b[0m\u001b[1;33m\u001b[0m\u001b[1;33m\u001b[0m\u001b[1;33m\u001b[0m\u001b[0m\n\u001b[0;32m      2\u001b[0m \u001b[1;32mfrom\u001b[0m \u001b[0msklearn\u001b[0m \u001b[1;32mimport\u001b[0m \u001b[0mmetrics\u001b[0m\u001b[1;33m\u001b[0m\u001b[1;33m\u001b[0m\u001b[0m\n\u001b[1;32m----> 3\u001b[1;33m \u001b[0mprint\u001b[0m\u001b[1;33m(\u001b[0m\u001b[1;34m'MSE score(training):'\u001b[0m\u001b[1;33m,\u001b[0m\u001b[0mmetrics\u001b[0m\u001b[1;33m.\u001b[0m\u001b[0mmean_squared_error\u001b[0m\u001b[1;33m(\u001b[0m\u001b[0my_train\u001b[0m\u001b[1;33m,\u001b[0m \u001b[0mb_pred_y\u001b[0m\u001b[1;33m)\u001b[0m\u001b[1;33m)\u001b[0m\u001b[1;33m\u001b[0m\u001b[1;33m\u001b[0m\u001b[0m\n\u001b[0m\u001b[0;32m      4\u001b[0m \u001b[0mprint\u001b[0m\u001b[1;33m(\u001b[0m\u001b[1;34m'MAE score(training):'\u001b[0m\u001b[1;33m,\u001b[0m\u001b[0mmetrics\u001b[0m\u001b[1;33m.\u001b[0m\u001b[0mmean_absolute_error\u001b[0m\u001b[1;33m(\u001b[0m\u001b[0my_train\u001b[0m\u001b[1;33m,\u001b[0m \u001b[0mb_pred_y\u001b[0m\u001b[1;33m)\u001b[0m\u001b[1;33m)\u001b[0m\u001b[1;33m\u001b[0m\u001b[1;33m\u001b[0m\u001b[0m\n\u001b[0;32m      5\u001b[0m \u001b[1;31m#print('MSE score:',metrics.mean_squared_error(y_test, pred_test))\u001b[0m\u001b[1;33m\u001b[0m\u001b[1;33m\u001b[0m\u001b[1;33m\u001b[0m\u001b[0m\n",
      "\u001b[1;31mNameError\u001b[0m: name 'b_pred_y' is not defined"
     ]
    }
   ],
   "source": [
    "# access the benchmark y_pred\n",
    "from sklearn import metrics\n",
    "print('MSE score(training):',metrics.mean_squared_error(y_train, b_pred_y))\n",
    "print('MAE score(training):',metrics.mean_absolute_error(y_train, b_pred_y))\n",
    "#print('MSE score:',metrics.mean_squared_error(y_test, pred_test))\n",
    "#print('MAE score:',metrics.mean_absolute_error(y_test, pred_test))"
   ]
  },
  {
   "cell_type": "code",
   "execution_count": 3,
   "metadata": {},
   "outputs": [],
   "source": [
    "## linear regression model\n",
    "from sklearn import linear_model\n",
    "RD_model0 = linear_model.LinearRegression()"
   ]
  },
  {
   "cell_type": "code",
   "execution_count": 294,
   "metadata": {},
   "outputs": [
    {
     "data": {
      "text/plain": [
       "LinearRegression(copy_X=True, fit_intercept=True, n_jobs=None, normalize=False)"
      ]
     },
     "execution_count": 294,
     "metadata": {},
     "output_type": "execute_result"
    }
   ],
   "source": [
    "RD_model0.fit(X_train,y_train)"
   ]
  },
  {
   "cell_type": "code",
   "execution_count": 295,
   "metadata": {},
   "outputs": [
    {
     "name": "stdout",
     "output_type": "stream",
     "text": [
      "training score of Linear Regression: 1.0\n",
      "testing score of Linear Regression: 1.0\n"
     ]
    }
   ],
   "source": [
    "pred_train = RD_model0.predict(X_train)\n",
    "print('training score of Linear Regression:',RD_model0.score(X_train,pred_train))\n",
    "pred_test=RD_model0.predict(X_test)\n",
    "print('testing score of Linear Regression:',RD_model0.score(X_test,pred_test))"
   ]
  },
  {
   "cell_type": "code",
   "execution_count": 296,
   "metadata": {},
   "outputs": [
    {
     "name": "stdout",
     "output_type": "stream",
     "text": [
      "MSE score(training): 12236.203835458093\n",
      "MAE score(training): 22.304912397013773\n",
      "MSE score: 14145.953375424535\n",
      "MAE score: 23.85615334949573\n"
     ]
    }
   ],
   "source": [
    "print('MSE score(training):',metrics.mean_squared_error(y_train, pred_train))\n",
    "print('MAE score(training):',metrics.mean_absolute_error(y_train, pred_train))\n",
    "print('MSE score:',metrics.mean_squared_error(y_test, pred_test))\n",
    "print('MAE score:',metrics.mean_absolute_error(y_test, pred_test))"
   ]
  },
  {
   "cell_type": "code",
   "execution_count": 297,
   "metadata": {},
   "outputs": [
    {
     "data": {
      "image/png": "[encoded data removed]",
      "text/plain": [
       "<Figure size 432x288 with 1 Axes>"
      ]
     },
     "metadata": {
      "needs_background": "light"
     },
     "output_type": "display_data"
    }
   ],
   "source": [
    "# plot prediction result:\n",
    "import matplotlib.pyplot as plt\n",
    "plt.scatter(pred_test,y_test, s=5)\n",
    "plt.title('test data prediction')\n",
    "plt.xlabel('predicted')\n",
    "plt.ylabel('true')\n",
    "plt.show()"
   ]
  },
  {
   "cell_type": "code",
   "execution_count": 308,
   "metadata": {},
   "outputs": [
    {
     "data": {
      "image/png": "[encoded data removed]",
      "text/plain": [
       "<Figure size 432x288 with 1 Axes>"
      ]
     },
     "metadata": {
      "needs_background": "light"
     },
     "output_type": "display_data"
    }
   ],
   "source": [
    "# plot prediction result:\n",
    "import matplotlib.pyplot as plt\n",
    "plt.scatter(pred_test,y_test, s=5)\n",
    "plt.title('test data prediction')\n",
    "plt.xlabel('predicted')\n",
    "plt.ylabel('true')\n",
    "plt.xlim([-100,2500])\n",
    "plt.show()"
   ]
  },
  {
   "cell_type": "code",
   "execution_count": 298,
   "metadata": {},
   "outputs": [],
   "source": [
    "## save a defaultdict for the coef of each attribute:\n",
    "weights=zip(list(udf_x.columns),RD_model0.coef_) # use a iterable to print the coefficient and their corresponding column name\n",
    "m0_coef=dict(zip(udf_x.columns, RD_model0.coef_))"
   ]
  },
  {
   "cell_type": "code",
   "execution_count": 299,
   "metadata": {},
   "outputs": [
    {
     "data": {
      "image/png": "[encoded data removed]",
      "text/plain": [
       "<Figure size 1800x432 with 1 Axes>"
      ]
     },
     "metadata": {
      "needs_background": "light"
     },
     "output_type": "display_data"
    }
   ],
   "source": [
    "# plot a histogram chart to illustrate :\n",
    "\n",
    "x_tick_label=list(udf_x.columns)\n",
    "hist_val=RD_model0.coef_\n",
    "fig, ax = plt.subplots(figsize=(25,6))\n",
    "index=np.arange(len(RD_model0.coef_))\n",
    "ax.bar(index,hist_val, .3, color='r')\n",
    "ax.set_xticks(range(0, 22, 1))\n",
    "ax.set_xticklabels(x_tick_label, rotation='vertical')\n",
    "plt.show()\n"
   ]
  },
  {
   "cell_type": "code",
   "execution_count": 138,
   "metadata": {},
   "outputs": [],
   "source": [
    "# try random forest model to access better interpretation to features\n",
    "from sklearn.ensemble import RandomForestRegressor\n",
    "RF_model0 = RandomForestRegressor(random_state=12,verbose=10)"
   ]
  },
  {
   "cell_type": "code",
   "execution_count": 139,
   "metadata": {},
   "outputs": [
    {
     "name": "stderr",
     "output_type": "stream",
     "text": [
      "C:\\Users\\z0043H7B\\AppData\\Local\\Continuum\\miniconda3\\lib\\site-packages\\sklearn\\ensemble\\forest.py:245: FutureWarning: The default value of n_estimators will change from 10 in version 0.20 to 100 in 0.22.\n",
      "  \"10 in version 0.20 to 100 in 0.22.\", FutureWarning)\n",
      "[Parallel(n_jobs=1)]: Using backend SequentialBackend with 1 concurrent workers.\n"
     ]
    },
    {
     "name": "stdout",
     "output_type": "stream",
     "text": [
      "building tree 1 of 10\n",
      "building tree 2 of 10\n"
     ]
    },
    {
     "name": "stderr",
     "output_type": "stream",
     "text": [
      "[Parallel(n_jobs=1)]: Done   1 out of   1 | elapsed:    0.1s remaining:    0.0s\n",
      "[Parallel(n_jobs=1)]: Done   2 out of   2 | elapsed:    0.3s remaining:    0.0s\n"
     ]
    },
    {
     "name": "stdout",
     "output_type": "stream",
     "text": [
      "building tree 3 of 10\n"
     ]
    },
    {
     "name": "stderr",
     "output_type": "stream",
     "text": [
      "[Parallel(n_jobs=1)]: Done   3 out of   3 | elapsed:    0.5s remaining:    0.0s\n",
      "[Parallel(n_jobs=1)]: Done   4 out of   4 | elapsed:    0.7s remaining:    0.0s\n"
     ]
    },
    {
     "name": "stdout",
     "output_type": "stream",
     "text": [
      "building tree 4 of 10\n",
      "building tree 5 of 10\n"
     ]
    },
    {
     "name": "stderr",
     "output_type": "stream",
     "text": [
      "[Parallel(n_jobs=1)]: Done   5 out of   5 | elapsed:    0.9s remaining:    0.0s\n",
      "[Parallel(n_jobs=1)]: Done   6 out of   6 | elapsed:    1.1s remaining:    0.0s\n"
     ]
    },
    {
     "name": "stdout",
     "output_type": "stream",
     "text": [
      "building tree 6 of 10\n",
      "building tree 7 of 10\n"
     ]
    },
    {
     "name": "stderr",
     "output_type": "stream",
     "text": [
      "[Parallel(n_jobs=1)]: Done   7 out of   7 | elapsed:    1.2s remaining:    0.0s\n",
      "[Parallel(n_jobs=1)]: Done   8 out of   8 | elapsed:    1.4s remaining:    0.0s\n"
     ]
    },
    {
     "name": "stdout",
     "output_type": "stream",
     "text": [
      "building tree 8 of 10\n",
      "building tree 9 of 10\n",
      "building tree 10 of 10\n"
     ]
    },
    {
     "name": "stderr",
     "output_type": "stream",
     "text": [
      "[Parallel(n_jobs=1)]: Done   9 out of   9 | elapsed:    1.6s remaining:    0.0s\n",
      "[Parallel(n_jobs=1)]: Done  10 out of  10 | elapsed:    1.8s finished\n"
     ]
    },
    {
     "data": {
      "text/plain": [
       "RandomForestRegressor(bootstrap=True, criterion='mse', max_depth=None,\n",
       "                      max_features='auto', max_leaf_nodes=None,\n",
       "                      min_impurity_decrease=0.0, min_impurity_split=None,\n",
       "                      min_samples_leaf=1, min_samples_split=2,\n",
       "                      min_weight_fraction_leaf=0.0, n_estimators=10,\n",
       "                      n_jobs=None, oob_score=False, random_state=12, verbose=10,\n",
       "                      warm_start=False)"
      ]
     },
     "execution_count": 139,
     "metadata": {},
     "output_type": "execute_result"
    }
   ],
   "source": [
    "RF_model0.fit(X_train,y_train)"
   ]
  },
  {
   "cell_type": "code",
   "execution_count": 140,
   "metadata": {},
   "outputs": [
    {
     "name": "stderr",
     "output_type": "stream",
     "text": [
      "[Parallel(n_jobs=1)]: Using backend SequentialBackend with 1 concurrent workers.\n",
      "[Parallel(n_jobs=1)]: Done   1 out of   1 | elapsed:    0.0s remaining:    0.0s\n",
      "[Parallel(n_jobs=1)]: Done   2 out of   2 | elapsed:    0.0s remaining:    0.0s\n",
      "[Parallel(n_jobs=1)]: Done   3 out of   3 | elapsed:    0.0s remaining:    0.0s\n",
      "[Parallel(n_jobs=1)]: Done   4 out of   4 | elapsed:    0.0s remaining:    0.0s\n",
      "[Parallel(n_jobs=1)]: Done   5 out of   5 | elapsed:    0.0s remaining:    0.0s\n",
      "[Parallel(n_jobs=1)]: Done   6 out of   6 | elapsed:    0.0s remaining:    0.0s\n",
      "[Parallel(n_jobs=1)]: Done   7 out of   7 | elapsed:    0.0s remaining:    0.0s\n",
      "[Parallel(n_jobs=1)]: Done   8 out of   8 | elapsed:    0.0s remaining:    0.0s\n",
      "[Parallel(n_jobs=1)]: Done   9 out of   9 | elapsed:    0.0s remaining:    0.0s\n",
      "[Parallel(n_jobs=1)]: Done  10 out of  10 | elapsed:    0.0s finished\n",
      "[Parallel(n_jobs=1)]: Using backend SequentialBackend with 1 concurrent workers.\n",
      "[Parallel(n_jobs=1)]: Done   1 out of   1 | elapsed:    0.0s remaining:    0.0s\n",
      "[Parallel(n_jobs=1)]: Done   2 out of   2 | elapsed:    0.0s remaining:    0.0s\n",
      "[Parallel(n_jobs=1)]: Done   3 out of   3 | elapsed:    0.0s remaining:    0.0s\n",
      "[Parallel(n_jobs=1)]: Done   4 out of   4 | elapsed:    0.0s remaining:    0.0s\n",
      "[Parallel(n_jobs=1)]: Done   5 out of   5 | elapsed:    0.0s remaining:    0.0s\n",
      "[Parallel(n_jobs=1)]: Done   6 out of   6 | elapsed:    0.0s remaining:    0.0s\n",
      "[Parallel(n_jobs=1)]: Done   7 out of   7 | elapsed:    0.0s remaining:    0.0s\n",
      "[Parallel(n_jobs=1)]: Done   8 out of   8 | elapsed:    0.0s remaining:    0.0s\n",
      "[Parallel(n_jobs=1)]: Done   9 out of   9 | elapsed:    0.0s remaining:    0.0s\n",
      "[Parallel(n_jobs=1)]: Done  10 out of  10 | elapsed:    0.0s finished\n",
      "[Parallel(n_jobs=1)]: Using backend SequentialBackend with 1 concurrent workers.\n",
      "[Parallel(n_jobs=1)]: Done   1 out of   1 | elapsed:    0.0s remaining:    0.0s\n",
      "[Parallel(n_jobs=1)]: Done   2 out of   2 | elapsed:    0.0s remaining:    0.0s\n",
      "[Parallel(n_jobs=1)]: Done   3 out of   3 | elapsed:    0.0s remaining:    0.0s\n",
      "[Parallel(n_jobs=1)]: Done   4 out of   4 | elapsed:    0.0s remaining:    0.0s\n",
      "[Parallel(n_jobs=1)]: Done   5 out of   5 | elapsed:    0.0s remaining:    0.0s\n",
      "[Parallel(n_jobs=1)]: Done   6 out of   6 | elapsed:    0.0s remaining:    0.0s\n",
      "[Parallel(n_jobs=1)]: Done   7 out of   7 | elapsed:    0.0s remaining:    0.0s\n",
      "[Parallel(n_jobs=1)]: Done   8 out of   8 | elapsed:    0.0s remaining:    0.0s\n"
     ]
    },
    {
     "name": "stdout",
     "output_type": "stream",
     "text": [
      "training score of RandomForest: 1.0\n",
      "test score of RandomForest: 1.0\n"
     ]
    },
    {
     "name": "stderr",
     "output_type": "stream",
     "text": [
      "[Parallel(n_jobs=1)]: Done   9 out of   9 | elapsed:    0.0s remaining:    0.0s\n",
      "[Parallel(n_jobs=1)]: Done  10 out of  10 | elapsed:    0.0s finished\n",
      "[Parallel(n_jobs=1)]: Using backend SequentialBackend with 1 concurrent workers.\n",
      "[Parallel(n_jobs=1)]: Done   1 out of   1 | elapsed:    0.0s remaining:    0.0s\n",
      "[Parallel(n_jobs=1)]: Done   2 out of   2 | elapsed:    0.0s remaining:    0.0s\n",
      "[Parallel(n_jobs=1)]: Done   3 out of   3 | elapsed:    0.0s remaining:    0.0s\n",
      "[Parallel(n_jobs=1)]: Done   4 out of   4 | elapsed:    0.0s remaining:    0.0s\n",
      "[Parallel(n_jobs=1)]: Done   5 out of   5 | elapsed:    0.0s remaining:    0.0s\n",
      "[Parallel(n_jobs=1)]: Done   6 out of   6 | elapsed:    0.0s remaining:    0.0s\n",
      "[Parallel(n_jobs=1)]: Done   7 out of   7 | elapsed:    0.0s remaining:    0.0s\n",
      "[Parallel(n_jobs=1)]: Done   8 out of   8 | elapsed:    0.0s remaining:    0.0s\n",
      "[Parallel(n_jobs=1)]: Done   9 out of   9 | elapsed:    0.0s remaining:    0.0s\n",
      "[Parallel(n_jobs=1)]: Done  10 out of  10 | elapsed:    0.0s finished\n"
     ]
    }
   ],
   "source": [
    "pred_train_RF = RF_model0.predict(X_train)\n",
    "print('training score of RandomForest:',RF_model0.score(X_train,pred_train_RF))\n",
    "pred_test_RF = RF_model0.predict(X_test)\n",
    "print('test score of RandomForest:',RF_model0.score(X_test,pred_test_RF))"
   ]
  },
  {
   "cell_type": "code",
   "execution_count": 141,
   "metadata": {},
   "outputs": [
    {
     "name": "stdout",
     "output_type": "stream",
     "text": [
      "MSE score(training): 3095.3037061729397\n",
      "MAE score(training): 5.68160004095442\n",
      "MSE score: 12423.17218299971\n",
      "MAE score: 15.17233912514367\n"
     ]
    }
   ],
   "source": [
    "# access several benchmark RMSE for reference:\n",
    "print('MSE score(training):',metrics.mean_squared_error(y_train, pred_train_RF))\n",
    "print('MAE score(training):',metrics.mean_absolute_error(y_train, pred_train_RF))\n",
    "print('MSE score:',metrics.mean_squared_error(y_test, pred_test_RF))\n",
    "print('MAE score:',metrics.mean_absolute_error(y_test, pred_test_RF))"
   ]
  },
  {
   "cell_type": "code",
   "execution_count": 144,
   "metadata": {},
   "outputs": [
    {
     "data": {
      "image/png": "[encoded data removed]",
      "text/plain": [
       "<Figure size 432x288 with 1 Axes>"
      ]
     },
     "metadata": {
      "needs_background": "light"
     },
     "output_type": "display_data"
    }
   ],
   "source": [
    "# plot erros  ### take a look at the errors distributions\n",
    "test_err=y_test-pred_test_RF\n",
    "plt.scatter(y_test,test_err, s=5)\n",
    "plt.title('test data errors')\n",
    "plt.xlabel('true votes')\n",
    "plt.ylabel('errors')\n",
    "#plt.xlim([-100,2500])\n",
    "plt.show()"
   ]
  },
  {
   "cell_type": "markdown",
   "metadata": {},
   "source": [
    "### the error is very large for the high value votes\n",
    "#### Model will be biased on the low value votes for prediction"
   ]
  },
  {
   "cell_type": "code",
   "execution_count": 62,
   "metadata": {},
   "outputs": [
    {
     "data": {
      "text/plain": [
       "15.808106849224979"
      ]
     },
     "execution_count": 62,
     "metadata": {},
     "output_type": "execute_result"
    }
   ],
   "source": [
    "np.mean(abs(y_test.values-pred_test_RF))"
   ]
  },
  {
   "cell_type": "code",
   "execution_count": 74,
   "metadata": {},
   "outputs": [
    {
     "name": "stderr",
     "output_type": "stream",
     "text": [
      "C:\\Users\\z0043H7B\\AppData\\Local\\Continuum\\miniconda3\\lib\\site-packages\\ipykernel_launcher.py:2: FutureWarning: Using a non-tuple sequence for multidimensional indexing is deprecated; use `arr[tuple(seq)]` instead of `arr[seq]`. In the future this will be interpreted as an array index, `arr[np.array(seq)]`, which will result either in an error or a different result.\n",
      "  \n"
     ]
    }
   ],
   "source": [
    "k=[y_test>0]\n",
    "yy_test=y_test.values[k]\n",
    "yy_test_RF=list(pred_test_RF)[k]\n"
   ]
  },
  {
   "cell_type": "code",
   "execution_count": 75,
   "metadata": {},
   "outputs": [
    {
     "data": {
      "text/plain": [
       "numpy.ndarray"
      ]
     },
     "execution_count": 75,
     "metadata": {},
     "output_type": "execute_result"
    }
   ],
   "source": [
    "type(pred_test_RF)"
   ]
  },
  {
   "cell_type": "code",
   "execution_count": 304,
   "metadata": {},
   "outputs": [
    {
     "data": {
      "image/png": "[encoded data removed]",
      "text/plain": [
       "<Figure size 432x288 with 1 Axes>"
      ]
     },
     "metadata": {
      "needs_background": "light"
     },
     "output_type": "display_data"
    }
   ],
   "source": [
    "# plot prediction result:\n",
    "plt.scatter(pred_test_RF,y_test, s=5)\n",
    "plt.title('test data prediction(RF model)')\n",
    "plt.xlabel('predicted')\n",
    "plt.ylabel('true')\n",
    "plt.show()"
   ]
  },
  {
   "cell_type": "code",
   "execution_count": 307,
   "metadata": {},
   "outputs": [
    {
     "data": {
      "image/png": "[encoded data removed]",
      "text/plain": [
       "<Figure size 432x288 with 1 Axes>"
      ]
     },
     "metadata": {
      "needs_background": "light"
     },
     "output_type": "display_data"
    }
   ],
   "source": [
    "# plot prediction result:\n",
    "plt.scatter(pred_test_RF,y_test, s=5)\n",
    "plt.title('test data prediction(RF model)')\n",
    "plt.xlabel('predicted')\n",
    "plt.ylabel('true')\n",
    "plt.xlim([-100,2500])\n",
    "plt.show()"
   ]
  },
  {
   "cell_type": "code",
   "execution_count": 314,
   "metadata": {},
   "outputs": [
    {
     "name": "stdout",
     "output_type": "stream",
     "text": [
      "category 0.009113947576519333\n",
      "past 0.0006491563920628024\n",
      "is_eventbrite 0.0010575755789626706\n",
      "is_free 0.004606397770256743\n",
      "doors 0.0025609565121571046\n",
      "sold_out 0.007299007690346053\n",
      "venue.id 0.09347906333860949\n",
      "venue.popularity 0.005659648298041423\n",
      "venue.zip 0.030542089045742533\n",
      "ticket_allages 0.003758830304267033\n",
      "ticket_price_low 0.006927630350190267\n",
      "ticket_price_max 0.006263887489126464\n",
      "min_age 0.006267206079629972\n",
      "artist.popularity.sum 0.5283956533172027\n",
      "artist.popularity.avg 0.0169481569489884\n",
      "artist.popularity.max 0.01559235964778902\n",
      "dow 0.026239094533534107\n",
      "doy 0.06508502823651886\n",
      "month 0.012944831272968754\n",
      "day 0.0360881442045176\n",
      "hour 0.06436372016983609\n",
      "venue.tol_num_events 0.056157615242732536\n"
     ]
    },
    {
     "data": {
      "image/png": "[encoded data removed]",
      "text/plain": [
       "<Figure size 1440x360 with 1 Axes>"
      ]
     },
     "metadata": {
      "needs_background": "light"
     },
     "output_type": "display_data"
    }
   ],
   "source": [
    "# Take a look at feature importance\n",
    "f_importance = pd.DataFrame({'feature':udf_x.columns, 'importance':RF_model0.feature_importances_})\n",
    "#plot histogram\n",
    "lenc = len(udf.columns)\n",
    "x_tick_label=[None]*lenc\n",
    "hist_val=np.zeros(lenc)\n",
    "for i in range(0,lenc-1):\n",
    "    hist_val[i] = f_importance.values[i][1]\n",
    "    x_tick_label[i] = f_importance.values[i][0]\n",
    "    print(x_tick_label[i],hist_val[i])\n",
    "    \n",
    "index = np.arange(lenc)+1\n",
    "fig, ax = plt.subplots(figsize=(20,5))\n",
    "ax.bar(index,hist_val, .3, color='r')\n",
    "ax.set_xticks(range(1, lenc, 1))\n",
    "ax.set_xticklabels(x_tick_label, rotation='vertical')\n",
    "plt.show()"
   ]
  },
  {
   "cell_type": "code",
   "execution_count": 317,
   "metadata": {},
   "outputs": [
    {
     "name": "stdout",
     "output_type": "stream",
     "text": [
      "venue.id 0.09347906333860949\n",
      "venue.zip 0.030542089045742533\n",
      "artist.popularity.sum 0.5283956533172027\n",
      "doy 0.06508502823651886\n",
      "day 0.0360881442045176\n",
      "hour 0.06436372016983609\n",
      "venue.tol_num_events 0.056157615242732536\n"
     ]
    }
   ],
   "source": [
    "# pickout the top few features and redo linear\n",
    "for i in range(0,lenc-1):\n",
    "    hist_val[i] = f_importance.values[i][1]\n",
    "    x_tick_label[i] = f_importance.values[i][0]\n",
    "    if hist_val[i]>0.03:\n",
    "        print(x_tick_label[i],hist_val[i])"
   ]
  },
  {
   "cell_type": "code",
   "execution_count": 318,
   "metadata": {},
   "outputs": [],
   "source": [
    "usecols2=['category','venue.id','venue.zip','artist.popularity.sum','doy','day','hour','venue.tol_num_events']"
   ]
  },
  {
   "cell_type": "code",
   "execution_count": 319,
   "metadata": {},
   "outputs": [],
   "source": [
    "uudf=udf[usecols2]"
   ]
  },
  {
   "cell_type": "code",
   "execution_count": 322,
   "metadata": {},
   "outputs": [],
   "source": [
    "udf_y=udf['votes'] # data y--target    \n",
    "uudf_x=uudf       # data X"
   ]
  },
  {
   "cell_type": "code",
   "execution_count": 328,
   "metadata": {},
   "outputs": [],
   "source": [
    "## start Modeling trail\n",
    "## bechmark model metric setup\n",
    "from sklearn.model_selection import train_test_split\n",
    "X_train, X_test, y_train, y_test = train_test_split(uudf_x, udf_y, test_size=0.3, random_state=12)"
   ]
  },
  {
   "cell_type": "code",
   "execution_count": 329,
   "metadata": {},
   "outputs": [],
   "source": [
    "RD_model1 = linear_model.LinearRegression()"
   ]
  },
  {
   "cell_type": "code",
   "execution_count": 330,
   "metadata": {},
   "outputs": [
    {
     "data": {
      "text/plain": [
       "LinearRegression(copy_X=True, fit_intercept=True, n_jobs=None, normalize=False)"
      ]
     },
     "execution_count": 330,
     "metadata": {},
     "output_type": "execute_result"
    }
   ],
   "source": [
    "RD_model1.fit(X_train,y_train)"
   ]
  },
  {
   "cell_type": "code",
   "execution_count": 336,
   "metadata": {},
   "outputs": [
    {
     "name": "stdout",
     "output_type": "stream",
     "text": [
      "training score of Linear Regression: 1.0\n",
      "testing score of Linear Regression: 1.0\n"
     ]
    }
   ],
   "source": [
    "pred_train1 = RD_model1.predict(X_train)\n",
    "print('training score of Linear Regression:',RD_model1.score(X_train,pred_train1))\n",
    "pred_test1=RD_model1.predict(X_test)\n",
    "print('testing score of Linear Regression:',RD_model1.score(X_test,pred_test1))"
   ]
  },
  {
   "cell_type": "code",
   "execution_count": 337,
   "metadata": {},
   "outputs": [
    {
     "name": "stdout",
     "output_type": "stream",
     "text": [
      "MSE score(training): 12373.631426323678\n",
      "MAE score(training): 23.06165250390011\n",
      "MSE score: 14289.713956326825\n",
      "MAE score: 24.370494942771874\n"
     ]
    }
   ],
   "source": [
    "print('MSE score(training):',metrics.mean_squared_error(y_train, pred_train1))\n",
    "print('MAE score(training):',metrics.mean_absolute_error(y_train, pred_train1))\n",
    "print('MSE score:',metrics.mean_squared_error(y_test, pred_test1))\n",
    "print('MAE score:',metrics.mean_absolute_error(y_test, pred_test1))"
   ]
  },
  {
   "cell_type": "code",
   "execution_count": 5,
   "metadata": {},
   "outputs": [],
   "source": [
    "SGD_model0 = linear_model.SGDRegressor()"
   ]
  },
  {
   "cell_type": "code",
   "execution_count": 17,
   "metadata": {},
   "outputs": [
    {
     "data": {
      "text/plain": [
       "SGDRegressor(alpha=0.0001, average=False, early_stopping=False, epsilon=0.1,\n",
       "             eta0=0.01, fit_intercept=True, l1_ratio=0.15,\n",
       "             learning_rate='invscaling', loss='squared_loss', max_iter=1000,\n",
       "             n_iter_no_change=5, penalty='l2', power_t=0.25, random_state=None,\n",
       "             shuffle=True, tol=0.001, validation_fraction=0.1, verbose=0,\n",
       "             warm_start=False)"
      ]
     },
     "execution_count": 17,
     "metadata": {},
     "output_type": "execute_result"
    }
   ],
   "source": [
    "SGD_model0.fit(X_train,y_train)"
   ]
  },
  {
   "cell_type": "markdown",
   "metadata": {},
   "source": [
    "#### plug in another unseen event to test prediction\n",
    "{\n",
    "    \"_id\" : ObjectId(\"5d8c9a30552e8c8c9c358d75\"),\n",
    "    \"event_id\" : \"11129071\",\n",
    "    \"title\" : \"cozymason\",\n",
    "    \"venue\" : {\n",
    "        \"address\" : \"801 Red River\",\n",
    "        \"city\" : \"Austin\",\n",
    "        \"state\" : \"TX\",\n",
    "        \"zip\" : \"78701\",\n",
    "        \"title\" : \"Stubb's\",\n",
    "        \"location\" : {\n",
    "            \"type\" : \"Point\",\n",
    "            \"coordinates\" : {\n",
    "                \"latitude\" : 30.2684579,\n",
    "                \"longitude\" : -97.7361748\n",
    "            }\n",
    "        }\n",
    "    },\n",
    "    \"begin_time\" : ISODate(\"2019-09-27T03:00:00.000Z\"),\n",
    "    \"end_time\" : ISODate(\"2019-09-27T07:00:00.000Z\"),\n",
    "    \"category\" : \"Music \",\n",
    "    \"vote_count\" : 5,\n",
    "    \"is_sold_out\" : false,\n",
    "    \"source\" : \"Do512\"\n",
    "}"
   ]
  },
  {
   "cell_type": "code",
   "execution_count": 338,
   "metadata": {},
   "outputs": [
    {
     "data": {
      "text/plain": [
       "Index(['category', 'past', 'is_eventbrite', 'is_free', 'doors', 'sold_out',\n",
       "       'venue.id', 'venue.popularity', 'venue.zip', 'ticket_allages',\n",
       "       'ticket_price_low', 'ticket_price_max', 'min_age',\n",
       "       'artist.popularity.sum', 'artist.popularity.avg',\n",
       "       'artist.popularity.max', 'dow', 'doy', 'month', 'day', 'hour',\n",
       "       'venue.tol_num_events'],\n",
       "      dtype='object')"
      ]
     },
     "execution_count": 338,
     "metadata": {},
     "output_type": "execute_result"
    }
   ],
   "source": [
    "udf_x.columns"
   ]
  },
  {
   "cell_type": "code",
   "execution_count": 346,
   "metadata": {},
   "outputs": [],
   "source": [
    "a=[0,1,0,1,1,0,113,15,78701,1,0,0,21,5,5,5,4,269,9,26,22,247]\n",
    "test1in=pd.DataFrame(columns=udf_x.columns)\n",
    "test1in.loc[len(test1in), :] = a\n"
   ]
  },
  {
   "cell_type": "code",
   "execution_count": 347,
   "metadata": {},
   "outputs": [
    {
     "name": "stderr",
     "output_type": "stream",
     "text": [
      "[Parallel(n_jobs=1)]: Using backend SequentialBackend with 1 concurrent workers.\n",
      "[Parallel(n_jobs=1)]: Done   1 out of   1 | elapsed:    0.0s remaining:    0.0s\n",
      "[Parallel(n_jobs=1)]: Done   2 out of   2 | elapsed:    0.0s remaining:    0.0s\n",
      "[Parallel(n_jobs=1)]: Done   3 out of   3 | elapsed:    0.0s remaining:    0.0s\n",
      "[Parallel(n_jobs=1)]: Done   4 out of   4 | elapsed:    0.0s remaining:    0.0s\n",
      "[Parallel(n_jobs=1)]: Done   5 out of   5 | elapsed:    0.0s remaining:    0.0s\n",
      "[Parallel(n_jobs=1)]: Done   6 out of   6 | elapsed:    0.0s remaining:    0.0s\n",
      "[Parallel(n_jobs=1)]: Done   7 out of   7 | elapsed:    0.0s remaining:    0.0s\n",
      "[Parallel(n_jobs=1)]: Done   8 out of   8 | elapsed:    0.0s remaining:    0.0s\n",
      "[Parallel(n_jobs=1)]: Done   9 out of   9 | elapsed:    0.0s remaining:    0.0s\n",
      "[Parallel(n_jobs=1)]: Done  10 out of  10 | elapsed:    0.0s finished\n"
     ]
    }
   ],
   "source": [
    "test1out=RF_model0.predict(test1in)"
   ]
  },
  {
   "cell_type": "code",
   "execution_count": 91,
   "metadata": {},
   "outputs": [
    {
     "data": {
      "text/plain": [
       "Index(['category', 'past', 'votes', 'is_eventbrite', 'is_free', 'doors',\n",
       "       'sold_out', 'venue.id', 'venue.popularity', 'venue.zip',\n",
       "       'ticket_allages', 'ticket_price_low', 'ticket_price_max', 'min_age',\n",
       "       'artist.popularity.sum', 'artist.popularity.avg',\n",
       "       'artist.popularity.max', 'dow', 'doy', 'month', 'day', 'hour',\n",
       "       'venue.tol_num_events'],\n",
       "      dtype='object')"
      ]
     },
     "execution_count": 91,
     "metadata": {},
     "output_type": "execute_result"
    }
   ],
   "source": [
    "udf.columns"
   ]
  },
  {
   "cell_type": "code",
   "execution_count": null,
   "metadata": {},
   "outputs": [],
   "source": []
  },
  {
   "cell_type": "code",
   "execution_count": 92,
   "metadata": {},
   "outputs": [],
   "source": [
    "udf2_y=udf['votes']\n",
    "udf2=udf[['category', 'past', 'is_eventbrite', 'is_free', 'doors',\n",
    "       'sold_out', 'venue.id', 'venue.popularity', 'venue.zip',\n",
    "       'ticket_allages', 'ticket_price_low', 'ticket_price_max', 'min_age',\n",
    "       'artist.popularity.sum', 'artist.popularity.avg',\n",
    "       'artist.popularity.max','venue.tol_num_events']]"
   ]
  },
  {
   "cell_type": "code",
   "execution_count": 93,
   "metadata": {},
   "outputs": [
    {
     "data": {
      "text/plain": [
       "41865"
      ]
     },
     "execution_count": 93,
     "metadata": {},
     "output_type": "execute_result"
    }
   ],
   "source": [
    "len(udf2_y)"
   ]
  },
  {
   "cell_type": "code",
   "execution_count": 28,
   "metadata": {},
   "outputs": [],
   "source": [
    "## start Modeling trail\n",
    "## bechmark model metric setup\n",
    "from sklearn.model_selection import train_test_split\n",
    "X_train, X_test, y_train, y_test = train_test_split(udf2, udf2_y, test_size=0.3, random_state=12)"
   ]
  },
  {
   "cell_type": "code",
   "execution_count": 22,
   "metadata": {},
   "outputs": [],
   "source": [
    "# try random forest model to access better interpretation to features\n",
    "from sklearn.ensemble import RandomForestRegressor\n",
    "RF_model2 = RandomForestRegressor(random_state=12,verbose=10)"
   ]
  },
  {
   "cell_type": "code",
   "execution_count": 23,
   "metadata": {},
   "outputs": [
    {
     "name": "stderr",
     "output_type": "stream",
     "text": [
      "C:\\Users\\z0043H7B\\AppData\\Local\\Continuum\\miniconda3\\lib\\site-packages\\sklearn\\ensemble\\forest.py:245: FutureWarning: The default value of n_estimators will change from 10 in version 0.20 to 100 in 0.22.\n",
      "  \"10 in version 0.20 to 100 in 0.22.\", FutureWarning)\n",
      "[Parallel(n_jobs=1)]: Using backend SequentialBackend with 1 concurrent workers.\n",
      "[Parallel(n_jobs=1)]: Done   1 out of   1 | elapsed:    0.0s remaining:    0.0s\n"
     ]
    },
    {
     "name": "stdout",
     "output_type": "stream",
     "text": [
      "building tree 1 of 10\n",
      "building tree 2 of 10\n"
     ]
    },
    {
     "name": "stderr",
     "output_type": "stream",
     "text": [
      "[Parallel(n_jobs=1)]: Done   2 out of   2 | elapsed:    0.2s remaining:    0.0s\n",
      "[Parallel(n_jobs=1)]: Done   3 out of   3 | elapsed:    0.3s remaining:    0.0s\n"
     ]
    },
    {
     "name": "stdout",
     "output_type": "stream",
     "text": [
      "building tree 3 of 10\n",
      "building tree 4 of 10\n"
     ]
    },
    {
     "name": "stderr",
     "output_type": "stream",
     "text": [
      "[Parallel(n_jobs=1)]: Done   4 out of   4 | elapsed:    0.5s remaining:    0.0s\n",
      "[Parallel(n_jobs=1)]: Done   5 out of   5 | elapsed:    0.6s remaining:    0.0s\n"
     ]
    },
    {
     "name": "stdout",
     "output_type": "stream",
     "text": [
      "building tree 5 of 10\n",
      "building tree 6 of 10\n"
     ]
    },
    {
     "name": "stderr",
     "output_type": "stream",
     "text": [
      "[Parallel(n_jobs=1)]: Done   6 out of   6 | elapsed:    0.6s remaining:    0.0s\n",
      "[Parallel(n_jobs=1)]: Done   7 out of   7 | elapsed:    0.7s remaining:    0.0s\n",
      "[Parallel(n_jobs=1)]: Done   8 out of   8 | elapsed:    0.8s remaining:    0.0s\n"
     ]
    },
    {
     "name": "stdout",
     "output_type": "stream",
     "text": [
      "building tree 7 of 10\n",
      "building tree 8 of 10\n",
      "building tree 9 of 10\n",
      "building tree 10 of 10\n"
     ]
    },
    {
     "name": "stderr",
     "output_type": "stream",
     "text": [
      "[Parallel(n_jobs=1)]: Done   9 out of   9 | elapsed:    0.9s remaining:    0.0s\n",
      "[Parallel(n_jobs=1)]: Done  10 out of  10 | elapsed:    1.0s finished\n"
     ]
    },
    {
     "data": {
      "text/plain": [
       "RandomForestRegressor(bootstrap=True, criterion='mse', max_depth=None,\n",
       "                      max_features='auto', max_leaf_nodes=None,\n",
       "                      min_impurity_decrease=0.0, min_impurity_split=None,\n",
       "                      min_samples_leaf=1, min_samples_split=2,\n",
       "                      min_weight_fraction_leaf=0.0, n_estimators=10,\n",
       "                      n_jobs=None, oob_score=False, random_state=12, verbose=10,\n",
       "                      warm_start=False)"
      ]
     },
     "execution_count": 23,
     "metadata": {},
     "output_type": "execute_result"
    }
   ],
   "source": [
    "RF_model2.fit(X_train,y_train)"
   ]
  },
  {
   "cell_type": "code",
   "execution_count": 26,
   "metadata": {},
   "outputs": [
    {
     "name": "stderr",
     "output_type": "stream",
     "text": [
      "[Parallel(n_jobs=1)]: Using backend SequentialBackend with 1 concurrent workers.\n",
      "[Parallel(n_jobs=1)]: Done   1 out of   1 | elapsed:    0.0s remaining:    0.0s\n",
      "[Parallel(n_jobs=1)]: Done   2 out of   2 | elapsed:    0.0s remaining:    0.0s\n",
      "[Parallel(n_jobs=1)]: Done   3 out of   3 | elapsed:    0.0s remaining:    0.0s\n",
      "[Parallel(n_jobs=1)]: Done   4 out of   4 | elapsed:    0.0s remaining:    0.0s\n",
      "[Parallel(n_jobs=1)]: Done   5 out of   5 | elapsed:    0.0s remaining:    0.0s\n",
      "[Parallel(n_jobs=1)]: Done   6 out of   6 | elapsed:    0.0s remaining:    0.0s\n",
      "[Parallel(n_jobs=1)]: Done   7 out of   7 | elapsed:    0.0s remaining:    0.0s\n",
      "[Parallel(n_jobs=1)]: Done   8 out of   8 | elapsed:    0.0s remaining:    0.0s\n",
      "[Parallel(n_jobs=1)]: Done   9 out of   9 | elapsed:    0.0s remaining:    0.0s\n",
      "[Parallel(n_jobs=1)]: Done  10 out of  10 | elapsed:    0.0s finished\n",
      "[Parallel(n_jobs=1)]: Using backend SequentialBackend with 1 concurrent workers.\n",
      "[Parallel(n_jobs=1)]: Done   1 out of   1 | elapsed:    0.0s remaining:    0.0s\n",
      "[Parallel(n_jobs=1)]: Done   2 out of   2 | elapsed:    0.0s remaining:    0.0s\n",
      "[Parallel(n_jobs=1)]: Done   3 out of   3 | elapsed:    0.0s remaining:    0.0s\n",
      "[Parallel(n_jobs=1)]: Done   4 out of   4 | elapsed:    0.0s remaining:    0.0s\n",
      "[Parallel(n_jobs=1)]: Done   5 out of   5 | elapsed:    0.0s remaining:    0.0s\n",
      "[Parallel(n_jobs=1)]: Done   6 out of   6 | elapsed:    0.0s remaining:    0.0s\n",
      "[Parallel(n_jobs=1)]: Done   7 out of   7 | elapsed:    0.0s remaining:    0.0s\n",
      "[Parallel(n_jobs=1)]: Done   8 out of   8 | elapsed:    0.0s remaining:    0.0s\n",
      "[Parallel(n_jobs=1)]: Done   9 out of   9 | elapsed:    0.0s remaining:    0.0s\n",
      "[Parallel(n_jobs=1)]: Done  10 out of  10 | elapsed:    0.0s finished\n",
      "[Parallel(n_jobs=1)]: Using backend SequentialBackend with 1 concurrent workers.\n",
      "[Parallel(n_jobs=1)]: Done   1 out of   1 | elapsed:    0.0s remaining:    0.0s\n",
      "[Parallel(n_jobs=1)]: Done   2 out of   2 | elapsed:    0.0s remaining:    0.0s\n",
      "[Parallel(n_jobs=1)]: Done   3 out of   3 | elapsed:    0.0s remaining:    0.0s\n",
      "[Parallel(n_jobs=1)]: Done   4 out of   4 | elapsed:    0.0s remaining:    0.0s\n",
      "[Parallel(n_jobs=1)]: Done   5 out of   5 | elapsed:    0.0s remaining:    0.0s\n",
      "[Parallel(n_jobs=1)]: Done   6 out of   6 | elapsed:    0.0s remaining:    0.0s\n",
      "[Parallel(n_jobs=1)]: Done   7 out of   7 | elapsed:    0.0s remaining:    0.0s\n",
      "[Parallel(n_jobs=1)]: Done   8 out of   8 | elapsed:    0.0s remaining:    0.0s\n",
      "[Parallel(n_jobs=1)]: Done   9 out of   9 | elapsed:    0.0s remaining:    0.0s\n",
      "[Parallel(n_jobs=1)]: Done  10 out of  10 | elapsed:    0.0s finished\n",
      "[Parallel(n_jobs=1)]: Using backend SequentialBackend with 1 concurrent workers.\n",
      "[Parallel(n_jobs=1)]: Done   1 out of   1 | elapsed:    0.0s remaining:    0.0s\n",
      "[Parallel(n_jobs=1)]: Done   2 out of   2 | elapsed:    0.0s remaining:    0.0s\n",
      "[Parallel(n_jobs=1)]: Done   3 out of   3 | elapsed:    0.0s remaining:    0.0s\n",
      "[Parallel(n_jobs=1)]: Done   4 out of   4 | elapsed:    0.0s remaining:    0.0s\n"
     ]
    },
    {
     "name": "stdout",
     "output_type": "stream",
     "text": [
      "training score of RandomForest: 1.0\n",
      "test score of RandomForest: 1.0\n"
     ]
    },
    {
     "name": "stderr",
     "output_type": "stream",
     "text": [
      "[Parallel(n_jobs=1)]: Done   5 out of   5 | elapsed:    0.0s remaining:    0.0s\n",
      "[Parallel(n_jobs=1)]: Done   6 out of   6 | elapsed:    0.0s remaining:    0.0s\n",
      "[Parallel(n_jobs=1)]: Done   7 out of   7 | elapsed:    0.0s remaining:    0.0s\n",
      "[Parallel(n_jobs=1)]: Done   8 out of   8 | elapsed:    0.0s remaining:    0.0s\n",
      "[Parallel(n_jobs=1)]: Done   9 out of   9 | elapsed:    0.0s remaining:    0.0s\n",
      "[Parallel(n_jobs=1)]: Done  10 out of  10 | elapsed:    0.0s finished\n"
     ]
    }
   ],
   "source": [
    "pred_train_RF2 = RF_model2.predict(X_train)\n",
    "print('training score of RandomForest:',RF_model2.score(X_train,pred_train_RF2))\n",
    "pred_test_RF2 = RF_model2.predict(X_test)\n",
    "print('test score of RandomForest:',RF_model2.score(X_test,pred_test_RF2))"
   ]
  },
  {
   "cell_type": "code",
   "execution_count": 28,
   "metadata": {},
   "outputs": [
    {
     "name": "stdout",
     "output_type": "stream",
     "text": [
      "MSE score(training): 1255.810073656174\n",
      "MAE score(training): 5.7709029120269\n",
      "MSE score: 10192.568966482224\n",
      "MAE score: 15.007638180680647\n"
     ]
    }
   ],
   "source": [
    "# access several benchmark RMSE for reference:\n",
    "print('MSE score(training):',metrics.mean_squared_error(y_train, pred_train_RF2))\n",
    "print('MAE score(training):',metrics.mean_absolute_error(y_train, pred_train_RF2))\n",
    "print('MSE score:',metrics.mean_squared_error(y_test, pred_test_RF2))\n",
    "print('MAE score:',metrics.mean_absolute_error(y_test, pred_test_RF2))"
   ]
  },
  {
   "cell_type": "code",
   "execution_count": 90,
   "metadata": {},
   "outputs": [
    {
     "ename": "NameError",
     "evalue": "name 'pred_train_RF2' is not defined",
     "output_type": "error",
     "traceback": [
      "\u001b[1;31m---------------------------------------------------------------------------\u001b[0m",
      "\u001b[1;31mNameError\u001b[0m                                 Traceback (most recent call last)",
      "\u001b[1;32m<ipython-input-90-9f9c3035801e>\u001b[0m in \u001b[0;36m<module>\u001b[1;34m\u001b[0m\n\u001b[0;32m      1\u001b[0m \u001b[1;31m# calculate the errors\u001b[0m\u001b[1;33m\u001b[0m\u001b[1;33m\u001b[0m\u001b[1;33m\u001b[0m\u001b[0m\n\u001b[1;32m----> 2\u001b[1;33m \u001b[0merr\u001b[0m\u001b[1;33m=\u001b[0m\u001b[0mpred_train_RF2\u001b[0m\u001b[1;33m-\u001b[0m\u001b[0my_train\u001b[0m\u001b[1;33m\u001b[0m\u001b[1;33m\u001b[0m\u001b[0m\n\u001b[0m",
      "\u001b[1;31mNameError\u001b[0m: name 'pred_train_RF2' is not defined"
     ]
    }
   ],
   "source": [
    "# calculate the errors\n",
    "err=pred_train_RF2-y_train"
   ]
  },
  {
   "cell_type": "code",
   "execution_count": 33,
   "metadata": {},
   "outputs": [
    {
     "name": "stdout",
     "output_type": "stream",
     "text": [
      "category 0.08804970187474712\n",
      "past 0.0007898284423833346\n",
      "is_eventbrite 0.001949550262431893\n",
      "is_free 0.036211767726237666\n",
      "doors 0.0069931228581104656\n",
      "sold_out 0.0030022502960732\n",
      "venue.id 0.1253712171441336\n",
      "venue.popularity 0.009266569080414087\n",
      "venue.zip 0.033932272037815014\n",
      "ticket_allages 0.004352461892580919\n",
      "ticket_price_low 0.008098236236795018\n",
      "ticket_price_max 0.007088096872807438\n",
      "min_age 0.010088127323173986\n",
      "artist.popularity.sum 0.5587820621834655\n",
      "artist.popularity.avg 0.02608935048510767\n",
      "artist.popularity.max 0.02481375859202083\n",
      "venue.tol_num_events 0.05512162669170244\n"
     ]
    },
    {
     "data": {
      "image/png": "[encoded data removed]",
      "text/plain": [
       "<Figure size 1440x360 with 1 Axes>"
      ]
     },
     "metadata": {
      "needs_background": "light"
     },
     "output_type": "display_data"
    }
   ],
   "source": [
    "# Take a look at feature importance\n",
    "f_importance = pd.DataFrame({'feature':udf2.columns, 'importance':RF_model2.feature_importances_})\n",
    "#plot histogram\n",
    "lenc = len(udf2.columns)\n",
    "x_tick_label=[None]*lenc\n",
    "hist_val=np.zeros(lenc)\n",
    "for i in range(0,lenc):\n",
    "    hist_val[i] = f_importance.values[i][1]\n",
    "    x_tick_label[i] = f_importance.values[i][0]\n",
    "    print(x_tick_label[i],hist_val[i])\n",
    "    \n",
    "index = np.arange(lenc)+2\n",
    "fig, ax = plt.subplots(figsize=(20,5))\n",
    "ax.bar(index,hist_val, .3, color='r')\n",
    "ax.set_xticks(range(1, lenc, 1))\n",
    "ax.set_xticklabels(x_tick_label, rotation='vertical')\n",
    "plt.show()"
   ]
  },
  {
   "cell_type": "code",
   "execution_count": 7,
   "metadata": {
    "collapsed": true,
    "jupyter": {
     "outputs_hidden": true
    }
   },
   "outputs": [
    {
     "name": "stderr",
     "output_type": "stream",
     "text": [
      "Using Theano backend.\n"
     ]
    },
    {
     "ename": "NameError",
     "evalue": "name 'GPU' is not defined",
     "output_type": "error",
     "traceback": [
      "\u001b[1;31m---------------------------------------------------------------------------\u001b[0m",
      "\u001b[1;31mNameError\u001b[0m                                 Traceback (most recent call last)",
      "\u001b[1;32m<ipython-input-7-73fba8c7cf99>\u001b[0m in \u001b[0;36m<module>\u001b[1;34m\u001b[0m\n\u001b[0;32m      5\u001b[0m \u001b[0mnum_cores\u001b[0m \u001b[1;33m=\u001b[0m \u001b[1;36m2\u001b[0m\u001b[1;33m\u001b[0m\u001b[1;33m\u001b[0m\u001b[0m\n\u001b[0;32m      6\u001b[0m \u001b[1;33m\u001b[0m\u001b[0m\n\u001b[1;32m----> 7\u001b[1;33m \u001b[1;32mif\u001b[0m \u001b[0mGPU\u001b[0m\u001b[1;33m:\u001b[0m\u001b[1;33m\u001b[0m\u001b[1;33m\u001b[0m\u001b[0m\n\u001b[0m\u001b[0;32m      8\u001b[0m     \u001b[0mnum_GPU\u001b[0m \u001b[1;33m=\u001b[0m \u001b[1;36m1\u001b[0m\u001b[1;33m\u001b[0m\u001b[1;33m\u001b[0m\u001b[0m\n\u001b[0;32m      9\u001b[0m     \u001b[0mnum_CPU\u001b[0m \u001b[1;33m=\u001b[0m \u001b[1;36m1\u001b[0m\u001b[1;33m\u001b[0m\u001b[1;33m\u001b[0m\u001b[0m\n",
      "\u001b[1;31mNameError\u001b[0m: name 'GPU' is not defined"
     ]
    }
   ],
   "source": [
    "# enforce Keras run CPU\n",
    "import tensorflow as tf\n",
    "from keras import backend as K\n",
    "\n",
    "num_cores = 2\n",
    "\n",
    "if GPU:\n",
    "    num_GPU = 1\n",
    "    num_CPU = 1\n",
    "if CPU:\n",
    "    num_CPU = 1\n",
    "    num_GPU = 0\n",
    "\n",
    "config = tf.ConfigProto(intra_op_parallelism_threads=num_cores,\n",
    "                        inter_op_parallelism_threads=num_cores, \n",
    "                        allow_soft_placement=True,\n",
    "                        device_count = {'CPU' : num_CPU,\n",
    "                                        'GPU' : num_GPU}\n",
    "                       )\n",
    "\n",
    "session = tf.Session(config=config)\n",
    "K.set_session(session)"
   ]
  },
  {
   "cell_type": "code",
   "execution_count": 145,
   "metadata": {},
   "outputs": [
    {
     "name": "stdout",
     "output_type": "stream",
     "text": [
      "<class 'pandas.core.frame.DataFrame'>\n",
      "Int64Index: 40703 entries, 11049447 to 9968570\n",
      "Data columns (total 23 columns):\n",
      "category                 40703 non-null int64\n",
      "past                     40703 non-null int32\n",
      "votes                    40703 non-null int64\n",
      "is_eventbrite            40703 non-null int32\n",
      "is_free                  40703 non-null int32\n",
      "doors                    40703 non-null int32\n",
      "sold_out                 40703 non-null int32\n",
      "venue.id                 40703 non-null int64\n",
      "venue.popularity         40703 non-null float64\n",
      "venue.zip                40703 non-null int64\n",
      "ticket_allages           40703 non-null int32\n",
      "ticket_price_low         40703 non-null float64\n",
      "ticket_price_max         40703 non-null float64\n",
      "min_age                  40703 non-null int32\n",
      "artist.popularity.sum    40703 non-null float64\n",
      "artist.popularity.avg    40703 non-null float64\n",
      "artist.popularity.max    40703 non-null float64\n",
      "dow                      40703 non-null int64\n",
      "doy                      40703 non-null int64\n",
      "month                    40703 non-null int64\n",
      "day                      40703 non-null int64\n",
      "hour                     40703 non-null int64\n",
      "venue.tol_num_events     40703 non-null int64\n",
      "dtypes: float64(6), int32(7), int64(10)\n",
      "memory usage: 7.6 MB\n"
     ]
    }
   ],
   "source": [
    "udf.info()"
   ]
  },
  {
   "cell_type": "code",
   "execution_count": 146,
   "metadata": {},
   "outputs": [],
   "source": [
    "### first validate that the NN works\n",
    "# use sklearn internal dataset\n",
    "from sklearn.datasets import load_diabetes"
   ]
  },
  {
   "cell_type": "code",
   "execution_count": 147,
   "metadata": {},
   "outputs": [],
   "source": [
    "\n",
    "# first neural network with keras tutorial\n",
    "from keras.models import Sequential\n",
    "from keras.layers import Dense"
   ]
  },
  {
   "cell_type": "code",
   "execution_count": 154,
   "metadata": {},
   "outputs": [],
   "source": [
    "## testing NN\n",
    "data=load_diabetes()"
   ]
  },
  {
   "cell_type": "code",
   "execution_count": 158,
   "metadata": {},
   "outputs": [
    {
     "data": {
      "text/plain": [
       "(442, 10)"
      ]
     },
     "execution_count": 158,
     "metadata": {},
     "output_type": "execute_result"
    }
   ],
   "source": [
    "data.data.shape"
   ]
  },
  {
   "cell_type": "code",
   "execution_count": 160,
   "metadata": {},
   "outputs": [
    {
     "data": {
      "text/plain": [
       "(442,)"
      ]
     },
     "execution_count": 160,
     "metadata": {},
     "output_type": "execute_result"
    }
   ],
   "source": [
    "data.target.shape"
   ]
  },
  {
   "cell_type": "code",
   "execution_count": 161,
   "metadata": {},
   "outputs": [],
   "source": [
    "X=data.data\n",
    "y=data.target"
   ]
  },
  {
   "cell_type": "code",
   "execution_count": 171,
   "metadata": {},
   "outputs": [],
   "source": [
    "from sklearn.preprocessing import MinMaxScaler\n",
    "# scale regression dataset\n",
    "scalar = MinMaxScaler()\n",
    "scalar.fit(X)\n",
    "X = scalar.transform(X)"
   ]
  },
  {
   "cell_type": "code",
   "execution_count": 172,
   "metadata": {},
   "outputs": [],
   "source": [
    "## start Modeling trail\n",
    "## bechmark model metric setup\n",
    "from sklearn.model_selection import train_test_split\n",
    "X_train, X_test, y_train, y_test = train_test_split(X, y, test_size=0.3, random_state=12)\n",
    "\n"
   ]
  },
  {
   "cell_type": "code",
   "execution_count": 181,
   "metadata": {},
   "outputs": [],
   "source": [
    "nfeature=10"
   ]
  },
  {
   "cell_type": "code",
   "execution_count": 192,
   "metadata": {},
   "outputs": [],
   "source": [
    "Nmodel=Sequential()\n",
    "Nmodel.add(Dense(nfeature+5,input_dim=nfeature, activation='relu'))\n",
    "Nmodel.add(Dense(nfeature, activation='relu'))\n",
    "Nmodel.add(Dense(nfeature-5, activation='relu'))\n",
    "Nmodel.add(Dense(1, activation='linear'))"
   ]
  },
  {
   "cell_type": "code",
   "execution_count": 193,
   "metadata": {},
   "outputs": [],
   "source": [
    "Nmodel.compile(loss='mae', optimizer='adam', metrics=['mae'])"
   ]
  },
  {
   "cell_type": "code",
   "execution_count": 194,
   "metadata": {
    "collapsed": true,
    "jupyter": {
     "outputs_hidden": true
    }
   },
   "outputs": [
    {
     "name": "stdout",
     "output_type": "stream",
     "text": [
      "Epoch 1/50\n",
      "309/309 [==============================] - 0s 42us/step - loss: 152.5200 - mean_absolute_error: 152.5200\n",
      "Epoch 2/50\n",
      "309/309 [==============================] - 0s 39us/step - loss: 152.1949 - mean_absolute_error: 152.1949\n",
      "Epoch 3/50\n",
      "309/309 [==============================] - 0s 53us/step - loss: 151.6306 - mean_absolute_error: 151.6306\n",
      "Epoch 4/50\n",
      "309/309 [==============================] - 0s 59us/step - loss: 150.2941 - mean_absolute_error: 150.2941\n",
      "Epoch 5/50\n",
      "309/309 [==============================] - 0s 39us/step - loss: 146.6777 - mean_absolute_error: 146.6777\n",
      "Epoch 6/50\n",
      "309/309 [==============================] - 0s 32us/step - loss: 138.3754 - mean_absolute_error: 138.3754\n",
      "Epoch 7/50\n",
      "309/309 [==============================] - 0s 29us/step - loss: 122.5801 - mean_absolute_error: 122.5801\n",
      "Epoch 8/50\n",
      "309/309 [==============================] - 0s 34us/step - loss: 96.7111 - mean_absolute_error: 96.7111\n",
      "Epoch 9/50\n",
      "309/309 [==============================] - 0s 64us/step - loss: 71.4633 - mean_absolute_error: 71.4633\n",
      "Epoch 10/50\n",
      "309/309 [==============================] - 0s 61us/step - loss: 59.8825 - mean_absolute_error: 59.8825\n",
      "Epoch 11/50\n",
      "309/309 [==============================] - 0s 43us/step - loss: 57.6352 - mean_absolute_error: 57.6352\n",
      "Epoch 12/50\n",
      "309/309 [==============================] - 0s 45us/step - loss: 56.9285 - mean_absolute_error: 56.9285\n",
      "Epoch 13/50\n",
      "309/309 [==============================] - 0s 51us/step - loss: 56.7458 - mean_absolute_error: 56.7458\n",
      "Epoch 14/50\n",
      "309/309 [==============================] - 0s 55us/step - loss: 56.5555 - mean_absolute_error: 56.5555\n",
      "Epoch 15/50\n",
      "309/309 [==============================] - 0s 43us/step - loss: 56.2476 - mean_absolute_error: 56.2476\n",
      "Epoch 16/50\n",
      "309/309 [==============================] - 0s 40us/step - loss: 56.0669 - mean_absolute_error: 56.0669\n",
      "Epoch 17/50\n",
      "309/309 [==============================] - 0s 35us/step - loss: 55.7770 - mean_absolute_error: 55.7770\n",
      "Epoch 18/50\n",
      "309/309 [==============================] - 0s 40us/step - loss: 55.5269 - mean_absolute_error: 55.5269\n",
      "Epoch 19/50\n",
      "309/309 [==============================] - 0s 61us/step - loss: 55.5802 - mean_absolute_error: 55.5802\n",
      "Epoch 20/50\n",
      "309/309 [==============================] - 0s 53us/step - loss: 55.0807 - mean_absolute_error: 55.0807\n",
      "Epoch 21/50\n",
      "309/309 [==============================] - 0s 48us/step - loss: 54.7708 - mean_absolute_error: 54.7708\n",
      "Epoch 22/50\n",
      "309/309 [==============================] - 0s 43us/step - loss: 54.5673 - mean_absolute_error: 54.5673\n",
      "Epoch 23/50\n",
      "309/309 [==============================] - 0s 53us/step - loss: 54.4264 - mean_absolute_error: 54.4264\n",
      "Epoch 24/50\n",
      "309/309 [==============================] - 0s 45us/step - loss: 54.1212 - mean_absolute_error: 54.1212\n",
      "Epoch 25/50\n",
      "309/309 [==============================] - 0s 37us/step - loss: 53.9625 - mean_absolute_error: 53.9625\n",
      "Epoch 26/50\n",
      "309/309 [==============================] - 0s 34us/step - loss: 54.3223 - mean_absolute_error: 54.3223\n",
      "Epoch 27/50\n",
      "309/309 [==============================] - 0s 35us/step - loss: 53.4484 - mean_absolute_error: 53.4484\n",
      "Epoch 28/50\n",
      "309/309 [==============================] - 0s 64us/step - loss: 53.2629 - mean_absolute_error: 53.2629\n",
      "Epoch 29/50\n",
      "309/309 [==============================] - 0s 74us/step - loss: 53.1094 - mean_absolute_error: 53.1094\n",
      "Epoch 30/50\n",
      "309/309 [==============================] - 0s 69us/step - loss: 52.7929 - mean_absolute_error: 52.7929\n",
      "Epoch 31/50\n",
      "309/309 [==============================] - 0s 63us/step - loss: 52.6856 - mean_absolute_error: 52.6856\n",
      "Epoch 32/50\n",
      "309/309 [==============================] - 0s 66us/step - loss: 52.3596 - mean_absolute_error: 52.3596\n",
      "Epoch 33/50\n",
      "309/309 [==============================] - 0s 56us/step - loss: 52.2712 - mean_absolute_error: 52.2712\n",
      "Epoch 34/50\n",
      "309/309 [==============================] - 0s 47us/step - loss: 52.0021 - mean_absolute_error: 52.0021\n",
      "Epoch 35/50\n",
      "309/309 [==============================] - 0s 55us/step - loss: 51.7873 - mean_absolute_error: 51.7873\n",
      "Epoch 36/50\n",
      "309/309 [==============================] - 0s 77us/step - loss: 51.7172 - mean_absolute_error: 51.7172\n",
      "Epoch 37/50\n",
      "309/309 [==============================] - 0s 66us/step - loss: 51.4680 - mean_absolute_error: 51.4680\n",
      "Epoch 38/50\n",
      "309/309 [==============================] - 0s 56us/step - loss: 51.2553 - mean_absolute_error: 51.2553\n",
      "Epoch 39/50\n",
      "309/309 [==============================] - 0s 45us/step - loss: 51.1334 - mean_absolute_error: 51.1334\n",
      "Epoch 40/50\n",
      "309/309 [==============================] - 0s 55us/step - loss: 50.9037 - mean_absolute_error: 50.9037\n",
      "Epoch 41/50\n",
      "309/309 [==============================] - 0s 50us/step - loss: 50.6942 - mean_absolute_error: 50.6942\n",
      "Epoch 42/50\n",
      "309/309 [==============================] - 0s 74us/step - loss: 50.5200 - mean_absolute_error: 50.5200\n",
      "Epoch 43/50\n",
      "309/309 [==============================] - 0s 69us/step - loss: 50.2925 - mean_absolute_error: 50.2925\n",
      "Epoch 44/50\n",
      "309/309 [==============================] - ETA: 0s - loss: 62.9880 - mean_absolute_error: 62.988 - 0s 63us/step - loss: 50.1225 - mean_absolute_error: 50.1225\n",
      "Epoch 45/50\n",
      "309/309 [==============================] - 0s 64us/step - loss: 49.9352 - mean_absolute_error: 49.9352\n",
      "Epoch 46/50\n",
      "309/309 [==============================] - 0s 61us/step - loss: 49.8268 - mean_absolute_error: 49.8268\n",
      "Epoch 47/50\n",
      "309/309 [==============================] - 0s 72us/step - loss: 49.5161 - mean_absolute_error: 49.5161\n",
      "Epoch 48/50\n",
      "309/309 [==============================] - 0s 50us/step - loss: 49.4313 - mean_absolute_error: 49.4313\n",
      "Epoch 49/50\n",
      "309/309 [==============================] - 0s 58us/step - loss: 49.1257 - mean_absolute_error: 49.1257\n",
      "Epoch 50/50\n",
      "309/309 [==============================] - 0s 56us/step - loss: 48.9787 - mean_absolute_error: 48.9787\n"
     ]
    },
    {
     "data": {
      "text/plain": [
       "<keras.callbacks.History at 0x22a4bad5f60>"
      ]
     },
     "execution_count": 194,
     "metadata": {},
     "output_type": "execute_result"
    }
   ],
   "source": [
    "Nmodel.fit(X_train,y_train,epochs=50, batch_size=10)"
   ]
  },
  {
   "cell_type": "code",
   "execution_count": 195,
   "metadata": {},
   "outputs": [],
   "source": [
    "pred_train_NN = Nmodel.predict(X_train)\n",
    "pred_test_NN = Nmodel.predict(X_test)"
   ]
  },
  {
   "cell_type": "code",
   "execution_count": 197,
   "metadata": {},
   "outputs": [
    {
     "data": {
      "image/png": "[encoded data removed]",
      "text/plain": [
       "<Figure size 432x288 with 1 Axes>"
      ]
     },
     "metadata": {
      "needs_background": "light"
     },
     "output_type": "display_data"
    }
   ],
   "source": [
    "plt.scatter(y_test,pred_test_NN, s=5)\n",
    "plt.title('prediction result')\n",
    "plt.xlabel('true')\n",
    "plt.ylabel('predicted')\n",
    "#plt.xlim([-100,2500])\n",
    "plt.show()"
   ]
  },
  {
   "cell_type": "code",
   "execution_count": 205,
   "metadata": {},
   "outputs": [
    {
     "name": "stdout",
     "output_type": "stream",
     "text": [
      "17\n"
     ]
    }
   ],
   "source": [
    "nfeature=len(udf2.columns)\n",
    "print(nfeature)"
   ]
  },
  {
   "cell_type": "code",
   "execution_count": 206,
   "metadata": {},
   "outputs": [],
   "source": [
    "## redo train-test\n",
    "X_train, X_test, y_train, y_test = train_test_split(udf2, udf2_y, test_size=0.3, random_state=12)\n"
   ]
  },
  {
   "cell_type": "code",
   "execution_count": 207,
   "metadata": {},
   "outputs": [],
   "source": [
    "Nmodel=Sequential()\n",
    "Nmodel.add(Dense(nfeature+8,input_dim=nfeature, activation='relu'))\n",
    "Nmodel.add(Dense(nfeature, activation='relu'))\n",
    "Nmodel.add(Dense(nfeature-12, activation='relu'))\n",
    "Nmodel.add(Dense(1, activation='linear'))"
   ]
  },
  {
   "cell_type": "code",
   "execution_count": 208,
   "metadata": {},
   "outputs": [],
   "source": [
    "Nmodel.compile(loss='mae', optimizer='adam', metrics=['mae'])"
   ]
  },
  {
   "cell_type": "code",
   "execution_count": 209,
   "metadata": {
    "collapsed": true,
    "jupyter": {
     "outputs_hidden": true
    }
   },
   "outputs": [
    {
     "name": "stdout",
     "output_type": "stream",
     "text": [
      "Epoch 1/20\n",
      "29305/29305 [==============================] - 3s 97us/step - loss: 79.5364 - mean_absolute_error: 79.5364\n",
      "Epoch 2/20\n",
      "29305/29305 [==============================] - 3s 86us/step - loss: 19.4482 - mean_absolute_error: 19.4482\n",
      "Epoch 3/20\n",
      "29305/29305 [==============================] - 2s 73us/step - loss: 16.8830 - mean_absolute_error: 16.8830\n",
      "Epoch 4/20\n",
      "29305/29305 [==============================] - 2s 81us/step - loss: 16.9588 - mean_absolute_error: 16.9588\n",
      "Epoch 5/20\n",
      "29305/29305 [==============================] - 3s 86us/step - loss: 17.0713 - mean_absolute_error: 17.0713\n",
      "Epoch 6/20\n",
      "29305/29305 [==============================] - 2s 72us/step - loss: 16.8318 - mean_absolute_error: 16.8318\n",
      "Epoch 7/20\n",
      "29305/29305 [==============================] - 2s 67us/step - loss: 16.7831 - mean_absolute_error: 16.7831\n",
      "Epoch 8/20\n",
      "29305/29305 [==============================] - 2s 83us/step - loss: 23.5365 - mean_absolute_error: 23.5365\n",
      "Epoch 9/20\n",
      "29305/29305 [==============================] - 2s 65us/step - loss: 16.7229 - mean_absolute_error: 16.7229\n",
      "Epoch 10/20\n",
      "29305/29305 [==============================] - 2s 75us/step - loss: 16.7825 - mean_absolute_error: 16.7825\n",
      "Epoch 11/20\n",
      "29305/29305 [==============================] - 2s 85us/step - loss: 16.7263 - mean_absolute_error: 16.7263\n",
      "Epoch 12/20\n",
      "29305/29305 [==============================] - 3s 100us/step - loss: 16.7182 - mean_absolute_error: 16.7182\n",
      "Epoch 13/20\n",
      "29305/29305 [==============================] - 3s 86us/step - loss: 16.7282 - mean_absolute_error: 16.7282\n",
      "Epoch 14/20\n",
      "29305/29305 [==============================] - 2s 80us/step - loss: 16.7214 - mean_absolute_error: 16.7214\n",
      "Epoch 15/20\n",
      "29305/29305 [==============================] - 2s 68us/step - loss: 16.6881 - mean_absolute_error: 16.6881\n",
      "Epoch 16/20\n",
      "29305/29305 [==============================] - 2s 78us/step - loss: 16.8358 - mean_absolute_error: 16.8358\n",
      "Epoch 17/20\n",
      "29305/29305 [==============================] - 2s 81us/step - loss: 16.9017 - mean_absolute_error: 16.9017\n",
      "Epoch 18/20\n",
      "29305/29305 [==============================] - 2s 75us/step - loss: 16.8695 - mean_absolute_error: 16.8695\n",
      "Epoch 19/20\n",
      "29305/29305 [==============================] - 2s 71us/step - loss: 16.8904 - mean_absolute_error: 16.8904\n",
      "Epoch 20/20\n",
      "29305/29305 [==============================] - 2s 74us/step - loss: 16.8904 - mean_absolute_error: 16.8904\n"
     ]
    },
    {
     "data": {
      "text/plain": [
       "<keras.callbacks.History at 0x22a52ecd828>"
      ]
     },
     "execution_count": 209,
     "metadata": {},
     "output_type": "execute_result"
    }
   ],
   "source": [
    "Nmodel.fit(X_train,y_train,epochs=20, batch_size=10)"
   ]
  },
  {
   "cell_type": "code",
   "execution_count": 210,
   "metadata": {},
   "outputs": [],
   "source": [
    "pred_train_NN = Nmodel.predict(X_train)\n",
    "pred_test_NN = Nmodel.predict(X_test)"
   ]
  },
  {
   "cell_type": "code",
   "execution_count": 211,
   "metadata": {},
   "outputs": [
    {
     "name": "stdout",
     "output_type": "stream",
     "text": [
      "MSE score(training): 22678.891184664368\n",
      "MAE score(training): 16.888520898348723\n",
      "MSE score: 27963.010259604973\n",
      "MAE score: 18.571081594733677\n"
     ]
    }
   ],
   "source": [
    "# access several benchmark RMSE for reference:\n",
    "print('MSE score(training):',metrics.mean_squared_error(y_train, pred_train_NN))\n",
    "print('MAE score(training):',metrics.mean_absolute_error(y_train, pred_train_NN))\n",
    "print('MSE score:',metrics.mean_squared_error(y_test, pred_test_NN))\n",
    "print('MAE score:',metrics.mean_absolute_error(y_test, pred_test_NN))"
   ]
  },
  {
   "cell_type": "code",
   "execution_count": 212,
   "metadata": {},
   "outputs": [
    {
     "data": {
      "image/png": "[encoded data removed]",
      "text/plain": [
       "<Figure size 432x288 with 1 Axes>"
      ]
     },
     "metadata": {
      "needs_background": "light"
     },
     "output_type": "display_data"
    }
   ],
   "source": [
    "plt.scatter(y_test,pred_test_NN, s=5)\n",
    "plt.title('prediction result')\n",
    "plt.xlabel('true')\n",
    "plt.ylabel('predicted')\n",
    "#plt.xlim([-100,2500])\n",
    "plt.show()"
   ]
  },
  {
   "cell_type": "code",
   "execution_count": 215,
   "metadata": {},
   "outputs": [],
   "source": [
    "Nmodel3=Sequential()\n",
    "Nmodel3.add(Dense(nfeature+8, input_dim=nfeature, activation='relu'))\n",
    "Nmodel3.add(Dense(nfeature, activation='relu'))\n",
    "Nmodel3.add(Dense(nfeature-12, activation='relu'))\n",
    "Nmodel3.add(Dense(1, activation='linear'))"
   ]
  },
  {
   "cell_type": "code",
   "execution_count": 216,
   "metadata": {},
   "outputs": [],
   "source": [
    "Nmodel3.compile(loss='mae', optimizer='adam', metrics=['mae'])"
   ]
  },
  {
   "cell_type": "code",
   "execution_count": 85,
   "metadata": {
    "collapsed": true,
    "jupyter": {
     "outputs_hidden": true
    }
   },
   "outputs": [
    {
     "data": {
      "text/html": [
       "<div>\n",
       "<style scoped>\n",
       "    .dataframe tbody tr th:only-of-type {\n",
       "        vertical-align: middle;\n",
       "    }\n",
       "\n",
       "    .dataframe tbody tr th {\n",
       "        vertical-align: top;\n",
       "    }\n",
       "\n",
       "    .dataframe thead th {\n",
       "        text-align: right;\n",
       "    }\n",
       "</style>\n",
       "<table border=\"1\" class=\"dataframe\">\n",
       "  <thead>\n",
       "    <tr style=\"text-align: right;\">\n",
       "      <th></th>\n",
       "      <th>category</th>\n",
       "      <th>past</th>\n",
       "      <th>is_eventbrite</th>\n",
       "      <th>is_free</th>\n",
       "      <th>doors</th>\n",
       "      <th>sold_out</th>\n",
       "      <th>venue.id</th>\n",
       "      <th>venue.popularity</th>\n",
       "      <th>venue.zip</th>\n",
       "      <th>ticket_allages</th>\n",
       "      <th>...</th>\n",
       "      <th>min_age</th>\n",
       "      <th>artist.popularity.sum</th>\n",
       "      <th>artist.popularity.avg</th>\n",
       "      <th>artist.popularity.max</th>\n",
       "      <th>dow</th>\n",
       "      <th>doy</th>\n",
       "      <th>month</th>\n",
       "      <th>day</th>\n",
       "      <th>hour</th>\n",
       "      <th>venue.tol_num_events</th>\n",
       "    </tr>\n",
       "    <tr>\n",
       "      <th>id</th>\n",
       "      <th></th>\n",
       "      <th></th>\n",
       "      <th></th>\n",
       "      <th></th>\n",
       "      <th></th>\n",
       "      <th></th>\n",
       "      <th></th>\n",
       "      <th></th>\n",
       "      <th></th>\n",
       "      <th></th>\n",
       "      <th></th>\n",
       "      <th></th>\n",
       "      <th></th>\n",
       "      <th></th>\n",
       "      <th></th>\n",
       "      <th></th>\n",
       "      <th></th>\n",
       "      <th></th>\n",
       "      <th></th>\n",
       "      <th></th>\n",
       "      <th></th>\n",
       "    </tr>\n",
       "  </thead>\n",
       "  <tbody>\n",
       "    <tr>\n",
       "      <th>10499171</th>\n",
       "      <td>0</td>\n",
       "      <td>1</td>\n",
       "      <td>0</td>\n",
       "      <td>0</td>\n",
       "      <td>1</td>\n",
       "      <td>0</td>\n",
       "      <td>251731</td>\n",
       "      <td>15.0</td>\n",
       "      <td>78701</td>\n",
       "      <td>0</td>\n",
       "      <td>...</td>\n",
       "      <td>0</td>\n",
       "      <td>6.0</td>\n",
       "      <td>1.0</td>\n",
       "      <td>1.0</td>\n",
       "      <td>3</td>\n",
       "      <td>73</td>\n",
       "      <td>3</td>\n",
       "      <td>14</td>\n",
       "      <td>19</td>\n",
       "      <td>405</td>\n",
       "    </tr>\n",
       "    <tr>\n",
       "      <th>10108239</th>\n",
       "      <td>2</td>\n",
       "      <td>1</td>\n",
       "      <td>0</td>\n",
       "      <td>0</td>\n",
       "      <td>0</td>\n",
       "      <td>0</td>\n",
       "      <td>268909</td>\n",
       "      <td>1.0</td>\n",
       "      <td>78704</td>\n",
       "      <td>0</td>\n",
       "      <td>...</td>\n",
       "      <td>21</td>\n",
       "      <td>0.0</td>\n",
       "      <td>0.0</td>\n",
       "      <td>0.0</td>\n",
       "      <td>5</td>\n",
       "      <td>321</td>\n",
       "      <td>11</td>\n",
       "      <td>17</td>\n",
       "      <td>14</td>\n",
       "      <td>213</td>\n",
       "    </tr>\n",
       "    <tr>\n",
       "      <th>10630753</th>\n",
       "      <td>11</td>\n",
       "      <td>1</td>\n",
       "      <td>0</td>\n",
       "      <td>0</td>\n",
       "      <td>0</td>\n",
       "      <td>0</td>\n",
       "      <td>377356</td>\n",
       "      <td>1.0</td>\n",
       "      <td>78745</td>\n",
       "      <td>0</td>\n",
       "      <td>...</td>\n",
       "      <td>0</td>\n",
       "      <td>0.0</td>\n",
       "      <td>0.0</td>\n",
       "      <td>0.0</td>\n",
       "      <td>5</td>\n",
       "      <td>131</td>\n",
       "      <td>5</td>\n",
       "      <td>11</td>\n",
       "      <td>18</td>\n",
       "      <td>40</td>\n",
       "    </tr>\n",
       "    <tr>\n",
       "      <th>10191244</th>\n",
       "      <td>4</td>\n",
       "      <td>1</td>\n",
       "      <td>0</td>\n",
       "      <td>0</td>\n",
       "      <td>0</td>\n",
       "      <td>0</td>\n",
       "      <td>1607</td>\n",
       "      <td>5.0</td>\n",
       "      <td>78701</td>\n",
       "      <td>0</td>\n",
       "      <td>...</td>\n",
       "      <td>0</td>\n",
       "      <td>0.0</td>\n",
       "      <td>0.0</td>\n",
       "      <td>0.0</td>\n",
       "      <td>3</td>\n",
       "      <td>24</td>\n",
       "      <td>1</td>\n",
       "      <td>24</td>\n",
       "      <td>19</td>\n",
       "      <td>608</td>\n",
       "    </tr>\n",
       "    <tr>\n",
       "      <th>10758130</th>\n",
       "      <td>0</td>\n",
       "      <td>1</td>\n",
       "      <td>0</td>\n",
       "      <td>0</td>\n",
       "      <td>1</td>\n",
       "      <td>0</td>\n",
       "      <td>13466</td>\n",
       "      <td>10.0</td>\n",
       "      <td>0</td>\n",
       "      <td>0</td>\n",
       "      <td>...</td>\n",
       "      <td>21</td>\n",
       "      <td>12.0</td>\n",
       "      <td>3.0</td>\n",
       "      <td>3.0</td>\n",
       "      <td>4</td>\n",
       "      <td>158</td>\n",
       "      <td>6</td>\n",
       "      <td>7</td>\n",
       "      <td>21</td>\n",
       "      <td>197</td>\n",
       "    </tr>\n",
       "  </tbody>\n",
       "</table>\n",
       "<p>5 rows × 22 columns</p>\n",
       "</div>"
      ],
      "text/plain": [
       "          category  past  is_eventbrite  is_free  doors  sold_out  venue.id  \\\n",
       "id                                                                            \n",
       "10499171         0     1              0        0      1         0    251731   \n",
       "10108239         2     1              0        0      0         0    268909   \n",
       "10630753        11     1              0        0      0         0    377356   \n",
       "10191244         4     1              0        0      0         0      1607   \n",
       "10758130         0     1              0        0      1         0     13466   \n",
       "\n",
       "          venue.popularity  venue.zip  ticket_allages  ...  min_age  \\\n",
       "id                                                     ...            \n",
       "10499171              15.0      78701               0  ...        0   \n",
       "10108239               1.0      78704               0  ...       21   \n",
       "10630753               1.0      78745               0  ...        0   \n",
       "10191244               5.0      78701               0  ...        0   \n",
       "10758130              10.0          0               0  ...       21   \n",
       "\n",
       "          artist.popularity.sum  artist.popularity.avg  artist.popularity.max  \\\n",
       "id                                                                              \n",
       "10499171                    6.0                    1.0                    1.0   \n",
       "10108239                    0.0                    0.0                    0.0   \n",
       "10630753                    0.0                    0.0                    0.0   \n",
       "10191244                    0.0                    0.0                    0.0   \n",
       "10758130                   12.0                    3.0                    3.0   \n",
       "\n",
       "          dow  doy  month  day  hour  venue.tol_num_events  \n",
       "id                                                          \n",
       "10499171    3   73      3   14    19                   405  \n",
       "10108239    5  321     11   17    14                   213  \n",
       "10630753    5  131      5   11    18                    40  \n",
       "10191244    3   24      1   24    19                   608  \n",
       "10758130    4  158      6    7    21                   197  \n",
       "\n",
       "[5 rows x 22 columns]"
      ]
     },
     "execution_count": 85,
     "metadata": {},
     "output_type": "execute_result"
    }
   ],
   "source": [
    "X_train.head()"
   ]
  },
  {
   "cell_type": "code",
   "execution_count": 217,
   "metadata": {
    "collapsed": true,
    "jupyter": {
     "outputs_hidden": true
    }
   },
   "outputs": [
    {
     "name": "stdout",
     "output_type": "stream",
     "text": [
      "Epoch 1/30\n",
      "29305/29305 [==============================] - 2s 68us/step - loss: 54.9533 - mean_absolute_error: 54.9533\n",
      "Epoch 2/30\n",
      "29305/29305 [==============================] - 2s 65us/step - loss: 16.8133 - mean_absolute_error: 16.8133\n",
      "Epoch 3/30\n",
      "29305/29305 [==============================] - 2s 64us/step - loss: 16.6587 - mean_absolute_error: 16.6587\n",
      "Epoch 4/30\n",
      "29305/29305 [==============================] - 2s 67us/step - loss: 16.6784 - mean_absolute_error: 16.6784\n",
      "Epoch 5/30\n",
      "29305/29305 [==============================] - 2s 68us/step - loss: 16.8971 - mean_absolute_error: 16.8971\n",
      "Epoch 6/30\n",
      "29305/29305 [==============================] - 2s 85us/step - loss: 16.9006 - mean_absolute_error: 16.9006\n",
      "Epoch 7/30\n",
      "29305/29305 [==============================] - 2s 76us/step - loss: 16.9092 - mean_absolute_error: 16.9092\n",
      "Epoch 8/30\n",
      "29305/29305 [==============================] - 2s 69us/step - loss: 16.8966 - mean_absolute_error: 16.8966\n",
      "Epoch 9/30\n",
      "29305/29305 [==============================] - 2s 83us/step - loss: 16.8993 - mean_absolute_error: 16.8993\n",
      "Epoch 10/30\n",
      "29305/29305 [==============================] - 2s 73us/step - loss: 16.8961 - mean_absolute_error: 16.8961\n",
      "Epoch 11/30\n",
      "29305/29305 [==============================] - 2s 77us/step - loss: 16.8954 - mean_absolute_error: 16.8954\n",
      "Epoch 12/30\n",
      "29305/29305 [==============================] - 3s 86us/step - loss: 16.8953 - mean_absolute_error: 16.8953\n",
      "Epoch 13/30\n",
      "29305/29305 [==============================] - 2s 75us/step - loss: 16.8947 - mean_absolute_error: 16.8947\n",
      "Epoch 14/30\n",
      "29305/29305 [==============================] - 2s 72us/step - loss: 16.8949 - mean_absolute_error: 16.8949\n",
      "Epoch 15/30\n",
      "29305/29305 [==============================] - 3s 89us/step - loss: 16.8935 - mean_absolute_error: 16.8935\n",
      "Epoch 16/30\n",
      "29305/29305 [==============================] - 2s 76us/step - loss: 16.8940 - mean_absolute_error: 16.8940\n",
      "Epoch 17/30\n",
      "29305/29305 [==============================] - 2s 75us/step - loss: 16.8947 - mean_absolute_error: 16.8947\n",
      "Epoch 18/30\n",
      "29305/29305 [==============================] - 2s 77us/step - loss: 16.8948 - mean_absolute_error: 16.8948\n",
      "Epoch 19/30\n",
      "29305/29305 [==============================] - 2s 68us/step - loss: 16.8934 - mean_absolute_error: 16.8934\n",
      "Epoch 20/30\n",
      "29305/29305 [==============================] - 2s 75us/step - loss: 16.8931 - mean_absolute_error: 16.8931\n",
      "Epoch 21/30\n",
      "29305/29305 [==============================] - 2s 83us/step - loss: 16.8930 - mean_absolute_error: 16.8930\n",
      "Epoch 22/30\n",
      "29305/29305 [==============================] - 2s 74us/step - loss: 16.8927 - mean_absolute_error: 16.8927\n",
      "Epoch 23/30\n",
      "29305/29305 [==============================] - 2s 68us/step - loss: 16.8926 - mean_absolute_error: 16.8926\n",
      "Epoch 24/30\n",
      "29305/29305 [==============================] - 2s 74us/step - loss: 16.8937 - mean_absolute_error: 16.8937\n",
      "Epoch 25/30\n",
      "29305/29305 [==============================] - 2s 70us/step - loss: 16.8919 - mean_absolute_error: 16.8919: 0s - loss: 17.5250 - mean_absolute_erro\n",
      "Epoch 26/30\n",
      "29305/29305 [==============================] - 2s 75us/step - loss: 16.8902 - mean_absolute_error: 16.8902\n",
      "Epoch 27/30\n",
      "29305/29305 [==============================] - 2s 70us/step - loss: 16.8908 - mean_absolute_error: 16.8908\n",
      "Epoch 28/30\n",
      "29305/29305 [==============================] - 2s 76us/step - loss: 16.8901 - mean_absolute_error: 16.8901\n",
      "Epoch 29/30\n",
      "29305/29305 [==============================] - 2s 65us/step - loss: 16.8896 - mean_absolute_error: 16.8896: 0s - loss: 17.0919 - mean_absolute_\n",
      "Epoch 30/30\n",
      "29305/29305 [==============================] - 2s 63us/step - loss: 16.8901 - mean_absolute_error: 16.8901\n"
     ]
    },
    {
     "data": {
      "text/plain": [
       "<keras.callbacks.History at 0x22a53069240>"
      ]
     },
     "execution_count": 217,
     "metadata": {},
     "output_type": "execute_result"
    }
   ],
   "source": [
    "Nmodel3.fit(X_train,y_train,epochs=30, batch_size=10)"
   ]
  },
  {
   "cell_type": "code",
   "execution_count": 218,
   "metadata": {},
   "outputs": [],
   "source": [
    "pred_train_NN3 = Nmodel3.predict(X_train)\n",
    "pred_test_NN3 = Nmodel3.predict(X_test)"
   ]
  },
  {
   "cell_type": "code",
   "execution_count": 219,
   "metadata": {},
   "outputs": [
    {
     "name": "stdout",
     "output_type": "stream",
     "text": [
      "MSE score(training): 22679.440890541013\n",
      "MAE score(training): 16.887586267033935\n",
      "MSE score: 27963.102493616578\n",
      "MAE score: 18.56704384144514\n"
     ]
    }
   ],
   "source": [
    "# access several benchmark RMSE for reference:\n",
    "print('MSE score(training):',metrics.mean_squared_error(y_train, pred_train_NN3))\n",
    "print('MAE score(training):',metrics.mean_absolute_error(y_train, pred_train_NN3))\n",
    "print('MSE score:',metrics.mean_squared_error(y_test, pred_test_NN3))\n",
    "print('MAE score:',metrics.mean_absolute_error(y_test, pred_test_NN3))"
   ]
  },
  {
   "cell_type": "code",
   "execution_count": 220,
   "metadata": {},
   "outputs": [],
   "source": [
    "# test on scaling the input features\n",
    "scalar = MinMaxScaler()\n",
    "scalar.fit(udf2)\n",
    "X = scalar.transform(udf2)"
   ]
  },
  {
   "cell_type": "code",
   "execution_count": 221,
   "metadata": {},
   "outputs": [],
   "source": [
    "X_train, X_test, y_train, y_test = train_test_split(X, udf2_y, test_size=0.3, random_state=12)"
   ]
  },
  {
   "cell_type": "code",
   "execution_count": 223,
   "metadata": {},
   "outputs": [
    {
     "data": {
      "text/plain": [
       "17"
      ]
     },
     "execution_count": 223,
     "metadata": {},
     "output_type": "execute_result"
    }
   ],
   "source": [
    "X.shape[1]"
   ]
  },
  {
   "cell_type": "code",
   "execution_count": 227,
   "metadata": {},
   "outputs": [],
   "source": [
    "nfeature = X.shape[1]\n",
    "Nmodel2=Sequential()\n",
    "Nmodel2.add(Dense(nfeature+8,input_dim=nfeature, activation='relu'))\n",
    "Nmodel2.add(Dense(nfeature, activation='relu'))\n",
    "Nmodel2.add(Dense(nfeature-12, activation='relu'))\n",
    "Nmodel2.add(Dense(1, activation='linear'))"
   ]
  },
  {
   "cell_type": "code",
   "execution_count": 228,
   "metadata": {},
   "outputs": [],
   "source": [
    "Nmodel2.compile(loss='mae', optimizer='adam', metrics=['mae'])"
   ]
  },
  {
   "cell_type": "code",
   "execution_count": 229,
   "metadata": {},
   "outputs": [
    {
     "name": "stdout",
     "output_type": "stream",
     "text": [
      "Epoch 1/80\n",
      "29305/29305 [==============================] - 1s 48us/step - loss: 16.2821 - mean_absolute_error: 16.2821\n",
      "Epoch 2/80\n",
      "29305/29305 [==============================] - 2s 56us/step - loss: 15.9594 - mean_absolute_error: 15.9594\n",
      "Epoch 3/80\n",
      "29305/29305 [==============================] - 2s 53us/step - loss: 15.7840 - mean_absolute_error: 15.7840\n",
      "Epoch 4/80\n",
      "29305/29305 [==============================] - 2s 51us/step - loss: 15.6868 - mean_absolute_error: 15.6868\n",
      "Epoch 5/80\n",
      "29305/29305 [==============================] - 1s 49us/step - loss: 15.6455 - mean_absolute_error: 15.6455\n",
      "Epoch 6/80\n",
      "29305/29305 [==============================] - 2s 65us/step - loss: 15.6112 - mean_absolute_error: 15.6112\n",
      "Epoch 7/80\n",
      "29305/29305 [==============================] - 2s 54us/step - loss: 15.5846 - mean_absolute_error: 15.5846\n",
      "Epoch 8/80\n",
      "29305/29305 [==============================] - 1s 49us/step - loss: 15.5498 - mean_absolute_error: 15.5498\n",
      "Epoch 9/80\n",
      "29305/29305 [==============================] - 2s 57us/step - loss: 15.5178 - mean_absolute_error: 15.5178\n",
      "Epoch 10/80\n",
      "29305/29305 [==============================] - 2s 79us/step - loss: 15.4767 - mean_absolute_error: 15.4767\n",
      "Epoch 11/80\n",
      "29305/29305 [==============================] - 2s 60us/step - loss: 15.4414 - mean_absolute_error: 15.4414\n",
      "Epoch 12/80\n",
      "29305/29305 [==============================] - 3s 102us/step - loss: 15.4072 - mean_absolute_error: 15.4072\n",
      "Epoch 13/80\n",
      "29305/29305 [==============================] - 3s 96us/step - loss: 15.3576 - mean_absolute_error: 15.3576\n",
      "Epoch 14/80\n",
      "29305/29305 [==============================] - 1s 46us/step - loss: 15.3319 - mean_absolute_error: 15.3319\n",
      "Epoch 15/80\n",
      "29305/29305 [==============================] - 1s 47us/step - loss: 15.2934 - mean_absolute_error: 15.2934\n",
      "Epoch 16/80\n",
      "29305/29305 [==============================] - 1s 47us/step - loss: 15.2449 - mean_absolute_error: 15.2449\n",
      "Epoch 17/80\n",
      "29305/29305 [==============================] - 2s 60us/step - loss: 15.1977 - mean_absolute_error: 15.1977\n",
      "Epoch 18/80\n",
      "29305/29305 [==============================] - 2s 58us/step - loss: 15.1293 - mean_absolute_error: 15.1293\n",
      "Epoch 19/80\n",
      "29305/29305 [==============================] - 1s 44us/step - loss: 15.0515 - mean_absolute_error: 15.0515\n",
      "Epoch 20/80\n",
      "29305/29305 [==============================] - 1s 38us/step - loss: 14.9527 - mean_absolute_error: 14.9527\n",
      "Epoch 21/80\n",
      "29305/29305 [==============================] - 1s 45us/step - loss: 14.8627 - mean_absolute_error: 14.8627\n",
      "Epoch 22/80\n",
      "29305/29305 [==============================] - 1s 40us/step - loss: 14.7997 - mean_absolute_error: 14.7997\n",
      "Epoch 23/80\n",
      "29305/29305 [==============================] - 1s 50us/step - loss: 14.7508 - mean_absolute_error: 14.7508\n",
      "Epoch 24/80\n",
      "29305/29305 [==============================] - 1s 47us/step - loss: 14.6981 - mean_absolute_error: 14.6981\n",
      "Epoch 25/80\n",
      "29305/29305 [==============================] - 2s 51us/step - loss: 14.6503 - mean_absolute_error: 14.6503\n",
      "Epoch 26/80\n",
      "29305/29305 [==============================] - 2s 60us/step - loss: 14.5835 - mean_absolute_error: 14.5835\n",
      "Epoch 27/80\n",
      "29305/29305 [==============================] - 1s 50us/step - loss: 14.5185 - mean_absolute_error: 14.5185\n",
      "Epoch 28/80\n",
      "29305/29305 [==============================] - 2s 60us/step - loss: 14.4946 - mean_absolute_error: 14.4946\n",
      "Epoch 29/80\n",
      "29305/29305 [==============================] - 1s 49us/step - loss: 14.4731 - mean_absolute_error: 14.4731\n",
      "Epoch 30/80\n",
      "29305/29305 [==============================] - 1s 39us/step - loss: 14.4155 - mean_absolute_error: 14.4155\n",
      "Epoch 31/80\n",
      "29305/29305 [==============================] - 1s 50us/step - loss: 14.4112 - mean_absolute_error: 14.4112\n",
      "Epoch 32/80\n",
      "29305/29305 [==============================] - 1s 44us/step - loss: 14.3701 - mean_absolute_error: 14.3701\n",
      "Epoch 33/80\n",
      "29305/29305 [==============================] - 2s 57us/step - loss: 14.3474 - mean_absolute_error: 14.3474\n",
      "Epoch 34/80\n",
      "29305/29305 [==============================] - 1s 40us/step - loss: 14.3121 - mean_absolute_error: 14.3121\n",
      "Epoch 35/80\n",
      "29305/29305 [==============================] - 1s 43us/step - loss: 14.2615 - mean_absolute_error: 14.2615\n",
      "Epoch 36/80\n",
      "29305/29305 [==============================] - 1s 32us/step - loss: 14.2526 - mean_absolute_error: 14.2526\n",
      "Epoch 37/80\n",
      "29305/29305 [==============================] - 1s 47us/step - loss: 14.2174 - mean_absolute_error: 14.2174\n",
      "Epoch 38/80\n",
      "29305/29305 [==============================] - 1s 50us/step - loss: 14.1598 - mean_absolute_error: 14.1598\n",
      "Epoch 39/80\n",
      "29305/29305 [==============================] - 1s 46us/step - loss: 14.1357 - mean_absolute_error: 14.1357\n",
      "Epoch 40/80\n",
      "29305/29305 [==============================] - 1s 30us/step - loss: 14.0903 - mean_absolute_error: 14.0903\n",
      "Epoch 41/80\n",
      "29305/29305 [==============================] - 1s 36us/step - loss: 14.0425 - mean_absolute_error: 14.0425\n",
      "Epoch 42/80\n",
      "29305/29305 [==============================] - 1s 38us/step - loss: 14.0305 - mean_absolute_error: 14.0305\n",
      "Epoch 43/80\n",
      "29305/29305 [==============================] - 1s 38us/step - loss: 13.9884 - mean_absolute_error: 13.9884\n",
      "Epoch 44/80\n",
      "29305/29305 [==============================] - 1s 43us/step - loss: 13.9818 - mean_absolute_error: 13.9818\n",
      "Epoch 45/80\n",
      "29305/29305 [==============================] - 1s 46us/step - loss: 13.9700 - mean_absolute_error: 13.9700\n",
      "Epoch 46/80\n",
      "29305/29305 [==============================] - 1s 35us/step - loss: 13.9392 - mean_absolute_error: 13.9392\n",
      "Epoch 47/80\n",
      "29305/29305 [==============================] - 1s 36us/step - loss: 13.9275 - mean_absolute_error: 13.9275\n",
      "Epoch 48/80\n",
      "29305/29305 [==============================] - 1s 42us/step - loss: 13.9359 - mean_absolute_error: 13.9359\n",
      "Epoch 49/80\n",
      "29305/29305 [==============================] - 1s 36us/step - loss: 13.9237 - mean_absolute_error: 13.9237\n",
      "Epoch 50/80\n",
      "29305/29305 [==============================] - 2s 58us/step - loss: 13.9171 - mean_absolute_error: 13.9171\n",
      "Epoch 51/80\n",
      "29305/29305 [==============================] - 1s 33us/step - loss: 13.8955 - mean_absolute_error: 13.8955\n",
      "Epoch 52/80\n",
      "29305/29305 [==============================] - 1s 43us/step - loss: 13.8864 - mean_absolute_error: 13.8864\n",
      "Epoch 53/80\n",
      "29305/29305 [==============================] - 1s 38us/step - loss: 13.8792 - mean_absolute_error: 13.8792\n",
      "Epoch 54/80\n",
      "29305/29305 [==============================] - 1s 40us/step - loss: 13.8330 - mean_absolute_error: 13.8330\n",
      "Epoch 55/80\n",
      "29305/29305 [==============================] - 1s 44us/step - loss: 13.8679 - mean_absolute_error: 13.8679\n",
      "Epoch 56/80\n",
      "29305/29305 [==============================] - 1s 45us/step - loss: 13.8564 - mean_absolute_error: 13.8564\n",
      "Epoch 57/80\n",
      "29305/29305 [==============================] - 1s 31us/step - loss: 13.8088 - mean_absolute_error: 13.8088\n",
      "Epoch 58/80\n",
      "29305/29305 [==============================] - 1s 39us/step - loss: 13.8084 - mean_absolute_error: 13.8084\n",
      "Epoch 59/80\n",
      "29305/29305 [==============================] - 1s 38us/step - loss: 13.8091 - mean_absolute_error: 13.8091\n",
      "Epoch 60/80\n",
      "29305/29305 [==============================] - 1s 39us/step - loss: 13.7995 - mean_absolute_error: 13.7995\n",
      "Epoch 61/80\n",
      "29305/29305 [==============================] - 1s 46us/step - loss: 13.7934 - mean_absolute_error: 13.7934\n",
      "Epoch 62/80\n",
      "29305/29305 [==============================] - 1s 41us/step - loss: 13.7804 - mean_absolute_error: 13.7804\n",
      "Epoch 63/80\n",
      "29305/29305 [==============================] - 1s 36us/step - loss: 13.7711 - mean_absolute_error: 13.7711\n",
      "Epoch 64/80\n",
      "29305/29305 [==============================] - 1s 36us/step - loss: 13.7770 - mean_absolute_error: 13.7770\n",
      "Epoch 65/80\n",
      "29305/29305 [==============================] - 1s 40us/step - loss: 13.7377 - mean_absolute_error: 13.7377\n",
      "Epoch 66/80\n",
      "29305/29305 [==============================] - 1s 33us/step - loss: 13.7269 - mean_absolute_error: 13.7269\n",
      "Epoch 67/80\n",
      "29305/29305 [==============================] - 2s 52us/step - loss: 13.7324 - mean_absolute_error: 13.7324\n",
      "Epoch 68/80\n",
      "29305/29305 [==============================] - 1s 42us/step - loss: 13.7309 - mean_absolute_error: 13.7309\n",
      "Epoch 69/80\n",
      "29305/29305 [==============================] - 1s 34us/step - loss: 13.6967 - mean_absolute_error: 13.6967\n",
      "Epoch 70/80\n",
      "29305/29305 [==============================] - 1s 36us/step - loss: 13.6765 - mean_absolute_error: 13.6765\n",
      "Epoch 71/80\n",
      "29305/29305 [==============================] - 1s 38us/step - loss: 13.6861 - mean_absolute_error: 13.6861\n",
      "Epoch 72/80\n",
      "29305/29305 [==============================] - 1s 34us/step - loss: 13.6826 - mean_absolute_error: 13.6826\n",
      "Epoch 73/80\n",
      "29305/29305 [==============================] - 1s 48us/step - loss: 13.6554 - mean_absolute_error: 13.6554\n",
      "Epoch 74/80\n",
      "29305/29305 [==============================] - 2s 52us/step - loss: 13.6694 - mean_absolute_error: 13.6694\n",
      "Epoch 75/80\n",
      "29305/29305 [==============================] - 1s 39us/step - loss: 13.6312 - mean_absolute_error: 13.6312\n",
      "Epoch 76/80\n",
      "29305/29305 [==============================] - 1s 40us/step - loss: 13.6405 - mean_absolute_error: 13.6405\n",
      "Epoch 77/80\n",
      "29305/29305 [==============================] - ETA: 0s - loss: 13.5028 - mean_absolute_error: 13.502 - 1s 32us/step - loss: 13.6114 - mean_absolute_error: 13.6114\n",
      "Epoch 78/80\n",
      "29305/29305 [==============================] - 1s 45us/step - loss: 13.6052 - mean_absolute_error: 13.6052\n",
      "Epoch 79/80\n",
      "29305/29305 [==============================] - 1s 49us/step - loss: 13.6003 - mean_absolute_error: 13.6003\n",
      "Epoch 80/80\n",
      "29305/29305 [==============================] - 1s 45us/step - loss: 13.5878 - mean_absolute_error: 13.5878\n"
     ]
    },
    {
     "data": {
      "text/plain": [
       "<keras.callbacks.History at 0x22a56cdef60>"
      ]
     },
     "execution_count": 229,
     "metadata": {},
     "output_type": "execute_result"
    }
   ],
   "source": [
    "Nmodel2.fit(X_train,y_train,epochs=80, batch_size=10)"
   ]
  },
  {
   "cell_type": "code",
   "execution_count": null,
   "metadata": {},
   "outputs": [],
   "source": []
  },
  {
   "cell_type": "code",
   "execution_count": 84,
   "metadata": {},
   "outputs": [
    {
     "data": {
      "image/png": "[encoded data removed]",
      "text/plain": [
       "<Figure size 432x288 with 1 Axes>"
      ]
     },
     "metadata": {
      "needs_background": "light"
     },
     "output_type": "display_data"
    }
   ],
   "source": [
    "# plot the predictions\n",
    "plt.scatter(pred_train_NN3,y_train, s=5)\n",
    "plt.title('test data prediction(NN 3 layer model)')\n",
    "plt.xlabel('predicted')\n",
    "plt.ylabel('true')\n",
    "plt.show()"
   ]
  },
  {
   "cell_type": "code",
   "execution_count": 83,
   "metadata": {},
   "outputs": [
    {
     "data": {
      "text/plain": [
       "array([[1.],\n",
       "       [1.],\n",
       "       [1.],\n",
       "       [1.],\n",
       "       [1.],\n",
       "       [1.],\n",
       "       [1.],\n",
       "       [1.],\n",
       "       [1.],\n",
       "       [1.]], dtype=float32)"
      ]
     },
     "execution_count": 83,
     "metadata": {},
     "output_type": "execute_result"
    }
   ],
   "source": [
    "pred_test_NN3[0:10]"
   ]
  },
  {
   "cell_type": "code",
   "execution_count": 32,
   "metadata": {},
   "outputs": [],
   "source": [
    "Nmodel2=Sequential()\n",
    "Nmodel2.add(Dense(22, input_dim=17, activation='relu'))\n",
    "Nmodel2.add(Dense(17, activation='relu'))\n",
    "Nmodel2.add(Dense(1, activation='sigmoid'))"
   ]
  },
  {
   "cell_type": "code",
   "execution_count": 33,
   "metadata": {},
   "outputs": [],
   "source": [
    "Nmodel2.compile(loss='mae', optimizer='adam', metrics=['mae'])"
   ]
  },
  {
   "cell_type": "code",
   "execution_count": 34,
   "metadata": {
    "collapsed": true,
    "jupyter": {
     "outputs_hidden": true
    }
   },
   "outputs": [
    {
     "name": "stdout",
     "output_type": "stream",
     "text": [
      "Epoch 1/100\n",
      "29305/29305 [==============================] - 1s 30us/step - loss: 17.1148 - mean_absolute_error: 17.1148\n",
      "Epoch 2/100\n",
      "29305/29305 [==============================] - 1s 38us/step - loss: 17.1060 - mean_absolute_error: 17.1060\n",
      "Epoch 3/100\n",
      "29305/29305 [==============================] - 1s 29us/step - loss: 17.1059 - mean_absolute_error: 17.1059\n",
      "Epoch 4/100\n",
      "29305/29305 [==============================] - 1s 34us/step - loss: 17.1059 - mean_absolute_error: 17.1059\n",
      "Epoch 5/100\n",
      "29305/29305 [==============================] - 1s 30us/step - loss: 17.1059 - mean_absolute_error: 17.1059\n",
      "Epoch 6/100\n",
      "29305/29305 [==============================] - 1s 37us/step - loss: 17.1059 - mean_absolute_error: 17.1059\n",
      "Epoch 7/100\n",
      "29305/29305 [==============================] - 1s 29us/step - loss: 17.1059 - mean_absolute_error: 17.1059\n",
      "Epoch 8/100\n",
      "29305/29305 [==============================] - 1s 41us/step - loss: 17.1059 - mean_absolute_error: 17.1059\n",
      "Epoch 9/100\n",
      "29305/29305 [==============================] - 1s 31us/step - loss: 17.1059 - mean_absolute_error: 17.1059\n",
      "Epoch 10/100\n",
      "29305/29305 [==============================] - 1s 40us/step - loss: 17.1059 - mean_absolute_error: 17.1059\n",
      "Epoch 11/100\n",
      "29305/29305 [==============================] - 1s 35us/step - loss: 17.1059 - mean_absolute_error: 17.1059\n",
      "Epoch 12/100\n",
      "29305/29305 [==============================] - 1s 43us/step - loss: 17.1059 - mean_absolute_error: 17.1059\n",
      "Epoch 13/100\n",
      "29305/29305 [==============================] - 1s 32us/step - loss: 17.1059 - mean_absolute_error: 17.1059\n",
      "Epoch 14/100\n",
      "29305/29305 [==============================] - 1s 39us/step - loss: 17.1059 - mean_absolute_error: 17.1059: 1s - loss: 17.1144 - mean_a\n",
      "Epoch 15/100\n",
      "29305/29305 [==============================] - 1s 30us/step - loss: 17.1059 - mean_absolute_error: 17.1059\n",
      "Epoch 16/100\n",
      "29305/29305 [==============================] - 1s 35us/step - loss: 17.1059 - mean_absolute_error: 17.1059\n",
      "Epoch 17/100\n",
      "29305/29305 [==============================] - 1s 29us/step - loss: 17.1059 - mean_absolute_error: 17.1059\n",
      "Epoch 18/100\n",
      "29305/29305 [==============================] - 1s 40us/step - loss: 17.1059 - mean_absolute_error: 17.1059\n",
      "Epoch 19/100\n",
      "29305/29305 [==============================] - 1s 29us/step - loss: 17.1059 - mean_absolute_error: 17.1059\n",
      "Epoch 20/100\n",
      "29305/29305 [==============================] - 1s 39us/step - loss: 17.1059 - mean_absolute_error: 17.1059\n",
      "Epoch 21/100\n",
      "29305/29305 [==============================] - 1s 30us/step - loss: 17.1059 - mean_absolute_error: 17.1059\n",
      "Epoch 22/100\n",
      "29305/29305 [==============================] - 1s 35us/step - loss: 17.1059 - mean_absolute_error: 17.1059\n",
      "Epoch 23/100\n",
      "29305/29305 [==============================] - 1s 29us/step - loss: 17.1059 - mean_absolute_error: 17.1059\n",
      "Epoch 24/100\n",
      "29305/29305 [==============================] - 1s 35us/step - loss: 17.1059 - mean_absolute_error: 17.1059\n",
      "Epoch 25/100\n",
      "29305/29305 [==============================] - 1s 29us/step - loss: 17.1059 - mean_absolute_error: 17.1059\n",
      "Epoch 26/100\n",
      "29305/29305 [==============================] - 1s 37us/step - loss: 17.1059 - mean_absolute_error: 17.1059\n",
      "Epoch 27/100\n",
      "29305/29305 [==============================] - 1s 32us/step - loss: 17.1059 - mean_absolute_error: 17.1059\n",
      "Epoch 28/100\n",
      "29305/29305 [==============================] - 1s 34us/step - loss: 17.1059 - mean_absolute_error: 17.1059\n",
      "Epoch 29/100\n",
      "29305/29305 [==============================] - 1s 30us/step - loss: 17.1059 - mean_absolute_error: 17.1059\n",
      "Epoch 30/100\n",
      "29305/29305 [==============================] - 1s 36us/step - loss: 17.1059 - mean_absolute_error: 17.1059\n",
      "Epoch 31/100\n",
      "29305/29305 [==============================] - 1s 30us/step - loss: 17.1059 - mean_absolute_error: 17.1059\n",
      "Epoch 32/100\n",
      "29305/29305 [==============================] - ETA: 0s - loss: 17.3292 - mean_absolute_error: 17.329 - 1s 34us/step - loss: 17.1059 - mean_absolute_error: 17.1059\n",
      "Epoch 33/100\n",
      "29305/29305 [==============================] - 1s 34us/step - loss: 17.1059 - mean_absolute_error: 17.1059\n",
      "Epoch 34/100\n",
      "29305/29305 [==============================] - 1s 35us/step - loss: 17.1059 - mean_absolute_error: 17.1059\n",
      "Epoch 35/100\n",
      "29305/29305 [==============================] - 1s 31us/step - loss: 17.1059 - mean_absolute_error: 17.1059\n",
      "Epoch 36/100\n",
      "29305/29305 [==============================] - 1s 35us/step - loss: 17.1059 - mean_absolute_error: 17.1059: 0s - loss: 17.2058 - mean_absolute_error: 17.20\n",
      "Epoch 37/100\n",
      "29305/29305 [==============================] - 1s 30us/step - loss: 17.1059 - mean_absolute_error: 17.1059\n",
      "Epoch 38/100\n",
      "29305/29305 [==============================] - 1s 33us/step - loss: 17.1059 - mean_absolute_error: 17.1059\n",
      "Epoch 39/100\n",
      "29305/29305 [==============================] - 1s 33us/step - loss: 17.1059 - mean_absolute_error: 17.1059\n",
      "Epoch 40/100\n",
      "29305/29305 [==============================] - 1s 33us/step - loss: 17.1059 - mean_absolute_error: 17.1059\n",
      "Epoch 41/100\n",
      "29305/29305 [==============================] - 1s 30us/step - loss: 17.1059 - mean_absolute_error: 17.1059\n",
      "Epoch 42/100\n",
      "29305/29305 [==============================] - 1s 32us/step - loss: 17.1059 - mean_absolute_error: 17.1059\n",
      "Epoch 43/100\n",
      "29305/29305 [==============================] - 1s 30us/step - loss: 17.1059 - mean_absolute_error: 17.1059\n",
      "Epoch 44/100\n",
      "29305/29305 [==============================] - 1s 33us/step - loss: 17.1059 - mean_absolute_error: 17.1059\n",
      "Epoch 45/100\n",
      "29305/29305 [==============================] - 1s 33us/step - loss: 17.1059 - mean_absolute_error: 17.1059\n",
      "Epoch 46/100\n",
      "29305/29305 [==============================] - 1s 34us/step - loss: 17.1059 - mean_absolute_error: 17.1059\n",
      "Epoch 47/100\n",
      "29305/29305 [==============================] - 1s 30us/step - loss: 17.1059 - mean_absolute_error: 17.1059\n",
      "Epoch 48/100\n",
      "29305/29305 [==============================] - 1s 32us/step - loss: 17.1059 - mean_absolute_error: 17.1059\n",
      "Epoch 49/100\n",
      "29305/29305 [==============================] - 1s 29us/step - loss: 17.1059 - mean_absolute_error: 17.1059: 0s - loss: 17.4609 - mean_absolute_error: \n",
      "Epoch 50/100\n",
      "29305/29305 [==============================] - 1s 32us/step - loss: 17.1059 - mean_absolute_error: 17.1059\n",
      "Epoch 51/100\n",
      "29305/29305 [==============================] - 1s 30us/step - loss: 17.1059 - mean_absolute_error: 17.1059\n",
      "Epoch 52/100\n",
      "29305/29305 [==============================] - 1s 35us/step - loss: 17.1059 - mean_absolute_error: 17.1059\n",
      "Epoch 53/100\n",
      "29305/29305 [==============================] - 1s 29us/step - loss: 17.1059 - mean_absolute_error: 17.1059\n",
      "Epoch 54/100\n",
      "29305/29305 [==============================] - 1s 31us/step - loss: 17.1059 - mean_absolute_error: 17.1059\n",
      "Epoch 55/100\n",
      "29305/29305 [==============================] - 1s 29us/step - loss: 17.1059 - mean_absolute_error: 17.1059\n",
      "Epoch 56/100\n",
      "29305/29305 [==============================] - 1s 31us/step - loss: 17.1059 - mean_absolute_error: 17.1059\n",
      "Epoch 57/100\n",
      "29305/29305 [==============================] - 1s 29us/step - loss: 17.1059 - mean_absolute_error: 17.1059\n",
      "Epoch 58/100\n",
      "29305/29305 [==============================] - 1s 34us/step - loss: 17.1059 - mean_absolute_error: 17.1059\n",
      "Epoch 59/100\n",
      "29305/29305 [==============================] - 1s 30us/step - loss: 17.1059 - mean_absolute_error: 17.1059\n",
      "Epoch 60/100\n",
      "29305/29305 [==============================] - 1s 30us/step - loss: 17.1059 - mean_absolute_error: 17.1059\n",
      "Epoch 61/100\n",
      "29305/29305 [==============================] - 1s 30us/step - loss: 17.1059 - mean_absolute_error: 17.1059\n",
      "Epoch 62/100\n",
      "29305/29305 [==============================] - 1s 31us/step - loss: 17.1059 - mean_absolute_error: 17.1059: 0s - loss: 15.4503 - mean_absolute_e\n",
      "Epoch 63/100\n",
      "29305/29305 [==============================] - 1s 30us/step - loss: 17.1059 - mean_absolute_error: 17.1059\n",
      "Epoch 64/100\n",
      "29305/29305 [==============================] - 1s 31us/step - loss: 17.1059 - mean_absolute_error: 17.1059\n",
      "Epoch 65/100\n",
      "29305/29305 [==============================] - 1s 30us/step - loss: 17.1059 - mean_absolute_error: 17.1059\n",
      "Epoch 66/100\n",
      "29305/29305 [==============================] - 1s 30us/step - loss: 17.1059 - mean_absolute_error: 17.1059\n",
      "Epoch 67/100\n",
      "29305/29305 [==============================] - 1s 30us/step - loss: 17.1059 - mean_absolute_error: 17.1059\n",
      "Epoch 68/100\n",
      "29305/29305 [==============================] - 1s 31us/step - loss: 17.1059 - mean_absolute_error: 17.1059\n",
      "Epoch 69/100\n",
      "29305/29305 [==============================] - 1s 30us/step - loss: 17.1059 - mean_absolute_error: 17.1059: 0s - loss: 17.8071 - mean_absolute\n",
      "Epoch 70/100\n",
      "29305/29305 [==============================] - 1s 31us/step - loss: 17.1059 - mean_absolute_error: 17.1059\n",
      "Epoch 71/100\n",
      "29305/29305 [==============================] - 1s 30us/step - loss: 17.1059 - mean_absolute_error: 17.1059\n",
      "Epoch 72/100\n",
      "29305/29305 [==============================] - 1s 31us/step - loss: 17.1059 - mean_absolute_error: 17.1059\n",
      "Epoch 73/100\n",
      "29305/29305 [==============================] - 1s 30us/step - loss: 17.1059 - mean_absolute_error: 17.1059\n",
      "Epoch 74/100\n",
      "29305/29305 [==============================] - 1s 31us/step - loss: 17.1059 - mean_absolute_error: 17.1059\n",
      "Epoch 75/100\n",
      "29305/29305 [==============================] - 1s 29us/step - loss: 17.1059 - mean_absolute_error: 17.1059\n",
      "Epoch 76/100\n",
      "29305/29305 [==============================] - 1s 30us/step - loss: 17.1059 - mean_absolute_error: 17.1059\n",
      "Epoch 77/100\n",
      "29305/29305 [==============================] - 1s 29us/step - loss: 17.1059 - mean_absolute_error: 17.1059\n",
      "Epoch 78/100\n",
      "29305/29305 [==============================] - 1s 33us/step - loss: 17.1059 - mean_absolute_error: 17.1059\n",
      "Epoch 79/100\n",
      "29305/29305 [==============================] - 1s 29us/step - loss: 17.1059 - mean_absolute_error: 17.1059\n",
      "Epoch 80/100\n",
      "29305/29305 [==============================] - 1s 32us/step - loss: 17.1059 - mean_absolute_error: 17.1059\n",
      "Epoch 81/100\n",
      "29305/29305 [==============================] - 1s 31us/step - loss: 17.1059 - mean_absolute_error: 17.1059\n",
      "Epoch 82/100\n",
      "29305/29305 [==============================] - 1s 30us/step - loss: 17.1059 - mean_absolute_error: 17.1059\n",
      "Epoch 83/100\n",
      "29305/29305 [==============================] - 1s 30us/step - loss: 17.1059 - mean_absolute_error: 17.1059\n",
      "Epoch 84/100\n",
      "29305/29305 [==============================] - 1s 32us/step - loss: 17.1059 - mean_absolute_error: 17.1059\n",
      "Epoch 85/100\n",
      "29305/29305 [==============================] - 1s 31us/step - loss: 17.1059 - mean_absolute_error: 17.1059\n",
      "Epoch 86/100\n",
      "29305/29305 [==============================] - 1s 30us/step - loss: 17.1059 - mean_absolute_error: 17.1059\n",
      "Epoch 87/100\n",
      "29305/29305 [==============================] - 1s 30us/step - loss: 17.1059 - mean_absolute_error: 17.1059\n",
      "Epoch 88/100\n",
      "29305/29305 [==============================] - 1s 29us/step - loss: 17.1059 - mean_absolute_error: 17.1059\n",
      "Epoch 89/100\n",
      "29305/29305 [==============================] - 1s 28us/step - loss: 17.1059 - mean_absolute_error: 17.1059\n",
      "Epoch 90/100\n",
      "29305/29305 [==============================] - 1s 29us/step - loss: 17.1059 - mean_absolute_error: 17.1059\n",
      "Epoch 91/100\n",
      "29305/29305 [==============================] - 1s 29us/step - loss: 17.1059 - mean_absolute_error: 17.1059\n",
      "Epoch 92/100\n",
      "29305/29305 [==============================] - 1s 30us/step - loss: 17.1059 - mean_absolute_error: 17.1059\n",
      "Epoch 93/100\n",
      "29305/29305 [==============================] - 1s 29us/step - loss: 17.1059 - mean_absolute_error: 17.1059\n",
      "Epoch 94/100\n",
      "29305/29305 [==============================] - 1s 30us/step - loss: 17.1059 - mean_absolute_error: 17.1059\n",
      "Epoch 95/100\n",
      "29305/29305 [==============================] - 1s 29us/step - loss: 17.1059 - mean_absolute_error: 17.1059\n",
      "Epoch 96/100\n",
      "29305/29305 [==============================] - 1s 32us/step - loss: 17.1059 - mean_absolute_error: 17.1059\n",
      "Epoch 97/100\n",
      "29305/29305 [==============================] - 1s 29us/step - loss: 17.1059 - mean_absolute_error: 17.1059\n",
      "Epoch 98/100\n",
      "29305/29305 [==============================] - 1s 33us/step - loss: 17.1059 - mean_absolute_error: 17.1059\n",
      "Epoch 99/100\n",
      "29305/29305 [==============================] - 1s 28us/step - loss: 17.1059 - mean_absolute_error: 17.1059\n",
      "Epoch 100/100\n",
      "29305/29305 [==============================] - 1s 29us/step - loss: 17.1059 - mean_absolute_error: 17.1059\n"
     ]
    },
    {
     "data": {
      "text/plain": [
       "<keras.callbacks.History at 0x22a3f04d668>"
      ]
     },
     "execution_count": 34,
     "metadata": {},
     "output_type": "execute_result"
    }
   ],
   "source": [
    "Nmodel2.fit(X_train,y_train,epochs=100, batch_size=10)"
   ]
  },
  {
   "cell_type": "code",
   "execution_count": 37,
   "metadata": {},
   "outputs": [],
   "source": [
    "pred_train_NN2 = Nmodel2.predict(X_train)\n",
    "pred_test_NN2 = Nmodel2.predict(X_test)"
   ]
  },
  {
   "cell_type": "code",
   "execution_count": 38,
   "metadata": {},
   "outputs": [
    {
     "name": "stdout",
     "output_type": "stream",
     "text": [
      "MSE score(training): 22712.22409145197\n",
      "MAE score(training): 17.105920491383724\n",
      "MSE score: 27999.19060509554\n",
      "MAE score: 18.779458598726116\n"
     ]
    }
   ],
   "source": [
    "# access several benchmark RMSE for reference:\n",
    "print('MSE score(training):',metrics.mean_squared_error(y_train, pred_train_NN2))\n",
    "print('MAE score(training):',metrics.mean_absolute_error(y_train, pred_train_NN2))\n",
    "print('MSE score:',metrics.mean_squared_error(y_test, pred_test_NN2))\n",
    "print('MAE score:',metrics.mean_absolute_error(y_test, pred_test_NN2))"
   ]
  },
  {
   "cell_type": "code",
   "execution_count": null,
   "metadata": {},
   "outputs": [],
   "source": []
  }
 ],
 "metadata": {
  "kernelspec": {
   "display_name": "Python 3",
   "language": "python",
   "name": "python3"
  },
  "language_info": {
   "codemirror_mode": {
    "name": "ipython",
    "version": 3
   },
   "file_extension": ".py",
   "mimetype": "text/x-python",
   "name": "python",
   "nbconvert_exporter": "python",
   "pygments_lexer": "ipython3",
   "version": "3.7.3"
  }
 },
 "nbformat": 4,
 "nbformat_minor": 4
}
