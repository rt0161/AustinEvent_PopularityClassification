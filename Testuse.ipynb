{
 "cells": [
  {
   "cell_type": "code",
   "execution_count": 1,
   "metadata": {},
   "outputs": [],
   "source": [
    "from flask import Flask, jsonify, request\n",
    "import json"
   ]
  },
  {
   "cell_type": "code",
   "execution_count": 2,
   "metadata": {},
   "outputs": [
    {
     "name": "stdout",
     "output_type": "stream",
     "text": [
      "<class 'dict'> {'event_id': '12345678', 'venue': {'title': 'Austin360 Amphitheater'}, 'begin_time': '2019-09-18T22:30:00.000Z', 'end_time': '2019-09-19T07:00:00.000Z', 'category': 'Music '}\n"
     ]
    }
   ],
   "source": [
    "with open('testjson.json','r')as f:\n",
    "    data=json.load(f)\n",
    "    print(type(data),data)"
   ]
  },
  {
   "cell_type": "code",
   "execution_count": 5,
   "metadata": {},
   "outputs": [
    {
     "data": {
      "text/plain": [
       "\"{'event_id': '12345678', 'venue': {'title': 'Austin360 Amphitheater'}, 'begin_time': '2019-09-18T22:30:00.000Z', 'end_time': '2019-09-19T07:00:00.000Z', 'category': 'Music '}\""
      ]
     },
     "execution_count": 5,
     "metadata": {},
     "output_type": "execute_result"
    }
   ],
   "source": [
    "str(data)"
   ]
  },
  {
   "cell_type": "code",
   "execution_count": null,
   "metadata": {},
   "outputs": [],
   "source": []
  }
 ],
 "metadata": {
  "kernelspec": {
   "display_name": "Python 3",
   "language": "python",
   "name": "python3"
  },
  "language_info": {
   "codemirror_mode": {
    "name": "ipython",
    "version": 3
   },
   "file_extension": ".py",
   "mimetype": "text/x-python",
   "name": "python",
   "nbconvert_exporter": "python",
   "pygments_lexer": "ipython3",
   "version": "3.7.3"
  }
 },
 "nbformat": 4,
 "nbformat_minor": 4
}
