{
 "cells": [
  {
   "cell_type": "code",
   "execution_count": 162,
   "metadata": {},
   "outputs": [],
   "source": [
    "import numpy as np\n",
    "import math\n",
    "\n",
    "import pandas as pd\n",
    "from fastparquet import ParquetFile,write\n",
    "import matplotlib.pyplot as plt\n",
    "from matplotlib import cm\n",
    "from tqdm import tqdm\n",
    "\n",
    "from cm2df import cm2df,precision_recall_fscore_support_metrics2df\n",
    "from sklearn.metrics import confusion_matrix, classification_report"
   ]
  },
  {
   "cell_type": "code",
   "execution_count": 163,
   "metadata": {},
   "outputs": [],
   "source": [
    "pf=ParquetFile('subset_feature_4ML_110619.parq')\n",
    "udf=pf.to_pandas()"
   ]
  },
  {
   "cell_type": "code",
   "execution_count": 164,
   "metadata": {
    "collapsed": true,
    "jupyter": {
     "outputs_hidden": true
    }
   },
   "outputs": [
    {
     "name": "stdout",
     "output_type": "stream",
     "text": [
      "<class 'pandas.core.frame.DataFrame'>\n",
      "Int64Index: 32880 entries, 11049447 to 9968570\n",
      "Data columns (total 35 columns):\n",
      "category                 32880 non-null int64\n",
      "past                     32880 non-null int32\n",
      "votes                    32880 non-null int64\n",
      "is_eventbrite            32880 non-null int32\n",
      "is_free                  32880 non-null int32\n",
      "doors                    32880 non-null int32\n",
      "sold_out                 32880 non-null int32\n",
      "venue.id                 32880 non-null int64\n",
      "venue.popularity         32880 non-null float64\n",
      "venue.zip                32880 non-null int64\n",
      "ticket_allages           32880 non-null int32\n",
      "ticket_price_low         32880 non-null float64\n",
      "ticket_price_max         32880 non-null float64\n",
      "min_age                  32880 non-null int32\n",
      "artist.popularity.sum    32880 non-null float64\n",
      "artist.popularity.avg    32880 non-null float64\n",
      "artist.popularity.max    32880 non-null float64\n",
      "dow                      32880 non-null int64\n",
      "doy                      32880 non-null int64\n",
      "month                    32880 non-null int64\n",
      "day                      32880 non-null int64\n",
      "hour                     32880 non-null int64\n",
      "venue.tol_num_events     32880 non-null int64\n",
      "ev_id                    32880 non-null int64\n",
      "title                    32880 non-null object\n",
      "venue.title              32880 non-null object\n",
      "venue.address            32806 non-null object\n",
      "venue.city               32880 non-null object\n",
      "venue.state              32880 non-null object\n",
      "venue.latitude           32880 non-null float64\n",
      "venue.longitude          32880 non-null float64\n",
      "duration                 32880 non-null float64\n",
      "duration_day             32880 non-null float64\n",
      "multiday                 32880 non-null bool\n",
      "avg_votes_pday           32880 non-null float64\n",
      "dtypes: bool(1), float64(11), int32(7), int64(11), object(5)\n",
      "memory usage: 7.9+ MB\n"
     ]
    }
   ],
   "source": [
    "udf.info()"
   ]
  },
  {
   "cell_type": "code",
   "execution_count": 165,
   "metadata": {},
   "outputs": [],
   "source": [
    "usecolsX=['category', 'past', 'is_eventbrite', 'is_free', 'doors',\n",
    "       'sold_out', 'venue.id', 'venue.popularity', 'venue.zip',\n",
    "       'ticket_allages', 'ticket_price_low', 'ticket_price_max', 'min_age',\n",
    "       'artist.popularity.sum', 'artist.popularity.avg',\n",
    "       'artist.popularity.max', 'dow', 'doy', 'month', 'day', 'hour',\n",
    "       'venue.tol_num_events', 'duration', 'duration_day', 'multiday']\n",
    "usecoly1=['votes']\n",
    "usecoly2=['avg_votes_pday']"
   ]
  },
  {
   "cell_type": "code",
   "execution_count": 166,
   "metadata": {},
   "outputs": [],
   "source": [
    "udf_X=udf[usecolsX]\n",
    "udf_y=udf[usecoly1]"
   ]
  },
  {
   "cell_type": "code",
   "execution_count": 167,
   "metadata": {},
   "outputs": [],
   "source": [
    "# scaling of the features\n",
    "from sklearn.preprocessing import MinMaxScaler\n",
    "# scale regression dataset\n",
    "scalar = MinMaxScaler()\n",
    "scalar.fit(udf_X)\n",
    "X = scalar.transform(udf_X)"
   ]
  },
  {
   "cell_type": "code",
   "execution_count": 8,
   "metadata": {},
   "outputs": [],
   "source": [
    "# a function to create udf_y based on 3 classes: low, mid, high\n",
    "def get_class(df,thre1,thre2):\n",
    "    n=len(df)\n",
    "    newdf=[]\n",
    "    cut1=min([thre1,thre2])\n",
    "    cut2=max([thre1,thre2])\n",
    "    for item in df:\n",
    "        if item<cut1: newdf+=[0]\n",
    "        elif (item<cut2) and (item>=cut1):newdf+=[1]\n",
    "        else: newdf+=[2]\n",
    "    return newdf"
   ]
  },
  {
   "cell_type": "code",
   "execution_count": 15,
   "metadata": {},
   "outputs": [],
   "source": [
    "y=get_class(udf_y.values,80,300)"
   ]
  },
  {
   "cell_type": "code",
   "execution_count": 44,
   "metadata": {},
   "outputs": [],
   "source": [
    "# import algorithms for model comparisons\n",
    "# tree models\n",
    "from sklearn.ensemble import RandomForestClassifier\n",
    "\n",
    "# NN models\n",
    "from keras.models import Sequential\n",
    "from keras.layers import Dense\n",
    "from sklearn.preprocessing import LabelEncoder\n",
    "from keras.utils import np_utils\n",
    "\n",
    "# linear models: SVC \n",
    "from sklearn.svm import SVC\n",
    "# knn\n",
    "from sklearn.neighbors import KNeighborsClassifier\n",
    "# boosting\n",
    "from sklearn.ensemble import AdaBoostClassifier\n",
    "\n",
    "\n",
    "from sklearn.metrics import precision_recall_fscore_support, confusion_matrix,classification_report\n",
    "from sklearn.model_selection import train_test_split\n"
   ]
  },
  {
   "cell_type": "code",
   "execution_count": 21,
   "metadata": {},
   "outputs": [
    {
     "data": {
      "image/png": "[encoded data removed]",
      "text/plain": [
       "<Figure size 1440x720 with 2 Axes>"
      ]
     },
     "metadata": {
      "needs_background": "light"
     },
     "output_type": "display_data"
    }
   ],
   "source": [
    "# test on different models based on the optimum divide : low-votes=below 80 votes, mid-votes=between 80 and 300, high-votes=above 300 votes\n",
    "f1_rec=[]\n",
    "prec_rec=[]\n",
    "recal_rec=[]\n",
    "\n",
    "# set up matplot figure\n",
    "fig =plt.figure(figsize=(20,10))\n",
    "ax1 = fig.add_subplot(121)\n",
    "ax2 = fig.add_subplot(122)\n",
    "ax1.title.set_text('precision-recall')\n",
    "ax1.set_xlim([0,1.05])\n",
    "ax1.set_ylim([0,1.05])\n",
    "ax2.title.set_text('F1 score')\n",
    "# preset color scale\n",
    "NUM_COLORS = 5\n",
    "colors = cm.rainbow(np.linspace(0, 1, NUM_COLORS))\n",
    "ct=0# counter for colors\n",
    "\n",
    "# setup the data\n",
    "X_train, X_test, y_train, y_test = train_test_split(X, y, test_size=0.3, stratify=y, random_state=12)\n"
   ]
  },
  {
   "cell_type": "markdown",
   "metadata": {},
   "source": [
    "## Benchmark Model: Random Forest> "
   ]
  },
  {
   "cell_type": "code",
   "execution_count": 22,
   "metadata": {},
   "outputs": [],
   "source": [
    "classifier=RandomForestClassifier(n_estimators=20,random_state=12,verbose=0)\n",
    "classifier.fit(X_train,y_train)\n",
    "pred_y_test=classifier.predict(X_test)\n",
    "# assess the model performance: obtain prescision/recall/f1 scores\n",
    "a=precision_recall_fscore_support(y_test, pred_y_test)\n",
    "f1s=a[2]\n",
    "prec_rec+=[a[0]]\n",
    "recal_rec+=[a[1]]\n",
    "# create the weighted f1 score: larger emphasis on high-votes bin and medium\n",
    "# adjusted f1_forall= (f1_low+f1_mid*2+f1_high*3)/6\n",
    "adjf1=(f1s[0]+f1s[1]*2+f1s[2]*3)/6\n",
    "f1_rec+=[adjf1]\n"
   ]
  },
  {
   "cell_type": "code",
   "execution_count": 25,
   "metadata": {},
   "outputs": [
    {
     "name": "stdout",
     "output_type": "stream",
     "text": [
      "confusion matrix: [[9454   27    2]\n",
      " [ 224   89    5]\n",
      " [  36   16   11]]\n",
      "other metrics:               precision    recall  f1-score   support\n",
      "\n",
      "           0       0.97      1.00      0.98      9483\n",
      "           1       0.67      0.28      0.40       318\n",
      "           2       0.61      0.17      0.27        63\n",
      "\n",
      "    accuracy                           0.97      9864\n",
      "   macro avg       0.75      0.48      0.55      9864\n",
      "weighted avg       0.96      0.97      0.96      9864\n",
      "\n"
     ]
    }
   ],
   "source": [
    "# print confusion matrix\n",
    "print(\"confusion matrix:\",confusion_matrix(y_test, pred_y_test))\n",
    "print(\"other metrics:\",classification_report(y_test, pred_y_test))"
   ]
  },
  {
   "cell_type": "markdown",
   "metadata": {},
   "source": [
    "#### Test the Neural-Network model"
   ]
  },
  {
   "cell_type": "code",
   "execution_count": 84,
   "metadata": {},
   "outputs": [],
   "source": [
    "X_train, X_test, y_train, y_test = train_test_split(X, y, test_size=0.3, stratify=y, random_state=12)\n",
    "# formulate y data (specifically required by NN model)\n",
    "# encode class values as integers\n",
    "encoder = LabelEncoder()\n",
    "encoder.fit(y_train)\n",
    "encoded_Y = encoder.transform(y_train)\n",
    "# convert integers to dummy variables (i.e. one hot encoded)\n",
    "dummy_y = np_utils.to_categorical(encoded_Y)\n"
   ]
  },
  {
   "cell_type": "code",
   "execution_count": 94,
   "metadata": {},
   "outputs": [],
   "source": [
    "nfeature=len(udf_X.columns)\n",
    "Nmodel=Sequential()\n",
    "Nmodel.add(Dense(nfeature+5,input_dim=X_train.shape[1], activation='relu'))\n",
    "Nmodel.add(Dense(nfeature+5, activation='relu'))\n",
    "#Nmodel.add(Dense(nfeature, activation='relu'))\n",
    "Nmodel.add(Dense(nfeature-5, activation='relu'))\n",
    "Nmodel.add(Dense(3, activation='softmax'))"
   ]
  },
  {
   "cell_type": "code",
   "execution_count": 95,
   "metadata": {},
   "outputs": [],
   "source": [
    "from keras import backend as K\n",
    "\n",
    "def recall_m(y_true, y_pred):\n",
    "        true_positives = K.sum(K.round(K.clip(y_true * y_pred, 0, 1)))\n",
    "        possible_positives = K.sum(K.round(K.clip(y_true, 0, 1)))\n",
    "        recall = true_positives / (possible_positives + K.epsilon())\n",
    "        return recall\n",
    "\n",
    "def precision_m(y_true, y_pred):\n",
    "        true_positives = K.sum(K.round(K.clip(y_true * y_pred, 0, 1)))\n",
    "        predicted_positives = K.sum(K.round(K.clip(y_pred, 0, 1)))\n",
    "        precision = true_positives / (predicted_positives + K.epsilon())\n",
    "        return precision\n",
    "\n",
    "def f1_m(y_true, y_pred):\n",
    "    precision = precision_m(y_true, y_pred)\n",
    "    recall = recall_m(y_true, y_pred)\n",
    "    return 2*((precision*recall)/(precision+recall+K.epsilon()))\n",
    "\n",
    "Nmodel.compile(loss='categorical_crossentropy', optimizer='adam', metrics=[f1_m,precision_m, recall_m])"
   ]
  },
  {
   "cell_type": "code",
   "execution_count": 96,
   "metadata": {
    "collapsed": true,
    "jupyter": {
     "outputs_hidden": true
    }
   },
   "outputs": [
    {
     "name": "stdout",
     "output_type": "stream",
     "text": [
      "Epoch 1/10\n",
      "23016/23016 [==============================] - ETA: 2s - loss: 1.1725 - f1_m: 0.0000e+00 - precision_m: 0.0000e+00 - recall_m: 0.0000e+0 - ETA: 0s - loss: 0.5701 - f1_m: 0.6414 - precision_m: 0.7071 - recall_m: 0.6259            - ETA: 0s - loss: 0.4024 - f1_m: 0.7812 - precision_m: 0.8181 - recall_m: 0.772 - ETA: 0s - loss: 0.3428 - f1_m: 0.8281 - precision_m: 0.8556 - recall_m: 0.821 - ETA: 0s - loss: 0.3071 - f1_m: 0.8532 - precision_m: 0.8756 - recall_m: 0.848 - ETA: 0s - loss: 0.2857 - f1_m: 0.8701 - precision_m: 0.8889 - recall_m: 0.865 - ETA: 0s - loss: 0.2690 - f1_m: 0.8822 - precision_m: 0.8986 - recall_m: 0.878 - ETA: 0s - loss: 0.2536 - f1_m: 0.8933 - precision_m: 0.9073 - recall_m: 0.890 - ETA: 0s - loss: 0.2400 - f1_m: 0.9024 - precision_m: 0.9146 - recall_m: 0.899 - ETA: 0s - loss: 0.2281 - f1_m: 0.9097 - precision_m: 0.9205 - recall_m: 0.907 - ETA: 0s - loss: 0.2239 - f1_m: 0.9136 - precision_m: 0.9236 - recall_m: 0.911 - ETA: 0s - loss: 0.2189 - f1_m: 0.9166 - precision_m: 0.9260 - recall_m: 0.914 - ETA: 0s - loss: 0.2157 - f1_m: 0.9189 - precision_m: 0.9278 - recall_m: 0.916 - ETA: 0s - loss: 0.2105 - f1_m: 0.9218 - precision_m: 0.9301 - recall_m: 0.919 - ETA: 0s - loss: 0.2045 - f1_m: 0.9258 - precision_m: 0.9334 - recall_m: 0.924 - ETA: 0s - loss: 0.2013 - f1_m: 0.9283 - precision_m: 0.9352 - recall_m: 0.926 - ETA: 0s - loss: 0.1979 - f1_m: 0.9307 - precision_m: 0.9370 - recall_m: 0.929 - 1s 36us/step - loss: 0.1970 - f1_m: 0.9312 - precision_m: 0.9374 - recall_m: 0.9297\n",
      "Epoch 2/10\n",
      "23016/23016 [==============================] - ETA: 2s - loss: 0.4239 - f1_m: 0.8254 - precision_m: 0.8387 - recall_m: 0.812 - ETA: 0s - loss: 0.1578 - f1_m: 0.9607 - precision_m: 0.9610 - recall_m: 0.960 - ETA: 0s - loss: 0.1420 - f1_m: 0.9649 - precision_m: 0.9650 - recall_m: 0.964 - ETA: 0s - loss: 0.1520 - f1_m: 0.9612 - precision_m: 0.9613 - recall_m: 0.961 - ETA: 0s - loss: 0.1507 - f1_m: 0.9618 - precision_m: 0.9618 - recall_m: 0.961 - ETA: 0s - loss: 0.1484 - f1_m: 0.9617 - precision_m: 0.9618 - recall_m: 0.961 - ETA: 0s - loss: 0.1482 - f1_m: 0.9618 - precision_m: 0.9619 - recall_m: 0.961 - ETA: 0s - loss: 0.1461 - f1_m: 0.9620 - precision_m: 0.9622 - recall_m: 0.961 - ETA: 0s - loss: 0.1457 - f1_m: 0.9628 - precision_m: 0.9630 - recall_m: 0.962 - ETA: 0s - loss: 0.1455 - f1_m: 0.9626 - precision_m: 0.9628 - recall_m: 0.962 - ETA: 0s - loss: 0.1447 - f1_m: 0.9624 - precision_m: 0.9626 - recall_m: 0.962 - ETA: 0s - loss: 0.1479 - f1_m: 0.9619 - precision_m: 0.9622 - recall_m: 0.961 - ETA: 0s - loss: 0.1477 - f1_m: 0.9618 - precision_m: 0.9621 - recall_m: 0.961 - ETA: 0s - loss: 0.1492 - f1_m: 0.9609 - precision_m: 0.9612 - recall_m: 0.960 - ETA: 0s - loss: 0.1486 - f1_m: 0.9610 - precision_m: 0.9614 - recall_m: 0.960 - ETA: 0s - loss: 0.1494 - f1_m: 0.9606 - precision_m: 0.9610 - recall_m: 0.960 - ETA: 0s - loss: 0.1489 - f1_m: 0.9607 - precision_m: 0.9611 - recall_m: 0.960 - ETA: 0s - loss: 0.1465 - f1_m: 0.9613 - precision_m: 0.9618 - recall_m: 0.960 - ETA: 0s - loss: 0.1468 - f1_m: 0.9614 - precision_m: 0.9619 - recall_m: 0.961 - 1s 41us/step - loss: 0.1462 - f1_m: 0.9617 - precision_m: 0.9622 - recall_m: 0.9612\n",
      "Epoch 3/10\n",
      "23016/23016 [==============================] - ETA: 2s - loss: 0.1884 - f1_m: 0.9687 - precision_m: 0.9688 - recall_m: 0.968 - ETA: 0s - loss: 0.1026 - f1_m: 0.9755 - precision_m: 0.9762 - recall_m: 0.974 - ETA: 0s - loss: 0.1253 - f1_m: 0.9685 - precision_m: 0.9694 - recall_m: 0.967 - ETA: 0s - loss: 0.1392 - f1_m: 0.9623 - precision_m: 0.9631 - recall_m: 0.961 - ETA: 0s - loss: 0.1381 - f1_m: 0.9626 - precision_m: 0.9636 - recall_m: 0.961 - ETA: 0s - loss: 0.1387 - f1_m: 0.9633 - precision_m: 0.9642 - recall_m: 0.962 - ETA: 0s - loss: 0.1409 - f1_m: 0.9633 - precision_m: 0.9641 - recall_m: 0.962 - ETA: 0s - loss: 0.1391 - f1_m: 0.9636 - precision_m: 0.9644 - recall_m: 0.962 - ETA: 0s - loss: 0.1401 - f1_m: 0.9630 - precision_m: 0.9637 - recall_m: 0.962 - ETA: 0s - loss: 0.1417 - f1_m: 0.9623 - precision_m: 0.9631 - recall_m: 0.961 - ETA: 0s - loss: 0.1420 - f1_m: 0.9622 - precision_m: 0.9630 - recall_m: 0.961 - ETA: 0s - loss: 0.1427 - f1_m: 0.9621 - precision_m: 0.9629 - recall_m: 0.961 - ETA: 0s - loss: 0.1407 - f1_m: 0.9624 - precision_m: 0.9632 - recall_m: 0.961 - ETA: 0s - loss: 0.1387 - f1_m: 0.9629 - precision_m: 0.9636 - recall_m: 0.962 - ETA: 0s - loss: 0.1400 - f1_m: 0.9625 - precision_m: 0.9632 - recall_m: 0.961 - ETA: 0s - loss: 0.1398 - f1_m: 0.9627 - precision_m: 0.9635 - recall_m: 0.962 - ETA: 0s - loss: 0.1403 - f1_m: 0.9624 - precision_m: 0.9632 - recall_m: 0.961 - ETA: 0s - loss: 0.1410 - f1_m: 0.9623 - precision_m: 0.9631 - recall_m: 0.961 - ETA: 0s - loss: 0.1413 - f1_m: 0.9622 - precision_m: 0.9630 - recall_m: 0.961 - ETA: 0s - loss: 0.1408 - f1_m: 0.9622 - precision_m: 0.9630 - recall_m: 0.961 - 1s 43us/step - loss: 0.1415 - f1_m: 0.9620 - precision_m: 0.9628 - recall_m: 0.9611\n",
      "Epoch 4/10\n",
      "23016/23016 [==============================] - ETA: 2s - loss: 0.1232 - f1_m: 0.9524 - precision_m: 0.9677 - recall_m: 0.937 - ETA: 0s - loss: 0.1486 - f1_m: 0.9574 - precision_m: 0.9601 - recall_m: 0.954 - ETA: 0s - loss: 0.1524 - f1_m: 0.9574 - precision_m: 0.9591 - recall_m: 0.955 - ETA: 0s - loss: 0.1488 - f1_m: 0.9581 - precision_m: 0.9593 - recall_m: 0.957 - ETA: 0s - loss: 0.1505 - f1_m: 0.9577 - precision_m: 0.9592 - recall_m: 0.956 - ETA: 0s - loss: 0.1450 - f1_m: 0.9601 - precision_m: 0.9615 - recall_m: 0.958 - ETA: 0s - loss: 0.1413 - f1_m: 0.9613 - precision_m: 0.9626 - recall_m: 0.960 - ETA: 0s - loss: 0.1395 - f1_m: 0.9617 - precision_m: 0.9630 - recall_m: 0.960 - ETA: 0s - loss: 0.1383 - f1_m: 0.9621 - precision_m: 0.9634 - recall_m: 0.960 - ETA: 0s - loss: 0.1385 - f1_m: 0.9621 - precision_m: 0.9634 - recall_m: 0.960 - ETA: 0s - loss: 0.1419 - f1_m: 0.9607 - precision_m: 0.9619 - recall_m: 0.959 - ETA: 0s - loss: 0.1427 - f1_m: 0.9608 - precision_m: 0.9620 - recall_m: 0.959 - ETA: 0s - loss: 0.1391 - f1_m: 0.9622 - precision_m: 0.9634 - recall_m: 0.961 - ETA: 0s - loss: 0.1380 - f1_m: 0.9626 - precision_m: 0.9638 - recall_m: 0.961 - ETA: 0s - loss: 0.1370 - f1_m: 0.9630 - precision_m: 0.9644 - recall_m: 0.961 - ETA: 0s - loss: 0.1396 - f1_m: 0.9621 - precision_m: 0.9637 - recall_m: 0.960 - ETA: 0s - loss: 0.1401 - f1_m: 0.9622 - precision_m: 0.9636 - recall_m: 0.960 - ETA: 0s - loss: 0.1401 - f1_m: 0.9622 - precision_m: 0.9637 - recall_m: 0.960 - ETA: 0s - loss: 0.1386 - f1_m: 0.9622 - precision_m: 0.9637 - recall_m: 0.960 - 1s 42us/step - loss: 0.1379 - f1_m: 0.9625 - precision_m: 0.9640 - recall_m: 0.9610\n",
      "Epoch 5/10\n",
      "23016/23016 [==============================] - ETA: 2s - loss: 0.0383 - f1_m: 1.0000 - precision_m: 1.0000 - recall_m: 1.000 - ETA: 0s - loss: 0.1294 - f1_m: 0.9628 - precision_m: 0.9642 - recall_m: 0.961 - ETA: 0s - loss: 0.1350 - f1_m: 0.9618 - precision_m: 0.9635 - recall_m: 0.960 - ETA: 0s - loss: 0.1390 - f1_m: 0.9604 - precision_m: 0.9625 - recall_m: 0.958 - ETA: 0s - loss: 0.1378 - f1_m: 0.9608 - precision_m: 0.9629 - recall_m: 0.958 - ETA: 0s - loss: 0.1381 - f1_m: 0.9618 - precision_m: 0.9643 - recall_m: 0.959 - ETA: 0s - loss: 0.1413 - f1_m: 0.9610 - precision_m: 0.9636 - recall_m: 0.958 - ETA: 0s - loss: 0.1402 - f1_m: 0.9617 - precision_m: 0.9643 - recall_m: 0.959 - ETA: 0s - loss: 0.1421 - f1_m: 0.9617 - precision_m: 0.9643 - recall_m: 0.959 - ETA: 0s - loss: 0.1430 - f1_m: 0.9608 - precision_m: 0.9636 - recall_m: 0.958 - ETA: 0s - loss: 0.1411 - f1_m: 0.9613 - precision_m: 0.9639 - recall_m: 0.958 - ETA: 0s - loss: 0.1397 - f1_m: 0.9619 - precision_m: 0.9643 - recall_m: 0.959 - ETA: 0s - loss: 0.1400 - f1_m: 0.9619 - precision_m: 0.9643 - recall_m: 0.959 - ETA: 0s - loss: 0.1394 - f1_m: 0.9620 - precision_m: 0.9645 - recall_m: 0.959 - ETA: 0s - loss: 0.1384 - f1_m: 0.9621 - precision_m: 0.9645 - recall_m: 0.959 - ETA: 0s - loss: 0.1368 - f1_m: 0.9627 - precision_m: 0.9650 - recall_m: 0.960 - ETA: 0s - loss: 0.1368 - f1_m: 0.9626 - precision_m: 0.9650 - recall_m: 0.960 - ETA: 0s - loss: 0.1363 - f1_m: 0.9627 - precision_m: 0.9650 - recall_m: 0.960 - ETA: 0s - loss: 0.1359 - f1_m: 0.9627 - precision_m: 0.9651 - recall_m: 0.960 - 1s 41us/step - loss: 0.1361 - f1_m: 0.9627 - precision_m: 0.9651 - recall_m: 0.9605\n",
      "Epoch 6/10\n",
      "23016/23016 [==============================] - ETA: 3s - loss: 0.2092 - f1_m: 0.9375 - precision_m: 0.9375 - recall_m: 0.937 - ETA: 0s - loss: 0.1049 - f1_m: 0.9711 - precision_m: 0.9717 - recall_m: 0.970 - ETA: 0s - loss: 0.1408 - f1_m: 0.9631 - precision_m: 0.9643 - recall_m: 0.962 - ETA: 0s - loss: 0.1300 - f1_m: 0.9651 - precision_m: 0.9666 - recall_m: 0.963 - ETA: 0s - loss: 0.1265 - f1_m: 0.9653 - precision_m: 0.9673 - recall_m: 0.963 - ETA: 0s - loss: 0.1286 - f1_m: 0.9644 - precision_m: 0.9663 - recall_m: 0.962 - ETA: 0s - loss: 0.1270 - f1_m: 0.9646 - precision_m: 0.9666 - recall_m: 0.962 - ETA: 0s - loss: 0.1317 - f1_m: 0.9632 - precision_m: 0.9654 - recall_m: 0.961 - ETA: 0s - loss: 0.1351 - f1_m: 0.9620 - precision_m: 0.9643 - recall_m: 0.959 - ETA: 0s - loss: 0.1355 - f1_m: 0.9617 - precision_m: 0.9641 - recall_m: 0.959 - ETA: 0s - loss: 0.1348 - f1_m: 0.9622 - precision_m: 0.9646 - recall_m: 0.959 - ETA: 0s - loss: 0.1347 - f1_m: 0.9620 - precision_m: 0.9644 - recall_m: 0.959 - ETA: 0s - loss: 0.1345 - f1_m: 0.9622 - precision_m: 0.9645 - recall_m: 0.959 - ETA: 0s - loss: 0.1331 - f1_m: 0.9627 - precision_m: 0.9651 - recall_m: 0.960 - ETA: 0s - loss: 0.1326 - f1_m: 0.9629 - precision_m: 0.9653 - recall_m: 0.960 - ETA: 0s - loss: 0.1324 - f1_m: 0.9630 - precision_m: 0.9653 - recall_m: 0.960 - ETA: 0s - loss: 0.1321 - f1_m: 0.9629 - precision_m: 0.9652 - recall_m: 0.960 - ETA: 0s - loss: 0.1338 - f1_m: 0.9626 - precision_m: 0.9648 - recall_m: 0.960 - ETA: 0s - loss: 0.1330 - f1_m: 0.9630 - precision_m: 0.9651 - recall_m: 0.960 - ETA: 0s - loss: 0.1337 - f1_m: 0.9630 - precision_m: 0.9651 - recall_m: 0.960 - 1s 43us/step - loss: 0.1333 - f1_m: 0.9631 - precision_m: 0.9652 - recall_m: 0.9611\n",
      "Epoch 7/10\n",
      "23016/23016 [==============================] - ETA: 1s - loss: 0.0085 - f1_m: 1.0000 - precision_m: 1.0000 - recall_m: 1.000 - ETA: 0s - loss: 0.1336 - f1_m: 0.9612 - precision_m: 0.9636 - recall_m: 0.958 - ETA: 0s - loss: 0.1353 - f1_m: 0.9628 - precision_m: 0.9646 - recall_m: 0.961 - ETA: 0s - loss: 0.1290 - f1_m: 0.9641 - precision_m: 0.9663 - recall_m: 0.961 - ETA: 0s - loss: 0.1318 - f1_m: 0.9629 - precision_m: 0.9648 - recall_m: 0.961 - ETA: 0s - loss: 0.1288 - f1_m: 0.9634 - precision_m: 0.9652 - recall_m: 0.961 - ETA: 0s - loss: 0.1286 - f1_m: 0.9642 - precision_m: 0.9659 - recall_m: 0.962 - ETA: 0s - loss: 0.1282 - f1_m: 0.9641 - precision_m: 0.9658 - recall_m: 0.962 - ETA: 0s - loss: 0.1283 - f1_m: 0.9641 - precision_m: 0.9658 - recall_m: 0.962 - ETA: 0s - loss: 0.1298 - f1_m: 0.9637 - precision_m: 0.9653 - recall_m: 0.962 - ETA: 0s - loss: 0.1300 - f1_m: 0.9634 - precision_m: 0.9651 - recall_m: 0.961 - ETA: 0s - loss: 0.1312 - f1_m: 0.9632 - precision_m: 0.9649 - recall_m: 0.961 - ETA: 0s - loss: 0.1311 - f1_m: 0.9634 - precision_m: 0.9651 - recall_m: 0.961 - 1s 27us/step - loss: 0.1313 - f1_m: 0.9633 - precision_m: 0.9651 - recall_m: 0.9616\n",
      "Epoch 8/10\n",
      "23016/23016 [==============================] - ETA: 2s - loss: 0.0233 - f1_m: 1.0000 - precision_m: 1.0000 - recall_m: 1.000 - ETA: 0s - loss: 0.0975 - f1_m: 0.9724 - precision_m: 0.9741 - recall_m: 0.970 - ETA: 0s - loss: 0.1108 - f1_m: 0.9681 - precision_m: 0.9708 - recall_m: 0.965 - ETA: 0s - loss: 0.1145 - f1_m: 0.9662 - precision_m: 0.9684 - recall_m: 0.964 - ETA: 0s - loss: 0.1165 - f1_m: 0.9656 - precision_m: 0.9681 - recall_m: 0.963 - ETA: 0s - loss: 0.1158 - f1_m: 0.9667 - precision_m: 0.9691 - recall_m: 0.964 - ETA: 0s - loss: 0.1207 - f1_m: 0.9652 - precision_m: 0.9675 - recall_m: 0.963 - ETA: 0s - loss: 0.1236 - f1_m: 0.9645 - precision_m: 0.9669 - recall_m: 0.962 - ETA: 0s - loss: 0.1256 - f1_m: 0.9639 - precision_m: 0.9661 - recall_m: 0.961 - ETA: 0s - loss: 0.1294 - f1_m: 0.9627 - precision_m: 0.9650 - recall_m: 0.960 - ETA: 0s - loss: 0.1278 - f1_m: 0.9631 - precision_m: 0.9656 - recall_m: 0.960 - ETA: 0s - loss: 0.1262 - f1_m: 0.9633 - precision_m: 0.9657 - recall_m: 0.961 - ETA: 0s - loss: 0.1260 - f1_m: 0.9636 - precision_m: 0.9660 - recall_m: 0.961 - ETA: 0s - loss: 0.1274 - f1_m: 0.9635 - precision_m: 0.9658 - recall_m: 0.961 - ETA: 0s - loss: 0.1275 - f1_m: 0.9634 - precision_m: 0.9657 - recall_m: 0.961 - ETA: 0s - loss: 0.1292 - f1_m: 0.9628 - precision_m: 0.9651 - recall_m: 0.960 - 1s 34us/step - loss: 0.1289 - f1_m: 0.9630 - precision_m: 0.9653 - recall_m: 0.9608\n",
      "Epoch 9/10\n",
      "23016/23016 [==============================] - ETA: 2s - loss: 0.1592 - f1_m: 0.9687 - precision_m: 0.9688 - recall_m: 0.968 - ETA: 0s - loss: 0.1116 - f1_m: 0.9711 - precision_m: 0.9727 - recall_m: 0.969 - ETA: 0s - loss: 0.1069 - f1_m: 0.9710 - precision_m: 0.9724 - recall_m: 0.969 - ETA: 0s - loss: 0.1222 - f1_m: 0.9659 - precision_m: 0.9671 - recall_m: 0.964 - ETA: 0s - loss: 0.1222 - f1_m: 0.9650 - precision_m: 0.9664 - recall_m: 0.963 - ETA: 0s - loss: 0.1167 - f1_m: 0.9661 - precision_m: 0.9676 - recall_m: 0.964 - ETA: 0s - loss: 0.1139 - f1_m: 0.9670 - precision_m: 0.9688 - recall_m: 0.965 - ETA: 0s - loss: 0.1207 - f1_m: 0.9654 - precision_m: 0.9674 - recall_m: 0.963 - ETA: 0s - loss: 0.1219 - f1_m: 0.9649 - precision_m: 0.9670 - recall_m: 0.962 - ETA: 0s - loss: 0.1226 - f1_m: 0.9648 - precision_m: 0.9669 - recall_m: 0.962 - ETA: 0s - loss: 0.1221 - f1_m: 0.9647 - precision_m: 0.9667 - recall_m: 0.962 - ETA: 0s - loss: 0.1242 - f1_m: 0.9641 - precision_m: 0.9664 - recall_m: 0.961 - ETA: 0s - loss: 0.1253 - f1_m: 0.9638 - precision_m: 0.9662 - recall_m: 0.961 - ETA: 0s - loss: 0.1256 - f1_m: 0.9635 - precision_m: 0.9659 - recall_m: 0.961 - ETA: 0s - loss: 0.1264 - f1_m: 0.9634 - precision_m: 0.9657 - recall_m: 0.961 - ETA: 0s - loss: 0.1257 - f1_m: 0.9637 - precision_m: 0.9659 - recall_m: 0.961 - ETA: 0s - loss: 0.1254 - f1_m: 0.9639 - precision_m: 0.9661 - recall_m: 0.961 - ETA: 0s - loss: 0.1262 - f1_m: 0.9635 - precision_m: 0.9657 - recall_m: 0.961 - ETA: 0s - loss: 0.1255 - f1_m: 0.9639 - precision_m: 0.9661 - recall_m: 0.961 - ETA: 0s - loss: 0.1274 - f1_m: 0.9635 - precision_m: 0.9658 - recall_m: 0.961 - ETA: 0s - loss: 0.1269 - f1_m: 0.9636 - precision_m: 0.9660 - recall_m: 0.961 - 1s 45us/step - loss: 0.1270 - f1_m: 0.9637 - precision_m: 0.9660 - recall_m: 0.9615\n",
      "Epoch 10/10\n",
      "23016/23016 [==============================] - ETA: 2s - loss: 0.3118 - f1_m: 0.9206 - precision_m: 0.9355 - recall_m: 0.906 - ETA: 0s - loss: 0.1246 - f1_m: 0.9659 - precision_m: 0.9691 - recall_m: 0.962 - ETA: 0s - loss: 0.1249 - f1_m: 0.9636 - precision_m: 0.9663 - recall_m: 0.961 - ETA: 0s - loss: 0.1207 - f1_m: 0.9655 - precision_m: 0.9678 - recall_m: 0.963 - ETA: 0s - loss: 0.1233 - f1_m: 0.9647 - precision_m: 0.9672 - recall_m: 0.962 - ETA: 0s - loss: 0.1259 - f1_m: 0.9633 - precision_m: 0.9657 - recall_m: 0.960 - ETA: 0s - loss: 0.1280 - f1_m: 0.9632 - precision_m: 0.9655 - recall_m: 0.960 - ETA: 0s - loss: 0.1288 - f1_m: 0.9628 - precision_m: 0.9650 - recall_m: 0.960 - ETA: 0s - loss: 0.1279 - f1_m: 0.9628 - precision_m: 0.9652 - recall_m: 0.960 - ETA: 0s - loss: 0.1271 - f1_m: 0.9631 - precision_m: 0.9654 - recall_m: 0.960 - ETA: 0s - loss: 0.1289 - f1_m: 0.9629 - precision_m: 0.9650 - recall_m: 0.960 - ETA: 0s - loss: 0.1300 - f1_m: 0.9624 - precision_m: 0.9646 - recall_m: 0.960 - ETA: 0s - loss: 0.1277 - f1_m: 0.9633 - precision_m: 0.9654 - recall_m: 0.961 - ETA: 0s - loss: 0.1272 - f1_m: 0.9634 - precision_m: 0.9656 - recall_m: 0.961 - ETA: 0s - loss: 0.1255 - f1_m: 0.9639 - precision_m: 0.9662 - recall_m: 0.961 - ETA: 0s - loss: 0.1260 - f1_m: 0.9638 - precision_m: 0.9661 - recall_m: 0.961 - ETA: 0s - loss: 0.1240 - f1_m: 0.9642 - precision_m: 0.9665 - recall_m: 0.962 - ETA: 0s - loss: 0.1241 - f1_m: 0.9640 - precision_m: 0.9663 - recall_m: 0.961 - ETA: 0s - loss: 0.1243 - f1_m: 0.9641 - precision_m: 0.9664 - recall_m: 0.961 - ETA: 0s - loss: 0.1251 - f1_m: 0.9639 - precision_m: 0.9662 - recall_m: 0.961 - 1s 43us/step - loss: 0.1254 - f1_m: 0.9637 - precision_m: 0.9660 - recall_m: 0.9615\n"
     ]
    },
    {
     "data": {
      "text/plain": [
       "<keras.callbacks.History at 0x1fb8c149dd8>"
      ]
     },
     "execution_count": 96,
     "metadata": {},
     "output_type": "execute_result"
    }
   ],
   "source": [
    "Nmodel.fit(X_train, dummy_y, epochs=10)"
   ]
  },
  {
   "cell_type": "code",
   "execution_count": 97,
   "metadata": {},
   "outputs": [],
   "source": [
    "pred_y_test = Nmodel.predict(X_test)\n",
    "pred_y_testNN = np.argmax(pred_y_test,axis=1) "
   ]
  },
  {
   "cell_type": "code",
   "execution_count": 98,
   "metadata": {},
   "outputs": [],
   "source": [
    "a=precision_recall_fscore_support(y_test, list(pred_y_testNN))\n",
    "f1s=a[2]\n",
    "prec_rec+=[a[0]]\n",
    "recal_rec+=[a[1]]\n",
    "# create the weighted f1 score: larger emphasis on high-votes bin and medium\n",
    "# adjusted f1_forall= (f1_low+f1_mid*2+f1_high*3)/6\n",
    "adjf1=(f1s[0]+f1s[1]*2+f1s[2]*3)/6\n",
    "f1_rec+=[adjf1]"
   ]
  },
  {
   "cell_type": "code",
   "execution_count": 99,
   "metadata": {},
   "outputs": [
    {
     "name": "stdout",
     "output_type": "stream",
     "text": [
      "confusion matrix: [[9455   25    3]\n",
      " [ 289   27    2]\n",
      " [  53   10    0]]\n",
      "other metrics:               precision    recall  f1-score   support\n",
      "\n",
      "           0       0.97      1.00      0.98      9483\n",
      "           1       0.44      0.08      0.14       318\n",
      "           2       0.00      0.00      0.00        63\n",
      "\n",
      "    accuracy                           0.96      9864\n",
      "   macro avg       0.47      0.36      0.37      9864\n",
      "weighted avg       0.94      0.96      0.95      9864\n",
      "\n"
     ]
    }
   ],
   "source": [
    "# print confusion matrix\n",
    "print(\"confusion matrix:\",confusion_matrix(y_test, pred_y_testNN))\n",
    "print(\"other metrics:\",classification_report(y_test, pred_y_testNN))"
   ]
  },
  {
   "cell_type": "markdown",
   "metadata": {},
   "source": [
    "#### Test the SVC model"
   ]
  },
  {
   "cell_type": "code",
   "execution_count": 100,
   "metadata": {},
   "outputs": [
    {
     "name": "stderr",
     "output_type": "stream",
     "text": [
      "C:\\Users\\z0043H7B\\AppData\\Local\\Continuum\\miniconda3\\lib\\site-packages\\sklearn\\svm\\base.py:193: FutureWarning: The default value of gamma will change from 'auto' to 'scale' in version 0.22 to account better for unscaled features. Set gamma explicitly to 'auto' or 'scale' to avoid this warning.\n",
      "  \"avoid this warning.\", FutureWarning)\n"
     ]
    }
   ],
   "source": [
    "classifier=SVC(random_state=12,verbose=0)\n",
    "classifier.fit(X_train,y_train)\n",
    "pred_y_test=classifier.predict(X_test)"
   ]
  },
  {
   "cell_type": "code",
   "execution_count": 101,
   "metadata": {},
   "outputs": [
    {
     "name": "stderr",
     "output_type": "stream",
     "text": [
      "C:\\Users\\z0043H7B\\AppData\\Local\\Continuum\\miniconda3\\lib\\site-packages\\sklearn\\metrics\\classification.py:1437: UndefinedMetricWarning: Precision and F-score are ill-defined and being set to 0.0 in labels with no predicted samples.\n",
      "  'precision', 'predicted', average, warn_for)\n"
     ]
    }
   ],
   "source": [
    "a=precision_recall_fscore_support(y_test, list(pred_y_test))\n",
    "f1s=a[2]\n",
    "prec_rec+=[a[0]]\n",
    "recal_rec+=[a[1]]\n",
    "# create the weighted f1 score: larger emphasis on high-votes bin and medium\n",
    "# adjusted f1_forall= (f1_low+f1_mid*2+f1_high*3)/6\n",
    "adjf1=(f1s[0]+f1s[1]*2+f1s[2]*3)/6\n",
    "f1_rec+=[adjf1]"
   ]
  },
  {
   "cell_type": "code",
   "execution_count": 102,
   "metadata": {},
   "outputs": [
    {
     "name": "stdout",
     "output_type": "stream",
     "text": [
      "confusion matrix: [[9483    0    0]\n",
      " [ 318    0    0]\n",
      " [  63    0    0]]\n",
      "other metrics:               precision    recall  f1-score   support\n",
      "\n",
      "           0       0.96      1.00      0.98      9483\n",
      "           1       0.00      0.00      0.00       318\n",
      "           2       0.00      0.00      0.00        63\n",
      "\n",
      "    accuracy                           0.96      9864\n",
      "   macro avg       0.32      0.33      0.33      9864\n",
      "weighted avg       0.92      0.96      0.94      9864\n",
      "\n"
     ]
    }
   ],
   "source": [
    "print(\"confusion matrix:\",confusion_matrix(y_test, pred_y_test))\n",
    "print(\"other metrics:\",classification_report(y_test, pred_y_test))"
   ]
  },
  {
   "cell_type": "markdown",
   "metadata": {},
   "source": [
    "### Test KNN model"
   ]
  },
  {
   "cell_type": "code",
   "execution_count": 158,
   "metadata": {},
   "outputs": [],
   "source": [
    "classifier=KNeighborsClassifier(n_neighbors=15)\n",
    "classifier.fit(X_train,y_train)\n",
    "pred_y_test=classifier.predict(X_test)"
   ]
  },
  {
   "cell_type": "code",
   "execution_count": 159,
   "metadata": {},
   "outputs": [
    {
     "name": "stdout",
     "output_type": "stream",
     "text": [
      "0.2430792850670925\n"
     ]
    }
   ],
   "source": [
    "a=precision_recall_fscore_support(y_test, pred_y_test)\n",
    "f1s=a[2]\n",
    "#prec_rec+=[a[0]]\n",
    "#recal_rec+=[a[1]]\n",
    "# create the weighted f1 score: larger emphasis on high-votes bin and medium\n",
    "# adjusted f1_forall= (f1_low+f1_mid*2+f1_high*3)/6\n",
    "adjf1=(f1s[0]+f1s[1]*2+f1s[2]*3)/6\n",
    "#f1_rec+=[adjf1]\n",
    "print(adjf1)"
   ]
  },
  {
   "cell_type": "code",
   "execution_count": 160,
   "metadata": {},
   "outputs": [
    {
     "name": "stdout",
     "output_type": "stream",
     "text": [
      "confusion matrix: [[9463   20    0]\n",
      " [ 270   46    2]\n",
      " [  61    2    0]]\n",
      "other metrics:               precision    recall  f1-score   support\n",
      "\n",
      "           0       0.97      1.00      0.98      9483\n",
      "           1       0.68      0.14      0.24       318\n",
      "           2       0.00      0.00      0.00        63\n",
      "\n",
      "    accuracy                           0.96      9864\n",
      "   macro avg       0.55      0.38      0.41      9864\n",
      "weighted avg       0.95      0.96      0.95      9864\n",
      "\n"
     ]
    }
   ],
   "source": [
    "print(\"confusion matrix:\",confusion_matrix(y_test, pred_y_test))\n",
    "print(\"other metrics:\",classification_report(y_test, pred_y_test))"
   ]
  },
  {
   "cell_type": "markdown",
   "metadata": {},
   "source": [
    "#### Test the Adaboost model"
   ]
  },
  {
   "cell_type": "code",
   "execution_count": 118,
   "metadata": {},
   "outputs": [],
   "source": [
    "from sklearn.ensemble import AdaBoostClassifier\n",
    "from sklearn.tree import DecisionTreeClassifier"
   ]
  },
  {
   "cell_type": "code",
   "execution_count": 125,
   "metadata": {},
   "outputs": [],
   "source": [
    "classifier=AdaBoostClassifier(n_estimators=25,random_state=12)\n",
    "classifier.fit(X_train,y_train)\n",
    "pred_y_test=classifier.predict(X_test)"
   ]
  },
  {
   "cell_type": "code",
   "execution_count": 126,
   "metadata": {},
   "outputs": [
    {
     "name": "stdout",
     "output_type": "stream",
     "text": [
      "0.30625744461572224\n"
     ]
    }
   ],
   "source": [
    "a=precision_recall_fscore_support(y_test, pred_y_test)\n",
    "f1s=a[2]\n",
    "prec_rec+=[a[0]]\n",
    "recal_rec+=[a[1]]\n",
    "# create the weighted f1 score: larger emphasis on high-votes bin and medium\n",
    "# adjusted f1_forall= (f1_low+f1_mid*2+f1_high*3)/6\n",
    "adjf1=(f1s[0]+f1s[1]*2+f1s[2]*3)/6\n",
    "print(adjf1)\n",
    "#f1_rec+=[adjf1]"
   ]
  },
  {
   "cell_type": "code",
   "execution_count": 127,
   "metadata": {
    "collapsed": true,
    "jupyter": {
     "outputs_hidden": true
    }
   },
   "outputs": [
    {
     "name": "stdout",
     "output_type": "stream",
     "text": [
      "confusion matrix: [[9424   55    4]\n",
      " [ 276   40    2]\n",
      " [  46   11    6]]\n",
      "other metrics:               precision    recall  f1-score   support\n",
      "\n",
      "           0       0.97      0.99      0.98      9483\n",
      "           1       0.38      0.13      0.19       318\n",
      "           2       0.50      0.10      0.16        63\n",
      "\n",
      "    accuracy                           0.96      9864\n",
      "   macro avg       0.61      0.40      0.44      9864\n",
      "weighted avg       0.94      0.96      0.95      9864\n",
      "\n"
     ]
    }
   ],
   "source": [
    "print(\"confusion matrix:\",confusion_matrix(y_test, pred_y_test))\n",
    "print(\"other metrics:\",classification_report(y_test, pred_y_test))"
   ]
  },
  {
   "cell_type": "code",
   "execution_count": 115,
   "metadata": {},
   "outputs": [
    {
     "data": {
      "text/plain": [
       "[0.43181191505617195,\n",
       " 0.19243612015978875,\n",
       " 0.21083660915774913,\n",
       " 0.16338450405747662,\n",
       " 0.3486952940466144,\n",
       " 0.30625744461572224]"
      ]
     },
     "execution_count": 115,
     "metadata": {},
     "output_type": "execute_result"
    }
   ],
   "source": [
    "f1_rec"
   ]
  },
  {
   "cell_type": "markdown",
   "metadata": {},
   "source": [
    "#### Test XGBoost Method"
   ]
  },
  {
   "cell_type": "code",
   "execution_count": 129,
   "metadata": {},
   "outputs": [],
   "source": [
    "import xgboost as xgb"
   ]
  },
  {
   "cell_type": "code",
   "execution_count": 153,
   "metadata": {},
   "outputs": [],
   "source": [
    "dtrain = xgb.DMatrix(X_train, label=y_train,feature_names=udf_X.columns.values)\n",
    "dtest = xgb.DMatrix(X_test, label=y_test,feature_names=udf_X.columns.values)"
   ]
  },
  {
   "cell_type": "code",
   "execution_count": 132,
   "metadata": {},
   "outputs": [],
   "source": [
    "my_params={'eta':0.3,'seed':12,'objective':'multi:softprob','max_depth':4,'num_class': 3}\n",
    "num_round = 20"
   ]
  },
  {
   "cell_type": "code",
   "execution_count": 154,
   "metadata": {},
   "outputs": [],
   "source": [
    "bst = xgb.train(my_params, dtrain, num_round)"
   ]
  },
  {
   "cell_type": "code",
   "execution_count": 155,
   "metadata": {},
   "outputs": [],
   "source": [
    "pred_y_test_prd = bst.predict(dtest)"
   ]
  },
  {
   "cell_type": "code",
   "execution_count": 140,
   "metadata": {},
   "outputs": [
    {
     "data": {
      "text/plain": [
       "array([[0.9839024 , 0.01182538, 0.00427221],\n",
       "       [0.9926958 , 0.00479091, 0.00251333],\n",
       "       [0.9662614 , 0.02661434, 0.00712425],\n",
       "       ...,\n",
       "       [0.96808887, 0.02441883, 0.00749237],\n",
       "       [0.9881875 , 0.0077579 , 0.00405459],\n",
       "       [0.99267936, 0.00519996, 0.00212075]], dtype=float32)"
      ]
     },
     "execution_count": 140,
     "metadata": {},
     "output_type": "execute_result"
    }
   ],
   "source": [
    "pred_y_test_prd"
   ]
  },
  {
   "cell_type": "code",
   "execution_count": 156,
   "metadata": {},
   "outputs": [],
   "source": [
    "pred_y_test = np.asarray([np.argmax(line) for line in pred_y_test_prd])"
   ]
  },
  {
   "cell_type": "code",
   "execution_count": 144,
   "metadata": {},
   "outputs": [
    {
     "name": "stdout",
     "output_type": "stream",
     "text": [
      "0.37318864455567985\n"
     ]
    }
   ],
   "source": [
    "a=precision_recall_fscore_support(y_test, pred_y_test)\n",
    "f1s=a[2]\n",
    "prec_rec+=[a[0]]\n",
    "recal_rec+=[a[1]]\n",
    "# create the weighted f1 score: larger emphasis on high-votes bin and medium\n",
    "# adjusted f1_forall= (f1_low+f1_mid*2+f1_high*3)/6\n",
    "adjf1=(f1s[0]+f1s[1]*2+f1s[2]*3)/6\n",
    "print(adjf1)\n",
    "#f1_rec+=[adjf1]"
   ]
  },
  {
   "cell_type": "code",
   "execution_count": 146,
   "metadata": {},
   "outputs": [
    {
     "name": "stdout",
     "output_type": "stream",
     "text": [
      "confusion matrix: [[9460   20    3]\n",
      " [ 236   77    5]\n",
      " [  41   15    7]]\n",
      "other metrics:               precision    recall  f1-score   support\n",
      "\n",
      "           0       0.97      1.00      0.98      9483\n",
      "           1       0.69      0.24      0.36       318\n",
      "           2       0.47      0.11      0.18        63\n",
      "\n",
      "    accuracy                           0.97      9864\n",
      "   macro avg       0.71      0.45      0.51      9864\n",
      "weighted avg       0.96      0.97      0.96      9864\n",
      "\n"
     ]
    }
   ],
   "source": [
    "print(\"confusion matrix:\",confusion_matrix(y_test, pred_y_test))\n",
    "print(\"other metrics:\",classification_report(y_test, pred_y_test))"
   ]
  },
  {
   "cell_type": "code",
   "execution_count": 157,
   "metadata": {},
   "outputs": [
    {
     "data": {
      "image/png": "[encoded data removed]",
      "text/plain": [
       "<Figure size 864x1584 with 1 Axes>"
      ]
     },
     "metadata": {
      "needs_background": "light"
     },
     "output_type": "display_data"
    }
   ],
   "source": [
    "# take a look at the feature importances suggested by xgboost\n",
    "from xgboost import plot_importance\n",
    "fig, ax = plt.subplots(figsize=(12,22))\n",
    "xgb.plot_importance(bst, max_num_features=25, height=0.8, ax=ax)\n",
    "plt.show()"
   ]
  },
  {
   "cell_type": "code",
   "execution_count": 161,
   "metadata": {},
   "outputs": [
    {
     "name": "stdout",
     "output_type": "stream",
     "text": [
      "f1 weighted score for Random Forest: 0.43181191505617195\n",
      "f1 weighted score for Neural-Network 4 layers: 0.19243612015978875\n",
      "f1 weighted score for linear SVC-model: 0.21083660915774913\n",
      "f1 weighted score for KNearest Neighbor(k=15): 0.16338450405747662\n",
      "f1 weighted score for Adaboost: 0.3486952940466144\n",
      "f1 weighted score for XGboost: 0.30625744461572224\n"
     ]
    }
   ],
   "source": [
    "# Taking a look at the f1 score performance (weighted) for all models:\n",
    "print(\"f1 weighted score for Random Forest:\",f1_rec[0])\n",
    "print(\"f1 weighted score for Neural-Network 4 layers:\",f1_rec[1])\n",
    "print(\"f1 weighted score for linear SVC-model:\",f1_rec[2])\n",
    "print(\"f1 weighted score for KNearest Neighbor(k=15):\",f1_rec[3])\n",
    "print(\"f1 weighted score for Adaboost:\",f1_rec[4])\n",
    "print(\"f1 weighted score for XGboost:\",f1_rec[5])"
   ]
  },
  {
   "cell_type": "code",
   "execution_count": null,
   "metadata": {},
   "outputs": [],
   "source": []
  }
 ],
 "metadata": {
  "kernelspec": {
   "display_name": "Python 3",
   "language": "python",
   "name": "python3"
  },
  "language_info": {
   "codemirror_mode": {
    "name": "ipython",
    "version": 3
   },
   "file_extension": ".py",
   "mimetype": "text/x-python",
   "name": "python",
   "nbconvert_exporter": "python",
   "pygments_lexer": "ipython3",
   "version": "3.7.3"
  }
 },
 "nbformat": 4,
 "nbformat_minor": 4
}
