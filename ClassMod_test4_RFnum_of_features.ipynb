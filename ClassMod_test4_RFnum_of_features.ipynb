{
 "cells": [
  {
   "cell_type": "code",
   "execution_count": 397,
   "metadata": {},
   "outputs": [],
   "source": [
    "import numpy as np\n",
    "import pandas as pd\n",
    "\n",
    "from fastparquet import ParquetFile,write\n",
    "import matplotlib.pyplot as plt\n",
    "from matplotlib import cm\n",
    "from tqdm import tqdm\n",
    "\n",
    "from cm2df import cm2df,precision_recall_fscore_support_metrics2df\n",
    "from sklearn.metrics import confusion_matrix, classification_report,precision_recall_fscore_support"
   ]
  },
  {
   "cell_type": "code",
   "execution_count": 398,
   "metadata": {},
   "outputs": [],
   "source": [
    "pf=ParquetFile('subset_feature_4ML_110619.parq')\n",
    "udf=pf.to_pandas()"
   ]
  },
  {
   "cell_type": "code",
   "execution_count": 399,
   "metadata": {
    "collapsed": true,
    "jupyter": {
     "outputs_hidden": true
    }
   },
   "outputs": [
    {
     "name": "stdout",
     "output_type": "stream",
     "text": [
      "<class 'pandas.core.frame.DataFrame'>\n",
      "Int64Index: 32880 entries, 11049447 to 9968570\n",
      "Data columns (total 35 columns):\n",
      "category                 32880 non-null int64\n",
      "past                     32880 non-null int32\n",
      "votes                    32880 non-null int64\n",
      "is_eventbrite            32880 non-null int32\n",
      "is_free                  32880 non-null int32\n",
      "doors                    32880 non-null int32\n",
      "sold_out                 32880 non-null int32\n",
      "venue.id                 32880 non-null int64\n",
      "venue.popularity         32880 non-null float64\n",
      "venue.zip                32880 non-null int64\n",
      "ticket_allages           32880 non-null int32\n",
      "ticket_price_low         32880 non-null float64\n",
      "ticket_price_max         32880 non-null float64\n",
      "min_age                  32880 non-null int32\n",
      "artist.popularity.sum    32880 non-null float64\n",
      "artist.popularity.avg    32880 non-null float64\n",
      "artist.popularity.max    32880 non-null float64\n",
      "dow                      32880 non-null int64\n",
      "doy                      32880 non-null int64\n",
      "month                    32880 non-null int64\n",
      "day                      32880 non-null int64\n",
      "hour                     32880 non-null int64\n",
      "venue.tol_num_events     32880 non-null int64\n",
      "ev_id                    32880 non-null int64\n",
      "title                    32880 non-null object\n",
      "venue.title              32880 non-null object\n",
      "venue.address            32806 non-null object\n",
      "venue.city               32880 non-null object\n",
      "venue.state              32880 non-null object\n",
      "venue.latitude           32880 non-null float64\n",
      "venue.longitude          32880 non-null float64\n",
      "duration                 32880 non-null float64\n",
      "duration_day             32880 non-null float64\n",
      "multiday                 32880 non-null bool\n",
      "avg_votes_pday           32880 non-null float64\n",
      "dtypes: bool(1), float64(11), int32(7), int64(11), object(5)\n",
      "memory usage: 7.9+ MB\n"
     ]
    }
   ],
   "source": [
    "udf.info()"
   ]
  },
  {
   "cell_type": "code",
   "execution_count": 400,
   "metadata": {},
   "outputs": [],
   "source": [
    "udf['multiday'] = udf['multiday'].astype(int)"
   ]
  },
  {
   "cell_type": "code",
   "execution_count": 401,
   "metadata": {},
   "outputs": [],
   "source": [
    "usecolsX=['category', 'past', 'is_eventbrite', 'is_free', 'doors',\n",
    "       'sold_out', 'venue.id', 'venue.popularity', 'venue.zip',\n",
    "       'ticket_allages', 'ticket_price_low', 'ticket_price_max', 'min_age',\n",
    "       'artist.popularity.sum', 'artist.popularity.avg',\n",
    "       'artist.popularity.max', 'dow', 'doy', 'month', 'day', 'hour',\n",
    "       'venue.tol_num_events', 'duration', 'duration_day', 'multiday']\n",
    "usecoly1=['votes']\n",
    "usecoly2=['avg_votes_pday']"
   ]
  },
  {
   "cell_type": "code",
   "execution_count": 402,
   "metadata": {},
   "outputs": [],
   "source": [
    "udf_X=udf[usecolsX]\n",
    "udf_y=udf[usecoly1]"
   ]
  },
  {
   "cell_type": "code",
   "execution_count": 403,
   "metadata": {},
   "outputs": [],
   "source": [
    "# scaling of the features\n",
    "from sklearn.preprocessing import MinMaxScaler\n",
    "# scale regression dataset\n",
    "scalar = MinMaxScaler()\n",
    "scalar.fit(udf_X)\n",
    "X = scalar.transform(udf_X)"
   ]
  },
  {
   "cell_type": "code",
   "execution_count": 404,
   "metadata": {},
   "outputs": [],
   "source": [
    "# a function to create udf_y based on 3 classes: low, mid, high\n",
    "def get_class(df,thre1,thre2):\n",
    "    n=len(df)\n",
    "    newdf=[]\n",
    "    cut1=min([thre1,thre2])\n",
    "    cut2=max([thre1,thre2])\n",
    "    for item in df:\n",
    "        if item<cut1: newdf+=[0]\n",
    "        elif (item<cut2) and (item>=cut1):newdf+=[1]\n",
    "        else: newdf+=[2]\n",
    "    return newdf"
   ]
  },
  {
   "cell_type": "code",
   "execution_count": 405,
   "metadata": {},
   "outputs": [],
   "source": [
    "y=get_class(udf_y.values,80,300)"
   ]
  },
  {
   "cell_type": "code",
   "execution_count": 406,
   "metadata": {},
   "outputs": [],
   "source": [
    "# import algorithms for model comparisons\n",
    "# tree models\n",
    "from sklearn.ensemble import RandomForestClassifier\n",
    "from sklearn.model_selection import train_test_split\n",
    "# setup the data\n",
    "X_train, X_test, y_train, y_test = train_test_split(X, y, test_size=0.3, stratify=y, random_state=12)"
   ]
  },
  {
   "cell_type": "markdown",
   "metadata": {},
   "source": [
    "## Benchmark Model: Random Forest> "
   ]
  },
  {
   "cell_type": "code",
   "execution_count": 420,
   "metadata": {},
   "outputs": [],
   "source": [
    "prec_rec=[]\n",
    "recal_rec=[]"
   ]
  },
  {
   "cell_type": "code",
   "execution_count": 421,
   "metadata": {},
   "outputs": [],
   "source": [
    "max_f=int(25*0.75)"
   ]
  },
  {
   "cell_type": "code",
   "execution_count": 422,
   "metadata": {},
   "outputs": [
    {
     "name": "stdout",
     "output_type": "stream",
     "text": [
      "0.47275094886601304\n"
     ]
    }
   ],
   "source": [
    "classifier=RandomForestClassifier(n_estimators=90,random_state=12,max_features=max_f,verbose=0)\n",
    "classifier.fit(X_train,y_train)\n",
    "pred_y_test=classifier.predict(X_test)\n",
    "# assess the model performance: obtain prescision/recall/f1 scores\n",
    "a=precision_recall_fscore_support(y_test, pred_y_test)\n",
    "f1s=a[2]\n",
    "prec_rec+=[a[0]]\n",
    "recal_rec+=[a[1]]\n",
    "# create the weighted f1 score: larger emphasis on high-votes bin and medium\n",
    "# adjusted f1_forall= (f1_low+f1_mid*2+f1_high*3)/6\n",
    "adjf1=(f1s[0]+f1s[1]*2+f1s[2]*3)/6\n",
    "print(adjf1)\n"
   ]
  },
  {
   "cell_type": "code",
   "execution_count": 423,
   "metadata": {},
   "outputs": [
    {
     "name": "stdout",
     "output_type": "stream",
     "text": [
      "confusion matrix: [[22127     1     0]\n",
      " [    1   740     0]\n",
      " [    0     0   147]]\n",
      "other metrics:               precision    recall  f1-score   support\n",
      "\n",
      "           0       1.00      1.00      1.00     22128\n",
      "           1       1.00      1.00      1.00       741\n",
      "           2       1.00      1.00      1.00       147\n",
      "\n",
      "    accuracy                           1.00     23016\n",
      "   macro avg       1.00      1.00      1.00     23016\n",
      "weighted avg       1.00      1.00      1.00     23016\n",
      "\n"
     ]
    }
   ],
   "source": [
    "pred_y_train=classifier.predict(X_train)\n",
    "# print confusion matrix-- training\n",
    "print(\"confusion matrix:\",confusion_matrix(y_train, pred_y_train))\n",
    "print(\"other metrics:\",classification_report(y_train, pred_y_train))"
   ]
  },
  {
   "cell_type": "code",
   "execution_count": 424,
   "metadata": {},
   "outputs": [
    {
     "name": "stdout",
     "output_type": "stream",
     "text": [
      "confusion matrix: [[9435   43    5]\n",
      " [ 209  105    4]\n",
      " [  35   14   14]]\n",
      "other metrics:               precision    recall  f1-score   support\n",
      "\n",
      "           0       0.97      0.99      0.98      9483\n",
      "           1       0.65      0.33      0.44       318\n",
      "           2       0.61      0.22      0.33        63\n",
      "\n",
      "    accuracy                           0.97      9864\n",
      "   macro avg       0.74      0.52      0.58      9864\n",
      "weighted avg       0.96      0.97      0.96      9864\n",
      "\n"
     ]
    }
   ],
   "source": [
    "# print confusion matrix\n",
    "print(\"confusion matrix:\",confusion_matrix(y_test, pred_y_test))\n",
    "print(\"other metrics:\",classification_report(y_test, pred_y_test))"
   ]
  },
  {
   "cell_type": "code",
   "execution_count": 425,
   "metadata": {},
   "outputs": [
    {
     "name": "stdout",
     "output_type": "stream",
     "text": [
      "category 0.043974431271825834\n",
      "past 0.0022794408428799796\n",
      "is_eventbrite 0.006471281681909408\n",
      "is_free 0.012343667901605302\n",
      "doors 0.030375055305865043\n",
      "sold_out 0.008169371091329812\n",
      "venue.id 0.05841694032676937\n",
      "venue.popularity 0.03127518002541883\n",
      "venue.zip 0.038400818429050826\n",
      "ticket_allages 0.0145533114779019\n",
      "ticket_price_low 0.04075507012809534\n",
      "ticket_price_max 0.02948631231804769\n",
      "min_age 0.016907509752761007\n",
      "artist.popularity.sum 0.18629980637147725\n",
      "artist.popularity.avg 0.06065878311299467\n",
      "artist.popularity.max 0.05568466235443122\n",
      "dow 0.04135081275405356\n",
      "doy 0.08185318826958878\n",
      "month 0.029048741700711853\n",
      "day 0.06488327738228888\n",
      "hour 0.036214282014649546\n",
      "venue.tol_num_events 0.04867079104264979\n",
      "duration 0.05957713879115411\n",
      "duration_day 0.0017229643866690353\n",
      "multiday 0.000627161265870886\n"
     ]
    },
    {
     "data": {
      "image/png": "[encoded data removed]",
      "text/plain": [
       "<Figure size 1440x360 with 1 Axes>"
      ]
     },
     "metadata": {
      "needs_background": "light"
     },
     "output_type": "display_data"
    }
   ],
   "source": [
    "# list the feature importance\n",
    "f_importance = pd.DataFrame({'feature':udf_X.columns, 'importance':classifier.feature_importances_})\n",
    "#plot histogram\n",
    "lenc = len(udf_X.columns)\n",
    "x_tick_label=[None]*lenc\n",
    "hist_val=np.zeros(lenc)\n",
    "for i in range(0,lenc):\n",
    "    hist_val[i] = f_importance.values[i][1]\n",
    "    x_tick_label[i] = f_importance.values[i][0]\n",
    "    print(x_tick_label[i],hist_val[i])\n",
    "    \n",
    "index = np.arange(lenc)+1\n",
    "fig, ax = plt.subplots(figsize=(20,5))\n",
    "ax.bar(index,hist_val, .3, color='r')\n",
    "ax.set_xticks(range(1, lenc, 1))\n",
    "ax.set_xticklabels(x_tick_label, rotation='vertical')\n",
    "plt.show()"
   ]
  },
  {
   "cell_type": "code",
   "execution_count": 426,
   "metadata": {},
   "outputs": [],
   "source": [
    "# take a subset of the features, use those with importance > 0.025\n",
    "mask= classifier.feature_importances_>=0.025"
   ]
  },
  {
   "cell_type": "code",
   "execution_count": 430,
   "metadata": {},
   "outputs": [
    {
     "name": "stdout",
     "output_type": "stream",
     "text": [
      "category 0.043974431271825834\n",
      "doors 0.030375055305865043\n",
      "venue.id 0.05841694032676937\n",
      "venue.popularity 0.03127518002541883\n",
      "venue.zip 0.038400818429050826\n",
      "ticket_price_low 0.04075507012809534\n",
      "ticket_price_max 0.02948631231804769\n",
      "artist.popularity.sum 0.18629980637147725\n",
      "artist.popularity.avg 0.06065878311299467\n",
      "artist.popularity.max 0.05568466235443122\n",
      "dow 0.04135081275405356\n",
      "doy 0.08185318826958878\n",
      "month 0.029048741700711853\n",
      "day 0.06488327738228888\n",
      "hour 0.036214282014649546\n",
      "venue.tol_num_events 0.04867079104264979\n",
      "duration 0.05957713879115411\n"
     ]
    }
   ],
   "source": [
    "f_labels=udf_X.columns.values[mask]\n",
    "f_imp=classifier.feature_importances_[mask]\n",
    "f_importance = pd.DataFrame({'feature':f_labels, 'importance':f_imp})\n",
    "for i in range(0,len(f_importance)):\n",
    "    print(f_labels[i],f_imp[i])"
   ]
  },
  {
   "cell_type": "code",
   "execution_count": 431,
   "metadata": {},
   "outputs": [
    {
     "name": "stdout",
     "output_type": "stream",
     "text": [
      "total number of subset features: 17\n"
     ]
    }
   ],
   "source": [
    "print(\"total number of subset features:\",len(f_importance))"
   ]
  },
  {
   "cell_type": "markdown",
   "metadata": {},
   "source": [
    "### subset data into these fewer features : 17 features"
   ]
  },
  {
   "cell_type": "code",
   "execution_count": 444,
   "metadata": {},
   "outputs": [],
   "source": [
    "udf_X=udf_X[list(f_labels)]"
   ]
  },
  {
   "cell_type": "code",
   "execution_count": 445,
   "metadata": {},
   "outputs": [],
   "source": [
    "scalar = MinMaxScaler()\n",
    "scalar.fit(udf_X)\n",
    "X = scalar.transform(udf_X)\n",
    "X_train, X_test, y_train, y_test = train_test_split(X, y, test_size=0.3, stratify=y, random_state=12)"
   ]
  },
  {
   "cell_type": "code",
   "execution_count": 446,
   "metadata": {},
   "outputs": [],
   "source": [
    "max_f=len(udf_X.columns)"
   ]
  },
  {
   "cell_type": "code",
   "execution_count": 447,
   "metadata": {},
   "outputs": [
    {
     "name": "stdout",
     "output_type": "stream",
     "text": [
      "0.4227922976145222\n"
     ]
    }
   ],
   "source": [
    "classifier2=RandomForestClassifier(n_estimators=90,random_state=12,max_features=max_f,verbose=0)\n",
    "classifier2.fit(X_train,y_train)\n",
    "pred_y_test=classifier2.predict(X_test)\n",
    "# assess the model performance: obtain prescision/recall/f1 scores\n",
    "a=precision_recall_fscore_support(y_test, pred_y_test)\n",
    "f1s=a[2]\n",
    "prec_rec+=[a[0]]\n",
    "recal_rec+=[a[1]]\n",
    "# create the weighted f1 score: larger emphasis on high-votes bin and medium\n",
    "# adjusted f1_forall= (f1_low+f1_mid*2+f1_high*3)/6\n",
    "adjf1=(f1s[0]+f1s[1]*2+f1s[2]*3)/6\n",
    "print(adjf1)\n"
   ]
  },
  {
   "cell_type": "code",
   "execution_count": 451,
   "metadata": {},
   "outputs": [
    {
     "name": "stdout",
     "output_type": "stream",
     "text": [
      "confusion matrix: [[22127     1     0]\n",
      " [    1   740     0]\n",
      " [    0     0   147]]\n",
      "other metrics:               precision    recall  f1-score   support\n",
      "\n",
      "           0       1.00      1.00      1.00     22128\n",
      "           1       1.00      1.00      1.00       741\n",
      "           2       1.00      1.00      1.00       147\n",
      "\n",
      "    accuracy                           1.00     23016\n",
      "   macro avg       1.00      1.00      1.00     23016\n",
      "weighted avg       1.00      1.00      1.00     23016\n",
      "\n"
     ]
    }
   ],
   "source": [
    "pred_y_train=classifier2.predict(X_train)\n",
    "# print confusion matrix-- training\n",
    "print(\"confusion matrix:\",confusion_matrix(y_train, pred_y_train))\n",
    "print(\"other metrics:\",classification_report(y_train, pred_y_train))"
   ]
  },
  {
   "cell_type": "code",
   "execution_count": 452,
   "metadata": {},
   "outputs": [
    {
     "name": "stdout",
     "output_type": "stream",
     "text": [
      "confusion matrix: [[9434   45    4]\n",
      " [ 217   97    4]\n",
      " [  35   18   10]]\n",
      "other metrics:               precision    recall  f1-score   support\n",
      "\n",
      "           0       0.97      0.99      0.98      9483\n",
      "           1       0.61      0.31      0.41       318\n",
      "           2       0.56      0.16      0.25        63\n",
      "\n",
      "    accuracy                           0.97      9864\n",
      "   macro avg       0.71      0.49      0.55      9864\n",
      "weighted avg       0.96      0.97      0.96      9864\n",
      "\n"
     ]
    }
   ],
   "source": [
    "# print confusion matrix\n",
    "print(\"confusion matrix:\",confusion_matrix(y_test, pred_y_test))\n",
    "print(\"other metrics:\",classification_report(y_test, pred_y_test))"
   ]
  },
  {
   "cell_type": "code",
   "execution_count": null,
   "metadata": {},
   "outputs": [],
   "source": [
    "print(sorted(sklearn.metrics.scorers.keys()))"
   ]
  },
  {
   "cell_type": "code",
   "execution_count": null,
   "metadata": {},
   "outputs": [],
   "source": []
  }
 ],
 "metadata": {
  "kernelspec": {
   "display_name": "Python 3",
   "language": "python",
   "name": "python3"
  },
  "language_info": {
   "codemirror_mode": {
    "name": "ipython",
    "version": 3
   },
   "file_extension": ".py",
   "mimetype": "text/x-python",
   "name": "python",
   "nbconvert_exporter": "python",
   "pygments_lexer": "ipython3",
   "version": "3.7.3"
  }
 },
 "nbformat": 4,
 "nbformat_minor": 4
}
